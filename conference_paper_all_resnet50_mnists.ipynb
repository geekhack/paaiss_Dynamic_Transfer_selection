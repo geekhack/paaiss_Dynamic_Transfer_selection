{
 "cells": [
  {
   "cell_type": "code",
   "execution_count": 1,
   "metadata": {
    "gradient": {}
   },
   "outputs": [
    {
     "name": "stdout",
     "output_type": "stream",
     "text": [
      "Requirement already satisfied: pandas in /usr/local/lib/python3.6/dist-packages (1.1.5)\n",
      "Requirement already satisfied: python-dateutil>=2.7.3 in /usr/local/lib/python3.6/dist-packages (from pandas) (2.8.1)\n",
      "Requirement already satisfied: pytz>=2017.2 in /usr/local/lib/python3.6/dist-packages (from pandas) (2021.1)\n",
      "Requirement already satisfied: numpy>=1.15.4 in /usr/local/lib/python3.6/dist-packages (from pandas) (1.19.5)\n",
      "Requirement already satisfied: six>=1.5 in /usr/local/lib/python3.6/dist-packages (from python-dateutil>=2.7.3->pandas) (1.15.0)\n",
      "\u001b[33mWARNING: You are using pip version 20.2.4; however, version 21.3.1 is available.\n",
      "You should consider upgrading via the '/usr/bin/python3 -m pip install --upgrade pip' command.\u001b[0m\n",
      "Note: you may need to restart the kernel to use updated packages.\n"
     ]
    }
   ],
   "source": [
    "pip install pandas"
   ]
  },
  {
   "cell_type": "code",
   "execution_count": 2,
   "metadata": {
    "gradient": {}
   },
   "outputs": [
    {
     "name": "stdout",
     "output_type": "stream",
     "text": [
      "Requirement already satisfied: SciPy in /usr/local/lib/python3.6/dist-packages (1.5.4)\n",
      "Requirement already satisfied: numpy>=1.14.5 in /usr/local/lib/python3.6/dist-packages (from SciPy) (1.19.5)\n",
      "\u001b[33mWARNING: You are using pip version 20.2.4; however, version 21.3.1 is available.\n",
      "You should consider upgrading via the '/usr/bin/python3 -m pip install --upgrade pip' command.\u001b[0m\n",
      "Note: you may need to restart the kernel to use updated packages.\n"
     ]
    }
   ],
   "source": [
    "pip install SciPy"
   ]
  },
  {
   "cell_type": "code",
   "execution_count": 3,
   "metadata": {
    "gradient": {}
   },
   "outputs": [],
   "source": [
    "import tensorflow\n",
    "import statistics as stats\n",
    "from collections import defaultdict\n",
    "import pandas as pd\n",
    "import numpy as np\n",
    "from tensorflow import keras\n",
    "from tensorflow.keras.applications.resnet50 import ResNet50 as resnet50\n",
    "from tensorflow.keras.applications.inception_v3 import InceptionV3 as inception\n",
    "from tensorflow.keras.applications.vgg16 import VGG16 as vgg16\n",
    "from tensorflow.keras.applications.densenet import DenseNet169 as densenet\n",
    "from tensorflow.keras.preprocessing.image import ImageDataGenerator\n",
    "from tensorflow.keras import layers, losses, optimizers\n",
    "from tensorflow.keras.layers import Dense,Dropout,GlobalAveragePooling2D,Flatten\n",
    "from tensorflow.python.keras.models import Sequential\n",
    "from tensorflow.keras.preprocessing.image import load_img, img_to_array\n",
    "import matplotlib\n",
    "import matplotlib.pyplot as plt\n",
    "from tensorflow.keras.models import Model                                                         "
   ]
  },
  {
   "cell_type": "code",
   "execution_count": 4,
   "metadata": {},
   "outputs": [],
   "source": [
    "(x_train, y_train), (x_test, y_test)=tensorflow.keras.datasets.fashion_mnist.load_data()\n",
    "#(x_train, y_train), (x_test, y_test)=tensorflow.keras.datasets.mnist.load_data()"
   ]
  },
  {
   "cell_type": "code",
   "execution_count": 5,
   "metadata": {},
   "outputs": [],
   "source": [
    "x_train = tensorflow.pad(x_train, [[0, 0], [2,2], [2,2]])/255\n",
    "x_test = tensorflow.pad(x_test, [[0, 0], [2,2], [2,2]])/255\n",
    "x_train = tensorflow.expand_dims(x_train, axis=3, name=None)\n",
    "x_test = tensorflow.expand_dims(x_test, axis=3, name=None)\n",
    "x_train = tensorflow.repeat(x_train, 3, axis=3)\n",
    "x_test = tensorflow.repeat(x_test, 3, axis=3)\n",
    "x_val = x_train[-2000:,:,:]\n",
    "y_val = y_train[-2000:]\n",
    "x_train = x_train[:-2000,:,:]\n",
    "y_train = y_train[:-2000]\n",
    "\n",
    "y_train = tensorflow.one_hot(y_train.astype(np.int32), depth=100)\n",
    "y_test = tensorflow.one_hot(y_test.astype(np.int32), depth=100)"
   ]
  },
  {
   "cell_type": "code",
   "execution_count": 6,
   "metadata": {},
   "outputs": [],
   "source": [
    "model_name = resnet50\n",
    "input_t =(32,32, 3)\n",
    "model = model_name(include_top=False,\n",
    "                   weights=\"imagenet\",\n",
    "                   input_shape=input_t)\n",
    "\n",
    "model2 = model_name(include_top=False,\n",
    "                   weights=\"imagenet\",\n",
    "                   input_shape=input_t)\n",
    "\n",
    "model3 = model_name(include_top=False,\n",
    "                   weights=\"imagenet\",\n",
    "                   input_shape=input_t)\n",
    "model_tune1 = model_name(include_top=False,\n",
    "                   weights=\"imagenet\",\n",
    "                   input_shape=input_t)\n",
    "model_tune2 = model_name(include_top=False,\n",
    "                   weights=\"imagenet\",\n",
    "                   input_shape=input_t)\n",
    "model_tune3 = model_name(include_top=False,\n",
    "                   weights=\"imagenet\",\n",
    "                   input_shape=input_t)\n",
    "model_tune4 = model_name(include_top=False,\n",
    "                   weights=\"imagenet\",\n",
    "                   input_shape=input_t)"
   ]
  },
  {
   "cell_type": "code",
   "execution_count": 7,
   "metadata": {},
   "outputs": [],
   "source": [
    "# get the layer index\n",
    "def getLayerIndex(model_i, layer_name):\n",
    "    for pos, layer_g in enumerate(model_i.layers):\n",
    "        if layer_g.name == layer_name:\n",
    "            return pos\n"
   ]
  },
  {
   "cell_type": "code",
   "execution_count": 8,
   "metadata": {},
   "outputs": [
    {
     "name": "stderr",
     "output_type": "stream",
     "text": [
      "/usr/local/lib/python3.6/dist-packages/ipykernel_launcher.py:6: VisibleDeprecationWarning: Creating an ndarray from ragged nested sequences (which is a list-or-tuple of lists-or-tuples-or ndarrays with different lengths or shapes) is deprecated. If you meant to do this, you must specify 'dtype=object' when creating the ndarray\n",
      "  \n",
      "/usr/local/lib/python3.6/dist-packages/ipykernel_launcher.py:7: VisibleDeprecationWarning: Creating an ndarray from ragged nested sequences (which is a list-or-tuple of lists-or-tuples-or ndarrays with different lengths or shapes) is deprecated. If you meant to do this, you must specify 'dtype=object' when creating the ndarray\n",
      "  import sys\n"
     ]
    }
   ],
   "source": [
    "# get the convolved layers into an array for looping\n",
    "convolved_layers = []\n",
    "\n",
    "for layer in model.layers:\n",
    "\n",
    "    t = np.array(layer.get_weights()).ndim\n",
    "    array = np.array(layer.get_weights())\n",
    "    if (model_name != resnet50) or (model_name != vgg16):\n",
    "        if (len(array) > 0) and (t > 2):\n",
    "            index = getLayerIndex(model, layer.name)\n",
    "            # append the convolved layer\n",
    "            convolved_layers.append(index)\n",
    "            # print(str(len(array)) + \"for:\" + layer.name + \"at index:\" + str(index))\n",
    "    if (model_name == resnet50) or (model_name == vgg16):\n",
    "        if len(array) > 0 and (t != 2):\n",
    "            index = getLayerIndex(model, layer.name)\n",
    "            # append the convolved layer\n",
    "            convolved_layers.append(index)\n",
    "            # print(str(len(array)) + \"for:\" + layer.name + \"at index:\" + str(index))\n",
    "\n",
    "# get the total number of weights in the array\n",
    "total_layer_weights = 0\n",
    "sum_positives = 0\n",
    "sum_negatives = 0\n",
    "\n",
    "# create a dictionary with layer index and positive values identified\n",
    "layer_positives_dict = defaultdict(list)\n",
    "\n",
    "# create a dictionary for storing the layers and their +ve values probabilities\n",
    "layer_probs_dict = defaultdict(list)"
   ]
  },
  {
   "cell_type": "code",
   "execution_count": 9,
   "metadata": {
    "gradient": {}
   },
   "outputs": [],
   "source": [
    "# list the convolved layers\n",
    "for c_layer in range(len(convolved_layers)):\n",
    "    # create array for array matrices,feature values and convolved values for each layer\n",
    "    layer_array_matrices = []\n",
    "    layer_feature_sums = []\n",
    "    layer_convolved_values_sum = []\n",
    "\n",
    "    # get the arrays matrices(batches) pixel\n",
    "    for i in range(len(model.layers[convolved_layers[c_layer]].get_weights()[0])):\n",
    "        # get the values for each feature\n",
    "        ######print(\"channels(image):\"+str(len(model.layers[convolved_layers[c_layer]].get_weights()[0][i])))\n",
    "        for x in range(len(model.layers[convolved_layers[c_layer]].get_weights()[0][i])):\n",
    "            # return all the values in the convolutional feature\n",
    "            total_array = np.array(model.layers[convolved_layers[c_layer]].get_weights()[0][i][x])\n",
    "            # return all the negative values in the convolutional feature\n",
    "            x2 = np.array(model.layers[convolved_layers[c_layer]].get_weights()[0][i][x]) < 0\n",
    "            for c in range(len(x2)):\n",
    "                ###print(\"all the trues in depth: \" + str(c + 1) + \" are for feature: \" + str(x + 1))\n",
    "                sum_negatives += sum(x2[c])\n",
    "                # print(sum(x2[c]))\n",
    "            # return all the values\n",
    "            for y in range(len(total_array)):\n",
    "                total_layer_weights += len(total_array[y])\n",
    "\n",
    "            x1 = np.array(model.layers[convolved_layers[c_layer]].get_weights()[0][i][x]) > 0\n",
    "            # get the values for each channel\n",
    "            for a in range(len(x1)):\n",
    "                value_pix = sum(x1[a])\n",
    "                # get the positive values\n",
    "                sum_positives += value_pix\n",
    "\n",
    "                ######print(value_pix)\n",
    "    list_sums = []\n",
    "    list_sums.append((str(convolved_layers[c_layer]), sum_positives))\n",
    "    layer_positives_dict.update(list_sums)\n",
    "\n",
    "    # print the probabilities for each layer\n",
    "    layer_pos_prob = sum_positives / total_layer_weights\n",
    "\n",
    "    # create +ves values array\n",
    "    positives_array = []\n",
    "    for key, val in layer_positives_dict.items():\n",
    "        # print(key, \"corresponds to:\",val,\" positive values\")\n",
    "        positives_array.append(val)\n",
    "       \n",
    "    list_layer_probs = []\n",
    "    list_layer_probs.append((str(convolved_layers[c_layer]), layer_pos_prob))\n",
    "    layer_probs_dict.update(list_layer_probs)"
   ]
  },
  {
   "cell_type": "code",
   "execution_count": 10,
   "metadata": {},
   "outputs": [],
   "source": [
    "median_layer = stats.median(convolved_layers)\n",
    "\n",
    "# create dictionary for storing selected median layers\n",
    "second_layer_probs_dict = defaultdict(list)\n",
    "# store the new list of layers to be matched with the mean probability\n",
    "second_half_layers = []\n",
    "\n",
    "# store all probabilities for the selected upper half layers\n",
    "second_half_probs = []\n",
    "# loop through the layers and print those layers above the median\n",
    "for lyr, val in layer_probs_dict.items():\n",
    "    # print(lyr, \"Layer prob:\", val)\n",
    "    if int(lyr) > median_layer:\n",
    "        # store the probabilities of the upper half selected convolved layers\n",
    "        #print(lyr, \"Layer prob:\", val)\n",
    "        # update the sum of selected layers probabilities\n",
    "        second_half_probs.append(val)\n",
    "        second_half_layers.append((lyr, val))\n",
    "        second_layer_probs_dict.update(second_half_layers)\n",
    "\n",
    "# get the mean of the layers\n",
    "selected_layers_mean = stats.mean(second_half_probs)\n",
    "final_selected_layers = []\n",
    "# now get the final layers list whose value exceed the mean\n",
    "for s_lyr, v in second_layer_probs_dict.items():\n",
    "    # get the probabilities that are lower than the mean probability\n",
    "    if v < selected_layers_mean:\n",
    "        # store the probabilities of the upper half selected convolved layers\n",
    "        final_selected_layers.append(s_lyr)"
   ]
  },
  {
   "cell_type": "code",
   "execution_count": 11,
   "metadata": {
    "gradient": {}
   },
   "outputs": [
    {
     "name": "stdout",
     "output_type": "stream",
     "text": [
      "conv2_block3_1_conv True\n",
      "conv2_block3_2_conv True\n",
      "conv3_block2_2_conv True\n",
      "conv5_block1_2_conv True\n",
      "conv5_block2_2_conv True\n",
      "conv5_block3_out True\n",
      "conv5_block3_out True\n",
      "conv5_block3_out True\n",
      "conv5_block3_out True\n",
      "conv5_block3_out True\n",
      "conv5_block3_out True\n",
      "conv5_block3_out True\n",
      "conv5_block3_out True\n",
      "conv5_block3_out True\n",
      "conv5_block3_out True\n",
      "conv5_block3_out True\n",
      "conv5_block3_out True\n"
     ]
    }
   ],
   "source": [
    "\n",
    "# for positive cosines similarities\n",
    "pcs_h_layers =[29,32,54,146,158]\n",
    "pcs_l_layers =[13,14,35,57,67,77] #lower cosine\n",
    "for sb_layer in model.layers:\n",
    "    # sb_layer.trainable = False\n",
    "    index = getLayerIndex(model, sb_layer.name)\n",
    "    #for b in final_selected_layers:\n",
    "    for b in pcs_h_layers:\n",
    "        if b == index:\n",
    "            sb_layer.trainable = True\n",
    "            #print(str(sb_layer.name) + \" and index is\" + str(b))\n",
    "            print(sb_layer.name,sb_layer.trainable)\n",
    "\n",
    "#for negative cosine similarities\n",
    "# for model 2\n",
    "# for positive cosines similarities\n",
    "ncs_h_layers =[146,155,158,165,168,171]\n",
    "ncs_l_layers =[2,7,13,14,35,45,46,67]\n",
    "for sbs_layer in model2.layers:\n",
    "    # sb_layer.trainable = False\n",
    "    index = getLayerIndex(model2, sbs_layer.name)\n",
    "    #for b in final_selected_layers:\n",
    "    for b in ncs_h_layers:\n",
    "        if b == index:\n",
    "            sb_layer.trainable = True\n",
    "            #print(str(sb_layer.name) + \" and index is\" + str(b))\n",
    "            print(sb_layer.name,sb_layer.trainable)\n",
    "\n",
    "#for positive negative cosine similarities\n",
    "# for model 3\n",
    "pncs_h_layers =[32,57,77,109,126,139] #high cosine,,\n",
    "pncs_l_layers =[2,7,13,22,64,71,81] #lower cosine\n",
    "for sbs_layer in model3.layers:\n",
    "    # sb_layer.trainable = False\n",
    "    index = getLayerIndex(model3, sbs_layer.name)\n",
    "    #for b in final_selected_layers:\n",
    "    for b in pncs_h_layers:\n",
    "        if b == index:\n",
    "            sb_layer.trainable = True\n",
    "            #print(str(sb_layer.name) + \" and index is\" + str(b))\n",
    "            print(sb_layer.name,sb_layer.trainable)\n",
    "\n",
    "\n",
    "#finetune by removeing the last layer\n",
    "for lst_layer in model_tune1.layers[:-2]:\n",
    "    lst_layer.trainable = False\n",
    "    \n",
    "####end of the last layer\n",
    "#finetune by removeing the 2nd last layer\n",
    "for scnd_st_layer in model_tune2.layers[:-3]:\n",
    "    scnd_st_layer.trainable = False\n",
    "    \n",
    "####end of the last layer\n",
    "#finetune by removeing the 3rd last layer\n",
    "for thrd_layer in model_tune3.layers[:-4]:\n",
    "    thrd_layer.trainable = False\n",
    "    \n",
    "\n",
    "    \n",
    "####end of the last layer\n",
    "#for feature extraction\n",
    "for ftr_layer in model_tune4.layers:\n",
    "    ftr_layer.trainable = False\n",
    "\n",
    "# try the transfer learning model\n",
    "to_res = (224, 224)\n"
   ]
  },
  {
   "cell_type": "code",
   "execution_count": 12,
   "metadata": {},
   "outputs": [],
   "source": [
    "\n",
    "t_model = Sequential()\n",
    "t_model.add(model)\n",
    "t_model.add(Flatten())\n",
    "t_model.add(layers.BatchNormalization())\n",
    "t_model.add(layers.Dense(64, activation='relu'))\n",
    "t_model.add(layers.Dropout(0.5))\n",
    "t_model.add(layers.BatchNormalization())\n",
    "t_model.add(layers.Dense(100, activation='softmax'))\n",
    "\n",
    "\n",
    "#for model 2\n",
    "t_model2 = Sequential()\n",
    "t_model2.add(model2)\n",
    "t_model2.add(Flatten())\n",
    "t_model2.add(layers.BatchNormalization())\n",
    "t_model2.add(layers.Dense(64, activation='relu'))\n",
    "t_model2.add(layers.Dropout(0.5))\n",
    "t_model2.add(layers.BatchNormalization())\n",
    "t_model2.add(layers.Dense(100, activation='softmax'))\n",
    "\n",
    "\n",
    "#for model 2\n",
    "t_model3 = Sequential()\n",
    "t_model3.add(model3)\n",
    "t_model3.add(Flatten())\n",
    "t_model3.add(layers.BatchNormalization())\n",
    "t_model3.add(layers.Dense(64, activation='relu'))\n",
    "t_model3.add(layers.Dropout(0.5))\n",
    "t_model3.add(layers.BatchNormalization())\n",
    "t_model3.add(layers.Dense(100, activation='softmax'))\n",
    "\n",
    "\n",
    "#for model 2\n",
    "t_model4 = Sequential()\n",
    "t_model4.add(model_tune1)\n",
    "t_model4.add(Flatten())\n",
    "t_model4.add(layers.BatchNormalization())\n",
    "t_model4.add(layers.Dense(64, activation='relu'))\n",
    "t_model4.add(layers.Dropout(0.5))\n",
    "t_model4.add(layers.BatchNormalization())\n",
    "t_model4.add(layers.Dense(100, activation='softmax'))\n",
    "\n",
    "#for model 2\n",
    "t_model5 = Sequential()\n",
    "t_model5.add(model_tune2)\n",
    "t_model5.add(Flatten())\n",
    "t_model5.add(layers.BatchNormalization())\n",
    "t_model5.add(layers.Dense(64, activation='relu'))\n",
    "t_model5.add(layers.Dropout(0.5))\n",
    "t_model5.add(layers.BatchNormalization())\n",
    "t_model5.add(layers.Dense(100, activation='softmax'))\n",
    "\n",
    "#for model 2\n",
    "t_model6 = Sequential()\n",
    "t_model6.add(model_tune3)\n",
    "t_model6.add(Flatten())\n",
    "t_model6.add(layers.BatchNormalization())\n",
    "t_model6.add(layers.Dense(64, activation='relu'))\n",
    "t_model6.add(layers.Dropout(0.5))\n",
    "t_model6.add(layers.BatchNormalization())\n",
    "t_model6.add(layers.Dense(100, activation='softmax'))\n",
    "\n",
    "\n",
    "#for model 2\n",
    "t_model7 = Sequential()\n",
    "t_model7.add(model_tune3)\n",
    "t_model7.add(Flatten())\n",
    "t_model7.add(layers.BatchNormalization())\n",
    "t_model7.add(layers.Dense(64, activation='relu'))\n",
    "t_model7.add(layers.Dropout(0.5))\n",
    "t_model7.add(layers.BatchNormalization())\n",
    "t_model7.add(layers.Dense(100, activation='softmax'))"
   ]
  },
  {
   "cell_type": "code",
   "execution_count": 13,
   "metadata": {},
   "outputs": [
    {
     "name": "stdout",
     "output_type": "stream",
     "text": [
      "Epoch 1/20\n",
      "907/907 [==============================] - 50s 48ms/step - loss: 4.8338 - accuracy: 0.0143 - val_loss: 6.0157 - val_accuracy: 0.0157\n",
      "Epoch 2/20\n",
      "907/907 [==============================] - 42s 46ms/step - loss: 4.2099 - accuracy: 0.0864 - val_loss: 3.5209 - val_accuracy: 0.3889\n",
      "Epoch 3/20\n",
      "907/907 [==============================] - 42s 46ms/step - loss: 3.6454 - accuracy: 0.2492 - val_loss: 3.0234 - val_accuracy: 0.5735\n",
      "Epoch 4/20\n",
      "907/907 [==============================] - 42s 46ms/step - loss: 3.2201 - accuracy: 0.4081 - val_loss: 2.7171 - val_accuracy: 0.6628\n",
      "Epoch 5/20\n",
      "907/907 [==============================] - 42s 46ms/step - loss: 2.9146 - accuracy: 0.5246 - val_loss: 2.4561 - val_accuracy: 0.7205\n",
      "Epoch 6/20\n",
      "907/907 [==============================] - 42s 46ms/step - loss: 2.6747 - accuracy: 0.6064 - val_loss: 2.2555 - val_accuracy: 0.7574\n",
      "Epoch 7/20\n",
      "907/907 [==============================] - 42s 46ms/step - loss: 2.4921 - accuracy: 0.6632 - val_loss: 2.0856 - val_accuracy: 0.7812\n",
      "Epoch 8/20\n",
      "907/907 [==============================] - 42s 46ms/step - loss: 2.3235 - accuracy: 0.7076 - val_loss: 1.9422 - val_accuracy: 0.7996\n",
      "Epoch 9/20\n",
      "907/907 [==============================] - 42s 46ms/step - loss: 2.1797 - accuracy: 0.7380 - val_loss: 1.8048 - val_accuracy: 0.8124\n",
      "Epoch 10/20\n",
      "907/907 [==============================] - 42s 46ms/step - loss: 2.0596 - accuracy: 0.7575 - val_loss: 1.6869 - val_accuracy: 0.8220\n",
      "Epoch 11/20\n",
      "907/907 [==============================] - 42s 46ms/step - loss: 1.9471 - accuracy: 0.7805 - val_loss: 1.5805 - val_accuracy: 0.8310\n",
      "Epoch 12/20\n",
      "907/907 [==============================] - 42s 46ms/step - loss: 1.8342 - accuracy: 0.7941 - val_loss: 1.4873 - val_accuracy: 0.8392\n",
      "Epoch 13/20\n",
      "907/907 [==============================] - 42s 46ms/step - loss: 1.7391 - accuracy: 0.8094 - val_loss: 1.3926 - val_accuracy: 0.8451\n",
      "Epoch 14/20\n",
      "907/907 [==============================] - 42s 46ms/step - loss: 1.6631 - accuracy: 0.8143 - val_loss: 1.3141 - val_accuracy: 0.8506\n",
      "Epoch 15/20\n",
      "907/907 [==============================] - 42s 46ms/step - loss: 1.5922 - accuracy: 0.8230 - val_loss: 1.2491 - val_accuracy: 0.8547\n",
      "Epoch 16/20\n",
      "907/907 [==============================] - 42s 46ms/step - loss: 1.5211 - accuracy: 0.8264 - val_loss: 1.1777 - val_accuracy: 0.8574\n",
      "Epoch 17/20\n",
      "907/907 [==============================] - 42s 46ms/step - loss: 1.4671 - accuracy: 0.8317 - val_loss: 1.1277 - val_accuracy: 0.8626\n",
      "Epoch 18/20\n",
      "907/907 [==============================] - 42s 46ms/step - loss: 1.4057 - accuracy: 0.8380 - val_loss: 1.0722 - val_accuracy: 0.8649\n",
      "Epoch 19/20\n",
      "907/907 [==============================] - 42s 46ms/step - loss: 1.3464 - accuracy: 0.8409 - val_loss: 1.0234 - val_accuracy: 0.8685\n",
      "Epoch 20/20\n",
      "907/907 [==============================] - 42s 46ms/step - loss: 1.2967 - accuracy: 0.8477 - val_loss: 0.9732 - val_accuracy: 0.8714\n"
     ]
    }
   ],
   "source": [
    "#positive cosine similarity\n",
    "t_model.compile(loss=losses.CategoricalCrossentropy(from_logits=True),optimizer=optimizers.SGD(lr=1e-5,momentum=0.9),metrics=['accuracy'])\n",
    "history = t_model.fit(x_train, y_train, batch_size=64, shuffle=True,validation_data=(x_test, y_test), epochs=20, verbose=1)\n"
   ]
  },
  {
   "cell_type": "code",
   "execution_count": 14,
   "metadata": {},
   "outputs": [
    {
     "name": "stdout",
     "output_type": "stream",
     "text": [
      "Epoch 1/20\n",
      "907/907 [==============================] - 48s 48ms/step - loss: 4.8634 - accuracy: 0.0158 - val_loss: 5.3729 - val_accuracy: 0.0230\n",
      "Epoch 2/20\n",
      "907/907 [==============================] - 42s 47ms/step - loss: 4.2717 - accuracy: 0.0840 - val_loss: 3.5339 - val_accuracy: 0.3782\n",
      "Epoch 3/20\n",
      "907/907 [==============================] - 42s 46ms/step - loss: 3.7012 - accuracy: 0.2380 - val_loss: 3.0820 - val_accuracy: 0.5630\n",
      "Epoch 4/20\n",
      "907/907 [==============================] - 42s 46ms/step - loss: 3.2781 - accuracy: 0.3908 - val_loss: 2.7702 - val_accuracy: 0.6742\n",
      "Epoch 5/20\n",
      "907/907 [==============================] - 42s 47ms/step - loss: 2.9789 - accuracy: 0.5081 - val_loss: 2.5018 - val_accuracy: 0.7300\n",
      "Epoch 6/20\n",
      "907/907 [==============================] - 42s 47ms/step - loss: 2.7548 - accuracy: 0.5914 - val_loss: 2.2979 - val_accuracy: 0.7656\n",
      "Epoch 7/20\n",
      "907/907 [==============================] - 42s 47ms/step - loss: 2.5533 - accuracy: 0.6507 - val_loss: 2.1178 - val_accuracy: 0.7893\n",
      "Epoch 8/20\n",
      "907/907 [==============================] - 42s 46ms/step - loss: 2.3826 - accuracy: 0.6984 - val_loss: 1.9503 - val_accuracy: 0.8042\n",
      "Epoch 9/20\n",
      "907/907 [==============================] - 42s 47ms/step - loss: 2.2265 - accuracy: 0.7324 - val_loss: 1.8232 - val_accuracy: 0.8175\n",
      "Epoch 10/20\n",
      "907/907 [==============================] - 42s 47ms/step - loss: 2.0966 - accuracy: 0.7582 - val_loss: 1.6977 - val_accuracy: 0.8248\n",
      "Epoch 11/20\n",
      "907/907 [==============================] - 42s 47ms/step - loss: 1.9835 - accuracy: 0.7729 - val_loss: 1.5855 - val_accuracy: 0.8343\n",
      "Epoch 12/20\n",
      "907/907 [==============================] - 42s 47ms/step - loss: 1.8762 - accuracy: 0.7920 - val_loss: 1.4966 - val_accuracy: 0.8408\n",
      "Epoch 13/20\n",
      "907/907 [==============================] - 42s 46ms/step - loss: 1.7864 - accuracy: 0.8017 - val_loss: 1.4164 - val_accuracy: 0.8459\n",
      "Epoch 14/20\n",
      "907/907 [==============================] - 42s 47ms/step - loss: 1.7038 - accuracy: 0.8118 - val_loss: 1.3377 - val_accuracy: 0.8523\n",
      "Epoch 15/20\n",
      "907/907 [==============================] - 42s 47ms/step - loss: 1.6203 - accuracy: 0.8216 - val_loss: 1.2570 - val_accuracy: 0.8557\n",
      "Epoch 16/20\n",
      "907/907 [==============================] - 42s 47ms/step - loss: 1.5487 - accuracy: 0.8259 - val_loss: 1.1958 - val_accuracy: 0.8593\n",
      "Epoch 17/20\n",
      "907/907 [==============================] - 42s 47ms/step - loss: 1.4897 - accuracy: 0.8328 - val_loss: 1.1400 - val_accuracy: 0.8633\n",
      "Epoch 18/20\n",
      "907/907 [==============================] - 42s 47ms/step - loss: 1.4181 - accuracy: 0.8416 - val_loss: 1.0884 - val_accuracy: 0.8654\n",
      "Epoch 19/20\n",
      "907/907 [==============================] - 42s 47ms/step - loss: 1.3601 - accuracy: 0.8467 - val_loss: 1.0306 - val_accuracy: 0.8692\n",
      "Epoch 20/20\n",
      "907/907 [==============================] - 42s 47ms/step - loss: 1.3181 - accuracy: 0.8478 - val_loss: 0.9872 - val_accuracy: 0.8716\n"
     ]
    }
   ],
   "source": [
    "#negative cosine similarity look\n",
    "#for model2\n",
    "t_model2.compile(loss=losses.CategoricalCrossentropy(from_logits=True),optimizer=optimizers.SGD(lr=1e-5,momentum=0.9),metrics=['accuracy'])\n",
    "history2 = t_model2.fit(x_train, y_train,  batch_size=64, shuffle=True,validation_data=(x_test, y_test), epochs=20, verbose=1)\n"
   ]
  },
  {
   "cell_type": "code",
   "execution_count": 15,
   "metadata": {},
   "outputs": [
    {
     "name": "stdout",
     "output_type": "stream",
     "text": [
      "Epoch 1/20\n",
      "907/907 [==============================] - 48s 48ms/step - loss: 4.8403 - accuracy: 0.0164 - val_loss: 5.1494 - val_accuracy: 0.0414\n",
      "Epoch 2/20\n",
      "907/907 [==============================] - 42s 46ms/step - loss: 4.2138 - accuracy: 0.0908 - val_loss: 3.5186 - val_accuracy: 0.4114\n",
      "Epoch 3/20\n",
      "907/907 [==============================] - 42s 47ms/step - loss: 3.6566 - accuracy: 0.2480 - val_loss: 3.1069 - val_accuracy: 0.5761\n",
      "Epoch 4/20\n",
      "907/907 [==============================] - 42s 47ms/step - loss: 3.2544 - accuracy: 0.4025 - val_loss: 2.7658 - val_accuracy: 0.6822\n",
      "Epoch 5/20\n",
      "907/907 [==============================] - 42s 46ms/step - loss: 2.9498 - accuracy: 0.5177 - val_loss: 2.5002 - val_accuracy: 0.7373\n",
      "Epoch 6/20\n",
      "907/907 [==============================] - 42s 47ms/step - loss: 2.6989 - accuracy: 0.6077 - val_loss: 2.2923 - val_accuracy: 0.7673\n",
      "Epoch 7/20\n",
      "907/907 [==============================] - 42s 47ms/step - loss: 2.5112 - accuracy: 0.6642 - val_loss: 2.1153 - val_accuracy: 0.7905\n",
      "Epoch 8/20\n",
      "907/907 [==============================] - 42s 47ms/step - loss: 2.3415 - accuracy: 0.7080 - val_loss: 1.9564 - val_accuracy: 0.8060\n",
      "Epoch 9/20\n",
      "907/907 [==============================] - 42s 46ms/step - loss: 2.2000 - accuracy: 0.7360 - val_loss: 1.8213 - val_accuracy: 0.8149\n",
      "Epoch 10/20\n",
      "907/907 [==============================] - 42s 46ms/step - loss: 2.0771 - accuracy: 0.7577 - val_loss: 1.7082 - val_accuracy: 0.8236\n",
      "Epoch 11/20\n",
      "907/907 [==============================] - 42s 47ms/step - loss: 1.9499 - accuracy: 0.7806 - val_loss: 1.6058 - val_accuracy: 0.8303\n",
      "Epoch 12/20\n",
      "907/907 [==============================] - 42s 46ms/step - loss: 1.8580 - accuracy: 0.7937 - val_loss: 1.5066 - val_accuracy: 0.8356\n",
      "Epoch 13/20\n",
      "907/907 [==============================] - 42s 47ms/step - loss: 1.7638 - accuracy: 0.8036 - val_loss: 1.4126 - val_accuracy: 0.8397\n",
      "Epoch 14/20\n",
      "907/907 [==============================] - 42s 46ms/step - loss: 1.6911 - accuracy: 0.8083 - val_loss: 1.3415 - val_accuracy: 0.8440\n",
      "Epoch 15/20\n",
      "907/907 [==============================] - 42s 47ms/step - loss: 1.6042 - accuracy: 0.8191 - val_loss: 1.2733 - val_accuracy: 0.8496\n",
      "Epoch 16/20\n",
      "907/907 [==============================] - 42s 47ms/step - loss: 1.5437 - accuracy: 0.8233 - val_loss: 1.2012 - val_accuracy: 0.8526\n",
      "Epoch 17/20\n",
      "907/907 [==============================] - 42s 47ms/step - loss: 1.4755 - accuracy: 0.8279 - val_loss: 1.1411 - val_accuracy: 0.8547\n",
      "Epoch 18/20\n",
      "907/907 [==============================] - 42s 47ms/step - loss: 1.4176 - accuracy: 0.8308 - val_loss: 1.0890 - val_accuracy: 0.8588\n",
      "Epoch 19/20\n",
      "907/907 [==============================] - 42s 47ms/step - loss: 1.3537 - accuracy: 0.8385 - val_loss: 1.0335 - val_accuracy: 0.8615\n",
      "Epoch 20/20\n",
      "907/907 [==============================] - 42s 47ms/step - loss: 1.3069 - accuracy: 0.8426 - val_loss: 0.9900 - val_accuracy: 0.8655\n"
     ]
    }
   ],
   "source": [
    "#for model3\n",
    "t_model3.compile(loss=losses.CategoricalCrossentropy(from_logits=True),optimizer=optimizers.SGD(lr=1e-5,momentum=0.9),metrics=['accuracy'])\n",
    "history3 = t_model3.fit(x_train, y_train,  batch_size=64, shuffle=True,validation_data=(x_test, y_test), epochs=20, verbose=1)\n"
   ]
  },
  {
   "cell_type": "code",
   "execution_count": 16,
   "metadata": {},
   "outputs": [
    {
     "name": "stdout",
     "output_type": "stream",
     "text": [
      "Epoch 1/20\n",
      "907/907 [==============================] - 18s 17ms/step - loss: 4.6573 - accuracy: 0.0274 - val_loss: 3.9023 - val_accuracy: 0.2417\n",
      "Epoch 2/20\n",
      "907/907 [==============================] - 14s 16ms/step - loss: 4.0459 - accuracy: 0.1147 - val_loss: 3.5286 - val_accuracy: 0.3714\n",
      "Epoch 3/20\n",
      "907/907 [==============================] - 14s 16ms/step - loss: 3.7329 - accuracy: 0.2008 - val_loss: 3.2906 - val_accuracy: 0.4648\n",
      "Epoch 4/20\n",
      "907/907 [==============================] - 14s 16ms/step - loss: 3.5049 - accuracy: 0.2747 - val_loss: 3.0896 - val_accuracy: 0.5386\n",
      "Epoch 5/20\n",
      "907/907 [==============================] - 14s 16ms/step - loss: 3.3043 - accuracy: 0.3503 - val_loss: 2.9101 - val_accuracy: 0.5898\n",
      "Epoch 6/20\n",
      "907/907 [==============================] - 14s 16ms/step - loss: 3.1434 - accuracy: 0.4046 - val_loss: 2.7504 - val_accuracy: 0.6192\n",
      "Epoch 7/20\n",
      "907/907 [==============================] - 14s 16ms/step - loss: 2.9969 - accuracy: 0.4487 - val_loss: 2.6241 - val_accuracy: 0.6425\n",
      "Epoch 8/20\n",
      "907/907 [==============================] - 14s 16ms/step - loss: 2.8703 - accuracy: 0.4883 - val_loss: 2.4966 - val_accuracy: 0.6531\n",
      "Epoch 9/20\n",
      "907/907 [==============================] - 15s 16ms/step - loss: 2.7536 - accuracy: 0.5164 - val_loss: 2.3823 - val_accuracy: 0.6643\n",
      "Epoch 10/20\n",
      "907/907 [==============================] - 14s 16ms/step - loss: 2.6641 - accuracy: 0.5311 - val_loss: 2.2842 - val_accuracy: 0.6739\n",
      "Epoch 11/20\n",
      "907/907 [==============================] - 14s 16ms/step - loss: 2.5676 - accuracy: 0.5552 - val_loss: 2.1924 - val_accuracy: 0.6794\n",
      "Epoch 12/20\n",
      "907/907 [==============================] - 14s 16ms/step - loss: 2.4792 - accuracy: 0.5668 - val_loss: 2.1084 - val_accuracy: 0.6836\n",
      "Epoch 13/20\n",
      "907/907 [==============================] - 14s 16ms/step - loss: 2.3887 - accuracy: 0.5853 - val_loss: 2.0294 - val_accuracy: 0.6879\n",
      "Epoch 14/20\n",
      "907/907 [==============================] - 14s 16ms/step - loss: 2.3165 - accuracy: 0.5931 - val_loss: 1.9522 - val_accuracy: 0.6914\n",
      "Epoch 15/20\n",
      "907/907 [==============================] - 14s 16ms/step - loss: 2.2520 - accuracy: 0.5985 - val_loss: 1.8881 - val_accuracy: 0.6943\n",
      "Epoch 16/20\n",
      "907/907 [==============================] - 14s 16ms/step - loss: 2.1679 - accuracy: 0.6131 - val_loss: 1.8261 - val_accuracy: 0.6976\n",
      "Epoch 17/20\n",
      "907/907 [==============================] - 14s 16ms/step - loss: 2.1108 - accuracy: 0.6170 - val_loss: 1.7678 - val_accuracy: 0.6999\n",
      "Epoch 18/20\n",
      "907/907 [==============================] - 14s 16ms/step - loss: 2.0570 - accuracy: 0.6244 - val_loss: 1.7100 - val_accuracy: 0.7019\n",
      "Epoch 19/20\n",
      "907/907 [==============================] - 14s 16ms/step - loss: 2.0078 - accuracy: 0.6287 - val_loss: 1.6621 - val_accuracy: 0.7040\n",
      "Epoch 20/20\n",
      "907/907 [==============================] - 14s 16ms/step - loss: 1.9462 - accuracy: 0.6372 - val_loss: 1.6137 - val_accuracy: 0.7077\n"
     ]
    }
   ],
   "source": [
    "#for model3\n",
    "t_model4.compile(loss=losses.CategoricalCrossentropy(from_logits=True),optimizer=optimizers.SGD(lr=1e-5,momentum=0.9),metrics=['accuracy'])\n",
    "history4= t_model4.fit(x_train, y_train,  batch_size=64, shuffle=True,validation_data=(x_test, y_test), epochs=20, verbose=1)\n",
    "\n"
   ]
  },
  {
   "cell_type": "code",
   "execution_count": 17,
   "metadata": {},
   "outputs": [
    {
     "name": "stdout",
     "output_type": "stream",
     "text": [
      "Epoch 1/20\n",
      "907/907 [==============================] - 19s 17ms/step - loss: 4.8295 - accuracy: 0.0178 - val_loss: 4.2998 - val_accuracy: 0.0852\n",
      "Epoch 2/20\n",
      "907/907 [==============================] - 15s 16ms/step - loss: 4.4282 - accuracy: 0.0534 - val_loss: 3.9582 - val_accuracy: 0.2147\n",
      "Epoch 3/20\n",
      "907/907 [==============================] - 15s 16ms/step - loss: 4.1195 - accuracy: 0.1067 - val_loss: 3.7150 - val_accuracy: 0.3277\n",
      "Epoch 4/20\n",
      "907/907 [==============================] - 15s 16ms/step - loss: 3.9057 - accuracy: 0.1674 - val_loss: 3.5285 - val_accuracy: 0.4283\n",
      "Epoch 5/20\n",
      "907/907 [==============================] - 15s 16ms/step - loss: 3.7257 - accuracy: 0.2220 - val_loss: 3.3792 - val_accuracy: 0.4949\n",
      "Epoch 6/20\n",
      "907/907 [==============================] - 15s 16ms/step - loss: 3.5655 - accuracy: 0.2778 - val_loss: 3.2306 - val_accuracy: 0.5414\n",
      "Epoch 7/20\n",
      "907/907 [==============================] - 15s 16ms/step - loss: 3.4395 - accuracy: 0.3327 - val_loss: 3.1109 - val_accuracy: 0.5763\n",
      "Epoch 8/20\n",
      "907/907 [==============================] - 15s 16ms/step - loss: 3.3183 - accuracy: 0.3728 - val_loss: 3.0004 - val_accuracy: 0.5988\n",
      "Epoch 9/20\n",
      "907/907 [==============================] - 15s 16ms/step - loss: 3.1994 - accuracy: 0.4126 - val_loss: 2.8923 - val_accuracy: 0.6161\n",
      "Epoch 10/20\n",
      "907/907 [==============================] - 15s 17ms/step - loss: 3.1014 - accuracy: 0.4469 - val_loss: 2.7913 - val_accuracy: 0.6302\n",
      "Epoch 11/20\n",
      "907/907 [==============================] - 15s 16ms/step - loss: 3.0080 - accuracy: 0.4731 - val_loss: 2.6960 - val_accuracy: 0.6412\n",
      "Epoch 12/20\n",
      "907/907 [==============================] - 15s 16ms/step - loss: 2.9175 - accuracy: 0.4982 - val_loss: 2.6105 - val_accuracy: 0.6521\n",
      "Epoch 13/20\n",
      "907/907 [==============================] - 15s 16ms/step - loss: 2.8346 - accuracy: 0.5188 - val_loss: 2.5254 - val_accuracy: 0.6607\n",
      "Epoch 14/20\n",
      "907/907 [==============================] - 15s 16ms/step - loss: 2.7582 - accuracy: 0.5352 - val_loss: 2.4542 - val_accuracy: 0.6656\n",
      "Epoch 15/20\n",
      "907/907 [==============================] - 15s 16ms/step - loss: 2.6804 - accuracy: 0.5498 - val_loss: 2.3718 - val_accuracy: 0.6704\n",
      "Epoch 16/20\n",
      "907/907 [==============================] - 15s 16ms/step - loss: 2.5990 - accuracy: 0.5644 - val_loss: 2.2989 - val_accuracy: 0.6744\n",
      "Epoch 17/20\n",
      "907/907 [==============================] - 15s 16ms/step - loss: 2.5382 - accuracy: 0.5761 - val_loss: 2.2316 - val_accuracy: 0.6780\n",
      "Epoch 18/20\n",
      "907/907 [==============================] - 15s 16ms/step - loss: 2.4635 - accuracy: 0.5888 - val_loss: 2.1639 - val_accuracy: 0.6828\n",
      "Epoch 19/20\n",
      "907/907 [==============================] - 15s 16ms/step - loss: 2.4003 - accuracy: 0.5975 - val_loss: 2.1018 - val_accuracy: 0.6867\n",
      "Epoch 20/20\n",
      "907/907 [==============================] - 15s 16ms/step - loss: 2.3498 - accuracy: 0.6018 - val_loss: 2.0380 - val_accuracy: 0.6883\n"
     ]
    }
   ],
   "source": [
    "#for model3\n",
    "t_model5.compile(loss=losses.CategoricalCrossentropy(from_logits=True),optimizer=optimizers.SGD(lr=1e-5,momentum=0.9),metrics=['accuracy'])\n",
    "history5 = t_model5.fit(x_train, y_train,  batch_size=64, shuffle=True,validation_data=(x_test, y_test), epochs=20, verbose=1)\n"
   ]
  },
  {
   "cell_type": "code",
   "execution_count": 18,
   "metadata": {},
   "outputs": [
    {
     "name": "stdout",
     "output_type": "stream",
     "text": [
      "Epoch 1/20\n",
      "907/907 [==============================] - 19s 18ms/step - loss: 4.3781 - accuracy: 0.0748 - val_loss: 3.2803 - val_accuracy: 0.5047\n",
      "Epoch 2/20\n",
      "907/907 [==============================] - 15s 16ms/step - loss: 3.4484 - accuracy: 0.3270 - val_loss: 2.8844 - val_accuracy: 0.6289\n",
      "Epoch 3/20\n",
      "907/907 [==============================] - 15s 17ms/step - loss: 3.1166 - accuracy: 0.4528 - val_loss: 2.6168 - val_accuracy: 0.6802\n",
      "Epoch 4/20\n",
      "907/907 [==============================] - 15s 17ms/step - loss: 2.8933 - accuracy: 0.5312 - val_loss: 2.4557 - val_accuracy: 0.6998\n",
      "Epoch 5/20\n",
      "907/907 [==============================] - 15s 16ms/step - loss: 2.7318 - accuracy: 0.5789 - val_loss: 2.3391 - val_accuracy: 0.7126\n",
      "Epoch 6/20\n",
      "907/907 [==============================] - 15s 16ms/step - loss: 2.5993 - accuracy: 0.6073 - val_loss: 2.1997 - val_accuracy: 0.7223\n",
      "Epoch 7/20\n",
      "907/907 [==============================] - 15s 17ms/step - loss: 2.4822 - accuracy: 0.6327 - val_loss: 2.0822 - val_accuracy: 0.7323\n",
      "Epoch 8/20\n",
      "907/907 [==============================] - 15s 17ms/step - loss: 2.3784 - accuracy: 0.6511 - val_loss: 1.9950 - val_accuracy: 0.7350\n",
      "Epoch 9/20\n",
      "907/907 [==============================] - 15s 16ms/step - loss: 2.2916 - accuracy: 0.6623 - val_loss: 1.9140 - val_accuracy: 0.7394\n",
      "Epoch 10/20\n",
      "907/907 [==============================] - 15s 16ms/step - loss: 2.1954 - accuracy: 0.6803 - val_loss: 1.8124 - val_accuracy: 0.7449\n",
      "Epoch 11/20\n",
      "907/907 [==============================] - 15s 17ms/step - loss: 2.1312 - accuracy: 0.6842 - val_loss: 1.7320 - val_accuracy: 0.7469\n",
      "Epoch 12/20\n",
      "907/907 [==============================] - 15s 16ms/step - loss: 2.0439 - accuracy: 0.6971 - val_loss: 1.6688 - val_accuracy: 0.7505\n",
      "Epoch 13/20\n",
      "907/907 [==============================] - 15s 16ms/step - loss: 1.9832 - accuracy: 0.7029 - val_loss: 1.6215 - val_accuracy: 0.7550\n",
      "Epoch 14/20\n",
      "907/907 [==============================] - 15s 16ms/step - loss: 1.9152 - accuracy: 0.7071 - val_loss: 1.5436 - val_accuracy: 0.7584\n",
      "Epoch 15/20\n",
      "907/907 [==============================] - 15s 16ms/step - loss: 1.8740 - accuracy: 0.7089 - val_loss: 1.4925 - val_accuracy: 0.7594\n",
      "Epoch 16/20\n",
      "907/907 [==============================] - 15s 16ms/step - loss: 1.8032 - accuracy: 0.7206 - val_loss: 1.4514 - val_accuracy: 0.7639\n",
      "Epoch 17/20\n",
      "907/907 [==============================] - 15s 16ms/step - loss: 1.7531 - accuracy: 0.7203 - val_loss: 1.3978 - val_accuracy: 0.7671\n",
      "Epoch 18/20\n",
      "907/907 [==============================] - 15s 16ms/step - loss: 1.7041 - accuracy: 0.7273 - val_loss: 1.3544 - val_accuracy: 0.7666\n",
      "Epoch 19/20\n",
      "907/907 [==============================] - 15s 16ms/step - loss: 1.6494 - accuracy: 0.7314 - val_loss: 1.3079 - val_accuracy: 0.7714\n",
      "Epoch 20/20\n",
      "907/907 [==============================] - 15s 16ms/step - loss: 1.6157 - accuracy: 0.7333 - val_loss: 1.2646 - val_accuracy: 0.7728\n"
     ]
    }
   ],
   "source": [
    "#for model3\n",
    "t_model6.compile(loss=losses.CategoricalCrossentropy(from_logits=True),optimizer=optimizers.SGD(lr=1e-5,momentum=0.9),metrics=['accuracy'])\n",
    "history6 = t_model6.fit(x_train, y_train,  batch_size=64, shuffle=True,validation_data=(x_test, y_test), epochs=20, verbose=1)\n"
   ]
  },
  {
   "cell_type": "code",
   "execution_count": 19,
   "metadata": {
    "scrolled": true
   },
   "outputs": [
    {
     "name": "stdout",
     "output_type": "stream",
     "text": [
      "Epoch 1/20\n",
      "907/907 [==============================] - 19s 18ms/step - loss: 4.4661 - accuracy: 0.0622 - val_loss: 3.2825 - val_accuracy: 0.5269\n",
      "Epoch 2/20\n",
      "907/907 [==============================] - 15s 17ms/step - loss: 3.4769 - accuracy: 0.3222 - val_loss: 2.8826 - val_accuracy: 0.6549\n",
      "Epoch 3/20\n",
      "907/907 [==============================] - 15s 17ms/step - loss: 3.1278 - accuracy: 0.4636 - val_loss: 2.6511 - val_accuracy: 0.6960\n",
      "Epoch 4/20\n",
      "907/907 [==============================] - 15s 17ms/step - loss: 2.9144 - accuracy: 0.5344 - val_loss: 2.4743 - val_accuracy: 0.7165\n",
      "Epoch 5/20\n",
      "907/907 [==============================] - 15s 17ms/step - loss: 2.7401 - accuracy: 0.5894 - val_loss: 2.3331 - val_accuracy: 0.7251\n",
      "Epoch 6/20\n",
      "907/907 [==============================] - 15s 17ms/step - loss: 2.6041 - accuracy: 0.6235 - val_loss: 2.2071 - val_accuracy: 0.7322\n",
      "Epoch 7/20\n",
      "907/907 [==============================] - 15s 17ms/step - loss: 2.4872 - accuracy: 0.6442 - val_loss: 2.0814 - val_accuracy: 0.7366\n",
      "Epoch 8/20\n",
      "907/907 [==============================] - 15s 17ms/step - loss: 2.3771 - accuracy: 0.6659 - val_loss: 1.9813 - val_accuracy: 0.7416\n",
      "Epoch 9/20\n",
      "907/907 [==============================] - 15s 17ms/step - loss: 2.2909 - accuracy: 0.6778 - val_loss: 1.9060 - val_accuracy: 0.7444\n",
      "Epoch 10/20\n",
      "907/907 [==============================] - 15s 17ms/step - loss: 2.1889 - accuracy: 0.6930 - val_loss: 1.8202 - val_accuracy: 0.7461\n",
      "Epoch 11/20\n",
      "907/907 [==============================] - 15s 17ms/step - loss: 2.1189 - accuracy: 0.6966 - val_loss: 1.7532 - val_accuracy: 0.7521\n",
      "Epoch 12/20\n",
      "907/907 [==============================] - 15s 17ms/step - loss: 2.0466 - accuracy: 0.7055 - val_loss: 1.6949 - val_accuracy: 0.7526\n",
      "Epoch 13/20\n",
      "907/907 [==============================] - 15s 17ms/step - loss: 1.9840 - accuracy: 0.7093 - val_loss: 1.6193 - val_accuracy: 0.7547\n",
      "Epoch 14/20\n",
      "907/907 [==============================] - 15s 17ms/step - loss: 1.9227 - accuracy: 0.7149 - val_loss: 1.5609 - val_accuracy: 0.7599\n",
      "Epoch 15/20\n",
      "907/907 [==============================] - 15s 17ms/step - loss: 1.8546 - accuracy: 0.7200 - val_loss: 1.5166 - val_accuracy: 0.7601\n",
      "Epoch 16/20\n",
      "907/907 [==============================] - 15s 17ms/step - loss: 1.8039 - accuracy: 0.7238 - val_loss: 1.4737 - val_accuracy: 0.7628\n",
      "Epoch 17/20\n",
      "907/907 [==============================] - 15s 17ms/step - loss: 1.7632 - accuracy: 0.7235 - val_loss: 1.4155 - val_accuracy: 0.7673\n",
      "Epoch 18/20\n",
      "907/907 [==============================] - 15s 17ms/step - loss: 1.7049 - accuracy: 0.7292 - val_loss: 1.3802 - val_accuracy: 0.7667\n",
      "Epoch 19/20\n",
      "907/907 [==============================] - 15s 17ms/step - loss: 1.6698 - accuracy: 0.7306 - val_loss: 1.3374 - val_accuracy: 0.7680\n",
      "Epoch 20/20\n",
      "907/907 [==============================] - 15s 17ms/step - loss: 1.6250 - accuracy: 0.7314 - val_loss: 1.2906 - val_accuracy: 0.7705\n"
     ]
    }
   ],
   "source": [
    "#for model3\n",
    "t_model7.compile(loss=losses.CategoricalCrossentropy(from_logits=True),optimizer=optimizers.SGD(lr=1e-5,momentum=0.9),metrics=['accuracy'])\n",
    "history7 = t_model7.fit(x_train, y_train,  batch_size=64, shuffle=True,validation_data=(x_test, y_test), epochs=20, verbose=1)\n"
   ]
  },
  {
   "cell_type": "code",
   "execution_count": 20,
   "metadata": {},
   "outputs": [
    {
     "name": "stderr",
     "output_type": "stream",
     "text": [
      "The PostScript backend does not support transparency; partially transparent artists will be rendered opaque.\n",
      "The PostScript backend does not support transparency; partially transparent artists will be rendered opaque.\n"
     ]
    },
    {
     "data": {
      "image/png": "[encoded data removed]",
      "text/plain": [
       "<Figure size 432x288 with 1 Axes>"
      ]
     },
     "metadata": {
      "needs_background": "light"
     },
     "output_type": "display_data"
    }
   ],
   "source": [
    "fig1 = plt.figure()\n",
    "plt.plot(history.history['val_accuracy'])\n",
    "#plt.plot(history.history['val_loss'])\n",
    "plt.plot(history2.history['val_accuracy'])\n",
    "#plt.plot(history2.history['val_loss'])\n",
    "plt.plot(history3.history['val_accuracy'])\n",
    "#plt.plot(history3.history['val_loss'])\n",
    "plt.plot(history4.history['val_accuracy'])\n",
    "#plt.plot(history4.history['val_loss'])\n",
    "plt.plot(history5.history['val_accuracy'])\n",
    "#plt.plot(history5.history['val_loss'])\n",
    "plt.plot(history6.history['val_accuracy'])\n",
    "#plt.plot(history6.history['val_loss'])\n",
    "plt.plot(history7.history['val_accuracy'])\n",
    "plt.ylabel('Accuracy')\n",
    "plt.xlabel('Epoch')\n",
    "plt.legend(['PCS','NCS','PNCS','1st_Layer','2nd_Layer','3rd_Layer','Feature_Extraction'], loc='lower right')\n",
    "#plt.legend(['high_cos_train', 'high_cos_val','low_cos_train','low_cos_val'], loc=\"center right\", bbox_to_anchor=(1.6, 0.5))\n",
    "fig1.savefig('all_similarity_fashion_mnist_resnet50.eps', dpi=1200, format=\"eps\", bbox_inches=\"tight\")\n",
    "plt.show()"
   ]
  },
  {
   "cell_type": "code",
   "execution_count": 27,
   "metadata": {},
   "outputs": [
    {
     "name": "stderr",
     "output_type": "stream",
     "text": [
      "The PostScript backend does not support transparency; partially transparent artists will be rendered opaque.\n",
      "The PostScript backend does not support transparency; partially transparent artists will be rendered opaque.\n"
     ]
    },
    {
     "data": {
      "image/png": "[encoded data removed]",
      "text/plain": [
       "<Figure size 432x288 with 1 Axes>"
      ]
     },
     "metadata": {
      "needs_background": "light"
     },
     "output_type": "display_data"
    }
   ],
   "source": [
    "fig3 = plt.figure()\n",
    "plt.plot(history.history['loss'])\n",
    "#plt.plot(history.history['val_loss'])\n",
    "plt.plot(history.history['val_loss'])\n",
    "#plt.plot(history2.history['val_loss'])\n",
    "plt.plot(history2.history['loss'])\n",
    "#plt.plot(history3.history['val_loss'])\n",
    "plt.plot(history2.history['val_loss'])\n",
    "#plt.plot(history4.history['val_loss'])\n",
    "plt.plot(history3.history['loss'])\n",
    "#plt.plot(history5.history['val_loss'])\n",
    "plt.plot(history3.history['val_loss'])\n",
    "plt.ylabel('Loss')\n",
    "plt.xlabel('Epoch')\n",
    "plt.legend(['PCS_Loss','PCS_Val_Loss','NCS_Loss','NCS_Val_Loss','PNCS_Loss','PNCS_Val_Loss'], loc='upper right')\n",
    "#plt.legend(['high_cos_train', 'high_cos_val','low_cos_train','low_cos_val'], loc=\"center right\", bbox_to_anchor=(1.6, 0.5))\n",
    "fig3.savefig('3plots_Loss_fashion_mnist_resnet50.eps', dpi=1200, format=\"eps\", bbox_inches=\"tight\")\n",
    "plt.show()"
   ]
  },
  {
   "cell_type": "code",
   "execution_count": null,
   "metadata": {},
   "outputs": [],
   "source": [
    "fig3 = plt.figure()\n",
    "plt.plot(history.history['accuracy'])\n",
    "#plt.plot(history.history['val_loss'])\n",
    "plt.plot(history.history['val_accuracy'])\n",
    "#plt.plot(history2.history['val_loss'])\n",
    "plt.plot(history2.history['accuracy'])\n",
    "#plt.plot(history3.history['val_loss'])\n",
    "plt.plot(history2.history['val_accuracy'])\n",
    "#plt.plot(history4.history['val_loss'])\n",
    "plt.plot(history3.history['accuracy'])\n",
    "#plt.plot(history5.history['val_loss'])\n",
    "plt.plot(history3.history['val_accuracy'])\n",
    "plt.ylabel('Accuracy')\n",
    "plt.xlabel('Epoch')\n",
    "plt.legend(['PCS_Train','PCS_Val','NCS_Train','NCS_Val','PNCS_Train','PNCS_Val'], loc='lower right')\n",
    "#plt.legend(['high_cos_train', 'high_cos_val','low_cos_train','low_cos_val'], loc=\"center right\", bbox_to_anchor=(1.6, 0.5))\n",
    "fig2.savefig('3plots_fashion_mnist_resnet50.eps', dpi=1200, format=\"eps\", bbox_inches=\"tight\")\n",
    "plt.show()"
   ]
  }
 ],
 "metadata": {
  "kernelspec": {
   "display_name": "Python 3",
   "language": "python",
   "name": "python3"
  },
  "language_info": {
   "codemirror_mode": {
    "name": "ipython",
    "version": 3
   },
   "file_extension": ".py",
   "mimetype": "text/x-python",
   "name": "python",
   "nbconvert_exporter": "python",
   "pygments_lexer": "ipython3",
   "version": "3.6.9"
  }
 },
 "nbformat": 4,
 "nbformat_minor": 2
}
