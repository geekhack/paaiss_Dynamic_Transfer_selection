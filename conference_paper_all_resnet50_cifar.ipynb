{
 "cells": [
  {
   "cell_type": "code",
   "execution_count": 1,
   "metadata": {
    "gradient": {}
   },
   "outputs": [
    {
     "name": "stdout",
     "output_type": "stream",
     "text": [
      "Requirement already satisfied: pandas in /usr/local/lib/python3.6/dist-packages (1.1.5)\n",
      "Requirement already satisfied: numpy>=1.15.4 in /usr/local/lib/python3.6/dist-packages (from pandas) (1.19.5)\n",
      "Requirement already satisfied: python-dateutil>=2.7.3 in /usr/local/lib/python3.6/dist-packages (from pandas) (2.8.1)\n",
      "Requirement already satisfied: pytz>=2017.2 in /usr/local/lib/python3.6/dist-packages (from pandas) (2021.1)\n",
      "Requirement already satisfied: six>=1.5 in /usr/local/lib/python3.6/dist-packages (from python-dateutil>=2.7.3->pandas) (1.15.0)\n",
      "\u001b[33mWARNING: You are using pip version 20.2.4; however, version 21.3.1 is available.\n",
      "You should consider upgrading via the '/usr/bin/python3 -m pip install --upgrade pip' command.\u001b[0m\n",
      "Note: you may need to restart the kernel to use updated packages.\n"
     ]
    }
   ],
   "source": [
    "pip install pandas"
   ]
  },
  {
   "cell_type": "code",
   "execution_count": 2,
   "metadata": {
    "gradient": {}
   },
   "outputs": [
    {
     "name": "stdout",
     "output_type": "stream",
     "text": [
      "Requirement already satisfied: SciPy in /usr/local/lib/python3.6/dist-packages (1.5.4)\n",
      "Requirement already satisfied: numpy>=1.14.5 in /usr/local/lib/python3.6/dist-packages (from SciPy) (1.19.5)\n",
      "\u001b[33mWARNING: You are using pip version 20.2.4; however, version 21.3.1 is available.\n",
      "You should consider upgrading via the '/usr/bin/python3 -m pip install --upgrade pip' command.\u001b[0m\n",
      "Note: you may need to restart the kernel to use updated packages.\n"
     ]
    }
   ],
   "source": [
    "pip install SciPy"
   ]
  },
  {
   "cell_type": "code",
   "execution_count": 3,
   "metadata": {
    "gradient": {}
   },
   "outputs": [],
   "source": [
    "import tensorflow\n",
    "import statistics as stats\n",
    "from collections import defaultdict\n",
    "import pandas as pd\n",
    "import numpy as np\n",
    "from tensorflow import keras\n",
    "from tensorflow.keras.applications.resnet50 import ResNet50 as resnet50\n",
    "from tensorflow.keras.applications.inception_v3 import InceptionV3 as inception\n",
    "from tensorflow.keras.applications.vgg16 import VGG16 as vgg16\n",
    "from tensorflow.keras.applications.densenet import DenseNet169 as densenet\n",
    "from tensorflow.keras.preprocessing.image import ImageDataGenerator\n",
    "from tensorflow.keras import layers, losses, optimizers\n",
    "from tensorflow.keras.layers import Dense,Dropout,GlobalAveragePooling2D,Flatten\n",
    "from tensorflow.python.keras.models import Sequential\n",
    "from tensorflow.keras.preprocessing.image import load_img, img_to_array\n",
    "import matplotlib\n",
    "import matplotlib.pyplot as plt\n",
    "from tensorflow.keras.models import Model                                                         "
   ]
  },
  {
   "cell_type": "code",
   "execution_count": 4,
   "metadata": {},
   "outputs": [
    {
     "name": "stdout",
     "output_type": "stream",
     "text": [
      "Downloading data from https://www.cs.toronto.edu/~kriz/cifar-10-python.tar.gz\n",
      "170500096/170498071 [==============================] - 2s 0us/step\n"
     ]
    }
   ],
   "source": [
    "(x_train, y_train), (x_test, y_test)=tensorflow.keras.datasets.cifar10.load_data()\n",
    "#(x_train, y_train), (x_test, y_test)=tensorflow.keras.datasets.mnist.load_data()"
   ]
  },
  {
   "cell_type": "code",
   "execution_count": 5,
   "metadata": {},
   "outputs": [],
   "source": [
    "y_train = y_train.flatten()\n",
    "y_test = y_test.flatten()\n",
    "\n",
    "y_train = tensorflow.one_hot(y_train.astype(np.int32), depth=10)\n",
    "y_test = tensorflow.one_hot(y_test.astype(np.int32), depth=10)"
   ]
  },
  {
   "cell_type": "code",
   "execution_count": 6,
   "metadata": {},
   "outputs": [],
   "source": [
    "model_name = resnet50\n",
    "input_t =(32,32, 3)\n",
    "model = model_name(include_top=False,\n",
    "                   weights=\"imagenet\",\n",
    "                   input_shape=input_t)\n",
    "\n",
    "model2 = model_name(include_top=False,\n",
    "                   weights=\"imagenet\",\n",
    "                   input_shape=input_t)\n",
    "\n",
    "model3 = model_name(include_top=False,\n",
    "                   weights=\"imagenet\",\n",
    "                   input_shape=input_t)\n",
    "model_tune1 = model_name(include_top=False,\n",
    "                   weights=\"imagenet\",\n",
    "                   input_shape=input_t)\n",
    "model_tune2 = model_name(include_top=False,\n",
    "                   weights=\"imagenet\",\n",
    "                   input_shape=input_t)\n",
    "model_tune3 = model_name(include_top=False,\n",
    "                   weights=\"imagenet\",\n",
    "                   input_shape=input_t)\n",
    "model_tune4 = model_name(include_top=False,\n",
    "                   weights=\"imagenet\",\n",
    "                   input_shape=input_t)"
   ]
  },
  {
   "cell_type": "code",
   "execution_count": 7,
   "metadata": {},
   "outputs": [],
   "source": [
    "# get the layer index\n",
    "def getLayerIndex(model_i, layer_name):\n",
    "    for pos, layer_g in enumerate(model_i.layers):\n",
    "        if layer_g.name == layer_name:\n",
    "            return pos\n"
   ]
  },
  {
   "cell_type": "code",
   "execution_count": 8,
   "metadata": {},
   "outputs": [
    {
     "name": "stderr",
     "output_type": "stream",
     "text": [
      "/usr/local/lib/python3.6/dist-packages/ipykernel_launcher.py:6: VisibleDeprecationWarning: Creating an ndarray from ragged nested sequences (which is a list-or-tuple of lists-or-tuples-or ndarrays with different lengths or shapes) is deprecated. If you meant to do this, you must specify 'dtype=object' when creating the ndarray\n",
      "  \n",
      "/usr/local/lib/python3.6/dist-packages/ipykernel_launcher.py:7: VisibleDeprecationWarning: Creating an ndarray from ragged nested sequences (which is a list-or-tuple of lists-or-tuples-or ndarrays with different lengths or shapes) is deprecated. If you meant to do this, you must specify 'dtype=object' when creating the ndarray\n",
      "  import sys\n"
     ]
    }
   ],
   "source": [
    "# get the convolved layers into an array for looping\n",
    "convolved_layers = []\n",
    "\n",
    "for layer in model.layers:\n",
    "\n",
    "    t = np.array(layer.get_weights()).ndim\n",
    "    array = np.array(layer.get_weights())\n",
    "    if (model_name != resnet50) or (model_name != vgg16):\n",
    "        if (len(array) > 0) and (t > 2):\n",
    "            index = getLayerIndex(model, layer.name)\n",
    "            # append the convolved layer\n",
    "            convolved_layers.append(index)\n",
    "            # print(str(len(array)) + \"for:\" + layer.name + \"at index:\" + str(index))\n",
    "    if (model_name == resnet50) or (model_name == vgg16):\n",
    "        if len(array) > 0 and (t != 2):\n",
    "            index = getLayerIndex(model, layer.name)\n",
    "            # append the convolved layer\n",
    "            convolved_layers.append(index)\n",
    "            # print(str(len(array)) + \"for:\" + layer.name + \"at index:\" + str(index))\n",
    "\n",
    "# get the total number of weights in the array\n",
    "total_layer_weights = 0\n",
    "sum_positives = 0\n",
    "sum_negatives = 0\n",
    "\n",
    "# create a dictionary with layer index and positive values identified\n",
    "layer_positives_dict = defaultdict(list)\n",
    "\n",
    "# create a dictionary for storing the layers and their +ve values probabilities\n",
    "layer_probs_dict = defaultdict(list)"
   ]
  },
  {
   "cell_type": "code",
   "execution_count": 9,
   "metadata": {
    "gradient": {}
   },
   "outputs": [
    {
     "ename": "KeyboardInterrupt",
     "evalue": "",
     "output_type": "error",
     "traceback": [
      "\u001b[0;31m---------------------------------------------------------------------------\u001b[0m",
      "\u001b[0;31mKeyboardInterrupt\u001b[0m                         Traceback (most recent call last)",
      "\u001b[0;32m<ipython-input-9-218c09f5cd4d>\u001b[0m in \u001b[0;36m<module>\u001b[0;34m\u001b[0m\n\u001b[1;32m     26\u001b[0m             \u001b[0;31m# get the values for each channel\u001b[0m\u001b[0;34m\u001b[0m\u001b[0;34m\u001b[0m\u001b[0;34m\u001b[0m\u001b[0m\n\u001b[1;32m     27\u001b[0m             \u001b[0;32mfor\u001b[0m \u001b[0ma\u001b[0m \u001b[0;32min\u001b[0m \u001b[0mrange\u001b[0m\u001b[0;34m(\u001b[0m\u001b[0mlen\u001b[0m\u001b[0;34m(\u001b[0m\u001b[0mx1\u001b[0m\u001b[0;34m)\u001b[0m\u001b[0;34m)\u001b[0m\u001b[0;34m:\u001b[0m\u001b[0;34m\u001b[0m\u001b[0;34m\u001b[0m\u001b[0m\n\u001b[0;32m---> 28\u001b[0;31m                 \u001b[0mvalue_pix\u001b[0m \u001b[0;34m=\u001b[0m \u001b[0msum\u001b[0m\u001b[0;34m(\u001b[0m\u001b[0mx1\u001b[0m\u001b[0;34m[\u001b[0m\u001b[0ma\u001b[0m\u001b[0;34m]\u001b[0m\u001b[0;34m)\u001b[0m\u001b[0;34m\u001b[0m\u001b[0;34m\u001b[0m\u001b[0m\n\u001b[0m\u001b[1;32m     29\u001b[0m                 \u001b[0;31m# get the positive values\u001b[0m\u001b[0;34m\u001b[0m\u001b[0;34m\u001b[0m\u001b[0;34m\u001b[0m\u001b[0m\n\u001b[1;32m     30\u001b[0m                 \u001b[0msum_positives\u001b[0m \u001b[0;34m+=\u001b[0m \u001b[0mvalue_pix\u001b[0m\u001b[0;34m\u001b[0m\u001b[0;34m\u001b[0m\u001b[0m\n",
      "\u001b[0;31mKeyboardInterrupt\u001b[0m: "
     ]
    }
   ],
   "source": [
    "# list the convolved layers\n",
    "for c_layer in range(len(convolved_layers)):\n",
    "    # create array for array matrices,feature values and convolved values for each layer\n",
    "    layer_array_matrices = []\n",
    "    layer_feature_sums = []\n",
    "    layer_convolved_values_sum = []\n",
    "\n",
    "    # get the arrays matrices(batches) pixel\n",
    "    for i in range(len(model.layers[convolved_layers[c_layer]].get_weights()[0])):\n",
    "        # get the values for each feature\n",
    "        ######print(\"channels(image):\"+str(len(model.layers[convolved_layers[c_layer]].get_weights()[0][i])))\n",
    "        for x in range(len(model.layers[convolved_layers[c_layer]].get_weights()[0][i])):\n",
    "            # return all the values in the convolutional feature\n",
    "            total_array = np.array(model.layers[convolved_layers[c_layer]].get_weights()[0][i][x])\n",
    "            # return all the negative values in the convolutional feature\n",
    "            x2 = np.array(model.layers[convolved_layers[c_layer]].get_weights()[0][i][x]) < 0\n",
    "            for c in range(len(x2)):\n",
    "                ###print(\"all the trues in depth: \" + str(c + 1) + \" are for feature: \" + str(x + 1))\n",
    "                sum_negatives += sum(x2[c])\n",
    "                # print(sum(x2[c]))\n",
    "            # return all the values\n",
    "            for y in range(len(total_array)):\n",
    "                total_layer_weights += len(total_array[y])\n",
    "\n",
    "            x1 = np.array(model.layers[convolved_layers[c_layer]].get_weights()[0][i][x]) > 0\n",
    "            # get the values for each channel\n",
    "            for a in range(len(x1)):\n",
    "                value_pix = sum(x1[a])\n",
    "                # get the positive values\n",
    "                sum_positives += value_pix\n",
    "\n",
    "                ######print(value_pix)\n",
    "    list_sums = []\n",
    "    list_sums.append((str(convolved_layers[c_layer]), sum_positives))\n",
    "    layer_positives_dict.update(list_sums)\n",
    "\n",
    "    # print the probabilities for each layer\n",
    "    layer_pos_prob = sum_positives / total_layer_weights\n",
    "\n",
    "    # create +ves values array\n",
    "    positives_array = []\n",
    "    for key, val in layer_positives_dict.items():\n",
    "        # print(key, \"corresponds to:\",val,\" positive values\")\n",
    "        positives_array.append(val)\n",
    "       \n",
    "    list_layer_probs = []\n",
    "    list_layer_probs.append((str(convolved_layers[c_layer]), layer_pos_prob))\n",
    "    layer_probs_dict.update(list_layer_probs)"
   ]
  },
  {
   "cell_type": "code",
   "execution_count": null,
   "metadata": {},
   "outputs": [],
   "source": [
    "median_layer = stats.median(convolved_layers)\n",
    "\n",
    "# create dictionary for storing selected median layers\n",
    "second_layer_probs_dict = defaultdict(list)\n",
    "# store the new list of layers to be matched with the mean probability\n",
    "second_half_layers = []\n",
    "\n",
    "# store all probabilities for the selected upper half layers\n",
    "second_half_probs = []\n",
    "# loop through the layers and print those layers above the median\n",
    "for lyr, val in layer_probs_dict.items():\n",
    "    # print(lyr, \"Layer prob:\", val)\n",
    "    if int(lyr) > median_layer:\n",
    "        # store the probabilities of the upper half selected convolved layers\n",
    "        #print(lyr, \"Layer prob:\", val)\n",
    "        # update the sum of selected layers probabilities\n",
    "        second_half_probs.append(val)\n",
    "        second_half_layers.append((lyr, val))\n",
    "        second_layer_probs_dict.update(second_half_layers)\n",
    "\n",
    "# get the mean of the layers\n",
    "selected_layers_mean = stats.mean(second_half_probs)\n",
    "final_selected_layers = []\n",
    "# now get the final layers list whose value exceed the mean\n",
    "for s_lyr, v in second_layer_probs_dict.items():\n",
    "    # get the probabilities that are lower than the mean probability\n",
    "    if v < selected_layers_mean:\n",
    "        # store the probabilities of the upper half selected convolved layers\n",
    "        final_selected_layers.append(s_lyr)"
   ]
  },
  {
   "cell_type": "code",
   "execution_count": null,
   "metadata": {
    "gradient": {}
   },
   "outputs": [],
   "source": [
    "\n",
    "# for positive cosines similarities\n",
    "pcs_h_layers =[29,32,54,146,158]\n",
    "pcs_l_layers =[13,14,35,57,67,77] #lower cosine\n",
    "for sb_layer in model.layers:\n",
    "    # sb_layer.trainable = False\n",
    "    index = getLayerIndex(model, sb_layer.name)\n",
    "    #for b in final_selected_layers:\n",
    "    for b in pcs_h_layers:\n",
    "        if b == index:\n",
    "            sb_layer.trainable = True\n",
    "            #print(str(sb_layer.name) + \" and index is\" + str(b))\n",
    "            print(sb_layer.name,sb_layer.trainable)\n",
    "\n",
    "#for negative cosine similarities\n",
    "# for model 2\n",
    "# for positive cosines similarities\n",
    "ncs_h_layers =[146,155,158,165,168,171]\n",
    "ncs_l_layers =[2,7,13,14,35,45,46,67]\n",
    "for sbs_layer in model2.layers:\n",
    "    # sb_layer.trainable = False\n",
    "    index = getLayerIndex(model2, sbs_layer.name)\n",
    "    #for b in final_selected_layers:\n",
    "    for b in ncs_h_layers:\n",
    "        if b == index:\n",
    "            sb_layer.trainable = True\n",
    "            #print(str(sb_layer.name) + \" and index is\" + str(b))\n",
    "            print(sb_layer.name,sb_layer.trainable)\n",
    "\n",
    "#for positive negative cosine similarities\n",
    "# for model 3\n",
    "pncs_h_layers =[32,57,77,109,126,139] #high cosine,,\n",
    "pncs_l_layers =[2,7,13,22,64,71,81] #lower cosine\n",
    "for sbs_layer in model3.layers:\n",
    "    # sb_layer.trainable = False\n",
    "    index = getLayerIndex(model3, sbs_layer.name)\n",
    "    #for b in final_selected_layers:\n",
    "    for b in pncs_h_layers:\n",
    "        if b == index:\n",
    "            sb_layer.trainable = True\n",
    "            #print(str(sb_layer.name) + \" and index is\" + str(b))\n",
    "            print(sb_layer.name,sb_layer.trainable)\n",
    "\n",
    "\n",
    "#finetune by removeing the last layer\n",
    "for lst_layer in model_tune1.layers[:-2]:\n",
    "    lst_layer.trainable = False\n",
    "    \n",
    "####end of the last layer\n",
    "#finetune by removeing the 2nd last layer\n",
    "for scnd_st_layer in model_tune2.layers[:-3]:\n",
    "    scnd_st_layer.trainable = False\n",
    "    \n",
    "####end of the last layer\n",
    "#finetune by removeing the 3rd last layer\n",
    "for thrd_layer in model_tune3.layers[:-4]:\n",
    "    thrd_layer.trainable = False\n",
    "    \n",
    "\n",
    "    \n",
    "####end of the last layer\n",
    "#for feature extraction\n",
    "for ftr_layer in model_tune4.layers:\n",
    "    ftr_layer.trainable = False\n",
    "\n",
    "# try the transfer learning model\n",
    "to_res = (224, 224)\n"
   ]
  },
  {
   "cell_type": "code",
   "execution_count": 10,
   "metadata": {},
   "outputs": [],
   "source": [
    "\n",
    "t_model = Sequential()\n",
    "t_model.add(model)\n",
    "t_model.add(Flatten())\n",
    "t_model.add(layers.BatchNormalization())\n",
    "t_model.add(layers.Dense(64, activation='relu'))\n",
    "t_model.add(layers.Dropout(0.5))\n",
    "t_model.add(layers.BatchNormalization())\n",
    "t_model.add(layers.Dense(10, activation='softmax'))\n",
    "\n",
    "\n",
    "#for model 2\n",
    "t_model2 = Sequential()\n",
    "t_model2.add(model2)\n",
    "t_model2.add(Flatten())\n",
    "t_model2.add(layers.BatchNormalization())\n",
    "t_model2.add(layers.Dense(64, activation='relu'))\n",
    "t_model2.add(layers.Dropout(0.5))\n",
    "t_model2.add(layers.BatchNormalization())\n",
    "t_model2.add(layers.Dense(10, activation='softmax'))\n",
    "\n",
    "\n",
    "#for model 2\n",
    "t_model3 = Sequential()\n",
    "t_model3.add(model3)\n",
    "t_model3.add(Flatten())\n",
    "t_model3.add(layers.BatchNormalization())\n",
    "t_model3.add(layers.Dense(64, activation='relu'))\n",
    "t_model3.add(layers.Dropout(0.5))\n",
    "t_model3.add(layers.BatchNormalization())\n",
    "t_model3.add(layers.Dense(10, activation='softmax'))\n",
    "\n",
    "\n",
    "#for model 2\n",
    "t_model4 = Sequential()\n",
    "t_model4.add(model_tune1)\n",
    "t_model4.add(Flatten())\n",
    "t_model4.add(layers.BatchNormalization())\n",
    "t_model4.add(layers.Dense(64, activation='relu'))\n",
    "t_model4.add(layers.Dropout(0.5))\n",
    "t_model4.add(layers.BatchNormalization())\n",
    "t_model4.add(layers.Dense(10, activation='softmax'))\n",
    "\n",
    "#for model 2\n",
    "t_model5 = Sequential()\n",
    "t_model5.add(model_tune2)\n",
    "t_model5.add(Flatten())\n",
    "t_model5.add(layers.BatchNormalization())\n",
    "t_model5.add(layers.Dense(64, activation='relu'))\n",
    "t_model5.add(layers.Dropout(0.5))\n",
    "t_model5.add(layers.BatchNormalization())\n",
    "t_model5.add(layers.Dense(10, activation='softmax'))\n",
    "\n",
    "#for model 2\n",
    "t_model6 = Sequential()\n",
    "t_model6.add(model_tune3)\n",
    "t_model6.add(Flatten())\n",
    "t_model6.add(layers.BatchNormalization())\n",
    "t_model6.add(layers.Dense(64, activation='relu'))\n",
    "t_model6.add(layers.Dropout(0.5))\n",
    "t_model6.add(layers.BatchNormalization())\n",
    "t_model6.add(layers.Dense(10, activation='softmax'))\n",
    "\n",
    "\n",
    "#for model 2\n",
    "t_model7 = Sequential()\n",
    "t_model7.add(model_tune3)\n",
    "t_model7.add(Flatten())\n",
    "t_model7.add(layers.BatchNormalization())\n",
    "t_model7.add(layers.Dense(64, activation='relu'))\n",
    "t_model7.add(layers.Dropout(0.5))\n",
    "t_model7.add(layers.BatchNormalization())\n",
    "t_model7.add(layers.Dense(10, activation='softmax'))"
   ]
  },
  {
   "cell_type": "code",
   "execution_count": 11,
   "metadata": {},
   "outputs": [
    {
     "name": "stdout",
     "output_type": "stream",
     "text": [
      "Epoch 1/20\n",
      "300/300 [==============================] - 29s 50ms/step - loss: 2.9561 - accuracy: 0.1006 - val_loss: 2.5273 - val_accuracy: 0.1033\n",
      "Epoch 2/20\n",
      "300/300 [==============================] - 14s 46ms/step - loss: 2.9034 - accuracy: 0.1067 - val_loss: 2.5431 - val_accuracy: 0.1237\n",
      "Epoch 3/20\n",
      "300/300 [==============================] - 14s 47ms/step - loss: 2.8319 - accuracy: 0.1173 - val_loss: 2.4951 - val_accuracy: 0.1393\n",
      "Epoch 4/20\n",
      "300/300 [==============================] - 14s 45ms/step - loss: 2.7542 - accuracy: 0.1255 - val_loss: 2.4340 - val_accuracy: 0.1513\n",
      "Epoch 5/20\n",
      "300/300 [==============================] - 14s 45ms/step - loss: 2.7321 - accuracy: 0.1371 - val_loss: 2.3801 - val_accuracy: 0.1705\n",
      "Epoch 6/20\n",
      "300/300 [==============================] - 14s 46ms/step - loss: 2.6791 - accuracy: 0.1444 - val_loss: 2.3206 - val_accuracy: 0.1908\n",
      "Epoch 7/20\n",
      "300/300 [==============================] - 14s 45ms/step - loss: 2.6131 - accuracy: 0.1617 - val_loss: 2.2693 - val_accuracy: 0.2083\n",
      "Epoch 8/20\n",
      "300/300 [==============================] - 14s 45ms/step - loss: 2.5359 - accuracy: 0.1707 - val_loss: 2.2269 - val_accuracy: 0.2199\n",
      "Epoch 9/20\n",
      "300/300 [==============================] - 14s 46ms/step - loss: 2.4969 - accuracy: 0.1796 - val_loss: 2.1801 - val_accuracy: 0.2339\n",
      "Epoch 10/20\n",
      "300/300 [==============================] - 13s 45ms/step - loss: 2.4494 - accuracy: 0.1902 - val_loss: 2.1275 - val_accuracy: 0.2552\n",
      "Epoch 11/20\n",
      "300/300 [==============================] - 14s 45ms/step - loss: 2.4112 - accuracy: 0.2050 - val_loss: 2.0891 - val_accuracy: 0.2668\n",
      "Epoch 12/20\n",
      "300/300 [==============================] - 14s 45ms/step - loss: 2.3702 - accuracy: 0.2099 - val_loss: 2.0429 - val_accuracy: 0.2916\n",
      "Epoch 13/20\n",
      "300/300 [==============================] - 14s 46ms/step - loss: 2.3290 - accuracy: 0.2215 - val_loss: 2.0082 - val_accuracy: 0.3031\n",
      "Epoch 14/20\n",
      "300/300 [==============================] - 14s 45ms/step - loss: 2.2581 - accuracy: 0.2390 - val_loss: 1.9728 - val_accuracy: 0.3149\n",
      "Epoch 15/20\n",
      "300/300 [==============================] - 14s 46ms/step - loss: 2.2223 - accuracy: 0.2495 - val_loss: 1.9421 - val_accuracy: 0.3295\n",
      "Epoch 16/20\n",
      "300/300 [==============================] - 14s 45ms/step - loss: 2.1800 - accuracy: 0.2593 - val_loss: 1.9110 - val_accuracy: 0.3395\n",
      "Epoch 17/20\n",
      "300/300 [==============================] - 13s 45ms/step - loss: 2.1530 - accuracy: 0.2603 - val_loss: 1.8792 - val_accuracy: 0.3533\n",
      "Epoch 18/20\n",
      "300/300 [==============================] - 14s 45ms/step - loss: 2.1191 - accuracy: 0.2776 - val_loss: 1.8495 - val_accuracy: 0.3670\n",
      "Epoch 19/20\n",
      "300/300 [==============================] - 14s 45ms/step - loss: 2.0916 - accuracy: 0.2842 - val_loss: 1.8245 - val_accuracy: 0.3769\n",
      "Epoch 20/20\n",
      "300/300 [==============================] - 14s 45ms/step - loss: 2.0617 - accuracy: 0.2921 - val_loss: 1.7959 - val_accuracy: 0.3889\n"
     ]
    }
   ],
   "source": [
    "#positive cosine similarity\n",
    "t_model.compile(loss=losses.CategoricalCrossentropy(from_logits=True),optimizer=optimizers.SGD(lr=1e-5,momentum=0.9),metrics=['accuracy'])\n",
    "history = t_model.fit(x_train, y_train, batch_size=64, steps_per_epoch=300,shuffle=True,validation_data=(x_test, y_test), epochs=20, verbose=1)\n"
   ]
  },
  {
   "cell_type": "code",
   "execution_count": 12,
   "metadata": {},
   "outputs": [
    {
     "name": "stdout",
     "output_type": "stream",
     "text": [
      "Epoch 1/20\n",
      "300/300 [==============================] - 20s 49ms/step - loss: 2.9466 - accuracy: 0.1056 - val_loss: 2.5339 - val_accuracy: 0.1093\n",
      "Epoch 2/20\n",
      "300/300 [==============================] - 14s 46ms/step - loss: 2.8914 - accuracy: 0.1062 - val_loss: 2.5894 - val_accuracy: 0.1210\n",
      "Epoch 3/20\n",
      "300/300 [==============================] - 14s 45ms/step - loss: 2.8543 - accuracy: 0.1145 - val_loss: 2.5432 - val_accuracy: 0.1316\n",
      "Epoch 4/20\n",
      "300/300 [==============================] - 14s 46ms/step - loss: 2.7852 - accuracy: 0.1245 - val_loss: 2.4867 - val_accuracy: 0.1445\n",
      "Epoch 5/20\n",
      "300/300 [==============================] - 14s 46ms/step - loss: 2.7291 - accuracy: 0.1342 - val_loss: 2.4387 - val_accuracy: 0.1576\n",
      "Epoch 6/20\n",
      "300/300 [==============================] - 14s 45ms/step - loss: 2.6682 - accuracy: 0.1404 - val_loss: 2.3891 - val_accuracy: 0.1742\n",
      "Epoch 7/20\n",
      "300/300 [==============================] - 14s 45ms/step - loss: 2.6442 - accuracy: 0.1539 - val_loss: 2.3366 - val_accuracy: 0.1868\n",
      "Epoch 8/20\n",
      "300/300 [==============================] - 14s 46ms/step - loss: 2.5913 - accuracy: 0.1639 - val_loss: 2.2866 - val_accuracy: 0.2067\n",
      "Epoch 9/20\n",
      "300/300 [==============================] - 14s 46ms/step - loss: 2.5210 - accuracy: 0.1785 - val_loss: 2.2409 - val_accuracy: 0.2198\n",
      "Epoch 10/20\n",
      "300/300 [==============================] - 14s 45ms/step - loss: 2.5099 - accuracy: 0.1815 - val_loss: 2.1956 - val_accuracy: 0.2342\n",
      "Epoch 11/20\n",
      "300/300 [==============================] - 14s 45ms/step - loss: 2.4438 - accuracy: 0.1912 - val_loss: 2.1569 - val_accuracy: 0.2456\n",
      "Epoch 12/20\n",
      "300/300 [==============================] - 14s 46ms/step - loss: 2.4081 - accuracy: 0.1964 - val_loss: 2.1286 - val_accuracy: 0.2607\n",
      "Epoch 13/20\n",
      "300/300 [==============================] - 14s 45ms/step - loss: 2.3577 - accuracy: 0.2149 - val_loss: 2.0948 - val_accuracy: 0.2774\n",
      "Epoch 14/20\n",
      "300/300 [==============================] - 14s 45ms/step - loss: 2.3165 - accuracy: 0.2275 - val_loss: 2.0576 - val_accuracy: 0.2886\n",
      "Epoch 15/20\n",
      "300/300 [==============================] - 14s 46ms/step - loss: 2.2820 - accuracy: 0.2360 - val_loss: 2.0203 - val_accuracy: 0.3053\n",
      "Epoch 16/20\n",
      "300/300 [==============================] - 14s 46ms/step - loss: 2.2381 - accuracy: 0.2469 - val_loss: 1.9856 - val_accuracy: 0.3159\n",
      "Epoch 17/20\n",
      "300/300 [==============================] - 14s 46ms/step - loss: 2.2146 - accuracy: 0.2507 - val_loss: 1.9566 - val_accuracy: 0.3287\n",
      "Epoch 18/20\n",
      "300/300 [==============================] - 14s 46ms/step - loss: 2.1668 - accuracy: 0.2619 - val_loss: 1.9254 - val_accuracy: 0.3394\n",
      "Epoch 19/20\n",
      "300/300 [==============================] - 14s 46ms/step - loss: 2.1532 - accuracy: 0.2731 - val_loss: 1.8989 - val_accuracy: 0.3517\n",
      "Epoch 20/20\n",
      "300/300 [==============================] - 14s 46ms/step - loss: 2.1166 - accuracy: 0.2798 - val_loss: 1.8766 - val_accuracy: 0.3590\n"
     ]
    }
   ],
   "source": [
    "#negative cosine similarity look\n",
    "#for model2\n",
    "t_model2.compile(loss=losses.CategoricalCrossentropy(from_logits=True),optimizer=optimizers.SGD(lr=1e-5,momentum=0.9),metrics=['accuracy'])\n",
    "history2 = t_model2.fit(x_train, y_train,  batch_size=64, steps_per_epoch=300, shuffle=True,validation_data=(x_test, y_test), epochs=20, verbose=1)\n"
   ]
  },
  {
   "cell_type": "code",
   "execution_count": 13,
   "metadata": {},
   "outputs": [
    {
     "name": "stdout",
     "output_type": "stream",
     "text": [
      "Epoch 1/20\n",
      "300/300 [==============================] - 19s 49ms/step - loss: 2.9873 - accuracy: 0.0986 - val_loss: 2.5093 - val_accuracy: 0.1130\n",
      "Epoch 2/20\n",
      "300/300 [==============================] - 14s 48ms/step - loss: 2.9135 - accuracy: 0.1095 - val_loss: 2.5427 - val_accuracy: 0.1279\n",
      "Epoch 3/20\n",
      "300/300 [==============================] - 14s 47ms/step - loss: 2.8514 - accuracy: 0.1221 - val_loss: 2.4868 - val_accuracy: 0.1410\n",
      "Epoch 4/20\n",
      "300/300 [==============================] - 14s 46ms/step - loss: 2.7726 - accuracy: 0.1263 - val_loss: 2.4379 - val_accuracy: 0.1606\n",
      "Epoch 5/20\n",
      "300/300 [==============================] - 14s 46ms/step - loss: 2.7375 - accuracy: 0.1407 - val_loss: 2.3784 - val_accuracy: 0.1772\n",
      "Epoch 6/20\n",
      "300/300 [==============================] - 14s 46ms/step - loss: 2.6912 - accuracy: 0.1449 - val_loss: 2.3294 - val_accuracy: 0.1909\n",
      "Epoch 7/20\n",
      "300/300 [==============================] - 14s 46ms/step - loss: 2.6071 - accuracy: 0.1632 - val_loss: 2.2779 - val_accuracy: 0.2093\n",
      "Epoch 8/20\n",
      "300/300 [==============================] - 14s 46ms/step - loss: 2.5677 - accuracy: 0.1691 - val_loss: 2.2342 - val_accuracy: 0.2226\n",
      "Epoch 9/20\n",
      "300/300 [==============================] - 14s 46ms/step - loss: 2.5320 - accuracy: 0.1830 - val_loss: 2.1927 - val_accuracy: 0.2351\n",
      "Epoch 10/20\n",
      "300/300 [==============================] - 14s 46ms/step - loss: 2.4646 - accuracy: 0.1903 - val_loss: 2.1470 - val_accuracy: 0.2491\n",
      "Epoch 11/20\n",
      "300/300 [==============================] - 14s 46ms/step - loss: 2.4354 - accuracy: 0.1987 - val_loss: 2.1088 - val_accuracy: 0.2690\n",
      "Epoch 12/20\n",
      "300/300 [==============================] - 14s 46ms/step - loss: 2.3858 - accuracy: 0.2108 - val_loss: 2.0708 - val_accuracy: 0.2839\n",
      "Epoch 13/20\n",
      "300/300 [==============================] - 14s 46ms/step - loss: 2.3233 - accuracy: 0.2197 - val_loss: 2.0378 - val_accuracy: 0.2964\n",
      "Epoch 14/20\n",
      "300/300 [==============================] - 14s 46ms/step - loss: 2.2901 - accuracy: 0.2351 - val_loss: 2.0016 - val_accuracy: 0.3081\n",
      "Epoch 15/20\n",
      "300/300 [==============================] - 14s 46ms/step - loss: 2.2560 - accuracy: 0.2396 - val_loss: 1.9723 - val_accuracy: 0.3206\n",
      "Epoch 16/20\n",
      "300/300 [==============================] - 14s 46ms/step - loss: 2.2232 - accuracy: 0.2514 - val_loss: 1.9446 - val_accuracy: 0.3311\n",
      "Epoch 17/20\n",
      "300/300 [==============================] - 14s 46ms/step - loss: 2.1657 - accuracy: 0.2613 - val_loss: 1.9143 - val_accuracy: 0.3419\n",
      "Epoch 18/20\n",
      "300/300 [==============================] - 14s 46ms/step - loss: 2.1461 - accuracy: 0.2730 - val_loss: 1.8830 - val_accuracy: 0.3560\n",
      "Epoch 19/20\n",
      "300/300 [==============================] - 14s 46ms/step - loss: 2.1133 - accuracy: 0.2796 - val_loss: 1.8604 - val_accuracy: 0.3679\n",
      "Epoch 20/20\n",
      "300/300 [==============================] - 14s 46ms/step - loss: 2.0897 - accuracy: 0.2853 - val_loss: 1.8348 - val_accuracy: 0.3790\n"
     ]
    }
   ],
   "source": [
    "#for model3\n",
    "t_model3.compile(loss=losses.CategoricalCrossentropy(from_logits=True),optimizer=optimizers.SGD(lr=1e-5,momentum=0.9),metrics=['accuracy'])\n",
    "history3 = t_model3.fit(x_train, y_train,  batch_size=64, steps_per_epoch=300,shuffle=True,validation_data=(x_test, y_test), epochs=20, verbose=1)\n"
   ]
  },
  {
   "cell_type": "code",
   "execution_count": 14,
   "metadata": {},
   "outputs": [
    {
     "name": "stdout",
     "output_type": "stream",
     "text": [
      "Epoch 1/20\n",
      "300/300 [==============================] - 20s 50ms/step - loss: 2.9787 - accuracy: 0.1005 - val_loss: 2.4958 - val_accuracy: 0.1104\n",
      "Epoch 2/20\n",
      "300/300 [==============================] - 14s 46ms/step - loss: 2.9015 - accuracy: 0.1107 - val_loss: 2.5361 - val_accuracy: 0.1272\n",
      "Epoch 3/20\n",
      "300/300 [==============================] - 14s 46ms/step - loss: 2.8422 - accuracy: 0.1188 - val_loss: 2.4889 - val_accuracy: 0.1372\n",
      "Epoch 4/20\n",
      "300/300 [==============================] - 14s 46ms/step - loss: 2.7855 - accuracy: 0.1236 - val_loss: 2.4424 - val_accuracy: 0.1545\n",
      "Epoch 5/20\n",
      "300/300 [==============================] - 14s 46ms/step - loss: 2.7289 - accuracy: 0.1355 - val_loss: 2.3892 - val_accuracy: 0.1691\n",
      "Epoch 6/20\n",
      "300/300 [==============================] - 14s 46ms/step - loss: 2.6906 - accuracy: 0.1458 - val_loss: 2.3366 - val_accuracy: 0.1815\n",
      "Epoch 7/20\n",
      "300/300 [==============================] - 14s 46ms/step - loss: 2.6241 - accuracy: 0.1523 - val_loss: 2.2888 - val_accuracy: 0.1979\n",
      "Epoch 8/20\n",
      "300/300 [==============================] - 14s 46ms/step - loss: 2.5716 - accuracy: 0.1618 - val_loss: 2.2497 - val_accuracy: 0.2080\n",
      "Epoch 9/20\n",
      "300/300 [==============================] - 14s 46ms/step - loss: 2.5172 - accuracy: 0.1697 - val_loss: 2.2035 - val_accuracy: 0.2259\n",
      "Epoch 10/20\n",
      "300/300 [==============================] - 14s 46ms/step - loss: 2.4885 - accuracy: 0.1825 - val_loss: 2.1617 - val_accuracy: 0.2432\n",
      "Epoch 11/20\n",
      "300/300 [==============================] - 14s 46ms/step - loss: 2.4584 - accuracy: 0.1900 - val_loss: 2.1198 - val_accuracy: 0.2567\n",
      "Epoch 12/20\n",
      "300/300 [==============================] - 14s 46ms/step - loss: 2.3903 - accuracy: 0.2020 - val_loss: 2.0774 - val_accuracy: 0.2752\n",
      "Epoch 13/20\n",
      "300/300 [==============================] - 14s 46ms/step - loss: 2.3516 - accuracy: 0.2185 - val_loss: 2.0445 - val_accuracy: 0.2881\n",
      "Epoch 14/20\n",
      "300/300 [==============================] - 13s 45ms/step - loss: 2.3094 - accuracy: 0.2210 - val_loss: 2.0096 - val_accuracy: 0.2997\n",
      "Epoch 15/20\n",
      "300/300 [==============================] - 14s 45ms/step - loss: 2.2849 - accuracy: 0.2345 - val_loss: 1.9795 - val_accuracy: 0.3127\n",
      "Epoch 16/20\n",
      "300/300 [==============================] - 13s 45ms/step - loss: 2.2554 - accuracy: 0.2402 - val_loss: 1.9505 - val_accuracy: 0.3176\n",
      "Epoch 17/20\n",
      "300/300 [==============================] - 13s 44ms/step - loss: 2.1830 - accuracy: 0.2611 - val_loss: 1.9174 - val_accuracy: 0.3361\n",
      "Epoch 18/20\n",
      "300/300 [==============================] - 13s 45ms/step - loss: 2.1882 - accuracy: 0.2613 - val_loss: 1.8833 - val_accuracy: 0.3527\n",
      "Epoch 19/20\n",
      "300/300 [==============================] - 14s 48ms/step - loss: 2.1221 - accuracy: 0.2745 - val_loss: 1.8610 - val_accuracy: 0.3593\n",
      "Epoch 20/20\n",
      "300/300 [==============================] - 14s 46ms/step - loss: 2.1033 - accuracy: 0.2814 - val_loss: 1.8346 - val_accuracy: 0.3718\n"
     ]
    }
   ],
   "source": [
    "#for model3\n",
    "t_model4.compile(loss=losses.CategoricalCrossentropy(from_logits=True),optimizer=optimizers.SGD(lr=1e-5,momentum=0.9),metrics=['accuracy'])\n",
    "history4= t_model4.fit(x_train, y_train,  batch_size=64, steps_per_epoch=300,shuffle=True,validation_data=(x_test, y_test), epochs=20, verbose=1)\n",
    "\n"
   ]
  },
  {
   "cell_type": "code",
   "execution_count": 15,
   "metadata": {},
   "outputs": [
    {
     "name": "stdout",
     "output_type": "stream",
     "text": [
      "Epoch 1/20\n",
      "300/300 [==============================] - 20s 49ms/step - loss: 2.9144 - accuracy: 0.1092 - val_loss: 2.4629 - val_accuracy: 0.1254\n",
      "Epoch 2/20\n",
      "300/300 [==============================] - 14s 46ms/step - loss: 2.8536 - accuracy: 0.1171 - val_loss: 2.5016 - val_accuracy: 0.1301\n",
      "Epoch 3/20\n",
      "300/300 [==============================] - 14s 46ms/step - loss: 2.8085 - accuracy: 0.1222 - val_loss: 2.4619 - val_accuracy: 0.1501\n",
      "Epoch 4/20\n",
      "300/300 [==============================] - 14s 46ms/step - loss: 2.7139 - accuracy: 0.1400 - val_loss: 2.4075 - val_accuracy: 0.1616\n",
      "Epoch 5/20\n",
      "300/300 [==============================] - 14s 46ms/step - loss: 2.6906 - accuracy: 0.1350 - val_loss: 2.3544 - val_accuracy: 0.1756\n",
      "Epoch 6/20\n",
      "300/300 [==============================] - 14s 46ms/step - loss: 2.6508 - accuracy: 0.1463 - val_loss: 2.3121 - val_accuracy: 0.1942\n",
      "Epoch 7/20\n",
      "300/300 [==============================] - 14s 47ms/step - loss: 2.6066 - accuracy: 0.1572 - val_loss: 2.2716 - val_accuracy: 0.2053\n",
      "Epoch 8/20\n",
      "300/300 [==============================] - 14s 46ms/step - loss: 2.5627 - accuracy: 0.1694 - val_loss: 2.2298 - val_accuracy: 0.2197\n",
      "Epoch 9/20\n",
      "300/300 [==============================] - 14s 46ms/step - loss: 2.5156 - accuracy: 0.1820 - val_loss: 2.1950 - val_accuracy: 0.2405\n",
      "Epoch 10/20\n",
      "300/300 [==============================] - 14s 45ms/step - loss: 2.4617 - accuracy: 0.1814 - val_loss: 2.1530 - val_accuracy: 0.2546\n",
      "Epoch 11/20\n",
      "300/300 [==============================] - 14s 46ms/step - loss: 2.4229 - accuracy: 0.2007 - val_loss: 2.1170 - val_accuracy: 0.2711\n",
      "Epoch 12/20\n",
      "300/300 [==============================] - 14s 46ms/step - loss: 2.3977 - accuracy: 0.2115 - val_loss: 2.0805 - val_accuracy: 0.2898\n",
      "Epoch 13/20\n",
      "300/300 [==============================] - 14s 46ms/step - loss: 2.3515 - accuracy: 0.2175 - val_loss: 2.0498 - val_accuracy: 0.3003\n",
      "Epoch 14/20\n",
      "300/300 [==============================] - 14s 46ms/step - loss: 2.3045 - accuracy: 0.2323 - val_loss: 2.0202 - val_accuracy: 0.3140\n",
      "Epoch 15/20\n",
      "300/300 [==============================] - 14s 46ms/step - loss: 2.2700 - accuracy: 0.2386 - val_loss: 1.9858 - val_accuracy: 0.3289\n",
      "Epoch 16/20\n",
      "300/300 [==============================] - 14s 45ms/step - loss: 2.2396 - accuracy: 0.2503 - val_loss: 1.9603 - val_accuracy: 0.3386\n",
      "Epoch 17/20\n",
      "300/300 [==============================] - 14s 46ms/step - loss: 2.1977 - accuracy: 0.2597 - val_loss: 1.9300 - val_accuracy: 0.3486\n",
      "Epoch 18/20\n",
      "300/300 [==============================] - 14s 46ms/step - loss: 2.1741 - accuracy: 0.2717 - val_loss: 1.9012 - val_accuracy: 0.3608\n",
      "Epoch 19/20\n",
      "300/300 [==============================] - 14s 45ms/step - loss: 2.1585 - accuracy: 0.2696 - val_loss: 1.8767 - val_accuracy: 0.3663\n",
      "Epoch 20/20\n",
      "300/300 [==============================] - 14s 46ms/step - loss: 2.1025 - accuracy: 0.2869 - val_loss: 1.8520 - val_accuracy: 0.3801\n"
     ]
    }
   ],
   "source": [
    "#for model3\n",
    "t_model5.compile(loss=losses.CategoricalCrossentropy(from_logits=True),optimizer=optimizers.SGD(lr=1e-5,momentum=0.9),metrics=['accuracy'])\n",
    "history5 = t_model5.fit(x_train, y_train,  batch_size=64,steps_per_epoch=300, shuffle=True,validation_data=(x_test, y_test), epochs=20, verbose=1)\n"
   ]
  },
  {
   "cell_type": "code",
   "execution_count": 16,
   "metadata": {},
   "outputs": [
    {
     "name": "stdout",
     "output_type": "stream",
     "text": [
      "Epoch 1/20\n",
      "300/300 [==============================] - 20s 50ms/step - loss: 3.0174 - accuracy: 0.1053 - val_loss: 2.5786 - val_accuracy: 0.1108\n",
      "Epoch 2/20\n",
      "300/300 [==============================] - 14s 47ms/step - loss: 2.9699 - accuracy: 0.1134 - val_loss: 2.6047 - val_accuracy: 0.1258\n",
      "Epoch 3/20\n",
      "300/300 [==============================] - 14s 46ms/step - loss: 2.8714 - accuracy: 0.1230 - val_loss: 2.5473 - val_accuracy: 0.1382\n",
      "Epoch 4/20\n",
      "300/300 [==============================] - 14s 46ms/step - loss: 2.8300 - accuracy: 0.1328 - val_loss: 2.4809 - val_accuracy: 0.1559\n",
      "Epoch 5/20\n",
      "300/300 [==============================] - 14s 46ms/step - loss: 2.7574 - accuracy: 0.1389 - val_loss: 2.4283 - val_accuracy: 0.1737\n",
      "Epoch 6/20\n",
      "300/300 [==============================] - 14s 46ms/step - loss: 2.6880 - accuracy: 0.1451 - val_loss: 2.3690 - val_accuracy: 0.1852\n",
      "Epoch 7/20\n",
      "300/300 [==============================] - 14s 46ms/step - loss: 2.6226 - accuracy: 0.1594 - val_loss: 2.3084 - val_accuracy: 0.1985\n",
      "Epoch 8/20\n",
      "300/300 [==============================] - 14s 46ms/step - loss: 2.5888 - accuracy: 0.1640 - val_loss: 2.2617 - val_accuracy: 0.2150\n",
      "Epoch 9/20\n",
      "300/300 [==============================] - 14s 46ms/step - loss: 2.4927 - accuracy: 0.1880 - val_loss: 2.2082 - val_accuracy: 0.2308\n",
      "Epoch 10/20\n",
      "300/300 [==============================] - 14s 46ms/step - loss: 2.4754 - accuracy: 0.1924 - val_loss: 2.1563 - val_accuracy: 0.2459\n",
      "Epoch 11/20\n",
      "300/300 [==============================] - 14s 45ms/step - loss: 2.4168 - accuracy: 0.2060 - val_loss: 2.1143 - val_accuracy: 0.2647\n",
      "Epoch 12/20\n",
      "300/300 [==============================] - 14s 46ms/step - loss: 2.3864 - accuracy: 0.2078 - val_loss: 2.0682 - val_accuracy: 0.2787\n",
      "Epoch 13/20\n",
      "300/300 [==============================] - 14s 46ms/step - loss: 2.3224 - accuracy: 0.2266 - val_loss: 2.0336 - val_accuracy: 0.2931\n",
      "Epoch 14/20\n",
      "300/300 [==============================] - 14s 46ms/step - loss: 2.2876 - accuracy: 0.2370 - val_loss: 1.9926 - val_accuracy: 0.3020\n",
      "Epoch 15/20\n",
      "300/300 [==============================] - 14s 46ms/step - loss: 2.2504 - accuracy: 0.2471 - val_loss: 1.9564 - val_accuracy: 0.3165\n",
      "Epoch 16/20\n",
      "300/300 [==============================] - 14s 46ms/step - loss: 2.2218 - accuracy: 0.2531 - val_loss: 1.9245 - val_accuracy: 0.3292\n",
      "Epoch 17/20\n",
      "300/300 [==============================] - 14s 46ms/step - loss: 2.1796 - accuracy: 0.2677 - val_loss: 1.8948 - val_accuracy: 0.3412\n",
      "Epoch 18/20\n",
      "300/300 [==============================] - 14s 45ms/step - loss: 2.1589 - accuracy: 0.2752 - val_loss: 1.8676 - val_accuracy: 0.3473\n",
      "Epoch 19/20\n",
      "300/300 [==============================] - 14s 45ms/step - loss: 2.1007 - accuracy: 0.2900 - val_loss: 1.8431 - val_accuracy: 0.3586\n",
      "Epoch 20/20\n",
      "300/300 [==============================] - 14s 46ms/step - loss: 2.0696 - accuracy: 0.2925 - val_loss: 1.8173 - val_accuracy: 0.3691\n"
     ]
    }
   ],
   "source": [
    "#for model3\n",
    "t_model6.compile(loss=losses.CategoricalCrossentropy(from_logits=True),optimizer=optimizers.SGD(lr=1e-5,momentum=0.9),metrics=['accuracy'])\n",
    "history6 = t_model6.fit(x_train, y_train,  batch_size=64,steps_per_epoch=300, shuffle=True,validation_data=(x_test, y_test), epochs=20, verbose=1)\n"
   ]
  },
  {
   "cell_type": "code",
   "execution_count": 17,
   "metadata": {
    "scrolled": true
   },
   "outputs": [
    {
     "name": "stdout",
     "output_type": "stream",
     "text": [
      "Epoch 1/20\n",
      "300/300 [==============================] - 19s 49ms/step - loss: 2.9704 - accuracy: 0.1006 - val_loss: 2.5481 - val_accuracy: 0.1141\n",
      "Epoch 2/20\n",
      "300/300 [==============================] - 14s 46ms/step - loss: 2.8208 - accuracy: 0.1181 - val_loss: 2.4032 - val_accuracy: 0.1484\n",
      "Epoch 3/20\n",
      "300/300 [==============================] - 14s 46ms/step - loss: 2.6912 - accuracy: 0.1384 - val_loss: 2.2910 - val_accuracy: 0.1867\n",
      "Epoch 4/20\n",
      "300/300 [==============================] - 14s 45ms/step - loss: 2.5603 - accuracy: 0.1637 - val_loss: 2.2018 - val_accuracy: 0.2171\n",
      "Epoch 5/20\n",
      "300/300 [==============================] - 14s 46ms/step - loss: 2.4558 - accuracy: 0.1809 - val_loss: 2.1304 - val_accuracy: 0.2410\n",
      "Epoch 6/20\n",
      "300/300 [==============================] - 14s 46ms/step - loss: 2.3961 - accuracy: 0.1982 - val_loss: 2.0695 - val_accuracy: 0.2646\n",
      "Epoch 7/20\n",
      "300/300 [==============================] - 14s 46ms/step - loss: 2.3324 - accuracy: 0.2097 - val_loss: 2.0131 - val_accuracy: 0.2930\n",
      "Epoch 8/20\n",
      "300/300 [==============================] - 14s 46ms/step - loss: 2.2670 - accuracy: 0.2321 - val_loss: 1.9625 - val_accuracy: 0.3122\n",
      "Epoch 9/20\n",
      "300/300 [==============================] - 14s 46ms/step - loss: 2.2062 - accuracy: 0.2517 - val_loss: 1.9263 - val_accuracy: 0.3280\n",
      "Epoch 10/20\n",
      "300/300 [==============================] - 14s 46ms/step - loss: 2.1717 - accuracy: 0.2551 - val_loss: 1.8909 - val_accuracy: 0.3466\n",
      "Epoch 11/20\n",
      "300/300 [==============================] - 14s 45ms/step - loss: 2.1219 - accuracy: 0.2685 - val_loss: 1.8555 - val_accuracy: 0.3591\n",
      "Epoch 12/20\n",
      "300/300 [==============================] - 14s 46ms/step - loss: 2.0678 - accuracy: 0.2866 - val_loss: 1.8267 - val_accuracy: 0.3737\n",
      "Epoch 13/20\n",
      "300/300 [==============================] - 14s 46ms/step - loss: 2.0313 - accuracy: 0.2936 - val_loss: 1.8019 - val_accuracy: 0.3842\n",
      "Epoch 14/20\n",
      "300/300 [==============================] - 13s 45ms/step - loss: 1.9914 - accuracy: 0.3065 - val_loss: 1.7805 - val_accuracy: 0.3950\n",
      "Epoch 15/20\n",
      "300/300 [==============================] - 14s 46ms/step - loss: 1.9904 - accuracy: 0.3057 - val_loss: 1.7569 - val_accuracy: 0.4068\n",
      "Epoch 16/20\n",
      "300/300 [==============================] - 14s 46ms/step - loss: 1.9559 - accuracy: 0.3262 - val_loss: 1.7386 - val_accuracy: 0.4157\n",
      "Epoch 17/20\n",
      "300/300 [==============================] - 14s 46ms/step - loss: 1.9171 - accuracy: 0.3314 - val_loss: 1.7190 - val_accuracy: 0.4203\n",
      "Epoch 18/20\n",
      "300/300 [==============================] - 14s 45ms/step - loss: 1.9031 - accuracy: 0.3474 - val_loss: 1.7005 - val_accuracy: 0.4286\n",
      "Epoch 19/20\n",
      "300/300 [==============================] - 14s 45ms/step - loss: 1.8737 - accuracy: 0.3561 - val_loss: 1.6807 - val_accuracy: 0.4347\n",
      "Epoch 20/20\n",
      "300/300 [==============================] - 14s 46ms/step - loss: 1.8354 - accuracy: 0.3602 - val_loss: 1.6635 - val_accuracy: 0.4465\n"
     ]
    }
   ],
   "source": [
    "#for model3\n",
    "t_model7.compile(loss=losses.CategoricalCrossentropy(from_logits=True),optimizer=optimizers.SGD(lr=1e-5,momentum=0.9),metrics=['accuracy'])\n",
    "history7 = t_model7.fit(x_train, y_train,  batch_size=64,steps_per_epoch=300, shuffle=True,validation_data=(x_test, y_test), epochs=20, verbose=1)\n"
   ]
  },
  {
   "cell_type": "code",
   "execution_count": 23,
   "metadata": {},
   "outputs": [
    {
     "name": "stderr",
     "output_type": "stream",
     "text": [
      "The PostScript backend does not support transparency; partially transparent artists will be rendered opaque.\n",
      "The PostScript backend does not support transparency; partially transparent artists will be rendered opaque.\n"
     ]
    },
    {
     "data": {
      "image/png": "[encoded data removed]",
      "text/plain": [
       "<Figure size 432x288 with 1 Axes>"
      ]
     },
     "metadata": {
      "needs_background": "light"
     },
     "output_type": "display_data"
    }
   ],
   "source": [
    "fig1 = plt.figure()\n",
    "plt.plot(history.history['val_accuracy'])\n",
    "#plt.plot(history.history['val_loss'])\n",
    "plt.plot(history2.history['val_accuracy'])\n",
    "#plt.plot(history2.history['val_loss'])\n",
    "plt.plot(history3.history['val_accuracy'])\n",
    "#plt.plot(history3.history['val_loss'])\n",
    "plt.plot(history4.history['val_accuracy'])\n",
    "#plt.plot(history4.history['val_loss'])\n",
    "plt.plot(history5.history['val_accuracy'])\n",
    "#plt.plot(history5.history['val_loss'])\n",
    "plt.plot(history6.history['val_accuracy'])\n",
    "#plt.plot(history6.history['val_loss'])\n",
    "plt.plot(history7.history['val_accuracy'])\n",
    "plt.ylabel('Accuracy')\n",
    "plt.xlabel('Epoch')\n",
    "#plt.legend(['PCS','NCS','PNCS','1st_Layer','2nd_Layer','3rd_Layer','Feature_Extraction'], loc='lower right')\n",
    "plt.legend(['PCS','NCS','PNCS','1st_Layer','2nd_Layer','3rd_Layer','Feature_Extraction'], loc=\"center right\", bbox_to_anchor=(1.6, 0.5))\n",
    "fig1.savefig('all_similarity_cifar10_resnet50.eps', dpi=1200, format=\"eps\", bbox_inches=\"tight\")\n",
    "plt.show()"
   ]
  },
  {
   "cell_type": "code",
   "execution_count": 19,
   "metadata": {},
   "outputs": [
    {
     "name": "stderr",
     "output_type": "stream",
     "text": [
      "The PostScript backend does not support transparency; partially transparent artists will be rendered opaque.\n",
      "The PostScript backend does not support transparency; partially transparent artists will be rendered opaque.\n"
     ]
    },
    {
     "data": {
      "image/png": "[encoded data removed]",
      "text/plain": [
       "<Figure size 432x288 with 1 Axes>"
      ]
     },
     "metadata": {
      "needs_background": "light"
     },
     "output_type": "display_data"
    }
   ],
   "source": [
    "fig3 = plt.figure()\n",
    "plt.plot(history.history['loss'])\n",
    "#plt.plot(history.history['val_loss'])\n",
    "plt.plot(history.history['val_loss'])\n",
    "#plt.plot(history2.history['val_loss'])\n",
    "plt.plot(history2.history['loss'])\n",
    "#plt.plot(history3.history['val_loss'])\n",
    "plt.plot(history2.history['val_loss'])\n",
    "#plt.plot(history4.history['val_loss'])\n",
    "plt.plot(history3.history['loss'])\n",
    "#plt.plot(history5.history['val_loss'])\n",
    "plt.plot(history3.history['val_loss'])\n",
    "plt.ylabel('Loss')\n",
    "plt.xlabel('Epoch')\n",
    "#plt.legend(['PCS_Loss','PCS_Val_Loss','NCS_Loss','NCS_Val_Loss','PNCS_Loss','PNCS_Val_Loss'], loc='upper right')\n",
    "plt.legend(['PCS_Loss','PCS_Val_Loss','NCS_Loss','NCS_Val_Loss','PNCS_Loss','PNCS_Val_Loss'], loc=\"center right\", bbox_to_anchor=(1.6, 0.5))\n",
    "fig3.savefig('3plots_Loss_cifar10_resnet50.eps', dpi=1200, format=\"eps\", bbox_inches=\"tight\")\n",
    "plt.show()"
   ]
  },
  {
   "cell_type": "code",
   "execution_count": 20,
   "metadata": {},
   "outputs": [
    {
     "name": "stderr",
     "output_type": "stream",
     "text": [
      "The PostScript backend does not support transparency; partially transparent artists will be rendered opaque.\n",
      "The PostScript backend does not support transparency; partially transparent artists will be rendered opaque.\n"
     ]
    },
    {
     "data": {
      "image/png": "[encoded data removed]",
      "text/plain": [
       "<Figure size 432x288 with 1 Axes>"
      ]
     },
     "metadata": {
      "needs_background": "light"
     },
     "output_type": "display_data"
    }
   ],
   "source": [
    "fig2 = plt.figure()\n",
    "plt.plot(history.history['accuracy'])\n",
    "#plt.plot(history.history['val_loss'])\n",
    "plt.plot(history.history['val_accuracy'])\n",
    "#plt.plot(history2.history['val_loss'])\n",
    "plt.plot(history2.history['accuracy'])\n",
    "#plt.plot(history3.history['val_loss'])\n",
    "plt.plot(history2.history['val_accuracy'])\n",
    "#plt.plot(history4.history['val_loss'])\n",
    "plt.plot(history3.history['accuracy'])\n",
    "#plt.plot(history5.history['val_loss'])\n",
    "plt.plot(history3.history['val_accuracy'])\n",
    "plt.ylabel('Accuracy')\n",
    "plt.xlabel('Epoch')\n",
    "plt.legend(['PCS_Train','PCS_Val','NCS_Train','NCS_Val','PNCS_Train','PNCS_Val'], loc='upper left')\n",
    "#plt.legend(['high_cos_train', 'high_cos_val','low_cos_train','low_cos_val'], loc=\"center right\", bbox_to_anchor=(1.6, 0.5))\n",
    "fig2.savefig('3plots_cifar10_resnet50.eps', dpi=1200, format=\"eps\", bbox_inches=\"tight\")\n",
    "plt.show()"
   ]
  },
  {
   "cell_type": "code",
   "execution_count": null,
   "metadata": {},
   "outputs": [],
   "source": []
  }
 ],
 "metadata": {
  "kernelspec": {
   "display_name": "Python 3",
   "language": "python",
   "name": "python3"
  },
  "language_info": {
   "codemirror_mode": {
    "name": "ipython",
    "version": 3
   },
   "file_extension": ".py",
   "mimetype": "text/x-python",
   "name": "python",
   "nbconvert_exporter": "python",
   "pygments_lexer": "ipython3",
   "version": "3.6.9"
  }
 },
 "nbformat": 4,
 "nbformat_minor": 2
}
