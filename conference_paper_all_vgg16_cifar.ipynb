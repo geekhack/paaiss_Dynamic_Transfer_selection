{
 "cells": [
  {
   "cell_type": "code",
   "execution_count": 1,
   "metadata": {
    "gradient": {}
   },
   "outputs": [
    {
     "name": "stdout",
     "output_type": "stream",
     "text": [
      "Requirement already satisfied: pandas in /usr/local/lib/python3.6/dist-packages (1.1.5)\n",
      "Requirement already satisfied: pytz>=2017.2 in /usr/local/lib/python3.6/dist-packages (from pandas) (2021.1)\n",
      "Requirement already satisfied: python-dateutil>=2.7.3 in /usr/local/lib/python3.6/dist-packages (from pandas) (2.8.1)\n",
      "Requirement already satisfied: numpy>=1.15.4 in /usr/local/lib/python3.6/dist-packages (from pandas) (1.19.5)\n",
      "Requirement already satisfied: six>=1.5 in /usr/local/lib/python3.6/dist-packages (from python-dateutil>=2.7.3->pandas) (1.15.0)\n",
      "\u001b[33mWARNING: You are using pip version 20.2.4; however, version 21.3.1 is available.\n",
      "You should consider upgrading via the '/usr/bin/python3 -m pip install --upgrade pip' command.\u001b[0m\n",
      "Note: you may need to restart the kernel to use updated packages.\n"
     ]
    }
   ],
   "source": [
    "pip install pandas"
   ]
  },
  {
   "cell_type": "code",
   "execution_count": 2,
   "metadata": {
    "gradient": {}
   },
   "outputs": [
    {
     "name": "stdout",
     "output_type": "stream",
     "text": [
      "Requirement already satisfied: SciPy in /usr/local/lib/python3.6/dist-packages (1.5.4)\n",
      "Requirement already satisfied: numpy>=1.14.5 in /usr/local/lib/python3.6/dist-packages (from SciPy) (1.19.5)\n",
      "\u001b[33mWARNING: You are using pip version 20.2.4; however, version 21.3.1 is available.\n",
      "You should consider upgrading via the '/usr/bin/python3 -m pip install --upgrade pip' command.\u001b[0m\n",
      "Note: you may need to restart the kernel to use updated packages.\n"
     ]
    }
   ],
   "source": [
    "pip install SciPy"
   ]
  },
  {
   "cell_type": "code",
   "execution_count": 3,
   "metadata": {
    "gradient": {}
   },
   "outputs": [],
   "source": [
    "import tensorflow\n",
    "import statistics as stats\n",
    "from collections import defaultdict\n",
    "import pandas as pd\n",
    "import numpy as np\n",
    "from tensorflow import keras\n",
    "from tensorflow.keras.applications.resnet50 import ResNet50 as resnet50\n",
    "from tensorflow.keras.applications.inception_v3 import InceptionV3 as inception\n",
    "from tensorflow.keras.applications.vgg16 import VGG16 as vgg16\n",
    "from tensorflow.keras.applications.densenet import DenseNet169 as densenet\n",
    "from tensorflow.keras.preprocessing.image import ImageDataGenerator\n",
    "from tensorflow.keras import layers, losses, optimizers\n",
    "from tensorflow.keras.layers import Dense,Dropout,GlobalAveragePooling2D,Flatten\n",
    "from tensorflow.python.keras.models import Sequential\n",
    "from tensorflow.keras.preprocessing.image import load_img, img_to_array\n",
    "import matplotlib\n",
    "import matplotlib.pyplot as plt\n",
    "from tensorflow.keras.models import Model                                                         "
   ]
  },
  {
   "cell_type": "code",
   "execution_count": 5,
   "metadata": {},
   "outputs": [
    {
     "name": "stdout",
     "output_type": "stream",
     "text": [
      "Downloading data from https://www.cs.toronto.edu/~kriz/cifar-100-python.tar.gz\n",
      "169009152/169001437 [==============================] - 9s 0us/step\n"
     ]
    }
   ],
   "source": [
    "(x_train, y_train), (x_test, y_test)=tensorflow.keras.datasets.cifar100.load_data()\n",
    "#similar to mnist\n",
    "#(x_train, y_train), (x_test, y_test)=tensorflow.keras.datasets.fashion_mnist.load_data()"
   ]
  },
  {
   "cell_type": "code",
   "execution_count": 6,
   "metadata": {},
   "outputs": [],
   "source": [
    "#cifar10\n",
    "#y_train = y_train.flatten()\n",
    "#y_test = y_test.flatten()\n",
    "\n",
    "#y_train = tensorflow.one_hot(y_train.astype(np.int32), depth=10)\n",
    "#y_test = tensorflow.one_hot(y_test.astype(np.int32), depth=10)\n",
    "#cifar100\n",
    "y_train = y_train.flatten()\n",
    "y_test = y_test.flatten()\n",
    "\n",
    "x_val = x_train[-2000:,:,:]\n",
    "y_val = y_train[-2000:]\n",
    "x_train = x_train[:-2000,:,:]\n",
    "y_train = y_train[:-2000]\n",
    "\n",
    "y_train = tensorflow.one_hot(y_train.astype(np.int32), depth=100)\n",
    "y_test = tensorflow.one_hot(y_test.astype(np.int32), depth=100)"
   ]
  },
  {
   "cell_type": "code",
   "execution_count": 7,
   "metadata": {},
   "outputs": [],
   "source": [
    "model_name = vgg16\n",
    "input_t =(32,32, 3)\n",
    "model = model_name(include_top=False,\n",
    "                   weights=\"imagenet\",\n",
    "                   input_shape=input_t)\n",
    "\n",
    "model2 = model_name(include_top=False,\n",
    "                   weights=\"imagenet\",\n",
    "                   input_shape=input_t)\n",
    "\n",
    "model3 = model_name(include_top=False,\n",
    "                   weights=\"imagenet\",\n",
    "                   input_shape=input_t)\n",
    "model_tune1 = model_name(include_top=False,\n",
    "                   weights=\"imagenet\",\n",
    "                   input_shape=input_t)\n",
    "model_tune2 = model_name(include_top=False,\n",
    "                   weights=\"imagenet\",\n",
    "                   input_shape=input_t)\n",
    "model_tune3 = model_name(include_top=False,\n",
    "                   weights=\"imagenet\",\n",
    "                   input_shape=input_t)\n",
    "model_tune4 = model_name(include_top=False,\n",
    "                   weights=\"imagenet\",\n",
    "                   input_shape=input_t)"
   ]
  },
  {
   "cell_type": "code",
   "execution_count": 8,
   "metadata": {},
   "outputs": [],
   "source": [
    "# get the layer index\n",
    "def getLayerIndex(model_i, layer_name):\n",
    "    for pos, layer_g in enumerate(model_i.layers):\n",
    "        if layer_g.name == layer_name:\n",
    "            return pos\n"
   ]
  },
  {
   "cell_type": "code",
   "execution_count": 9,
   "metadata": {},
   "outputs": [
    {
     "name": "stderr",
     "output_type": "stream",
     "text": [
      "/usr/local/lib/python3.6/dist-packages/ipykernel_launcher.py:6: VisibleDeprecationWarning: Creating an ndarray from ragged nested sequences (which is a list-or-tuple of lists-or-tuples-or ndarrays with different lengths or shapes) is deprecated. If you meant to do this, you must specify 'dtype=object' when creating the ndarray\n",
      "  \n",
      "/usr/local/lib/python3.6/dist-packages/ipykernel_launcher.py:7: VisibleDeprecationWarning: Creating an ndarray from ragged nested sequences (which is a list-or-tuple of lists-or-tuples-or ndarrays with different lengths or shapes) is deprecated. If you meant to do this, you must specify 'dtype=object' when creating the ndarray\n",
      "  import sys\n"
     ]
    }
   ],
   "source": [
    "# get the convolved layers into an array for looping\n",
    "convolved_layers = []\n",
    "\n",
    "for layer in model.layers:\n",
    "\n",
    "    t = np.array(layer.get_weights()).ndim\n",
    "    array = np.array(layer.get_weights())\n",
    "    if (model_name != resnet50) or (model_name != vgg16):\n",
    "        if (len(array) > 0) and (t > 2):\n",
    "            index = getLayerIndex(model, layer.name)\n",
    "            # append the convolved layer\n",
    "            convolved_layers.append(index)\n",
    "            # print(str(len(array)) + \"for:\" + layer.name + \"at index:\" + str(index))\n",
    "    if (model_name == resnet50) or (model_name == vgg16):\n",
    "        if len(array) > 0 and (t != 2):\n",
    "            index = getLayerIndex(model, layer.name)\n",
    "            # append the convolved layer\n",
    "            convolved_layers.append(index)\n",
    "            # print(str(len(array)) + \"for:\" + layer.name + \"at index:\" + str(index))\n",
    "\n",
    "# get the total number of weights in the array\n",
    "total_layer_weights = 0\n",
    "sum_positives = 0\n",
    "sum_negatives = 0\n",
    "\n",
    "# create a dictionary with layer index and positive values identified\n",
    "layer_positives_dict = defaultdict(list)\n",
    "\n",
    "# create a dictionary for storing the layers and their +ve values probabilities\n",
    "layer_probs_dict = defaultdict(list)"
   ]
  },
  {
   "cell_type": "code",
   "execution_count": 10,
   "metadata": {
    "gradient": {}
   },
   "outputs": [],
   "source": [
    "# list the convolved layers\n",
    "for c_layer in range(len(convolved_layers)):\n",
    "    # create array for array matrices,feature values and convolved values for each layer\n",
    "    layer_array_matrices = []\n",
    "    layer_feature_sums = []\n",
    "    layer_convolved_values_sum = []\n",
    "\n",
    "    # get the arrays matrices(batches) pixel\n",
    "    for i in range(len(model.layers[convolved_layers[c_layer]].get_weights()[0])):\n",
    "        # get the values for each feature\n",
    "        ######print(\"channels(image):\"+str(len(model.layers[convolved_layers[c_layer]].get_weights()[0][i])))\n",
    "        for x in range(len(model.layers[convolved_layers[c_layer]].get_weights()[0][i])):\n",
    "            # return all the values in the convolutional feature\n",
    "            total_array = np.array(model.layers[convolved_layers[c_layer]].get_weights()[0][i][x])\n",
    "            # return all the negative values in the convolutional feature\n",
    "            x2 = np.array(model.layers[convolved_layers[c_layer]].get_weights()[0][i][x]) < 0\n",
    "            for c in range(len(x2)):\n",
    "                ###print(\"all the trues in depth: \" + str(c + 1) + \" are for feature: \" + str(x + 1))\n",
    "                sum_negatives += sum(x2[c])\n",
    "                # print(sum(x2[c]))\n",
    "            # return all the values\n",
    "            for y in range(len(total_array)):\n",
    "                total_layer_weights += len(total_array[y])\n",
    "\n",
    "            x1 = np.array(model.layers[convolved_layers[c_layer]].get_weights()[0][i][x]) > 0\n",
    "            # get the values for each channel\n",
    "            for a in range(len(x1)):\n",
    "                value_pix = sum(x1[a])\n",
    "                # get the positive values\n",
    "                sum_positives += value_pix\n",
    "\n",
    "                ######print(value_pix)\n",
    "    list_sums = []\n",
    "    list_sums.append((str(convolved_layers[c_layer]), sum_positives))\n",
    "    layer_positives_dict.update(list_sums)\n",
    "\n",
    "    # print the probabilities for each layer\n",
    "    layer_pos_prob = sum_positives / total_layer_weights\n",
    "\n",
    "    # create +ves values array\n",
    "    positives_array = []\n",
    "    for key, val in layer_positives_dict.items():\n",
    "        # print(key, \"corresponds to:\",val,\" positive values\")\n",
    "        positives_array.append(val)\n",
    "       \n",
    "    list_layer_probs = []\n",
    "    list_layer_probs.append((str(convolved_layers[c_layer]), layer_pos_prob))\n",
    "    layer_probs_dict.update(list_layer_probs)"
   ]
  },
  {
   "cell_type": "code",
   "execution_count": 11,
   "metadata": {},
   "outputs": [],
   "source": [
    "median_layer = stats.median(convolved_layers)\n",
    "\n",
    "# create dictionary for storing selected median layers\n",
    "second_layer_probs_dict = defaultdict(list)\n",
    "# store the new list of layers to be matched with the mean probability\n",
    "second_half_layers = []\n",
    "\n",
    "# store all probabilities for the selected upper half layers\n",
    "second_half_probs = []\n",
    "# loop through the layers and print those layers above the median\n",
    "for lyr, val in layer_probs_dict.items():\n",
    "    # print(lyr, \"Layer prob:\", val)\n",
    "    if int(lyr) > median_layer:\n",
    "        # store the probabilities of the upper half selected convolved layers\n",
    "        #print(lyr, \"Layer prob:\", val)\n",
    "        # update the sum of selected layers probabilities\n",
    "        second_half_probs.append(val)\n",
    "        second_half_layers.append((lyr, val))\n",
    "        second_layer_probs_dict.update(second_half_layers)\n",
    "\n",
    "# get the mean of the layers\n",
    "selected_layers_mean = stats.mean(second_half_probs)\n",
    "final_selected_layers = []\n",
    "# now get the final layers list whose value exceed the mean\n",
    "for s_lyr, v in second_layer_probs_dict.items():\n",
    "    # get the probabilities that are lower than the mean probability\n",
    "    if v < selected_layers_mean:\n",
    "        # store the probabilities of the upper half selected convolved layers\n",
    "        final_selected_layers.append(s_lyr)"
   ]
  },
  {
   "cell_type": "code",
   "execution_count": 12,
   "metadata": {
    "gradient": {}
   },
   "outputs": [
    {
     "name": "stdout",
     "output_type": "stream",
     "text": [
      "block1_conv1 True\n",
      "block4_conv2 True\n",
      "block5_conv1 True\n",
      "block5_conv2 True\n",
      "block5_pool True\n",
      "block5_pool True\n",
      "block5_pool True\n",
      "block5_pool True\n",
      "block5_pool True\n",
      "block5_pool True\n",
      "block5_pool True\n",
      "block5_pool True\n",
      "block5_pool True\n",
      "block5_pool True\n"
     ]
    }
   ],
   "source": [
    "\n",
    "# for positive cosines similarities\n",
    "pcs_h_layers =[1,12,15,16]\n",
    "pcs_l_layers =[4,5,7,9] #lower cosine\n",
    "for sb_layer in model.layers:\n",
    "    # sb_layer.trainable = False\n",
    "    index = getLayerIndex(model, sb_layer.name)\n",
    "    #for b in final_selected_layers:\n",
    "    for b in pcs_h_layers:\n",
    "        if b == index:\n",
    "            sb_layer.trainable = True\n",
    "            #print(str(sb_layer.name) + \" and index is\" + str(b))\n",
    "            print(sb_layer.name,sb_layer.trainable)\n",
    "\n",
    "#for negative cosine similarities\n",
    "# for model 2\n",
    "# for positive cosines similarities\n",
    "ncs_h_layers =[1,12,13,15,16]\n",
    "ncs_l_layers =[4,5,7,8]\n",
    "for sbs_layer in model2.layers:\n",
    "    # sb_layer.trainable = False\n",
    "    index = getLayerIndex(model2, sbs_layer.name)\n",
    "    #for b in final_selected_layers:\n",
    "    for b in ncs_h_layers:\n",
    "        if b == index:\n",
    "            sb_layer.trainable = True\n",
    "            #print(str(sb_layer.name) + \" and index is\" + str(b))\n",
    "            print(sb_layer.name,sb_layer.trainable)\n",
    "\n",
    "#for positive negative cosine similarities\n",
    "# for model 3\n",
    "pncs_h_layers =[1,4,5,12,13] #high cosine,,\n",
    "pncs_l_layers =[7,9,15,16] #lower cosine\n",
    "for sbs_layer in model3.layers:\n",
    "    # sb_layer.trainable = False\n",
    "    index = getLayerIndex(model3, sbs_layer.name)\n",
    "    #for b in final_selected_layers:\n",
    "    for b in pncs_h_layers:\n",
    "        if b == index:\n",
    "            sb_layer.trainable = True\n",
    "            #print(str(sb_layer.name) + \" and index is\" + str(b))\n",
    "            print(sb_layer.name,sb_layer.trainable)\n",
    "\n",
    "\n",
    "#finetune by removeing the last layer\n",
    "for lst_layer in model_tune1.layers[:-2]:\n",
    "    lst_layer.trainable = False\n",
    "    \n",
    "####end of the last layer\n",
    "#finetune by removeing the 2nd last layer\n",
    "for scnd_st_layer in model_tune2.layers[:-3]:\n",
    "    scnd_st_layer.trainable = False\n",
    "    \n",
    "####end of the last layer\n",
    "#finetune by removeing the 3rd last layer\n",
    "for thrd_layer in model_tune3.layers[:-4]:\n",
    "    thrd_layer.trainable = False\n",
    "    \n",
    "\n",
    "    \n",
    "####end of the last layer\n",
    "#for feature extraction\n",
    "for ftr_layer in model_tune4.layers:\n",
    "    ftr_layer.trainable = False\n",
    "\n",
    "# try the transfer learning model\n",
    "to_res = (224, 224)\n"
   ]
  },
  {
   "cell_type": "code",
   "execution_count": 13,
   "metadata": {},
   "outputs": [],
   "source": [
    "\n",
    "t_model = Sequential()\n",
    "t_model.add(model)\n",
    "t_model.add(Flatten())\n",
    "t_model.add(layers.BatchNormalization())\n",
    "t_model.add(layers.Dense(64, activation='relu'))\n",
    "t_model.add(layers.Dropout(0.5))\n",
    "t_model.add(layers.BatchNormalization())\n",
    "t_model.add(layers.Dense(100, activation='softmax'))\n",
    "\n",
    "\n",
    "#for model 2\n",
    "t_model2 = Sequential()\n",
    "t_model2.add(model2)\n",
    "t_model2.add(Flatten())\n",
    "t_model2.add(layers.BatchNormalization())\n",
    "t_model2.add(layers.Dense(64, activation='relu'))\n",
    "t_model2.add(layers.Dropout(0.5))\n",
    "t_model2.add(layers.BatchNormalization())\n",
    "t_model2.add(layers.Dense(100, activation='softmax'))\n",
    "\n",
    "\n",
    "#for model 2\n",
    "t_model3 = Sequential()\n",
    "t_model3.add(model3)\n",
    "t_model3.add(Flatten())\n",
    "t_model3.add(layers.BatchNormalization())\n",
    "t_model3.add(layers.Dense(64, activation='relu'))\n",
    "t_model3.add(layers.Dropout(0.5))\n",
    "t_model3.add(layers.BatchNormalization())\n",
    "t_model3.add(layers.Dense(100, activation='softmax'))\n",
    "\n",
    "\n",
    "#for model 2\n",
    "t_model4 = Sequential()\n",
    "t_model4.add(model_tune1)\n",
    "t_model4.add(Flatten())\n",
    "t_model4.add(layers.BatchNormalization())\n",
    "t_model4.add(layers.Dense(64, activation='relu'))\n",
    "t_model4.add(layers.Dropout(0.5))\n",
    "t_model4.add(layers.BatchNormalization())\n",
    "t_model4.add(layers.Dense(100, activation='softmax'))\n",
    "\n",
    "#for model 2\n",
    "t_model5 = Sequential()\n",
    "t_model5.add(model_tune2)\n",
    "t_model5.add(Flatten())\n",
    "t_model5.add(layers.BatchNormalization())\n",
    "t_model5.add(layers.Dense(64, activation='relu'))\n",
    "t_model5.add(layers.Dropout(0.5))\n",
    "t_model5.add(layers.BatchNormalization())\n",
    "t_model5.add(layers.Dense(100, activation='softmax'))\n",
    "\n",
    "#for model 2\n",
    "t_model6 = Sequential()\n",
    "t_model6.add(model_tune3)\n",
    "t_model6.add(Flatten())\n",
    "t_model6.add(layers.BatchNormalization())\n",
    "t_model6.add(layers.Dense(64, activation='relu'))\n",
    "t_model6.add(layers.Dropout(0.5))\n",
    "t_model6.add(layers.BatchNormalization())\n",
    "t_model6.add(layers.Dense(100, activation='softmax'))\n",
    "\n",
    "\n",
    "#for model 2\n",
    "t_model7 = Sequential()\n",
    "t_model7.add(model_tune3)\n",
    "t_model7.add(Flatten())\n",
    "t_model7.add(layers.BatchNormalization())\n",
    "t_model7.add(layers.Dense(64, activation='relu'))\n",
    "t_model7.add(layers.Dropout(0.5))\n",
    "t_model7.add(layers.BatchNormalization())\n",
    "t_model7.add(layers.Dense(100, activation='softmax'))"
   ]
  },
  {
   "cell_type": "code",
   "execution_count": 14,
   "metadata": {},
   "outputs": [
    {
     "name": "stdout",
     "output_type": "stream",
     "text": [
      "Epoch 1/20\n",
      "750/750 [==============================] - 35s 36ms/step - loss: 4.9458 - accuracy: 0.0110 - val_loss: 4.6445 - val_accuracy: 0.0199\n",
      "Epoch 2/20\n",
      "750/750 [==============================] - 27s 36ms/step - loss: 4.8328 - accuracy: 0.0162 - val_loss: 4.8215 - val_accuracy: 0.0288\n",
      "Epoch 3/20\n",
      "750/750 [==============================] - 27s 35ms/step - loss: 4.7127 - accuracy: 0.0229 - val_loss: 4.6013 - val_accuracy: 0.0543\n",
      "Epoch 4/20\n",
      "750/750 [==============================] - 27s 35ms/step - loss: 4.5800 - accuracy: 0.0324 - val_loss: 4.3996 - val_accuracy: 0.0726\n",
      "Epoch 5/20\n",
      "750/750 [==============================] - 27s 35ms/step - loss: 4.4839 - accuracy: 0.0393 - val_loss: 4.2234 - val_accuracy: 0.1024\n",
      "Epoch 6/20\n",
      "750/750 [==============================] - 27s 36ms/step - loss: 4.3974 - accuracy: 0.0520 - val_loss: 4.1489 - val_accuracy: 0.1148\n",
      "Epoch 7/20\n",
      "750/750 [==============================] - 27s 37ms/step - loss: 4.3253 - accuracy: 0.0617 - val_loss: 4.1414 - val_accuracy: 0.1326\n",
      "Epoch 8/20\n",
      "750/750 [==============================] - 27s 36ms/step - loss: 4.2667 - accuracy: 0.0705 - val_loss: 4.0294 - val_accuracy: 0.1504\n",
      "Epoch 9/20\n",
      "750/750 [==============================] - 27s 36ms/step - loss: 4.2153 - accuracy: 0.0783 - val_loss: 3.9861 - val_accuracy: 0.1603\n",
      "Epoch 10/20\n",
      "750/750 [==============================] - 27s 36ms/step - loss: 4.1695 - accuracy: 0.0896 - val_loss: 3.9587 - val_accuracy: 0.1734\n",
      "Epoch 11/20\n",
      "750/750 [==============================] - 27s 36ms/step - loss: 4.1393 - accuracy: 0.0962 - val_loss: 3.9323 - val_accuracy: 0.1795\n",
      "Epoch 12/20\n",
      "750/750 [==============================] - 27s 36ms/step - loss: 4.1137 - accuracy: 0.0998 - val_loss: 3.9001 - val_accuracy: 0.1922\n",
      "Epoch 13/20\n",
      "750/750 [==============================] - 27s 37ms/step - loss: 4.0769 - accuracy: 0.1065 - val_loss: 3.8718 - val_accuracy: 0.1991\n",
      "Epoch 14/20\n",
      "750/750 [==============================] - 27s 36ms/step - loss: 4.0365 - accuracy: 0.1170 - val_loss: 3.8830 - val_accuracy: 0.2116\n",
      "Epoch 15/20\n",
      "750/750 [==============================] - 27s 36ms/step - loss: 4.0135 - accuracy: 0.1248 - val_loss: 3.8056 - val_accuracy: 0.2217\n",
      "Epoch 16/20\n",
      "750/750 [==============================] - 27s 37ms/step - loss: 3.9877 - accuracy: 0.1268 - val_loss: 3.7662 - val_accuracy: 0.2245\n",
      "Epoch 17/20\n",
      "750/750 [==============================] - 27s 36ms/step - loss: 3.9516 - accuracy: 0.1345 - val_loss: 3.7471 - val_accuracy: 0.2384\n",
      "Epoch 18/20\n",
      "750/750 [==============================] - 27s 36ms/step - loss: 3.9474 - accuracy: 0.1373 - val_loss: 3.7380 - val_accuracy: 0.2422\n",
      "Epoch 19/20\n",
      "750/750 [==============================] - 27s 36ms/step - loss: 3.9030 - accuracy: 0.1447 - val_loss: 3.6955 - val_accuracy: 0.2547\n",
      "Epoch 20/20\n",
      "750/750 [==============================] - 27s 37ms/step - loss: 3.8878 - accuracy: 0.1529 - val_loss: 3.6898 - val_accuracy: 0.2555\n"
     ]
    }
   ],
   "source": [
    "#positive cosine similarity\n",
    "t_model.compile(loss=losses.CategoricalCrossentropy(from_logits=True),optimizer=optimizers.SGD(lr=1e-5,momentum=0.9),metrics=['accuracy'])\n",
    "history = t_model.fit(x_train, y_train, batch_size=64, shuffle=True,validation_data=(x_test, y_test), epochs=20, verbose=1)\n"
   ]
  },
  {
   "cell_type": "code",
   "execution_count": 15,
   "metadata": {},
   "outputs": [
    {
     "name": "stdout",
     "output_type": "stream",
     "text": [
      "Epoch 1/20\n",
      "750/750 [==============================] - 29s 37ms/step - loss: 4.9456 - accuracy: 0.0108 - val_loss: 4.6242 - val_accuracy: 0.0222\n",
      "Epoch 2/20\n",
      "750/750 [==============================] - 27s 36ms/step - loss: 4.8115 - accuracy: 0.0168 - val_loss: 4.5428 - val_accuracy: 0.0320\n",
      "Epoch 3/20\n",
      "750/750 [==============================] - 27s 36ms/step - loss: 4.7041 - accuracy: 0.0232 - val_loss: 4.3843 - val_accuracy: 0.0587\n",
      "Epoch 4/20\n",
      "750/750 [==============================] - 27s 36ms/step - loss: 4.5779 - accuracy: 0.0339 - val_loss: 4.2938 - val_accuracy: 0.0739\n",
      "Epoch 5/20\n",
      "750/750 [==============================] - 27s 36ms/step - loss: 4.4699 - accuracy: 0.0454 - val_loss: 4.1845 - val_accuracy: 0.1052\n",
      "Epoch 6/20\n",
      "750/750 [==============================] - 27s 36ms/step - loss: 4.3917 - accuracy: 0.0549 - val_loss: 4.1174 - val_accuracy: 0.1239\n",
      "Epoch 7/20\n",
      "750/750 [==============================] - 27s 37ms/step - loss: 4.3221 - accuracy: 0.0662 - val_loss: 4.0703 - val_accuracy: 0.1406\n",
      "Epoch 8/20\n",
      "750/750 [==============================] - 27s 37ms/step - loss: 4.2718 - accuracy: 0.0727 - val_loss: 4.0045 - val_accuracy: 0.1602\n",
      "Epoch 9/20\n",
      "750/750 [==============================] - 27s 36ms/step - loss: 4.2305 - accuracy: 0.0791 - val_loss: 3.9577 - val_accuracy: 0.1722\n",
      "Epoch 10/20\n",
      "750/750 [==============================] - 27s 36ms/step - loss: 4.1784 - accuracy: 0.0889 - val_loss: 3.9284 - val_accuracy: 0.1879\n",
      "Epoch 11/20\n",
      "750/750 [==============================] - 27s 36ms/step - loss: 4.1363 - accuracy: 0.0979 - val_loss: 3.8742 - val_accuracy: 0.2031\n",
      "Epoch 12/20\n",
      "750/750 [==============================] - 27s 37ms/step - loss: 4.1065 - accuracy: 0.1058 - val_loss: 3.8529 - val_accuracy: 0.2091\n",
      "Epoch 13/20\n",
      "750/750 [==============================] - 27s 37ms/step - loss: 4.0586 - accuracy: 0.1136 - val_loss: 3.8274 - val_accuracy: 0.2144\n",
      "Epoch 14/20\n",
      "750/750 [==============================] - 27s 37ms/step - loss: 4.0343 - accuracy: 0.1201 - val_loss: 3.7940 - val_accuracy: 0.2318\n",
      "Epoch 15/20\n",
      "750/750 [==============================] - 27s 36ms/step - loss: 4.0080 - accuracy: 0.1269 - val_loss: 3.7667 - val_accuracy: 0.2419\n",
      "Epoch 16/20\n",
      "750/750 [==============================] - 27s 36ms/step - loss: 3.9686 - accuracy: 0.1363 - val_loss: 3.7440 - val_accuracy: 0.2496\n",
      "Epoch 17/20\n",
      "750/750 [==============================] - 27s 36ms/step - loss: 3.9469 - accuracy: 0.1390 - val_loss: 3.7097 - val_accuracy: 0.2560\n",
      "Epoch 18/20\n",
      "750/750 [==============================] - 27s 36ms/step - loss: 3.9318 - accuracy: 0.1449 - val_loss: 3.7077 - val_accuracy: 0.2610\n",
      "Epoch 19/20\n",
      "750/750 [==============================] - 27s 36ms/step - loss: 3.8930 - accuracy: 0.1539 - val_loss: 3.6683 - val_accuracy: 0.2706\n",
      "Epoch 20/20\n",
      "750/750 [==============================] - 27s 36ms/step - loss: 3.8810 - accuracy: 0.1588 - val_loss: 3.6488 - val_accuracy: 0.2763\n"
     ]
    }
   ],
   "source": [
    "#negative cosine similarity look\n",
    "#for model2\n",
    "t_model2.compile(loss=losses.CategoricalCrossentropy(from_logits=True),optimizer=optimizers.SGD(lr=1e-5,momentum=0.9),metrics=['accuracy'])\n",
    "history2 = t_model2.fit(x_train, y_train,  batch_size=64, shuffle=True,validation_data=(x_test, y_test), epochs=20, verbose=1)\n"
   ]
  },
  {
   "cell_type": "code",
   "execution_count": 16,
   "metadata": {},
   "outputs": [
    {
     "name": "stdout",
     "output_type": "stream",
     "text": [
      "Epoch 1/20\n",
      "750/750 [==============================] - 29s 37ms/step - loss: 4.9286 - accuracy: 0.0111 - val_loss: 4.6414 - val_accuracy: 0.0195\n",
      "Epoch 2/20\n",
      "750/750 [==============================] - 27s 37ms/step - loss: 4.7824 - accuracy: 0.0171 - val_loss: 4.5329 - val_accuracy: 0.0363\n",
      "Epoch 3/20\n",
      "750/750 [==============================] - 27s 36ms/step - loss: 4.6567 - accuracy: 0.0252 - val_loss: 4.3693 - val_accuracy: 0.0589\n",
      "Epoch 4/20\n",
      "750/750 [==============================] - 28s 37ms/step - loss: 4.5366 - accuracy: 0.0345 - val_loss: 4.2669 - val_accuracy: 0.0844\n",
      "Epoch 5/20\n",
      "750/750 [==============================] - 27s 36ms/step - loss: 4.4336 - accuracy: 0.0454 - val_loss: 4.1944 - val_accuracy: 0.1027\n",
      "Epoch 6/20\n",
      "750/750 [==============================] - 27s 37ms/step - loss: 4.3623 - accuracy: 0.0522 - val_loss: 4.1535 - val_accuracy: 0.1159\n",
      "Epoch 7/20\n",
      "750/750 [==============================] - 27s 37ms/step - loss: 4.3032 - accuracy: 0.0607 - val_loss: 4.1140 - val_accuracy: 0.1250\n",
      "Epoch 8/20\n",
      "750/750 [==============================] - 27s 37ms/step - loss: 4.2597 - accuracy: 0.0699 - val_loss: 4.0391 - val_accuracy: 0.1439\n",
      "Epoch 9/20\n",
      "750/750 [==============================] - 27s 37ms/step - loss: 4.2082 - accuracy: 0.0777 - val_loss: 3.9937 - val_accuracy: 0.1550\n",
      "Epoch 10/20\n",
      "750/750 [==============================] - 27s 36ms/step - loss: 4.1632 - accuracy: 0.0852 - val_loss: 3.9581 - val_accuracy: 0.1702\n",
      "Epoch 11/20\n",
      "750/750 [==============================] - 27s 37ms/step - loss: 4.1200 - accuracy: 0.0951 - val_loss: 3.9145 - val_accuracy: 0.1812\n",
      "Epoch 12/20\n",
      "750/750 [==============================] - 27s 37ms/step - loss: 4.0964 - accuracy: 0.1029 - val_loss: 3.8678 - val_accuracy: 0.1885\n",
      "Epoch 13/20\n",
      "750/750 [==============================] - 27s 37ms/step - loss: 4.0689 - accuracy: 0.1070 - val_loss: 3.8445 - val_accuracy: 0.1991\n",
      "Epoch 14/20\n",
      "750/750 [==============================] - 27s 37ms/step - loss: 4.0209 - accuracy: 0.1150 - val_loss: 3.8130 - val_accuracy: 0.2067\n",
      "Epoch 15/20\n",
      "750/750 [==============================] - 27s 37ms/step - loss: 4.0041 - accuracy: 0.1187 - val_loss: 3.7885 - val_accuracy: 0.2169\n",
      "Epoch 16/20\n",
      "750/750 [==============================] - 27s 37ms/step - loss: 3.9771 - accuracy: 0.1268 - val_loss: 3.7433 - val_accuracy: 0.2241\n",
      "Epoch 17/20\n",
      "750/750 [==============================] - 27s 36ms/step - loss: 3.9499 - accuracy: 0.1318 - val_loss: 3.7314 - val_accuracy: 0.2291\n",
      "Epoch 18/20\n",
      "750/750 [==============================] - 27s 37ms/step - loss: 3.9288 - accuracy: 0.1351 - val_loss: 3.7312 - val_accuracy: 0.2357\n",
      "Epoch 19/20\n",
      "750/750 [==============================] - 27s 37ms/step - loss: 3.9069 - accuracy: 0.1417 - val_loss: 3.7046 - val_accuracy: 0.2431\n",
      "Epoch 20/20\n",
      "750/750 [==============================] - 27s 37ms/step - loss: 3.8987 - accuracy: 0.1420 - val_loss: 3.6931 - val_accuracy: 0.2497\n"
     ]
    }
   ],
   "source": [
    "#for model3\n",
    "t_model3.compile(loss=losses.CategoricalCrossentropy(from_logits=True),optimizer=optimizers.SGD(lr=1e-5,momentum=0.9),metrics=['accuracy'])\n",
    "history3 = t_model3.fit(x_train, y_train,  batch_size=64, shuffle=True,validation_data=(x_test, y_test), epochs=20, verbose=1)\n"
   ]
  },
  {
   "cell_type": "code",
   "execution_count": 17,
   "metadata": {},
   "outputs": [
    {
     "name": "stdout",
     "output_type": "stream",
     "text": [
      "Epoch 1/20\n",
      "750/750 [==============================] - 12s 15ms/step - loss: 4.9824 - accuracy: 0.0107 - val_loss: 4.7397 - val_accuracy: 0.0138\n",
      "Epoch 2/20\n",
      "750/750 [==============================] - 11s 15ms/step - loss: 4.9146 - accuracy: 0.0123 - val_loss: 4.6789 - val_accuracy: 0.0202\n",
      "Epoch 3/20\n",
      "750/750 [==============================] - 11s 14ms/step - loss: 4.8590 - accuracy: 0.0138 - val_loss: 4.6355 - val_accuracy: 0.0236\n",
      "Epoch 4/20\n",
      "750/750 [==============================] - 11s 14ms/step - loss: 4.8128 - accuracy: 0.0156 - val_loss: 4.5826 - val_accuracy: 0.0269\n",
      "Epoch 5/20\n",
      "750/750 [==============================] - 11s 14ms/step - loss: 4.7703 - accuracy: 0.0191 - val_loss: 4.5357 - val_accuracy: 0.0361\n",
      "Epoch 6/20\n",
      "750/750 [==============================] - 11s 15ms/step - loss: 4.7201 - accuracy: 0.0220 - val_loss: 4.4896 - val_accuracy: 0.0445\n",
      "Epoch 7/20\n",
      "750/750 [==============================] - 11s 14ms/step - loss: 4.6731 - accuracy: 0.0262 - val_loss: 4.4507 - val_accuracy: 0.0510\n",
      "Epoch 8/20\n",
      "750/750 [==============================] - 11s 14ms/step - loss: 4.6357 - accuracy: 0.0272 - val_loss: 4.4125 - val_accuracy: 0.0606\n",
      "Epoch 9/20\n",
      "750/750 [==============================] - 11s 14ms/step - loss: 4.5919 - accuracy: 0.0323 - val_loss: 4.3784 - val_accuracy: 0.0710\n",
      "Epoch 10/20\n",
      "750/750 [==============================] - 11s 14ms/step - loss: 4.5685 - accuracy: 0.0344 - val_loss: 4.3458 - val_accuracy: 0.0767\n",
      "Epoch 11/20\n",
      "750/750 [==============================] - 11s 14ms/step - loss: 4.5342 - accuracy: 0.0401 - val_loss: 4.3161 - val_accuracy: 0.0856\n",
      "Epoch 12/20\n",
      "750/750 [==============================] - 11s 15ms/step - loss: 4.5083 - accuracy: 0.0413 - val_loss: 4.2875 - val_accuracy: 0.0929\n",
      "Epoch 13/20\n",
      "750/750 [==============================] - 11s 14ms/step - loss: 4.4672 - accuracy: 0.0473 - val_loss: 4.2624 - val_accuracy: 0.1007\n",
      "Epoch 14/20\n",
      "750/750 [==============================] - 11s 15ms/step - loss: 4.4506 - accuracy: 0.0484 - val_loss: 4.2454 - val_accuracy: 0.1080\n",
      "Epoch 15/20\n",
      "750/750 [==============================] - 11s 15ms/step - loss: 4.4288 - accuracy: 0.0516 - val_loss: 4.2153 - val_accuracy: 0.1134\n",
      "Epoch 16/20\n",
      "750/750 [==============================] - 11s 14ms/step - loss: 4.4031 - accuracy: 0.0543 - val_loss: 4.1959 - val_accuracy: 0.1214\n",
      "Epoch 17/20\n",
      "750/750 [==============================] - 11s 14ms/step - loss: 4.3828 - accuracy: 0.0597 - val_loss: 4.1762 - val_accuracy: 0.1259\n",
      "Epoch 18/20\n",
      "750/750 [==============================] - 11s 14ms/step - loss: 4.3558 - accuracy: 0.0630 - val_loss: 4.1595 - val_accuracy: 0.1322\n",
      "Epoch 19/20\n",
      "750/750 [==============================] - 11s 15ms/step - loss: 4.3448 - accuracy: 0.0636 - val_loss: 4.1407 - val_accuracy: 0.1370\n",
      "Epoch 20/20\n",
      "750/750 [==============================] - 11s 14ms/step - loss: 4.3338 - accuracy: 0.0681 - val_loss: 4.1460 - val_accuracy: 0.1404\n"
     ]
    }
   ],
   "source": [
    "#for model3\n",
    "t_model4.compile(loss=losses.CategoricalCrossentropy(from_logits=True),optimizer=optimizers.SGD(lr=1e-5,momentum=0.9),metrics=['accuracy'])\n",
    "history4= t_model4.fit(x_train, y_train,  batch_size=64, shuffle=True,validation_data=(x_test, y_test), epochs=20, verbose=1)\n",
    "\n"
   ]
  },
  {
   "cell_type": "code",
   "execution_count": 18,
   "metadata": {},
   "outputs": [
    {
     "name": "stdout",
     "output_type": "stream",
     "text": [
      "Epoch 1/20\n",
      "750/750 [==============================] - 14s 18ms/step - loss: 4.9544 - accuracy: 0.0116 - val_loss: 4.6912 - val_accuracy: 0.0159\n",
      "Epoch 2/20\n",
      "750/750 [==============================] - 13s 17ms/step - loss: 4.8784 - accuracy: 0.0144 - val_loss: 4.6167 - val_accuracy: 0.0231\n",
      "Epoch 3/20\n",
      "750/750 [==============================] - 13s 17ms/step - loss: 4.8007 - accuracy: 0.0189 - val_loss: 4.5401 - val_accuracy: 0.0346\n",
      "Epoch 4/20\n",
      "750/750 [==============================] - 13s 17ms/step - loss: 4.7206 - accuracy: 0.0231 - val_loss: 4.4650 - val_accuracy: 0.0455\n",
      "Epoch 5/20\n",
      "750/750 [==============================] - 13s 17ms/step - loss: 4.6630 - accuracy: 0.0269 - val_loss: 4.3998 - val_accuracy: 0.0603\n",
      "Epoch 6/20\n",
      "750/750 [==============================] - 13s 17ms/step - loss: 4.6006 - accuracy: 0.0323 - val_loss: 4.3446 - val_accuracy: 0.0732\n",
      "Epoch 7/20\n",
      "750/750 [==============================] - 13s 17ms/step - loss: 4.5401 - accuracy: 0.0402 - val_loss: 4.2864 - val_accuracy: 0.0877\n",
      "Epoch 8/20\n",
      "750/750 [==============================] - 13s 17ms/step - loss: 4.4892 - accuracy: 0.0435 - val_loss: 4.2405 - val_accuracy: 0.1004\n",
      "Epoch 9/20\n",
      "750/750 [==============================] - 13s 17ms/step - loss: 4.4555 - accuracy: 0.0492 - val_loss: 4.1985 - val_accuracy: 0.1119\n",
      "Epoch 10/20\n",
      "750/750 [==============================] - 13s 18ms/step - loss: 4.4108 - accuracy: 0.0563 - val_loss: 4.1622 - val_accuracy: 0.1230\n",
      "Epoch 11/20\n",
      "750/750 [==============================] - 13s 17ms/step - loss: 4.3747 - accuracy: 0.0601 - val_loss: 4.1315 - val_accuracy: 0.1307\n",
      "Epoch 12/20\n",
      "750/750 [==============================] - 13s 17ms/step - loss: 4.3378 - accuracy: 0.0688 - val_loss: 4.0976 - val_accuracy: 0.1368\n",
      "Epoch 13/20\n",
      "750/750 [==============================] - 13s 17ms/step - loss: 4.3121 - accuracy: 0.0713 - val_loss: 4.0703 - val_accuracy: 0.1446\n",
      "Epoch 14/20\n",
      "750/750 [==============================] - 13s 17ms/step - loss: 4.2775 - accuracy: 0.0729 - val_loss: 4.0550 - val_accuracy: 0.1507\n",
      "Epoch 15/20\n",
      "750/750 [==============================] - 13s 17ms/step - loss: 4.2662 - accuracy: 0.0830 - val_loss: 4.0204 - val_accuracy: 0.1606\n",
      "Epoch 16/20\n",
      "750/750 [==============================] - 13s 17ms/step - loss: 4.2286 - accuracy: 0.0850 - val_loss: 4.0091 - val_accuracy: 0.1660\n",
      "Epoch 17/20\n",
      "750/750 [==============================] - 13s 17ms/step - loss: 4.2189 - accuracy: 0.0856 - val_loss: 3.9884 - val_accuracy: 0.1712\n",
      "Epoch 18/20\n",
      "750/750 [==============================] - 13s 17ms/step - loss: 4.1817 - accuracy: 0.0967 - val_loss: 3.9623 - val_accuracy: 0.1742\n",
      "Epoch 19/20\n",
      "750/750 [==============================] - 13s 17ms/step - loss: 4.1751 - accuracy: 0.0954 - val_loss: 3.9513 - val_accuracy: 0.1797\n",
      "Epoch 20/20\n",
      "750/750 [==============================] - 13s 17ms/step - loss: 4.1531 - accuracy: 0.0984 - val_loss: 3.9310 - val_accuracy: 0.1835\n"
     ]
    }
   ],
   "source": [
    "#for model3\n",
    "t_model5.compile(loss=losses.CategoricalCrossentropy(from_logits=True),optimizer=optimizers.SGD(lr=1e-5,momentum=0.9),metrics=['accuracy'])\n",
    "history5 = t_model5.fit(x_train, y_train,  batch_size=64,shuffle=True,validation_data=(x_test, y_test), epochs=20, verbose=1)\n"
   ]
  },
  {
   "cell_type": "code",
   "execution_count": 19,
   "metadata": {},
   "outputs": [
    {
     "name": "stdout",
     "output_type": "stream",
     "text": [
      "Epoch 1/20\n",
      "750/750 [==============================] - 16s 21ms/step - loss: 4.9648 - accuracy: 0.0109 - val_loss: 4.7219 - val_accuracy: 0.0153\n",
      "Epoch 2/20\n",
      "750/750 [==============================] - 15s 20ms/step - loss: 4.8697 - accuracy: 0.0129 - val_loss: 4.5921 - val_accuracy: 0.0262\n",
      "Epoch 3/20\n",
      "750/750 [==============================] - 15s 20ms/step - loss: 4.7654 - accuracy: 0.0195 - val_loss: 4.4965 - val_accuracy: 0.0440\n",
      "Epoch 4/20\n",
      "750/750 [==============================] - 15s 20ms/step - loss: 4.6771 - accuracy: 0.0267 - val_loss: 4.4059 - val_accuracy: 0.0579\n",
      "Epoch 5/20\n",
      "750/750 [==============================] - 15s 20ms/step - loss: 4.6004 - accuracy: 0.0326 - val_loss: 4.3408 - val_accuracy: 0.0763\n",
      "Epoch 6/20\n",
      "750/750 [==============================] - 15s 20ms/step - loss: 4.5374 - accuracy: 0.0384 - val_loss: 4.2743 - val_accuracy: 0.0901\n",
      "Epoch 7/20\n",
      "750/750 [==============================] - 15s 20ms/step - loss: 4.4809 - accuracy: 0.0434 - val_loss: 4.2176 - val_accuracy: 0.1021\n",
      "Epoch 8/20\n",
      "750/750 [==============================] - 15s 20ms/step - loss: 4.4195 - accuracy: 0.0512 - val_loss: 4.1806 - val_accuracy: 0.1153\n",
      "Epoch 9/20\n",
      "750/750 [==============================] - 15s 20ms/step - loss: 4.3867 - accuracy: 0.0562 - val_loss: 4.1459 - val_accuracy: 0.1210\n",
      "Epoch 10/20\n",
      "750/750 [==============================] - 15s 20ms/step - loss: 4.3365 - accuracy: 0.0641 - val_loss: 4.1129 - val_accuracy: 0.1321\n",
      "Epoch 11/20\n",
      "750/750 [==============================] - 15s 20ms/step - loss: 4.3004 - accuracy: 0.0674 - val_loss: 4.0749 - val_accuracy: 0.1409\n",
      "Epoch 12/20\n",
      "750/750 [==============================] - 15s 20ms/step - loss: 4.2762 - accuracy: 0.0721 - val_loss: 4.0546 - val_accuracy: 0.1507\n",
      "Epoch 13/20\n",
      "750/750 [==============================] - 15s 20ms/step - loss: 4.2503 - accuracy: 0.0743 - val_loss: 4.0244 - val_accuracy: 0.1563\n",
      "Epoch 14/20\n",
      "750/750 [==============================] - 15s 20ms/step - loss: 4.2220 - accuracy: 0.0811 - val_loss: 4.0024 - val_accuracy: 0.1658\n",
      "Epoch 15/20\n",
      "750/750 [==============================] - 15s 20ms/step - loss: 4.1941 - accuracy: 0.0852 - val_loss: 3.9810 - val_accuracy: 0.1725\n",
      "Epoch 16/20\n",
      "750/750 [==============================] - 15s 20ms/step - loss: 4.1713 - accuracy: 0.0893 - val_loss: 3.9674 - val_accuracy: 0.1805\n",
      "Epoch 17/20\n",
      "750/750 [==============================] - 15s 20ms/step - loss: 4.1631 - accuracy: 0.0926 - val_loss: 3.9440 - val_accuracy: 0.1837\n",
      "Epoch 18/20\n",
      "750/750 [==============================] - 15s 20ms/step - loss: 4.1441 - accuracy: 0.0972 - val_loss: 3.9189 - val_accuracy: 0.1907\n",
      "Epoch 19/20\n",
      "750/750 [==============================] - 15s 20ms/step - loss: 4.1079 - accuracy: 0.1028 - val_loss: 3.9004 - val_accuracy: 0.1964\n",
      "Epoch 20/20\n",
      "750/750 [==============================] - 15s 20ms/step - loss: 4.0914 - accuracy: 0.1054 - val_loss: 3.8853 - val_accuracy: 0.2021\n"
     ]
    }
   ],
   "source": [
    "#for model3\n",
    "t_model6.compile(loss=losses.CategoricalCrossentropy(from_logits=True),optimizer=optimizers.SGD(lr=1e-5,momentum=0.9),metrics=['accuracy'])\n",
    "history6 = t_model6.fit(x_train, y_train,  batch_size=64,shuffle=True,validation_data=(x_test, y_test), epochs=20, verbose=1)\n"
   ]
  },
  {
   "cell_type": "code",
   "execution_count": 20,
   "metadata": {
    "scrolled": true
   },
   "outputs": [
    {
     "name": "stdout",
     "output_type": "stream",
     "text": [
      "Epoch 1/20\n",
      "750/750 [==============================] - 16s 21ms/step - loss: 4.9493 - accuracy: 0.0115 - val_loss: 4.6136 - val_accuracy: 0.0206\n",
      "Epoch 2/20\n",
      "750/750 [==============================] - 15s 20ms/step - loss: 4.7653 - accuracy: 0.0182 - val_loss: 4.4609 - val_accuracy: 0.0428\n",
      "Epoch 3/20\n",
      "750/750 [==============================] - 15s 20ms/step - loss: 4.6317 - accuracy: 0.0259 - val_loss: 4.3640 - val_accuracy: 0.0679\n",
      "Epoch 4/20\n",
      "750/750 [==============================] - 15s 20ms/step - loss: 4.5394 - accuracy: 0.0363 - val_loss: 4.2874 - val_accuracy: 0.0885\n",
      "Epoch 5/20\n",
      "750/750 [==============================] - 15s 20ms/step - loss: 4.4680 - accuracy: 0.0430 - val_loss: 4.2300 - val_accuracy: 0.1014\n",
      "Epoch 6/20\n",
      "750/750 [==============================] - 15s 20ms/step - loss: 4.3990 - accuracy: 0.0525 - val_loss: 4.1824 - val_accuracy: 0.1151\n",
      "Epoch 7/20\n",
      "750/750 [==============================] - 15s 20ms/step - loss: 4.3545 - accuracy: 0.0574 - val_loss: 4.1462 - val_accuracy: 0.1289\n",
      "Epoch 8/20\n",
      "750/750 [==============================] - 15s 20ms/step - loss: 4.3032 - accuracy: 0.0644 - val_loss: 4.1098 - val_accuracy: 0.1401\n",
      "Epoch 9/20\n",
      "750/750 [==============================] - 15s 20ms/step - loss: 4.2729 - accuracy: 0.0729 - val_loss: 4.0725 - val_accuracy: 0.1498\n",
      "Epoch 10/20\n",
      "750/750 [==============================] - 15s 20ms/step - loss: 4.2300 - accuracy: 0.0787 - val_loss: 4.0469 - val_accuracy: 0.1533\n",
      "Epoch 11/20\n",
      "750/750 [==============================] - 15s 20ms/step - loss: 4.2051 - accuracy: 0.0825 - val_loss: 4.0077 - val_accuracy: 0.1666\n",
      "Epoch 12/20\n",
      "750/750 [==============================] - 15s 20ms/step - loss: 4.1852 - accuracy: 0.0869 - val_loss: 3.9784 - val_accuracy: 0.1757\n",
      "Epoch 13/20\n",
      "750/750 [==============================] - 15s 20ms/step - loss: 4.1523 - accuracy: 0.0981 - val_loss: 3.9627 - val_accuracy: 0.1842\n",
      "Epoch 14/20\n",
      "750/750 [==============================] - 15s 20ms/step - loss: 4.1317 - accuracy: 0.0988 - val_loss: 3.9208 - val_accuracy: 0.1905\n",
      "Epoch 15/20\n",
      "750/750 [==============================] - 15s 20ms/step - loss: 4.1031 - accuracy: 0.1074 - val_loss: 3.9074 - val_accuracy: 0.1976\n",
      "Epoch 16/20\n",
      "750/750 [==============================] - 15s 20ms/step - loss: 4.0948 - accuracy: 0.1081 - val_loss: 3.9081 - val_accuracy: 0.2053\n",
      "Epoch 17/20\n",
      "750/750 [==============================] - 15s 20ms/step - loss: 4.0630 - accuracy: 0.1128 - val_loss: 3.8738 - val_accuracy: 0.2100\n",
      "Epoch 18/20\n",
      "750/750 [==============================] - 15s 20ms/step - loss: 4.0416 - accuracy: 0.1194 - val_loss: 3.8576 - val_accuracy: 0.2159\n",
      "Epoch 19/20\n",
      "750/750 [==============================] - 15s 20ms/step - loss: 4.0198 - accuracy: 0.1277 - val_loss: 3.8379 - val_accuracy: 0.2199\n",
      "Epoch 20/20\n",
      "750/750 [==============================] - 15s 20ms/step - loss: 4.0085 - accuracy: 0.1263 - val_loss: 3.8204 - val_accuracy: 0.2273\n"
     ]
    }
   ],
   "source": [
    "#for model3\n",
    "t_model7.compile(loss=losses.CategoricalCrossentropy(from_logits=True),optimizer=optimizers.SGD(lr=1e-5,momentum=0.9),metrics=['accuracy'])\n",
    "history7 = t_model7.fit(x_train, y_train,  batch_size=64,shuffle=True,validation_data=(x_test, y_test), epochs=20, verbose=1)\n"
   ]
  },
  {
   "cell_type": "code",
   "execution_count": 23,
   "metadata": {},
   "outputs": [
    {
     "name": "stderr",
     "output_type": "stream",
     "text": [
      "The PostScript backend does not support transparency; partially transparent artists will be rendered opaque.\n",
      "The PostScript backend does not support transparency; partially transparent artists will be rendered opaque.\n"
     ]
    },
    {
     "data": {
      "image/png": "[encoded data removed]",
      "text/plain": [
       "<Figure size 432x288 with 1 Axes>"
      ]
     },
     "metadata": {
      "needs_background": "light"
     },
     "output_type": "display_data"
    }
   ],
   "source": [
    "fig1 = plt.figure()\n",
    "plt.plot(history.history['val_accuracy'])\n",
    "#plt.plot(history.history['val_loss'])\n",
    "plt.plot(history2.history['val_accuracy'])\n",
    "#plt.plot(history2.history['val_loss'])\n",
    "plt.plot(history3.history['val_accuracy'])\n",
    "#plt.plot(history3.history['val_loss'])\n",
    "plt.plot(history4.history['val_accuracy'])\n",
    "#plt.plot(history4.history['val_loss'])\n",
    "plt.plot(history5.history['val_accuracy'])\n",
    "#plt.plot(history5.history['val_loss'])\n",
    "plt.plot(history6.history['val_accuracy'])\n",
    "#plt.plot(history6.history['val_loss'])\n",
    "plt.plot(history7.history['val_accuracy'])\n",
    "#plt.plot(history6.history['val_loss'])\n",
    "#plt.title('Model Training Loss Comparison')\n",
    "plt.ylabel('Accuracy')\n",
    "plt.xlabel('Epoch')\n",
    "#plt.legend(['BTw_0-1', 'GRT>10', 'GRT>100'], loc=\"center right\", bbox_to_anchor=(1.6, 0.5))\n",
    "#plt.legend(['PCS','NCS','PNCS','1st_Layer','2nd_Layer','3rd_Layer','Feature_Extraction'], loc='lower right')\n",
    "plt.legend(['PCS','NCS','PNCS','1st_Layer','2nd_Layer','3rd_Layer','Feature_Extraction'], loc=\"center right\", bbox_to_anchor=(1.6, 0.5))\n",
    "\n",
    "fig1.savefig('all_similarity_cifar100_vgg16.eps', dpi=1200, format=\"eps\", bbox_inches=\"tight\")\n",
    "plt.show()"
   ]
  },
  {
   "cell_type": "code",
   "execution_count": 26,
   "metadata": {},
   "outputs": [
    {
     "name": "stderr",
     "output_type": "stream",
     "text": [
      "The PostScript backend does not support transparency; partially transparent artists will be rendered opaque.\n",
      "The PostScript backend does not support transparency; partially transparent artists will be rendered opaque.\n"
     ]
    },
    {
     "data": {
      "image/png": "[encoded data removed]",
      "text/plain": [
       "<Figure size 432x288 with 1 Axes>"
      ]
     },
     "metadata": {
      "needs_background": "light"
     },
     "output_type": "display_data"
    }
   ],
   "source": [
    "fig2 = plt.figure()\n",
    "plt.plot(history.history['accuracy'])\n",
    "plt.plot(history.history['val_accuracy'])\n",
    "#plt.plot(history.history['val_loss'])\n",
    "plt.plot(history2.history['accuracy'])\n",
    "plt.plot(history2.history['val_accuracy'])\n",
    "#plt.plot(history2.history['val_loss'])\n",
    "plt.plot(history3.history['accuracy'])\n",
    "plt.plot(history3.history['val_accuracy'])\n",
    "plt.ylabel('Accuracy')\n",
    "plt.xlabel('Epoch')\n",
    "plt.legend(['PCS_Train','PCS_Val','NCS_Train','NCS_Val','PNCS_Train','PNCS_Val'], loc='upper left')\n",
    "\n",
    "fig2.savefig('3plots_cifar100_vgg16.eps', dpi=1200, format=\"eps\", bbox_inches=\"tight\")\n",
    "plt.show()"
   ]
  },
  {
   "cell_type": "code",
   "execution_count": 27,
   "metadata": {},
   "outputs": [
    {
     "name": "stderr",
     "output_type": "stream",
     "text": [
      "The PostScript backend does not support transparency; partially transparent artists will be rendered opaque.\n",
      "The PostScript backend does not support transparency; partially transparent artists will be rendered opaque.\n"
     ]
    },
    {
     "data": {
      "image/png": "[encoded data removed]",
      "text/plain": [
       "<Figure size 432x288 with 1 Axes>"
      ]
     },
     "metadata": {
      "needs_background": "light"
     },
     "output_type": "display_data"
    }
   ],
   "source": [
    "fig3 = plt.figure()\n",
    "plt.plot(history.history['loss'])\n",
    "plt.plot(history.history['val_loss'])\n",
    "#plt.plot(history.history['val_loss'])\n",
    "plt.plot(history2.history['loss'])\n",
    "plt.plot(history2.history['val_loss'])\n",
    "#plt.plot(history2.history['val_loss'])\n",
    "plt.plot(history3.history['loss'])\n",
    "plt.plot(history3.history['val_loss'])\n",
    "plt.ylabel('Loss')\n",
    "plt.xlabel('Epoch')\n",
    "plt.legend(['PCS_Train','PCS_Val','NCS_Train','NCS_Val','PNCS_Train','PNCS_Val'], loc='upper right')\n",
    "\n",
    "fig3.savefig('3plots_Loss_cifar100_vgg16.eps', dpi=1200, format=\"eps\", bbox_inches=\"tight\")\n",
    "plt.show()"
   ]
  },
  {
   "cell_type": "code",
   "execution_count": null,
   "metadata": {},
   "outputs": [],
   "source": []
  }
 ],
 "metadata": {
  "kernelspec": {
   "display_name": "Python 3",
   "language": "python",
   "name": "python3"
  },
  "language_info": {
   "codemirror_mode": {
    "name": "ipython",
    "version": 3
   },
   "file_extension": ".py",
   "mimetype": "text/x-python",
   "name": "python",
   "nbconvert_exporter": "python",
   "pygments_lexer": "ipython3",
   "version": "3.6.9"
  }
 },
 "nbformat": 4,
 "nbformat_minor": 2
}
