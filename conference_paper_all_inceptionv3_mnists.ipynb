{
 "cells": [
  {
   "cell_type": "code",
   "execution_count": 1,
   "metadata": {
    "gradient": {}
   },
   "outputs": [
    {
     "name": "stdout",
     "output_type": "stream",
     "text": [
      "Requirement already satisfied: pandas in /usr/local/lib/python3.6/dist-packages (1.1.5)\n",
      "Requirement already satisfied: python-dateutil>=2.7.3 in /usr/local/lib/python3.6/dist-packages (from pandas) (2.8.1)\n",
      "Requirement already satisfied: pytz>=2017.2 in /usr/local/lib/python3.6/dist-packages (from pandas) (2021.1)\n",
      "Requirement already satisfied: numpy>=1.15.4 in /usr/local/lib/python3.6/dist-packages (from pandas) (1.19.5)\n",
      "Requirement already satisfied: six>=1.5 in /usr/local/lib/python3.6/dist-packages (from python-dateutil>=2.7.3->pandas) (1.15.0)\n",
      "\u001b[33mWARNING: You are using pip version 20.2.4; however, version 21.3.1 is available.\n",
      "You should consider upgrading via the '/usr/bin/python3 -m pip install --upgrade pip' command.\u001b[0m\n",
      "Note: you may need to restart the kernel to use updated packages.\n"
     ]
    }
   ],
   "source": [
    "pip install pandas"
   ]
  },
  {
   "cell_type": "code",
   "execution_count": 2,
   "metadata": {
    "gradient": {}
   },
   "outputs": [
    {
     "name": "stdout",
     "output_type": "stream",
     "text": [
      "Requirement already satisfied: SciPy in /usr/local/lib/python3.6/dist-packages (1.5.4)\n",
      "Requirement already satisfied: numpy>=1.14.5 in /usr/local/lib/python3.6/dist-packages (from SciPy) (1.19.5)\n",
      "\u001b[33mWARNING: You are using pip version 20.2.4; however, version 21.3.1 is available.\n",
      "You should consider upgrading via the '/usr/bin/python3 -m pip install --upgrade pip' command.\u001b[0m\n",
      "Note: you may need to restart the kernel to use updated packages.\n"
     ]
    }
   ],
   "source": [
    "pip install SciPy"
   ]
  },
  {
   "cell_type": "code",
   "execution_count": 3,
   "metadata": {
    "gradient": {}
   },
   "outputs": [],
   "source": [
    "import tensorflow\n",
    "import statistics as stats\n",
    "from collections import defaultdict\n",
    "import pandas as pd\n",
    "import numpy as np\n",
    "from tensorflow import keras\n",
    "from tensorflow.keras.applications.resnet50 import ResNet50 as resnet50\n",
    "from tensorflow.keras.applications.inception_v3 import InceptionV3 as inception\n",
    "from tensorflow.keras.applications.vgg16 import VGG16 as vgg16\n",
    "from tensorflow.keras.applications.densenet import DenseNet169 as densenet\n",
    "from tensorflow.keras.preprocessing.image import ImageDataGenerator\n",
    "from tensorflow.keras import layers, losses, optimizers\n",
    "from tensorflow.keras.layers import Dense,Dropout,GlobalAveragePooling2D,Flatten\n",
    "from tensorflow.python.keras.models import Sequential\n",
    "from tensorflow.keras.preprocessing.image import load_img, img_to_array\n",
    "import matplotlib\n",
    "import matplotlib.pyplot as plt\n",
    "from tensorflow.keras.models import Model                                                         "
   ]
  },
  {
   "cell_type": "code",
   "execution_count": 4,
   "metadata": {},
   "outputs": [],
   "source": [
    "(x_train, y_train), (x_test, y_test)=tensorflow.keras.datasets.fashion_mnist.load_data()"
   ]
  },
  {
   "cell_type": "code",
   "execution_count": 5,
   "metadata": {},
   "outputs": [
    {
     "data": {
      "text/plain": [
       "(60000, 28, 28)"
      ]
     },
     "execution_count": 5,
     "metadata": {},
     "output_type": "execute_result"
    }
   ],
   "source": [
    "x_train.shape"
   ]
  },
  {
   "cell_type": "code",
   "execution_count": 6,
   "metadata": {},
   "outputs": [],
   "source": [
    "x_train = tensorflow.pad(x_train, [[0, 0], [2,2], [2,2]])/255\n",
    "x_test = tensorflow.pad(x_test, [[0, 0], [2,2], [2,2]])/255\n",
    "\n",
    "x_train = tensorflow.expand_dims(x_train, axis=3, name=None)\n",
    "x_test = tensorflow.expand_dims(x_test, axis=3, name=None)\n",
    "x_train = tensorflow.repeat(x_train, 3, axis=3)\n",
    "x_test = tensorflow.repeat(x_test, 3, axis=3)\n",
    "\n",
    "#resize the images\n",
    "x_train = tensorflow.image.resize(x_train, [75,75])\n",
    "x_test = tensorflow.image.resize(x_test, [75,75])\n",
    "\n",
    "x_val = x_train[-2000:,:,:]\n",
    "y_val = y_train[-2000:]\n",
    "x_train = x_train[:-2000,:,:]\n",
    "y_train = y_train[:-2000]\n",
    "\n",
    "y_train = tensorflow.one_hot(y_train.astype(np.int32), depth=100)\n",
    "y_test = tensorflow.one_hot(y_test.astype(np.int32), depth=100)"
   ]
  },
  {
   "cell_type": "code",
   "execution_count": 7,
   "metadata": {},
   "outputs": [],
   "source": [
    "model_name = inception\n",
    "input_t =(75,75, 3)\n",
    "model = model_name(include_top=False,\n",
    "                   weights=\"imagenet\",\n",
    "                   input_shape=input_t)\n",
    "\n",
    "model2 = model_name(include_top=False,\n",
    "                   weights=\"imagenet\",\n",
    "                   input_shape=input_t)\n",
    "\n",
    "model3 = model_name(include_top=False,\n",
    "                   weights=\"imagenet\",\n",
    "                   input_shape=input_t)\n",
    "model_tune1 = model_name(include_top=False,\n",
    "                   weights=\"imagenet\",\n",
    "                   input_shape=input_t)\n",
    "model_tune2 = model_name(include_top=False,\n",
    "                   weights=\"imagenet\",\n",
    "                   input_shape=input_t)\n",
    "model_tune3 = model_name(include_top=False,\n",
    "                   weights=\"imagenet\",\n",
    "                   input_shape=input_t)\n",
    "model_tune4 = model_name(include_top=False,\n",
    "                   weights=\"imagenet\",\n",
    "                   input_shape=input_t)"
   ]
  },
  {
   "cell_type": "code",
   "execution_count": 8,
   "metadata": {},
   "outputs": [],
   "source": [
    "# get the layer index\n",
    "def getLayerIndex(model_i, layer_name):\n",
    "    for pos, layer_g in enumerate(model_i.layers):\n",
    "        if layer_g.name == layer_name:\n",
    "            return pos\n"
   ]
  },
  {
   "cell_type": "code",
   "execution_count": 9,
   "metadata": {},
   "outputs": [],
   "source": [
    "# get the convolved layers into an array for looping\n",
    "convolved_layers = []\n",
    "\n",
    "for layer in model.layers:\n",
    "\n",
    "    t = np.array(layer.get_weights()).ndim\n",
    "    array = np.array(layer.get_weights())\n",
    "    if (model_name != resnet50) or (model_name != vgg16):\n",
    "        if (len(array) > 0) and (t > 2):\n",
    "            index = getLayerIndex(model, layer.name)\n",
    "            # append the convolved layer\n",
    "            convolved_layers.append(index)\n",
    "            # print(str(len(array)) + \"for:\" + layer.name + \"at index:\" + str(index))\n",
    "    if (model_name == resnet50) or (model_name == vgg16):\n",
    "        if len(array) > 0 and (t != 2):\n",
    "            index = getLayerIndex(model, layer.name)\n",
    "            # append the convolved layer\n",
    "            convolved_layers.append(index)\n",
    "            # print(str(len(array)) + \"for:\" + layer.name + \"at index:\" + str(index))\n",
    "\n",
    "# get the total number of weights in the array\n",
    "total_layer_weights = 0\n",
    "sum_positives = 0\n",
    "sum_negatives = 0\n",
    "\n",
    "# create a dictionary with layer index and positive values identified\n",
    "layer_positives_dict = defaultdict(list)\n",
    "\n",
    "# create a dictionary for storing the layers and their +ve values probabilities\n",
    "layer_probs_dict = defaultdict(list)"
   ]
  },
  {
   "cell_type": "code",
   "execution_count": 10,
   "metadata": {
    "gradient": {}
   },
   "outputs": [],
   "source": [
    "# list the convolved layers\n",
    "for c_layer in range(len(convolved_layers)):\n",
    "    # create array for array matrices,feature values and convolved values for each layer\n",
    "    layer_array_matrices = []\n",
    "    layer_feature_sums = []\n",
    "    layer_convolved_values_sum = []\n",
    "\n",
    "    # get the arrays matrices(batches) pixel\n",
    "    for i in range(len(model.layers[convolved_layers[c_layer]].get_weights()[0])):\n",
    "        # get the values for each feature\n",
    "        ######print(\"channels(image):\"+str(len(model.layers[convolved_layers[c_layer]].get_weights()[0][i])))\n",
    "        for x in range(len(model.layers[convolved_layers[c_layer]].get_weights()[0][i])):\n",
    "            # return all the values in the convolutional feature\n",
    "            total_array = np.array(model.layers[convolved_layers[c_layer]].get_weights()[0][i][x])\n",
    "            # return all the negative values in the convolutional feature\n",
    "            x2 = np.array(model.layers[convolved_layers[c_layer]].get_weights()[0][i][x]) < 0\n",
    "            for c in range(len(x2)):\n",
    "                ###print(\"all the trues in depth: \" + str(c + 1) + \" are for feature: \" + str(x + 1))\n",
    "                sum_negatives += sum(x2[c])\n",
    "                # print(sum(x2[c]))\n",
    "            # return all the values\n",
    "            for y in range(len(total_array)):\n",
    "                total_layer_weights += len(total_array[y])\n",
    "\n",
    "            x1 = np.array(model.layers[convolved_layers[c_layer]].get_weights()[0][i][x]) > 0\n",
    "            # get the values for each channel\n",
    "            for a in range(len(x1)):\n",
    "                value_pix = sum(x1[a])\n",
    "                # get the positive values\n",
    "                sum_positives += value_pix\n",
    "\n",
    "                ######print(value_pix)\n",
    "    list_sums = []\n",
    "    list_sums.append((str(convolved_layers[c_layer]), sum_positives))\n",
    "    layer_positives_dict.update(list_sums)\n",
    "\n",
    "    # print the probabilities for each layer\n",
    "    layer_pos_prob = sum_positives / total_layer_weights\n",
    "\n",
    "    # create +ves values array\n",
    "    positives_array = []\n",
    "    for key, val in layer_positives_dict.items():\n",
    "        # print(key, \"corresponds to:\",val,\" positive values\")\n",
    "        positives_array.append(val)\n",
    "       \n",
    "    list_layer_probs = []\n",
    "    list_layer_probs.append((str(convolved_layers[c_layer]), layer_pos_prob))\n",
    "    layer_probs_dict.update(list_layer_probs)"
   ]
  },
  {
   "cell_type": "code",
   "execution_count": 11,
   "metadata": {},
   "outputs": [],
   "source": [
    "median_layer = stats.median(convolved_layers)\n",
    "\n",
    "# create dictionary for storing selected median layers\n",
    "second_layer_probs_dict = defaultdict(list)\n",
    "# store the new list of layers to be matched with the mean probability\n",
    "second_half_layers = []\n",
    "\n",
    "# store all probabilities for the selected upper half layers\n",
    "second_half_probs = []\n",
    "# loop through the layers and print those layers above the median\n",
    "for lyr, val in layer_probs_dict.items():\n",
    "    # print(lyr, \"Layer prob:\", val)\n",
    "    if int(lyr) > median_layer:\n",
    "        # store the probabilities of the upper half selected convolved layers\n",
    "        #print(lyr, \"Layer prob:\", val)\n",
    "        # update the sum of selected layers probabilities\n",
    "        second_half_probs.append(val)\n",
    "        second_half_layers.append((lyr, val))\n",
    "        second_layer_probs_dict.update(second_half_layers)\n",
    "\n",
    "# get the mean of the layers\n",
    "selected_layers_mean = stats.mean(second_half_probs)\n",
    "final_selected_layers = []\n",
    "# now get the final layers list whose value exceed the mean\n",
    "for s_lyr, v in second_layer_probs_dict.items():\n",
    "    # get the probabilities that are lower than the mean probability\n",
    "    if v < selected_layers_mean:\n",
    "        # store the probabilities of the upper half selected convolved layers\n",
    "        final_selected_layers.append(s_lyr)"
   ]
  },
  {
   "cell_type": "code",
   "execution_count": 12,
   "metadata": {
    "gradient": {}
   },
   "outputs": [
    {
     "name": "stdout",
     "output_type": "stream",
     "text": [
      "conv2d_7 True\n",
      "conv2d_67 True\n",
      "conv2d_77 True\n",
      "conv2d_76 True\n",
      "conv2d_84 True\n",
      "mixed10 True\n",
      "mixed10 True\n",
      "mixed10 True\n",
      "mixed10 True\n",
      "mixed10 True\n",
      "mixed10 True\n",
      "mixed10 True\n",
      "mixed10 True\n",
      "mixed10 True\n",
      "mixed10 True\n",
      "mixed10 True\n",
      "mixed10 True\n",
      "mixed10 True\n"
     ]
    }
   ],
   "source": [
    "\n",
    "# for positive cosines similarities\n",
    "pcs_h_layers =[29,210,252,263,268] #high cosine,,\n",
    "pcs_l_layers =[4,11,289,290,291] #lower cosine\n",
    "for sb_layer in model.layers:\n",
    "    # sb_layer.trainable = False\n",
    "    index = getLayerIndex(model, sb_layer.name)\n",
    "    #for b in final_selected_layers:\n",
    "    for b in pcs_h_layers:\n",
    "        if b == index:\n",
    "            sb_layer.trainable = True\n",
    "            #print(str(sb_layer.name) + \" and index is\" + str(b))\n",
    "            print(sb_layer.name,sb_layer.trainable)\n",
    "\n",
    "#for negative cosine similarities\n",
    "# for model 2\n",
    "# for positive cosines similarities\n",
    "ncs_h_layers =[1,235,258,284,289,290]\n",
    "ncs_l_layers =[4,11,14,44,51,74,77] #lower cosine\n",
    "for sbs_layer in model2.layers:\n",
    "    # sb_layer.trainable = False\n",
    "    index = getLayerIndex(model2, sbs_layer.name)\n",
    "    #for b in final_selected_layers:\n",
    "    for b in ncs_h_layers:\n",
    "        if b == index:\n",
    "            sb_layer.trainable = True\n",
    "            #print(str(sb_layer.name) + \" and index is\" + str(b))\n",
    "            print(sb_layer.name,sb_layer.trainable)\n",
    "\n",
    "#for positive negative cosine similarities\n",
    "# for model 3\n",
    "pncs_h_layers =[1,21,31,41,51,52,54] #high cosine,,\n",
    "pncs_l_layers =[108,121,136,154,178] #lower cosine\n",
    "for sbs_layer in model3.layers:\n",
    "    # sb_layer.trainable = False\n",
    "    index = getLayerIndex(model3, sbs_layer.name)\n",
    "    #for b in final_selected_layers:\n",
    "    for b in pncs_h_layers:\n",
    "        if b == index:\n",
    "            sb_layer.trainable = True\n",
    "            #print(str(sb_layer.name) + \" and index is\" + str(b))\n",
    "            print(sb_layer.name,sb_layer.trainable)\n",
    "\n",
    "\n",
    "#finetune by removeing the last layer\n",
    "for lst_layer in model_tune1.layers[:-2]:\n",
    "    lst_layer.trainable = False\n",
    "    \n",
    "####end of the last layer\n",
    "#finetune by removeing the 2nd last layer\n",
    "for scnd_st_layer in model_tune2.layers[:-3]:\n",
    "    scnd_st_layer.trainable = False\n",
    "    \n",
    "####end of the last layer\n",
    "#finetune by removeing the 3rd last layer\n",
    "for thrd_layer in model_tune3.layers[:-4]:\n",
    "    thrd_layer.trainable = False\n",
    "    \n",
    "\n",
    "    \n",
    "####end of the last layer\n",
    "#for feature extraction\n",
    "for ftr_layer in model_tune4.layers:\n",
    "    ftr_layer.trainable = False\n",
    "\n",
    "# try the transfer learning model\n",
    "to_res = (224, 224)\n"
   ]
  },
  {
   "cell_type": "code",
   "execution_count": 13,
   "metadata": {},
   "outputs": [],
   "source": [
    "\n",
    "t_model = Sequential()\n",
    "t_model.add(model)\n",
    "t_model.add(Flatten())\n",
    "t_model.add(layers.BatchNormalization())\n",
    "t_model.add(layers.Dense(64, activation='relu'))\n",
    "t_model.add(layers.Dropout(0.5))\n",
    "t_model.add(layers.BatchNormalization())\n",
    "t_model.add(layers.Dense(100, activation='softmax'))\n",
    "\n",
    "\n",
    "#for model 2\n",
    "t_model2 = Sequential()\n",
    "t_model2.add(model2)\n",
    "t_model2.add(Flatten())\n",
    "t_model2.add(layers.BatchNormalization())\n",
    "t_model2.add(layers.Dense(64, activation='relu'))\n",
    "t_model2.add(layers.Dropout(0.5))\n",
    "t_model2.add(layers.BatchNormalization())\n",
    "t_model2.add(layers.Dense(100, activation='softmax'))\n",
    "\n",
    "\n",
    "#for model 2\n",
    "t_model3 = Sequential()\n",
    "t_model3.add(model3)\n",
    "t_model3.add(Flatten())\n",
    "t_model3.add(layers.BatchNormalization())\n",
    "t_model3.add(layers.Dense(64, activation='relu'))\n",
    "t_model3.add(layers.Dropout(0.5))\n",
    "t_model3.add(layers.BatchNormalization())\n",
    "t_model3.add(layers.Dense(100, activation='softmax'))\n",
    "\n",
    "\n",
    "#for model 2\n",
    "t_model4 = Sequential()\n",
    "t_model4.add(model_tune1)\n",
    "t_model4.add(Flatten())\n",
    "t_model4.add(layers.BatchNormalization())\n",
    "t_model4.add(layers.Dense(64, activation='relu'))\n",
    "t_model4.add(layers.Dropout(0.5))\n",
    "t_model4.add(layers.BatchNormalization())\n",
    "t_model4.add(layers.Dense(100, activation='softmax'))\n",
    "\n",
    "#for model 2\n",
    "t_model5 = Sequential()\n",
    "t_model5.add(model_tune2)\n",
    "t_model5.add(Flatten())\n",
    "t_model5.add(layers.BatchNormalization())\n",
    "t_model5.add(layers.Dense(64, activation='relu'))\n",
    "t_model5.add(layers.Dropout(0.5))\n",
    "t_model5.add(layers.BatchNormalization())\n",
    "t_model5.add(layers.Dense(100, activation='softmax'))\n",
    "\n",
    "#for model 2\n",
    "t_model6 = Sequential()\n",
    "t_model6.add(model_tune3)\n",
    "t_model6.add(Flatten())\n",
    "t_model6.add(layers.BatchNormalization())\n",
    "t_model6.add(layers.Dense(64, activation='relu'))\n",
    "t_model6.add(layers.Dropout(0.5))\n",
    "t_model6.add(layers.BatchNormalization())\n",
    "t_model6.add(layers.Dense(100, activation='softmax'))\n",
    "\n",
    "\n",
    "#for model 2\n",
    "t_model7 = Sequential()\n",
    "t_model7.add(model_tune3)\n",
    "t_model7.add(Flatten())\n",
    "t_model7.add(layers.BatchNormalization())\n",
    "t_model7.add(layers.Dense(64, activation='relu'))\n",
    "t_model7.add(layers.Dropout(0.5))\n",
    "t_model7.add(layers.BatchNormalization())\n",
    "t_model7.add(layers.Dense(100, activation='softmax'))"
   ]
  },
  {
   "cell_type": "code",
   "execution_count": 14,
   "metadata": {},
   "outputs": [
    {
     "name": "stdout",
     "output_type": "stream",
     "text": [
      "Epoch 1/20\n",
      "907/907 [==============================] - 78s 75ms/step - loss: 4.7836 - accuracy: 0.0200 - val_loss: 4.0791 - val_accuracy: 0.2014\n",
      "Epoch 2/20\n",
      "907/907 [==============================] - 65s 72ms/step - loss: 3.9912 - accuracy: 0.1409 - val_loss: 3.4524 - val_accuracy: 0.4357\n",
      "Epoch 3/20\n",
      "907/907 [==============================] - 65s 72ms/step - loss: 3.4692 - accuracy: 0.2960 - val_loss: 3.0464 - val_accuracy: 0.5673\n",
      "Epoch 4/20\n",
      "907/907 [==============================] - 65s 72ms/step - loss: 3.1182 - accuracy: 0.4192 - val_loss: 2.7395 - val_accuracy: 0.6611\n",
      "Epoch 5/20\n",
      "907/907 [==============================] - 65s 71ms/step - loss: 2.8442 - accuracy: 0.5269 - val_loss: 2.4523 - val_accuracy: 0.7139\n",
      "Epoch 6/20\n",
      "907/907 [==============================] - 65s 71ms/step - loss: 2.6118 - accuracy: 0.6070 - val_loss: 2.2196 - val_accuracy: 0.7490\n",
      "Epoch 7/20\n",
      "907/907 [==============================] - 65s 72ms/step - loss: 2.4138 - accuracy: 0.6660 - val_loss: 2.0300 - val_accuracy: 0.7683\n",
      "Epoch 8/20\n",
      "907/907 [==============================] - 65s 71ms/step - loss: 2.2452 - accuracy: 0.7072 - val_loss: 1.8902 - val_accuracy: 0.7826\n",
      "Epoch 9/20\n",
      "907/907 [==============================] - 65s 72ms/step - loss: 2.1042 - accuracy: 0.7340 - val_loss: 1.7525 - val_accuracy: 0.7982\n",
      "Epoch 10/20\n",
      "907/907 [==============================] - 65s 72ms/step - loss: 1.9745 - accuracy: 0.7588 - val_loss: 1.6326 - val_accuracy: 0.8114\n",
      "Epoch 11/20\n",
      "907/907 [==============================] - 65s 71ms/step - loss: 1.8822 - accuracy: 0.7709 - val_loss: 1.5260 - val_accuracy: 0.8200\n",
      "Epoch 12/20\n",
      "907/907 [==============================] - 65s 71ms/step - loss: 1.7752 - accuracy: 0.7878 - val_loss: 1.4278 - val_accuracy: 0.8270\n",
      "Epoch 13/20\n",
      "907/907 [==============================] - 65s 71ms/step - loss: 1.6809 - accuracy: 0.7961 - val_loss: 1.3548 - val_accuracy: 0.8329\n",
      "Epoch 14/20\n",
      "907/907 [==============================] - 65s 72ms/step - loss: 1.6137 - accuracy: 0.8063 - val_loss: 1.2844 - val_accuracy: 0.8370\n",
      "Epoch 15/20\n",
      "907/907 [==============================] - 65s 72ms/step - loss: 1.5437 - accuracy: 0.8111 - val_loss: 1.2116 - val_accuracy: 0.8435\n",
      "Epoch 16/20\n",
      "907/907 [==============================] - 65s 71ms/step - loss: 1.4697 - accuracy: 0.8234 - val_loss: 1.1408 - val_accuracy: 0.8500\n",
      "Epoch 17/20\n",
      "907/907 [==============================] - 65s 71ms/step - loss: 1.4128 - accuracy: 0.8262 - val_loss: 1.0919 - val_accuracy: 0.8553\n",
      "Epoch 18/20\n",
      "907/907 [==============================] - 65s 72ms/step - loss: 1.3528 - accuracy: 0.8331 - val_loss: 1.0353 - val_accuracy: 0.8590\n",
      "Epoch 19/20\n",
      "907/907 [==============================] - 65s 71ms/step - loss: 1.3020 - accuracy: 0.8383 - val_loss: 0.9878 - val_accuracy: 0.8608\n",
      "Epoch 20/20\n",
      "907/907 [==============================] - 66s 73ms/step - loss: 1.2510 - accuracy: 0.8467 - val_loss: 0.9446 - val_accuracy: 0.8657\n"
     ]
    }
   ],
   "source": [
    "#positive cosine similarity\n",
    "t_model.compile(loss=losses.CategoricalCrossentropy(from_logits=True),optimizer=optimizers.SGD(lr=1e-5,momentum=0.9),metrics=['accuracy'])\n",
    "history = t_model.fit(x_train, y_train, batch_size=64, shuffle=True,validation_data=(x_test, y_test), epochs=20, verbose=1)\n"
   ]
  },
  {
   "cell_type": "code",
   "execution_count": 15,
   "metadata": {},
   "outputs": [
    {
     "name": "stdout",
     "output_type": "stream",
     "text": [
      "Epoch 1/20\n",
      "907/907 [==============================] - 74s 74ms/step - loss: 4.7409 - accuracy: 0.0254 - val_loss: 3.8067 - val_accuracy: 0.2521\n",
      "Epoch 2/20\n",
      "907/907 [==============================] - 65s 72ms/step - loss: 3.8258 - accuracy: 0.1549 - val_loss: 3.2884 - val_accuracy: 0.4465\n",
      "Epoch 3/20\n",
      "907/907 [==============================] - 65s 72ms/step - loss: 3.3678 - accuracy: 0.3031 - val_loss: 2.9049 - val_accuracy: 0.5766\n",
      "Epoch 4/20\n",
      "907/907 [==============================] - 65s 72ms/step - loss: 3.0501 - accuracy: 0.4284 - val_loss: 2.5808 - val_accuracy: 0.6691\n",
      "Epoch 5/20\n",
      "907/907 [==============================] - 65s 71ms/step - loss: 2.7848 - accuracy: 0.5283 - val_loss: 2.3290 - val_accuracy: 0.7133\n",
      "Epoch 6/20\n",
      "907/907 [==============================] - 65s 72ms/step - loss: 2.5524 - accuracy: 0.6069 - val_loss: 2.1266 - val_accuracy: 0.7484\n",
      "Epoch 7/20\n",
      "907/907 [==============================] - 66s 72ms/step - loss: 2.3556 - accuracy: 0.6646 - val_loss: 1.9484 - val_accuracy: 0.7686\n",
      "Epoch 8/20\n",
      "907/907 [==============================] - 65s 72ms/step - loss: 2.1949 - accuracy: 0.7021 - val_loss: 1.8155 - val_accuracy: 0.7845\n",
      "Epoch 9/20\n",
      "907/907 [==============================] - 66s 72ms/step - loss: 2.0765 - accuracy: 0.7214 - val_loss: 1.6905 - val_accuracy: 0.7979\n",
      "Epoch 10/20\n",
      "907/907 [==============================] - 65s 71ms/step - loss: 1.9397 - accuracy: 0.7480 - val_loss: 1.5822 - val_accuracy: 0.8093\n",
      "Epoch 11/20\n",
      "907/907 [==============================] - 65s 71ms/step - loss: 1.8314 - accuracy: 0.7693 - val_loss: 1.4690 - val_accuracy: 0.8168\n",
      "Epoch 12/20\n",
      "907/907 [==============================] - 65s 72ms/step - loss: 1.7384 - accuracy: 0.7764 - val_loss: 1.3956 - val_accuracy: 0.8246\n",
      "Epoch 13/20\n",
      "907/907 [==============================] - 65s 72ms/step - loss: 1.6418 - accuracy: 0.7913 - val_loss: 1.3100 - val_accuracy: 0.8364\n",
      "Epoch 14/20\n",
      "907/907 [==============================] - 65s 72ms/step - loss: 1.5625 - accuracy: 0.8018 - val_loss: 1.2343 - val_accuracy: 0.8391\n",
      "Epoch 15/20\n",
      "907/907 [==============================] - 65s 72ms/step - loss: 1.4969 - accuracy: 0.8072 - val_loss: 1.1718 - val_accuracy: 0.8472\n",
      "Epoch 16/20\n",
      "907/907 [==============================] - 66s 72ms/step - loss: 1.4316 - accuracy: 0.8138 - val_loss: 1.1136 - val_accuracy: 0.8507\n",
      "Epoch 17/20\n",
      "907/907 [==============================] - 66s 73ms/step - loss: 1.3767 - accuracy: 0.8206 - val_loss: 1.0664 - val_accuracy: 0.8547\n",
      "Epoch 18/20\n",
      "907/907 [==============================] - 65s 72ms/step - loss: 1.3172 - accuracy: 0.8262 - val_loss: 1.0026 - val_accuracy: 0.8576\n",
      "Epoch 19/20\n",
      "907/907 [==============================] - 65s 72ms/step - loss: 1.2722 - accuracy: 0.8317 - val_loss: 0.9562 - val_accuracy: 0.8626\n",
      "Epoch 20/20\n",
      "907/907 [==============================] - 65s 71ms/step - loss: 1.2202 - accuracy: 0.8360 - val_loss: 0.9083 - val_accuracy: 0.8641\n"
     ]
    }
   ],
   "source": [
    "#negative cosine similarity look\n",
    "#for model2\n",
    "t_model2.compile(loss=losses.CategoricalCrossentropy(from_logits=True),optimizer=optimizers.SGD(lr=1e-5,momentum=0.9),metrics=['accuracy'])\n",
    "history2 = t_model2.fit(x_train, y_train,  batch_size=64, shuffle=True,validation_data=(x_test, y_test), epochs=20, verbose=1)\n"
   ]
  },
  {
   "cell_type": "code",
   "execution_count": 16,
   "metadata": {},
   "outputs": [
    {
     "name": "stdout",
     "output_type": "stream",
     "text": [
      "Epoch 1/20\n",
      "907/907 [==============================] - 74s 74ms/step - loss: 4.7256 - accuracy: 0.0370 - val_loss: 3.8115 - val_accuracy: 0.3130\n",
      "Epoch 2/20\n",
      "907/907 [==============================] - 65s 72ms/step - loss: 3.7148 - accuracy: 0.2407 - val_loss: 3.1391 - val_accuracy: 0.5002\n",
      "Epoch 3/20\n",
      "907/907 [==============================] - 65s 72ms/step - loss: 3.1949 - accuracy: 0.3976 - val_loss: 2.6726 - val_accuracy: 0.6131\n",
      "Epoch 4/20\n",
      "907/907 [==============================] - 65s 72ms/step - loss: 2.8651 - accuracy: 0.4964 - val_loss: 2.4036 - val_accuracy: 0.6902\n",
      "Epoch 5/20\n",
      "907/907 [==============================] - 65s 72ms/step - loss: 2.6280 - accuracy: 0.5643 - val_loss: 2.1989 - val_accuracy: 0.7233\n",
      "Epoch 6/20\n",
      "907/907 [==============================] - 65s 72ms/step - loss: 2.4395 - accuracy: 0.6182 - val_loss: 2.0300 - val_accuracy: 0.7512\n",
      "Epoch 7/20\n",
      "907/907 [==============================] - 65s 72ms/step - loss: 2.2864 - accuracy: 0.6572 - val_loss: 1.8875 - val_accuracy: 0.7705\n",
      "Epoch 8/20\n",
      "907/907 [==============================] - 66s 73ms/step - loss: 2.1532 - accuracy: 0.6919 - val_loss: 1.7443 - val_accuracy: 0.7832\n",
      "Epoch 9/20\n",
      "907/907 [==============================] - 65s 72ms/step - loss: 2.0273 - accuracy: 0.7222 - val_loss: 1.6443 - val_accuracy: 0.7944\n",
      "Epoch 10/20\n",
      "907/907 [==============================] - 65s 71ms/step - loss: 1.9170 - accuracy: 0.7429 - val_loss: 1.5444 - val_accuracy: 0.8055\n",
      "Epoch 11/20\n",
      "907/907 [==============================] - 66s 72ms/step - loss: 1.8282 - accuracy: 0.7604 - val_loss: 1.4494 - val_accuracy: 0.8135\n",
      "Epoch 12/20\n",
      "907/907 [==============================] - 66s 73ms/step - loss: 1.7311 - accuracy: 0.7739 - val_loss: 1.3688 - val_accuracy: 0.8226\n",
      "Epoch 13/20\n",
      "907/907 [==============================] - 71s 78ms/step - loss: 1.6551 - accuracy: 0.7844 - val_loss: 1.2934 - val_accuracy: 0.8290\n",
      "Epoch 14/20\n",
      "907/907 [==============================] - 66s 72ms/step - loss: 1.5692 - accuracy: 0.7963 - val_loss: 1.2141 - val_accuracy: 0.8331\n",
      "Epoch 15/20\n",
      "907/907 [==============================] - 65s 72ms/step - loss: 1.4974 - accuracy: 0.8061 - val_loss: 1.1547 - val_accuracy: 0.8399\n",
      "Epoch 16/20\n",
      "907/907 [==============================] - 66s 72ms/step - loss: 1.4317 - accuracy: 0.8144 - val_loss: 1.0983 - val_accuracy: 0.8448\n",
      "Epoch 17/20\n",
      "907/907 [==============================] - 65s 72ms/step - loss: 1.3780 - accuracy: 0.8201 - val_loss: 1.0475 - val_accuracy: 0.8492\n",
      "Epoch 18/20\n",
      "907/907 [==============================] - 65s 72ms/step - loss: 1.3258 - accuracy: 0.8233 - val_loss: 0.9977 - val_accuracy: 0.8508\n",
      "Epoch 19/20\n",
      "907/907 [==============================] - 65s 71ms/step - loss: 1.2678 - accuracy: 0.8281 - val_loss: 0.9504 - val_accuracy: 0.8540\n",
      "Epoch 20/20\n",
      "907/907 [==============================] - 66s 72ms/step - loss: 1.2172 - accuracy: 0.8379 - val_loss: 0.9047 - val_accuracy: 0.8563\n"
     ]
    }
   ],
   "source": [
    "#for model3\n",
    "t_model3.compile(loss=losses.CategoricalCrossentropy(from_logits=True),optimizer=optimizers.SGD(lr=1e-5,momentum=0.9),metrics=['accuracy'])\n",
    "history3 = t_model3.fit(x_train, y_train,  batch_size=64, shuffle=True,validation_data=(x_test, y_test), epochs=20, verbose=1)\n"
   ]
  },
  {
   "cell_type": "code",
   "execution_count": 17,
   "metadata": {},
   "outputs": [
    {
     "name": "stdout",
     "output_type": "stream",
     "text": [
      "Epoch 1/20\n",
      "907/907 [==============================] - 30s 29ms/step - loss: 4.9673 - accuracy: 0.0120 - val_loss: 4.5129 - val_accuracy: 0.0305\n",
      "Epoch 2/20\n",
      "907/907 [==============================] - 24s 27ms/step - loss: 4.6609 - accuracy: 0.0264 - val_loss: 4.2157 - val_accuracy: 0.1037\n",
      "Epoch 3/20\n",
      "907/907 [==============================] - 25s 27ms/step - loss: 4.3780 - accuracy: 0.0568 - val_loss: 3.9710 - val_accuracy: 0.2262\n",
      "Epoch 4/20\n",
      "907/907 [==============================] - 25s 27ms/step - loss: 4.1532 - accuracy: 0.1005 - val_loss: 3.7556 - val_accuracy: 0.3415\n",
      "Epoch 5/20\n",
      "907/907 [==============================] - 25s 27ms/step - loss: 3.9523 - accuracy: 0.1490 - val_loss: 3.5756 - val_accuracy: 0.4228\n",
      "Epoch 6/20\n",
      "907/907 [==============================] - 25s 27ms/step - loss: 3.7839 - accuracy: 0.2070 - val_loss: 3.4140 - val_accuracy: 0.4780\n",
      "Epoch 7/20\n",
      "907/907 [==============================] - 24s 27ms/step - loss: 3.6289 - accuracy: 0.2583 - val_loss: 3.2733 - val_accuracy: 0.5198\n",
      "Epoch 8/20\n",
      "907/907 [==============================] - 24s 27ms/step - loss: 3.4890 - accuracy: 0.3073 - val_loss: 3.1302 - val_accuracy: 0.5536\n",
      "Epoch 9/20\n",
      "907/907 [==============================] - 24s 27ms/step - loss: 3.3489 - accuracy: 0.3497 - val_loss: 3.0092 - val_accuracy: 0.5768\n",
      "Epoch 10/20\n",
      "907/907 [==============================] - 24s 27ms/step - loss: 3.2338 - accuracy: 0.3909 - val_loss: 2.8938 - val_accuracy: 0.5979\n",
      "Epoch 11/20\n",
      "907/907 [==============================] - 24s 27ms/step - loss: 3.1339 - accuracy: 0.4200 - val_loss: 2.7808 - val_accuracy: 0.6117\n",
      "Epoch 12/20\n",
      "907/907 [==============================] - 24s 27ms/step - loss: 3.0165 - accuracy: 0.4540 - val_loss: 2.6808 - val_accuracy: 0.6262\n",
      "Epoch 13/20\n",
      "907/907 [==============================] - 24s 27ms/step - loss: 2.9280 - accuracy: 0.4734 - val_loss: 2.5816 - val_accuracy: 0.6382\n",
      "Epoch 14/20\n",
      "907/907 [==============================] - 25s 27ms/step - loss: 2.8304 - accuracy: 0.4973 - val_loss: 2.4904 - val_accuracy: 0.6482\n",
      "Epoch 15/20\n",
      "907/907 [==============================] - 24s 27ms/step - loss: 2.7536 - accuracy: 0.5162 - val_loss: 2.4088 - val_accuracy: 0.6559\n",
      "Epoch 16/20\n",
      "907/907 [==============================] - 25s 27ms/step - loss: 2.6685 - accuracy: 0.5324 - val_loss: 2.3265 - val_accuracy: 0.6633\n",
      "Epoch 17/20\n",
      "907/907 [==============================] - 25s 27ms/step - loss: 2.5879 - accuracy: 0.5471 - val_loss: 2.2539 - val_accuracy: 0.6684\n",
      "Epoch 18/20\n",
      "907/907 [==============================] - 24s 27ms/step - loss: 2.5276 - accuracy: 0.5570 - val_loss: 2.1819 - val_accuracy: 0.6757\n",
      "Epoch 19/20\n",
      "907/907 [==============================] - 24s 27ms/step - loss: 2.4358 - accuracy: 0.5755 - val_loss: 2.1144 - val_accuracy: 0.6815\n",
      "Epoch 20/20\n",
      "907/907 [==============================] - 24s 27ms/step - loss: 2.3798 - accuracy: 0.5786 - val_loss: 2.0460 - val_accuracy: 0.6889\n"
     ]
    }
   ],
   "source": [
    "#for model3\n",
    "t_model4.compile(loss=losses.CategoricalCrossentropy(from_logits=True),optimizer=optimizers.SGD(lr=1e-5,momentum=0.9),metrics=['accuracy'])\n",
    "history4= t_model4.fit(x_train, y_train,  batch_size=64, shuffle=True,validation_data=(x_test, y_test), epochs=20, verbose=1)"
   ]
  },
  {
   "cell_type": "code",
   "execution_count": 18,
   "metadata": {},
   "outputs": [
    {
     "name": "stdout",
     "output_type": "stream",
     "text": [
      "Epoch 1/20\n",
      "907/907 [==============================] - 31s 28ms/step - loss: 5.0058 - accuracy: 0.0119 - val_loss: 4.5604 - val_accuracy: 0.0350\n",
      "Epoch 2/20\n",
      "907/907 [==============================] - 24s 27ms/step - loss: 4.6822 - accuracy: 0.0292 - val_loss: 4.2533 - val_accuracy: 0.1058\n",
      "Epoch 3/20\n",
      "907/907 [==============================] - 24s 27ms/step - loss: 4.3931 - accuracy: 0.0591 - val_loss: 3.9863 - val_accuracy: 0.2121\n",
      "Epoch 4/20\n",
      "907/907 [==============================] - 24s 27ms/step - loss: 4.1433 - accuracy: 0.1032 - val_loss: 3.7533 - val_accuracy: 0.3222\n",
      "Epoch 5/20\n",
      "907/907 [==============================] - 25s 28ms/step - loss: 3.9279 - accuracy: 0.1596 - val_loss: 3.5471 - val_accuracy: 0.4038\n",
      "Epoch 6/20\n",
      "907/907 [==============================] - 25s 27ms/step - loss: 3.7441 - accuracy: 0.2147 - val_loss: 3.3711 - val_accuracy: 0.4663\n",
      "Epoch 7/20\n",
      "907/907 [==============================] - 24s 27ms/step - loss: 3.5810 - accuracy: 0.2680 - val_loss: 3.2127 - val_accuracy: 0.5134\n",
      "Epoch 8/20\n",
      "907/907 [==============================] - 25s 27ms/step - loss: 3.4337 - accuracy: 0.3174 - val_loss: 3.0807 - val_accuracy: 0.5464\n",
      "Epoch 9/20\n",
      "907/907 [==============================] - 25s 27ms/step - loss: 3.3004 - accuracy: 0.3578 - val_loss: 2.9518 - val_accuracy: 0.5737\n",
      "Epoch 10/20\n",
      "907/907 [==============================] - 24s 27ms/step - loss: 3.1854 - accuracy: 0.3941 - val_loss: 2.8408 - val_accuracy: 0.5939\n",
      "Epoch 11/20\n",
      "907/907 [==============================] - 25s 27ms/step - loss: 3.0645 - accuracy: 0.4265 - val_loss: 2.7313 - val_accuracy: 0.6096\n",
      "Epoch 12/20\n",
      "907/907 [==============================] - 24s 27ms/step - loss: 2.9643 - accuracy: 0.4546 - val_loss: 2.6257 - val_accuracy: 0.6254\n",
      "Epoch 13/20\n",
      "907/907 [==============================] - 24s 27ms/step - loss: 2.8688 - accuracy: 0.4758 - val_loss: 2.5318 - val_accuracy: 0.6362\n",
      "Epoch 14/20\n",
      "907/907 [==============================] - 24s 27ms/step - loss: 2.7848 - accuracy: 0.4922 - val_loss: 2.4415 - val_accuracy: 0.6464\n",
      "Epoch 15/20\n",
      "907/907 [==============================] - 24s 27ms/step - loss: 2.7010 - accuracy: 0.5138 - val_loss: 2.3636 - val_accuracy: 0.6571\n",
      "Epoch 16/20\n",
      "907/907 [==============================] - 24s 27ms/step - loss: 2.6071 - accuracy: 0.5315 - val_loss: 2.2842 - val_accuracy: 0.6629\n",
      "Epoch 17/20\n",
      "907/907 [==============================] - 25s 27ms/step - loss: 2.5440 - accuracy: 0.5422 - val_loss: 2.2184 - val_accuracy: 0.6686\n",
      "Epoch 18/20\n",
      "907/907 [==============================] - 25s 28ms/step - loss: 2.4602 - accuracy: 0.5593 - val_loss: 2.1364 - val_accuracy: 0.6764\n",
      "Epoch 19/20\n",
      "907/907 [==============================] - 26s 29ms/step - loss: 2.4010 - accuracy: 0.5701 - val_loss: 2.0818 - val_accuracy: 0.6810\n",
      "Epoch 20/20\n",
      "907/907 [==============================] - 26s 28ms/step - loss: 2.3417 - accuracy: 0.5812 - val_loss: 2.0128 - val_accuracy: 0.6855\n"
     ]
    }
   ],
   "source": [
    "#for model3\n",
    "t_model5.compile(loss=losses.CategoricalCrossentropy(from_logits=True),optimizer=optimizers.SGD(lr=1e-5,momentum=0.9),metrics=['accuracy'])\n",
    "history5 = t_model5.fit(x_train, y_train,  batch_size=64, shuffle=True,validation_data=(x_test, y_test), epochs=20, verbose=1)\n"
   ]
  },
  {
   "cell_type": "code",
   "execution_count": 19,
   "metadata": {},
   "outputs": [
    {
     "name": "stdout",
     "output_type": "stream",
     "text": [
      "Epoch 1/20\n",
      "907/907 [==============================] - 31s 28ms/step - loss: 4.9818 - accuracy: 0.0084 - val_loss: 4.5412 - val_accuracy: 0.0238\n",
      "Epoch 2/20\n",
      "907/907 [==============================] - 25s 27ms/step - loss: 4.6921 - accuracy: 0.0207 - val_loss: 4.2637 - val_accuracy: 0.1028\n",
      "Epoch 3/20\n",
      "907/907 [==============================] - 25s 27ms/step - loss: 4.4245 - accuracy: 0.0503 - val_loss: 4.0312 - val_accuracy: 0.2119\n",
      "Epoch 4/20\n",
      "907/907 [==============================] - 24s 27ms/step - loss: 4.2105 - accuracy: 0.0898 - val_loss: 3.8288 - val_accuracy: 0.3064\n",
      "Epoch 5/20\n",
      "907/907 [==============================] - 24s 27ms/step - loss: 4.0257 - accuracy: 0.1335 - val_loss: 3.6481 - val_accuracy: 0.3775\n",
      "Epoch 6/20\n",
      "907/907 [==============================] - 24s 27ms/step - loss: 3.8551 - accuracy: 0.1830 - val_loss: 3.4855 - val_accuracy: 0.4349\n",
      "Epoch 7/20\n",
      "907/907 [==============================] - 24s 27ms/step - loss: 3.7022 - accuracy: 0.2286 - val_loss: 3.3452 - val_accuracy: 0.4801\n",
      "Epoch 8/20\n",
      "907/907 [==============================] - 24s 27ms/step - loss: 3.5735 - accuracy: 0.2708 - val_loss: 3.2117 - val_accuracy: 0.5143\n",
      "Epoch 9/20\n",
      "907/907 [==============================] - 25s 27ms/step - loss: 3.4494 - accuracy: 0.3082 - val_loss: 3.0872 - val_accuracy: 0.5432\n",
      "Epoch 10/20\n",
      "907/907 [==============================] - 25s 28ms/step - loss: 3.3250 - accuracy: 0.3474 - val_loss: 2.9686 - val_accuracy: 0.5732\n",
      "Epoch 11/20\n",
      "907/907 [==============================] - 25s 28ms/step - loss: 3.2034 - accuracy: 0.3839 - val_loss: 2.8608 - val_accuracy: 0.5941\n",
      "Epoch 12/20\n",
      "907/907 [==============================] - 25s 27ms/step - loss: 3.1122 - accuracy: 0.4092 - val_loss: 2.7494 - val_accuracy: 0.6148\n",
      "Epoch 13/20\n",
      "907/907 [==============================] - 24s 27ms/step - loss: 3.0075 - accuracy: 0.4354 - val_loss: 2.6597 - val_accuracy: 0.6294\n",
      "Epoch 14/20\n",
      "907/907 [==============================] - 25s 27ms/step - loss: 2.9256 - accuracy: 0.4605 - val_loss: 2.5720 - val_accuracy: 0.6437\n",
      "Epoch 15/20\n",
      "907/907 [==============================] - 24s 27ms/step - loss: 2.8192 - accuracy: 0.4815 - val_loss: 2.4835 - val_accuracy: 0.6541\n",
      "Epoch 16/20\n",
      "907/907 [==============================] - 24s 27ms/step - loss: 2.7411 - accuracy: 0.5014 - val_loss: 2.3959 - val_accuracy: 0.6635\n",
      "Epoch 17/20\n",
      "907/907 [==============================] - 25s 27ms/step - loss: 2.6730 - accuracy: 0.5191 - val_loss: 2.3164 - val_accuracy: 0.6720\n",
      "Epoch 18/20\n",
      "907/907 [==============================] - 26s 28ms/step - loss: 2.5911 - accuracy: 0.5368 - val_loss: 2.2452 - val_accuracy: 0.6791\n",
      "Epoch 19/20\n",
      "907/907 [==============================] - 25s 27ms/step - loss: 2.5161 - accuracy: 0.5486 - val_loss: 2.1723 - val_accuracy: 0.6852\n",
      "Epoch 20/20\n",
      "907/907 [==============================] - 25s 28ms/step - loss: 2.4519 - accuracy: 0.5626 - val_loss: 2.1178 - val_accuracy: 0.6909\n"
     ]
    }
   ],
   "source": [
    "#for model3\n",
    "t_model6.compile(loss=losses.CategoricalCrossentropy(from_logits=True),optimizer=optimizers.SGD(lr=1e-5,momentum=0.9),metrics=['accuracy'])\n",
    "history6 = t_model6.fit(x_train, y_train,  batch_size=64, shuffle=True,validation_data=(x_test, y_test), epochs=20, verbose=1)\n"
   ]
  },
  {
   "cell_type": "code",
   "execution_count": 20,
   "metadata": {
    "scrolled": true
   },
   "outputs": [
    {
     "name": "stdout",
     "output_type": "stream",
     "text": [
      "Epoch 1/20\n",
      "907/907 [==============================] - 31s 29ms/step - loss: 4.9622 - accuracy: 0.0087 - val_loss: 4.5165 - val_accuracy: 0.0307\n",
      "Epoch 2/20\n",
      "907/907 [==============================] - 25s 28ms/step - loss: 4.6705 - accuracy: 0.0210 - val_loss: 4.2464 - val_accuracy: 0.1021\n",
      "Epoch 3/20\n",
      "907/907 [==============================] - 25s 28ms/step - loss: 4.4036 - accuracy: 0.0496 - val_loss: 4.0184 - val_accuracy: 0.1951\n",
      "Epoch 4/20\n",
      "907/907 [==============================] - 24s 27ms/step - loss: 4.1950 - accuracy: 0.0869 - val_loss: 3.8174 - val_accuracy: 0.2944\n",
      "Epoch 5/20\n",
      "907/907 [==============================] - 25s 27ms/step - loss: 3.9963 - accuracy: 0.1331 - val_loss: 3.6344 - val_accuracy: 0.3805\n",
      "Epoch 6/20\n",
      "907/907 [==============================] - 25s 27ms/step - loss: 3.8232 - accuracy: 0.1806 - val_loss: 3.4741 - val_accuracy: 0.4484\n",
      "Epoch 7/20\n",
      "907/907 [==============================] - 24s 27ms/step - loss: 3.6802 - accuracy: 0.2318 - val_loss: 3.3262 - val_accuracy: 0.5000\n",
      "Epoch 8/20\n",
      "907/907 [==============================] - 24s 27ms/step - loss: 3.5403 - accuracy: 0.2786 - val_loss: 3.2036 - val_accuracy: 0.5344\n",
      "Epoch 9/20\n",
      "907/907 [==============================] - 24s 27ms/step - loss: 3.4234 - accuracy: 0.3184 - val_loss: 3.0733 - val_accuracy: 0.5644\n",
      "Epoch 10/20\n",
      "907/907 [==============================] - 24s 27ms/step - loss: 3.3045 - accuracy: 0.3568 - val_loss: 2.9652 - val_accuracy: 0.5842\n",
      "Epoch 11/20\n",
      "907/907 [==============================] - 25s 27ms/step - loss: 3.1899 - accuracy: 0.3965 - val_loss: 2.8595 - val_accuracy: 0.6054\n",
      "Epoch 12/20\n",
      "907/907 [==============================] - 25s 27ms/step - loss: 3.0941 - accuracy: 0.4241 - val_loss: 2.7577 - val_accuracy: 0.6198\n",
      "Epoch 13/20\n",
      "907/907 [==============================] - 24s 27ms/step - loss: 2.9925 - accuracy: 0.4545 - val_loss: 2.6629 - val_accuracy: 0.6298\n",
      "Epoch 14/20\n",
      "907/907 [==============================] - 25s 27ms/step - loss: 2.9048 - accuracy: 0.4772 - val_loss: 2.5801 - val_accuracy: 0.6407\n",
      "Epoch 15/20\n",
      "907/907 [==============================] - 24s 27ms/step - loss: 2.8168 - accuracy: 0.4989 - val_loss: 2.4935 - val_accuracy: 0.6485\n",
      "Epoch 16/20\n",
      "907/907 [==============================] - 25s 27ms/step - loss: 2.7464 - accuracy: 0.5170 - val_loss: 2.4129 - val_accuracy: 0.6544\n",
      "Epoch 17/20\n",
      "907/907 [==============================] - 24s 27ms/step - loss: 2.6686 - accuracy: 0.5307 - val_loss: 2.3351 - val_accuracy: 0.6616\n",
      "Epoch 18/20\n",
      "907/907 [==============================] - 25s 27ms/step - loss: 2.5834 - accuracy: 0.5457 - val_loss: 2.2677 - val_accuracy: 0.6693\n",
      "Epoch 19/20\n",
      "907/907 [==============================] - 25s 27ms/step - loss: 2.5255 - accuracy: 0.5582 - val_loss: 2.2079 - val_accuracy: 0.6749\n",
      "Epoch 20/20\n",
      "907/907 [==============================] - 24s 27ms/step - loss: 2.4553 - accuracy: 0.5690 - val_loss: 2.1327 - val_accuracy: 0.6804\n"
     ]
    }
   ],
   "source": [
    "#for model3\n",
    "t_model7.compile(loss=losses.CategoricalCrossentropy(from_logits=True),optimizer=optimizers.SGD(lr=1e-5,momentum=0.9),metrics=['accuracy'])\n",
    "history7 = t_model7.fit(x_train, y_train,  batch_size=64, shuffle=True,validation_data=(x_test, y_test), epochs=20, verbose=1)\n"
   ]
  },
  {
   "cell_type": "code",
   "execution_count": 22,
   "metadata": {},
   "outputs": [
    {
     "name": "stderr",
     "output_type": "stream",
     "text": [
      "The PostScript backend does not support transparency; partially transparent artists will be rendered opaque.\n",
      "The PostScript backend does not support transparency; partially transparent artists will be rendered opaque.\n"
     ]
    },
    {
     "data": {
      "image/png": "[encoded data removed]",
      "text/plain": [
       "<Figure size 432x288 with 1 Axes>"
      ]
     },
     "metadata": {
      "needs_background": "light"
     },
     "output_type": "display_data"
    }
   ],
   "source": [
    "fig1 = plt.figure()\n",
    "plt.plot(history.history['val_accuracy'])\n",
    "#plt.plot(history.history['val_loss'])\n",
    "plt.plot(history2.history['val_accuracy'])\n",
    "#plt.plot(history2.history['val_loss'])\n",
    "plt.plot(history3.history['val_accuracy'])\n",
    "#plt.plot(history3.history['val_loss'])\n",
    "plt.plot(history4.history['val_accuracy'])\n",
    "#plt.plot(history4.history['val_loss'])\n",
    "plt.plot(history5.history['val_accuracy'])\n",
    "#plt.plot(history5.history['val_loss'])\n",
    "plt.plot(history6.history['val_accuracy'])\n",
    "#plt.plot(history6.history['val_loss'])\n",
    "plt.plot(history7.history['val_accuracy'])\n",
    "#plt.plot(history6.history['val_loss'])\n",
    "#plt.title('Model Training Loss Comparison')\n",
    "plt.ylabel('Accuracy')\n",
    "plt.xlabel('Epoch')\n",
    "plt.legend(['PCS','NCS','PNCS','1st_Layer','2nd_Layer','3rd_Layer','Feature_Extraction'], loc='lower right')\n",
    "\n",
    "fig1.savefig('all_similarity_fashion_mnist_inceptionv3.eps', dpi=1200, format=\"eps\", bbox_inches=\"tight\")\n",
    "plt.show()"
   ]
  },
  {
   "cell_type": "code",
   "execution_count": 24,
   "metadata": {},
   "outputs": [
    {
     "name": "stderr",
     "output_type": "stream",
     "text": [
      "The PostScript backend does not support transparency; partially transparent artists will be rendered opaque.\n",
      "The PostScript backend does not support transparency; partially transparent artists will be rendered opaque.\n"
     ]
    },
    {
     "data": {
      "image/png": "[encoded data removed]",
      "text/plain": [
       "<Figure size 432x288 with 1 Axes>"
      ]
     },
     "metadata": {
      "needs_background": "light"
     },
     "output_type": "display_data"
    }
   ],
   "source": [
    "fig2 = plt.figure()\n",
    "plt.plot(history.history['accuracy'])\n",
    "plt.plot(history.history['val_accuracy'])\n",
    "#plt.plot(history.history['val_loss'])\n",
    "plt.plot(history2.history['accuracy'])\n",
    "plt.plot(history2.history['val_accuracy'])\n",
    "#plt.plot(history2.history['val_loss'])\n",
    "plt.plot(history3.history['accuracy'])\n",
    "plt.plot(history3.history['val_accuracy'])\n",
    "plt.ylabel('Accuracy')\n",
    "plt.xlabel('Epoch')\n",
    "plt.legend(['PCS_Train','PCS_Val','NCS_Train','NCS_Val','PNCS_Train','PNCS_Val'], loc='lower right')\n",
    "\n",
    "fig2.savefig('3plots_fashion_mnist_inceptionv3.eps', dpi=1200, format=\"eps\", bbox_inches=\"tight\")\n",
    "plt.show()"
   ]
  },
  {
   "cell_type": "code",
   "execution_count": 26,
   "metadata": {},
   "outputs": [
    {
     "name": "stderr",
     "output_type": "stream",
     "text": [
      "The PostScript backend does not support transparency; partially transparent artists will be rendered opaque.\n",
      "The PostScript backend does not support transparency; partially transparent artists will be rendered opaque.\n"
     ]
    },
    {
     "data": {
      "image/png": "[encoded data removed]",
      "text/plain": [
       "<Figure size 432x288 with 1 Axes>"
      ]
     },
     "metadata": {
      "needs_background": "light"
     },
     "output_type": "display_data"
    }
   ],
   "source": [
    "fig3 = plt.figure()\n",
    "plt.plot(history.history['loss'])\n",
    "plt.plot(history.history['val_loss'])\n",
    "#plt.plot(history.history['val_loss'])\n",
    "plt.plot(history2.history['loss'])\n",
    "plt.plot(history2.history['val_loss'])\n",
    "#plt.plot(history2.history['val_loss'])\n",
    "plt.plot(history3.history['loss'])\n",
    "plt.plot(history3.history['val_loss'])\n",
    "plt.ylabel('Loss')\n",
    "plt.xlabel('Epoch')\n",
    "plt.legend(['PCS_Train','PCS_Val','NCS_Train','NCS_Val','PNCS_Train','PNCS_Val'], loc='upper right')\n",
    "\n",
    "fig3.savefig('3plots_Loss_fashion_mnist_inceptionv3.eps', dpi=1200, format=\"eps\", bbox_inches=\"tight\")\n",
    "plt.show()"
   ]
  },
  {
   "cell_type": "code",
   "execution_count": null,
   "metadata": {},
   "outputs": [],
   "source": []
  }
 ],
 "metadata": {
  "kernelspec": {
   "display_name": "Python 3",
   "language": "python",
   "name": "python3"
  },
  "language_info": {
   "codemirror_mode": {
    "name": "ipython",
    "version": 3
   },
   "file_extension": ".py",
   "mimetype": "text/x-python",
   "name": "python",
   "nbconvert_exporter": "python",
   "pygments_lexer": "ipython3",
   "version": "3.6.9"
  }
 },
 "nbformat": 4,
 "nbformat_minor": 2
}
