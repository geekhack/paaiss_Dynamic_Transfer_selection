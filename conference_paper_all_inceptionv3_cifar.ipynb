{
 "cells": [
  {
   "cell_type": "code",
   "execution_count": 1,
   "metadata": {
    "gradient": {}
   },
   "outputs": [
    {
     "name": "stdout",
     "output_type": "stream",
     "text": [
      "Requirement already satisfied: pandas in /usr/local/lib/python3.6/dist-packages (1.1.5)\n",
      "Requirement already satisfied: pytz>=2017.2 in /usr/local/lib/python3.6/dist-packages (from pandas) (2021.1)\n",
      "Requirement already satisfied: numpy>=1.15.4 in /usr/local/lib/python3.6/dist-packages (from pandas) (1.19.5)\n",
      "Requirement already satisfied: python-dateutil>=2.7.3 in /usr/local/lib/python3.6/dist-packages (from pandas) (2.8.1)\n",
      "Requirement already satisfied: six>=1.5 in /usr/local/lib/python3.6/dist-packages (from python-dateutil>=2.7.3->pandas) (1.15.0)\n",
      "\u001b[33mWARNING: You are using pip version 20.2.4; however, version 21.3.1 is available.\n",
      "You should consider upgrading via the '/usr/bin/python3 -m pip install --upgrade pip' command.\u001b[0m\n",
      "Note: you may need to restart the kernel to use updated packages.\n"
     ]
    }
   ],
   "source": [
    "pip install pandas"
   ]
  },
  {
   "cell_type": "code",
   "execution_count": 2,
   "metadata": {
    "gradient": {}
   },
   "outputs": [
    {
     "name": "stdout",
     "output_type": "stream",
     "text": [
      "Requirement already satisfied: SciPy in /usr/local/lib/python3.6/dist-packages (1.5.4)\n",
      "Requirement already satisfied: numpy>=1.14.5 in /usr/local/lib/python3.6/dist-packages (from SciPy) (1.19.5)\n",
      "\u001b[33mWARNING: You are using pip version 20.2.4; however, version 21.3.1 is available.\n",
      "You should consider upgrading via the '/usr/bin/python3 -m pip install --upgrade pip' command.\u001b[0m\n",
      "Note: you may need to restart the kernel to use updated packages.\n"
     ]
    }
   ],
   "source": [
    "pip install SciPy"
   ]
  },
  {
   "cell_type": "code",
   "execution_count": 3,
   "metadata": {
    "gradient": {}
   },
   "outputs": [],
   "source": [
    "import tensorflow\n",
    "import statistics as stats\n",
    "from collections import defaultdict\n",
    "import pandas as pd\n",
    "import numpy as np\n",
    "from tensorflow import keras\n",
    "from tensorflow.keras.applications.resnet50 import ResNet50 as resnet50\n",
    "from tensorflow.keras.applications.inception_v3 import InceptionV3 as inception\n",
    "from tensorflow.keras.applications.vgg16 import VGG16 as vgg16\n",
    "from tensorflow.keras.applications.densenet import DenseNet169 as densenet\n",
    "from tensorflow.keras.preprocessing.image import ImageDataGenerator\n",
    "from tensorflow.keras import layers, losses, optimizers\n",
    "from tensorflow.keras.layers import Dense,Dropout,GlobalAveragePooling2D,Flatten\n",
    "from tensorflow.python.keras.models import Sequential\n",
    "from tensorflow.keras.preprocessing.image import load_img, img_to_array\n",
    "import matplotlib\n",
    "import matplotlib.pyplot as plt\n",
    "from tensorflow.keras.models import Model                                                         "
   ]
  },
  {
   "cell_type": "code",
   "execution_count": 4,
   "metadata": {},
   "outputs": [
    {
     "name": "stdout",
     "output_type": "stream",
     "text": [
      "Downloading data from https://www.cs.toronto.edu/~kriz/cifar-100-python.tar.gz\n",
      "169009152/169001437 [==============================] - 14s 0us/step\n"
     ]
    }
   ],
   "source": [
    "(x_train, y_train), (x_test, y_test)=tensorflow.keras.datasets.cifar100.load_data()"
   ]
  },
  {
   "cell_type": "code",
   "execution_count": 5,
   "metadata": {},
   "outputs": [
    {
     "data": {
      "text/plain": [
       "(50000, 32, 32, 3)"
      ]
     },
     "execution_count": 5,
     "metadata": {},
     "output_type": "execute_result"
    }
   ],
   "source": [
    "x_train.shape"
   ]
  },
  {
   "cell_type": "code",
   "execution_count": 6,
   "metadata": {},
   "outputs": [],
   "source": [
    "#resize the images\n",
    "x_train = tensorflow.image.resize(x_train, [75,75])\n",
    "x_test = tensorflow.image.resize(x_test, [75,75])"
   ]
  },
  {
   "cell_type": "code",
   "execution_count": 7,
   "metadata": {},
   "outputs": [],
   "source": [
    "y_train = y_train.flatten()\n",
    "y_test = y_test.flatten()"
   ]
  },
  {
   "cell_type": "code",
   "execution_count": 8,
   "metadata": {},
   "outputs": [
    {
     "data": {
      "text/plain": [
       "(50000,)"
      ]
     },
     "execution_count": 8,
     "metadata": {},
     "output_type": "execute_result"
    }
   ],
   "source": [
    "y_train.shape"
   ]
  },
  {
   "cell_type": "code",
   "execution_count": 9,
   "metadata": {},
   "outputs": [],
   "source": [
    "inputs = tensorflow.keras.layers.Input(shape=(32, 32, 3))"
   ]
  },
  {
   "cell_type": "code",
   "execution_count": 10,
   "metadata": {},
   "outputs": [],
   "source": [
    "x_val = x_train[-2000:,:,:]\n",
    "y_val = y_train[-2000:]\n",
    "x_train = x_train[:-2000,:,:]\n",
    "y_train = y_train[:-2000]\n",
    "\n",
    "y_train = tensorflow.one_hot(y_train.astype(np.int32), depth=100)\n",
    "y_test = tensorflow.one_hot(y_test.astype(np.int32), depth=100)"
   ]
  },
  {
   "cell_type": "code",
   "execution_count": 11,
   "metadata": {},
   "outputs": [
    {
     "name": "stdout",
     "output_type": "stream",
     "text": [
      "Downloading data from https://storage.googleapis.com/tensorflow/keras-applications/inception_v3/inception_v3_weights_tf_dim_ordering_tf_kernels_notop.h5\n",
      "87916544/87910968 [==============================] - 4s 0us/step\n"
     ]
    }
   ],
   "source": [
    "model_name = inception\n",
    "input_t =(75,75, 3)\n",
    "model = model_name(include_top=False,\n",
    "                   weights=\"imagenet\",\n",
    "                   input_shape=input_t)\n",
    "\n",
    "model2 = model_name(include_top=False,\n",
    "                   weights=\"imagenet\",\n",
    "                   input_shape=input_t)\n",
    "\n",
    "model3 = model_name(include_top=False,\n",
    "                   weights=\"imagenet\",\n",
    "                   input_shape=input_t)\n",
    "model_tune1 = model_name(include_top=False,\n",
    "                   weights=\"imagenet\",\n",
    "                   input_shape=input_t)\n",
    "model_tune2 = model_name(include_top=False,\n",
    "                   weights=\"imagenet\",\n",
    "                   input_shape=input_t)\n",
    "model_tune3 = model_name(include_top=False,\n",
    "                   weights=\"imagenet\",\n",
    "                   input_shape=input_t)\n",
    "model_tune4 = model_name(include_top=False,\n",
    "                   weights=\"imagenet\",\n",
    "                   input_shape=input_t)"
   ]
  },
  {
   "cell_type": "code",
   "execution_count": 12,
   "metadata": {},
   "outputs": [],
   "source": [
    "# get the layer index\n",
    "def getLayerIndex(model_i, layer_name):\n",
    "    for pos, layer_g in enumerate(model_i.layers):\n",
    "        if layer_g.name == layer_name:\n",
    "            return pos\n"
   ]
  },
  {
   "cell_type": "code",
   "execution_count": 13,
   "metadata": {},
   "outputs": [],
   "source": [
    "# get the convolved layers into an array for looping\n",
    "convolved_layers = []\n",
    "\n",
    "for layer in model.layers:\n",
    "\n",
    "    t = np.array(layer.get_weights()).ndim\n",
    "    array = np.array(layer.get_weights())\n",
    "    if (model_name != resnet50) or (model_name != vgg16):\n",
    "        if (len(array) > 0) and (t > 2):\n",
    "            index = getLayerIndex(model, layer.name)\n",
    "            # append the convolved layer\n",
    "            convolved_layers.append(index)\n",
    "            # print(str(len(array)) + \"for:\" + layer.name + \"at index:\" + str(index))\n",
    "    if (model_name == resnet50) or (model_name == vgg16):\n",
    "        if len(array) > 0 and (t != 2):\n",
    "            index = getLayerIndex(model, layer.name)\n",
    "            # append the convolved layer\n",
    "            convolved_layers.append(index)\n",
    "            # print(str(len(array)) + \"for:\" + layer.name + \"at index:\" + str(index))\n",
    "\n",
    "# get the total number of weights in the array\n",
    "total_layer_weights = 0\n",
    "sum_positives = 0\n",
    "sum_negatives = 0\n",
    "\n",
    "# create a dictionary with layer index and positive values identified\n",
    "layer_positives_dict = defaultdict(list)\n",
    "\n",
    "# create a dictionary for storing the layers and their +ve values probabilities\n",
    "layer_probs_dict = defaultdict(list)"
   ]
  },
  {
   "cell_type": "code",
   "execution_count": 14,
   "metadata": {
    "gradient": {}
   },
   "outputs": [],
   "source": [
    "# list the convolved layers\n",
    "for c_layer in range(len(convolved_layers)):\n",
    "    # create array for array matrices,feature values and convolved values for each layer\n",
    "    layer_array_matrices = []\n",
    "    layer_feature_sums = []\n",
    "    layer_convolved_values_sum = []\n",
    "\n",
    "    # get the arrays matrices(batches) pixel\n",
    "    for i in range(len(model.layers[convolved_layers[c_layer]].get_weights()[0])):\n",
    "        # get the values for each feature\n",
    "        ######print(\"channels(image):\"+str(len(model.layers[convolved_layers[c_layer]].get_weights()[0][i])))\n",
    "        for x in range(len(model.layers[convolved_layers[c_layer]].get_weights()[0][i])):\n",
    "            # return all the values in the convolutional feature\n",
    "            total_array = np.array(model.layers[convolved_layers[c_layer]].get_weights()[0][i][x])\n",
    "            # return all the negative values in the convolutional feature\n",
    "            x2 = np.array(model.layers[convolved_layers[c_layer]].get_weights()[0][i][x]) < 0\n",
    "            for c in range(len(x2)):\n",
    "                ###print(\"all the trues in depth: \" + str(c + 1) + \" are for feature: \" + str(x + 1))\n",
    "                sum_negatives += sum(x2[c])\n",
    "                # print(sum(x2[c]))\n",
    "            # return all the values\n",
    "            for y in range(len(total_array)):\n",
    "                total_layer_weights += len(total_array[y])\n",
    "\n",
    "            x1 = np.array(model.layers[convolved_layers[c_layer]].get_weights()[0][i][x]) > 0\n",
    "            # get the values for each channel\n",
    "            for a in range(len(x1)):\n",
    "                value_pix = sum(x1[a])\n",
    "                # get the positive values\n",
    "                sum_positives += value_pix\n",
    "\n",
    "                ######print(value_pix)\n",
    "    list_sums = []\n",
    "    list_sums.append((str(convolved_layers[c_layer]), sum_positives))\n",
    "    layer_positives_dict.update(list_sums)\n",
    "\n",
    "    # print the probabilities for each layer\n",
    "    layer_pos_prob = sum_positives / total_layer_weights\n",
    "\n",
    "    # create +ves values array\n",
    "    positives_array = []\n",
    "    for key, val in layer_positives_dict.items():\n",
    "        # print(key, \"corresponds to:\",val,\" positive values\")\n",
    "        positives_array.append(val)\n",
    "       \n",
    "    list_layer_probs = []\n",
    "    list_layer_probs.append((str(convolved_layers[c_layer]), layer_pos_prob))\n",
    "    layer_probs_dict.update(list_layer_probs)"
   ]
  },
  {
   "cell_type": "code",
   "execution_count": 15,
   "metadata": {},
   "outputs": [],
   "source": [
    "median_layer = stats.median(convolved_layers)\n",
    "\n",
    "# create dictionary for storing selected median layers\n",
    "second_layer_probs_dict = defaultdict(list)\n",
    "# store the new list of layers to be matched with the mean probability\n",
    "second_half_layers = []\n",
    "\n",
    "# store all probabilities for the selected upper half layers\n",
    "second_half_probs = []\n",
    "# loop through the layers and print those layers above the median\n",
    "for lyr, val in layer_probs_dict.items():\n",
    "    # print(lyr, \"Layer prob:\", val)\n",
    "    if int(lyr) > median_layer:\n",
    "        # store the probabilities of the upper half selected convolved layers\n",
    "        #print(lyr, \"Layer prob:\", val)\n",
    "        # update the sum of selected layers probabilities\n",
    "        second_half_probs.append(val)\n",
    "        second_half_layers.append((lyr, val))\n",
    "        second_layer_probs_dict.update(second_half_layers)\n",
    "\n",
    "# get the mean of the layers\n",
    "selected_layers_mean = stats.mean(second_half_probs)\n",
    "final_selected_layers = []\n",
    "# now get the final layers list whose value exceed the mean\n",
    "for s_lyr, v in second_layer_probs_dict.items():\n",
    "    # get the probabilities that are lower than the mean probability\n",
    "    if v < selected_layers_mean:\n",
    "        # store the probabilities of the upper half selected convolved layers\n",
    "        final_selected_layers.append(s_lyr)"
   ]
  },
  {
   "cell_type": "code",
   "execution_count": 16,
   "metadata": {
    "gradient": {}
   },
   "outputs": [
    {
     "name": "stdout",
     "output_type": "stream",
     "text": [
      "conv2d_7 True\n",
      "conv2d_67 True\n",
      "conv2d_77 True\n",
      "conv2d_76 True\n",
      "conv2d_84 True\n",
      "mixed10 True\n",
      "mixed10 True\n",
      "mixed10 True\n",
      "mixed10 True\n",
      "mixed10 True\n",
      "mixed10 True\n",
      "mixed10 True\n",
      "mixed10 True\n",
      "mixed10 True\n",
      "mixed10 True\n",
      "mixed10 True\n",
      "mixed10 True\n",
      "mixed10 True\n"
     ]
    }
   ],
   "source": [
    "\n",
    "# for positive cosines similarities\n",
    "pcs_h_layers =[29,210,252,263,268] #high cosine,,\n",
    "pcs_l_layers =[4,11,289,290,291] #lower cosine\n",
    "for sb_layer in model.layers:\n",
    "    # sb_layer.trainable = False\n",
    "    index = getLayerIndex(model, sb_layer.name)\n",
    "    #for b in final_selected_layers:\n",
    "    for b in pcs_h_layers:\n",
    "        if b == index:\n",
    "            sb_layer.trainable = True\n",
    "            #print(str(sb_layer.name) + \" and index is\" + str(b))\n",
    "            print(sb_layer.name,sb_layer.trainable)\n",
    "\n",
    "#for negative cosine similarities\n",
    "# for model 2\n",
    "# for positive cosines similarities\n",
    "ncs_h_layers =[1,235,258,284,289,290]\n",
    "ncs_l_layers =[4,11,14,44,51,74,77] #lower cosine\n",
    "for sbs_layer in model2.layers:\n",
    "    # sb_layer.trainable = False\n",
    "    index = getLayerIndex(model2, sbs_layer.name)\n",
    "    #for b in final_selected_layers:\n",
    "    for b in ncs_h_layers:\n",
    "        if b == index:\n",
    "            sb_layer.trainable = True\n",
    "            #print(str(sb_layer.name) + \" and index is\" + str(b))\n",
    "            print(sb_layer.name,sb_layer.trainable)\n",
    "\n",
    "#for positive negative cosine similarities\n",
    "# for model 3\n",
    "pncs_h_layers =[1,21,31,41,51,52,54] #high cosine,,\n",
    "pncs_l_layers =[108,121,136,154,178] #lower cosine\n",
    "for sbs_layer in model3.layers:\n",
    "    # sb_layer.trainable = False\n",
    "    index = getLayerIndex(model3, sbs_layer.name)\n",
    "    #for b in final_selected_layers:\n",
    "    for b in pncs_h_layers:\n",
    "        if b == index:\n",
    "            sb_layer.trainable = True\n",
    "            #print(str(sb_layer.name) + \" and index is\" + str(b))\n",
    "            print(sb_layer.name,sb_layer.trainable)\n",
    "\n",
    "\n",
    "#finetune by removeing the last layer\n",
    "for lst_layer in model_tune1.layers[:-2]:\n",
    "    lst_layer.trainable = False\n",
    "    \n",
    "####end of the last layer\n",
    "#finetune by removeing the 2nd last layer\n",
    "for scnd_st_layer in model_tune2.layers[:-3]:\n",
    "    scnd_st_layer.trainable = False\n",
    "    \n",
    "####end of the last layer\n",
    "#finetune by removeing the 3rd last layer\n",
    "for thrd_layer in model_tune3.layers[:-4]:\n",
    "    thrd_layer.trainable = False\n",
    "    \n",
    "\n",
    "    \n",
    "####end of the last layer\n",
    "#for feature extraction\n",
    "for ftr_layer in model_tune4.layers:\n",
    "    ftr_layer.trainable = False\n",
    "\n",
    "# try the transfer learning model\n",
    "to_res = (224, 224)\n"
   ]
  },
  {
   "cell_type": "code",
   "execution_count": 17,
   "metadata": {},
   "outputs": [],
   "source": [
    "\n",
    "t_model = Sequential()\n",
    "t_model.add(model)\n",
    "t_model.add(Flatten())\n",
    "t_model.add(layers.BatchNormalization())\n",
    "t_model.add(layers.Dense(64, activation='relu'))\n",
    "t_model.add(layers.Dropout(0.5))\n",
    "t_model.add(layers.BatchNormalization())\n",
    "t_model.add(layers.Dense(100, activation='softmax'))\n",
    "\n",
    "\n",
    "#for model 2\n",
    "t_model2 = Sequential()\n",
    "t_model2.add(model2)\n",
    "t_model2.add(Flatten())\n",
    "t_model2.add(layers.BatchNormalization())\n",
    "t_model2.add(layers.Dense(64, activation='relu'))\n",
    "t_model2.add(layers.Dropout(0.5))\n",
    "t_model2.add(layers.BatchNormalization())\n",
    "t_model2.add(layers.Dense(100, activation='softmax'))\n",
    "\n",
    "\n",
    "#for model 2\n",
    "t_model3 = Sequential()\n",
    "t_model3.add(model3)\n",
    "t_model3.add(Flatten())\n",
    "t_model3.add(layers.BatchNormalization())\n",
    "t_model3.add(layers.Dense(64, activation='relu'))\n",
    "t_model3.add(layers.Dropout(0.5))\n",
    "t_model3.add(layers.BatchNormalization())\n",
    "t_model3.add(layers.Dense(100, activation='softmax'))\n",
    "\n",
    "\n",
    "#for model 2\n",
    "t_model4 = Sequential()\n",
    "t_model4.add(model_tune1)\n",
    "t_model4.add(Flatten())\n",
    "t_model4.add(layers.BatchNormalization())\n",
    "t_model4.add(layers.Dense(64, activation='relu'))\n",
    "t_model4.add(layers.Dropout(0.5))\n",
    "t_model4.add(layers.BatchNormalization())\n",
    "t_model4.add(layers.Dense(100, activation='softmax'))\n",
    "\n",
    "#for model 2\n",
    "t_model5 = Sequential()\n",
    "t_model5.add(model_tune2)\n",
    "t_model5.add(Flatten())\n",
    "t_model5.add(layers.BatchNormalization())\n",
    "t_model5.add(layers.Dense(64, activation='relu'))\n",
    "t_model5.add(layers.Dropout(0.5))\n",
    "t_model5.add(layers.BatchNormalization())\n",
    "t_model5.add(layers.Dense(100, activation='softmax'))\n",
    "\n",
    "#for model 2\n",
    "t_model6 = Sequential()\n",
    "t_model6.add(model_tune3)\n",
    "t_model6.add(Flatten())\n",
    "t_model6.add(layers.BatchNormalization())\n",
    "t_model6.add(layers.Dense(64, activation='relu'))\n",
    "t_model6.add(layers.Dropout(0.5))\n",
    "t_model6.add(layers.BatchNormalization())\n",
    "t_model6.add(layers.Dense(100, activation='softmax'))\n",
    "\n",
    "\n",
    "#for model 2\n",
    "t_model7 = Sequential()\n",
    "t_model7.add(model_tune3)\n",
    "t_model7.add(Flatten())\n",
    "t_model7.add(layers.BatchNormalization())\n",
    "t_model7.add(layers.Dense(64, activation='relu'))\n",
    "t_model7.add(layers.Dropout(0.5))\n",
    "t_model7.add(layers.BatchNormalization())\n",
    "t_model7.add(layers.Dense(100, activation='softmax'))"
   ]
  },
  {
   "cell_type": "code",
   "execution_count": 20,
   "metadata": {},
   "outputs": [
    {
     "name": "stdout",
     "output_type": "stream",
     "text": [
      "Epoch 1/20\n",
      "750/750 [==============================] - 57s 68ms/step - loss: 4.5240 - accuracy: 0.0373 - val_loss: 4.4730 - val_accuracy: 0.0724\n",
      "Epoch 2/20\n",
      "750/750 [==============================] - 50s 66ms/step - loss: 4.4891 - accuracy: 0.0429 - val_loss: 4.3882 - val_accuracy: 0.0800\n",
      "Epoch 3/20\n",
      "750/750 [==============================] - 49s 66ms/step - loss: 4.4520 - accuracy: 0.0472 - val_loss: 4.3094 - val_accuracy: 0.0879\n",
      "Epoch 4/20\n",
      "750/750 [==============================] - 49s 66ms/step - loss: 4.4071 - accuracy: 0.0541 - val_loss: 4.2740 - val_accuracy: 0.0959\n",
      "Epoch 5/20\n",
      "750/750 [==============================] - 50s 66ms/step - loss: 4.3824 - accuracy: 0.0565 - val_loss: 4.2459 - val_accuracy: 0.1028\n",
      "Epoch 6/20\n",
      "750/750 [==============================] - 50s 66ms/step - loss: 4.3562 - accuracy: 0.0617 - val_loss: 4.2054 - val_accuracy: 0.1069\n",
      "Epoch 7/20\n",
      "750/750 [==============================] - 50s 66ms/step - loss: 4.3086 - accuracy: 0.0672 - val_loss: 4.1907 - val_accuracy: 0.1133\n",
      "Epoch 8/20\n",
      "750/750 [==============================] - 50s 66ms/step - loss: 4.2962 - accuracy: 0.0722 - val_loss: 4.1206 - val_accuracy: 0.1186\n",
      "Epoch 9/20\n",
      "750/750 [==============================] - 50s 66ms/step - loss: 4.2652 - accuracy: 0.0762 - val_loss: 4.0997 - val_accuracy: 0.1235\n",
      "Epoch 10/20\n",
      "750/750 [==============================] - 50s 66ms/step - loss: 4.2371 - accuracy: 0.0797 - val_loss: 4.0617 - val_accuracy: 0.1334\n",
      "Epoch 11/20\n",
      "750/750 [==============================] - 49s 66ms/step - loss: 4.2199 - accuracy: 0.0848 - val_loss: 4.0457 - val_accuracy: 0.1381\n",
      "Epoch 12/20\n",
      "750/750 [==============================] - 50s 66ms/step - loss: 4.1840 - accuracy: 0.0920 - val_loss: 4.0033 - val_accuracy: 0.1440\n",
      "Epoch 13/20\n",
      "750/750 [==============================] - 49s 66ms/step - loss: 4.1595 - accuracy: 0.0955 - val_loss: 3.9952 - val_accuracy: 0.1512\n",
      "Epoch 14/20\n",
      "750/750 [==============================] - 50s 66ms/step - loss: 4.1242 - accuracy: 0.1003 - val_loss: 3.9548 - val_accuracy: 0.1573\n",
      "Epoch 15/20\n",
      "750/750 [==============================] - 49s 66ms/step - loss: 4.1168 - accuracy: 0.1012 - val_loss: 3.9357 - val_accuracy: 0.1608\n",
      "Epoch 16/20\n",
      "750/750 [==============================] - 50s 66ms/step - loss: 4.1003 - accuracy: 0.1056 - val_loss: 3.9134 - val_accuracy: 0.1688\n",
      "Epoch 17/20\n",
      "750/750 [==============================] - 50s 66ms/step - loss: 4.0661 - accuracy: 0.1104 - val_loss: 3.8895 - val_accuracy: 0.1777\n",
      "Epoch 18/20\n",
      "750/750 [==============================] - 50s 66ms/step - loss: 4.0468 - accuracy: 0.1151 - val_loss: 3.8636 - val_accuracy: 0.1811\n",
      "Epoch 19/20\n",
      "750/750 [==============================] - 50s 66ms/step - loss: 4.0304 - accuracy: 0.1188 - val_loss: 3.8428 - val_accuracy: 0.1863\n",
      "Epoch 20/20\n",
      "750/750 [==============================] - 50s 66ms/step - loss: 4.0080 - accuracy: 0.1273 - val_loss: 3.8151 - val_accuracy: 0.1923\n"
     ]
    }
   ],
   "source": [
    "#positive cosine similarity\n",
    "t_model.compile(loss=losses.CategoricalCrossentropy(from_logits=True),optimizer=optimizers.SGD(lr=1e-5,momentum=0.9),metrics=['accuracy'])\n",
    "history = t_model.fit(x_train, y_train, batch_size=64,shuffle=True,validation_data=(x_test, y_test), epochs=20, verbose=1)\n"
   ]
  },
  {
   "cell_type": "code",
   "execution_count": 21,
   "metadata": {},
   "outputs": [
    {
     "name": "stdout",
     "output_type": "stream",
     "text": [
      "Epoch 1/20\n",
      "750/750 [==============================] - 57s 68ms/step - loss: 4.9574 - accuracy: 0.0107 - val_loss: 4.8541 - val_accuracy: 0.0118\n",
      "Epoch 2/20\n",
      "750/750 [==============================] - 49s 66ms/step - loss: 4.8960 - accuracy: 0.0130 - val_loss: 4.8045 - val_accuracy: 0.0187\n",
      "Epoch 3/20\n",
      "750/750 [==============================] - 49s 66ms/step - loss: 4.8339 - accuracy: 0.0151 - val_loss: 4.8587 - val_accuracy: 0.0237\n",
      "Epoch 4/20\n",
      "750/750 [==============================] - 49s 66ms/step - loss: 4.7809 - accuracy: 0.0176 - val_loss: 4.9175 - val_accuracy: 0.0277\n",
      "Epoch 5/20\n",
      "750/750 [==============================] - 49s 66ms/step - loss: 4.7434 - accuracy: 0.0210 - val_loss: 4.8599 - val_accuracy: 0.0337\n",
      "Epoch 6/20\n",
      "750/750 [==============================] - 49s 66ms/step - loss: 4.6934 - accuracy: 0.0238 - val_loss: 4.6886 - val_accuracy: 0.0405\n",
      "Epoch 7/20\n",
      "750/750 [==============================] - 50s 66ms/step - loss: 4.6488 - accuracy: 0.0267 - val_loss: 4.6139 - val_accuracy: 0.0456\n",
      "Epoch 8/20\n",
      "750/750 [==============================] - 50s 66ms/step - loss: 4.6034 - accuracy: 0.0318 - val_loss: 4.4907 - val_accuracy: 0.0545\n",
      "Epoch 9/20\n",
      "750/750 [==============================] - 50s 66ms/step - loss: 4.5721 - accuracy: 0.0328 - val_loss: 4.4048 - val_accuracy: 0.0623\n",
      "Epoch 10/20\n",
      "750/750 [==============================] - 49s 66ms/step - loss: 4.5372 - accuracy: 0.0391 - val_loss: 4.4005 - val_accuracy: 0.0695\n",
      "Epoch 11/20\n",
      "750/750 [==============================] - 49s 66ms/step - loss: 4.4974 - accuracy: 0.0418 - val_loss: 4.3188 - val_accuracy: 0.0777\n",
      "Epoch 12/20\n",
      "750/750 [==============================] - 50s 66ms/step - loss: 4.4664 - accuracy: 0.0466 - val_loss: 4.2982 - val_accuracy: 0.0836\n",
      "Epoch 13/20\n",
      "750/750 [==============================] - 49s 66ms/step - loss: 4.4196 - accuracy: 0.0525 - val_loss: 4.2489 - val_accuracy: 0.0929\n",
      "Epoch 14/20\n",
      "750/750 [==============================] - 50s 66ms/step - loss: 4.3913 - accuracy: 0.0565 - val_loss: 4.2151 - val_accuracy: 0.1011\n",
      "Epoch 15/20\n",
      "750/750 [==============================] - 50s 66ms/step - loss: 4.3642 - accuracy: 0.0632 - val_loss: 4.1895 - val_accuracy: 0.1087\n",
      "Epoch 16/20\n",
      "750/750 [==============================] - 50s 66ms/step - loss: 4.3477 - accuracy: 0.0626 - val_loss: 4.1376 - val_accuracy: 0.1178\n",
      "Epoch 17/20\n",
      "750/750 [==============================] - 50s 66ms/step - loss: 4.2996 - accuracy: 0.0692 - val_loss: 4.0978 - val_accuracy: 0.1228\n",
      "Epoch 18/20\n",
      "750/750 [==============================] - 49s 66ms/step - loss: 4.2641 - accuracy: 0.0759 - val_loss: 4.0570 - val_accuracy: 0.1310\n",
      "Epoch 19/20\n",
      "750/750 [==============================] - 50s 66ms/step - loss: 4.2496 - accuracy: 0.0786 - val_loss: 4.0324 - val_accuracy: 0.1385\n",
      "Epoch 20/20\n",
      "750/750 [==============================] - 50s 66ms/step - loss: 4.2124 - accuracy: 0.0843 - val_loss: 3.9951 - val_accuracy: 0.1425\n"
     ]
    }
   ],
   "source": [
    "#negative cosine similarity look\n",
    "#for model2\n",
    "t_model2.compile(loss=losses.CategoricalCrossentropy(from_logits=True),optimizer=optimizers.SGD(lr=1e-5,momentum=0.9),metrics=['accuracy'])\n",
    "history2 = t_model2.fit(x_train, y_train,  batch_size=64, shuffle=True,validation_data=(x_test, y_test), epochs=20, verbose=1)\n"
   ]
  },
  {
   "cell_type": "code",
   "execution_count": 22,
   "metadata": {},
   "outputs": [
    {
     "name": "stdout",
     "output_type": "stream",
     "text": [
      "Epoch 1/20\n",
      "750/750 [==============================] - 57s 68ms/step - loss: 4.9580 - accuracy: 0.0107 - val_loss: 4.9267 - val_accuracy: 0.0139\n",
      "Epoch 2/20\n",
      "750/750 [==============================] - 50s 66ms/step - loss: 4.8788 - accuracy: 0.0121 - val_loss: 4.8845 - val_accuracy: 0.0178\n",
      "Epoch 3/20\n",
      "750/750 [==============================] - 49s 66ms/step - loss: 4.8449 - accuracy: 0.0157 - val_loss: 4.6858 - val_accuracy: 0.0238\n",
      "Epoch 4/20\n",
      "750/750 [==============================] - 49s 66ms/step - loss: 4.7742 - accuracy: 0.0176 - val_loss: 4.6948 - val_accuracy: 0.0304\n",
      "Epoch 5/20\n",
      "750/750 [==============================] - 50s 66ms/step - loss: 4.7338 - accuracy: 0.0211 - val_loss: 4.6158 - val_accuracy: 0.0367\n",
      "Epoch 6/20\n",
      "750/750 [==============================] - 50s 66ms/step - loss: 4.6967 - accuracy: 0.0227 - val_loss: 4.5638 - val_accuracy: 0.0416\n",
      "Epoch 7/20\n",
      "750/750 [==============================] - 50s 66ms/step - loss: 4.6526 - accuracy: 0.0275 - val_loss: 4.4860 - val_accuracy: 0.0478\n",
      "Epoch 8/20\n",
      "750/750 [==============================] - 50s 66ms/step - loss: 4.6137 - accuracy: 0.0321 - val_loss: 4.4398 - val_accuracy: 0.0547\n",
      "Epoch 9/20\n",
      "750/750 [==============================] - 50s 66ms/step - loss: 4.5843 - accuracy: 0.0344 - val_loss: 4.4243 - val_accuracy: 0.0610\n",
      "Epoch 10/20\n",
      "750/750 [==============================] - 50s 66ms/step - loss: 4.5408 - accuracy: 0.0377 - val_loss: 4.3592 - val_accuracy: 0.0683\n",
      "Epoch 11/20\n",
      "750/750 [==============================] - 50s 66ms/step - loss: 4.5130 - accuracy: 0.0413 - val_loss: 4.3505 - val_accuracy: 0.0754\n",
      "Epoch 12/20\n",
      "750/750 [==============================] - 50s 66ms/step - loss: 4.4631 - accuracy: 0.0457 - val_loss: 4.3067 - val_accuracy: 0.0828\n",
      "Epoch 13/20\n",
      "750/750 [==============================] - 49s 66ms/step - loss: 4.4603 - accuracy: 0.0483 - val_loss: 4.2640 - val_accuracy: 0.0907\n",
      "Epoch 14/20\n",
      "750/750 [==============================] - 50s 66ms/step - loss: 4.4244 - accuracy: 0.0535 - val_loss: 4.2350 - val_accuracy: 0.0997\n",
      "Epoch 15/20\n",
      "750/750 [==============================] - 50s 66ms/step - loss: 4.3775 - accuracy: 0.0592 - val_loss: 4.2174 - val_accuracy: 0.1082\n",
      "Epoch 16/20\n",
      "750/750 [==============================] - 49s 66ms/step - loss: 4.3661 - accuracy: 0.0614 - val_loss: 4.1956 - val_accuracy: 0.1151\n",
      "Epoch 17/20\n",
      "750/750 [==============================] - 50s 66ms/step - loss: 4.3402 - accuracy: 0.0660 - val_loss: 4.1598 - val_accuracy: 0.1247\n",
      "Epoch 18/20\n",
      "750/750 [==============================] - 49s 66ms/step - loss: 4.3104 - accuracy: 0.0694 - val_loss: 4.1349 - val_accuracy: 0.1301\n",
      "Epoch 19/20\n",
      "750/750 [==============================] - 50s 66ms/step - loss: 4.2835 - accuracy: 0.0770 - val_loss: 4.0885 - val_accuracy: 0.1394\n",
      "Epoch 20/20\n",
      "750/750 [==============================] - 49s 66ms/step - loss: 4.2526 - accuracy: 0.0787 - val_loss: 4.0530 - val_accuracy: 0.1458\n"
     ]
    }
   ],
   "source": [
    "#for model3\n",
    "t_model3.compile(loss=losses.CategoricalCrossentropy(from_logits=True),optimizer=optimizers.SGD(lr=1e-5,momentum=0.9),metrics=['accuracy'])\n",
    "history3 = t_model3.fit(x_train, y_train,  batch_size=64, shuffle=True,validation_data=(x_test, y_test), epochs=20, verbose=1)\n"
   ]
  },
  {
   "cell_type": "code",
   "execution_count": 23,
   "metadata": {},
   "outputs": [
    {
     "name": "stdout",
     "output_type": "stream",
     "text": [
      "Epoch 1/20\n",
      "750/750 [==============================] - 23s 26ms/step - loss: 4.9752 - accuracy: 0.0102 - val_loss: 4.7527 - val_accuracy: 0.0107\n",
      "Epoch 2/20\n",
      "750/750 [==============================] - 18s 24ms/step - loss: 4.9645 - accuracy: 0.0092 - val_loss: 4.7348 - val_accuracy: 0.0117\n",
      "Epoch 3/20\n",
      "750/750 [==============================] - 18s 24ms/step - loss: 4.9409 - accuracy: 0.0121 - val_loss: 4.7195 - val_accuracy: 0.0119\n",
      "Epoch 4/20\n",
      "750/750 [==============================] - 18s 24ms/step - loss: 4.9327 - accuracy: 0.0118 - val_loss: 4.7065 - val_accuracy: 0.0129\n",
      "Epoch 5/20\n",
      "750/750 [==============================] - 18s 24ms/step - loss: 4.9103 - accuracy: 0.0123 - val_loss: 4.6943 - val_accuracy: 0.0134\n",
      "Epoch 6/20\n",
      "750/750 [==============================] - 18s 24ms/step - loss: 4.8940 - accuracy: 0.0121 - val_loss: 4.6829 - val_accuracy: 0.0148\n",
      "Epoch 7/20\n",
      "750/750 [==============================] - 18s 24ms/step - loss: 4.8999 - accuracy: 0.0117 - val_loss: 4.6721 - val_accuracy: 0.0159\n",
      "Epoch 8/20\n",
      "750/750 [==============================] - 18s 24ms/step - loss: 4.8789 - accuracy: 0.0137 - val_loss: 4.6592 - val_accuracy: 0.0160\n",
      "Epoch 9/20\n",
      "750/750 [==============================] - 18s 24ms/step - loss: 4.8648 - accuracy: 0.0128 - val_loss: 4.6501 - val_accuracy: 0.0170\n",
      "Epoch 10/20\n",
      "750/750 [==============================] - 18s 24ms/step - loss: 4.8547 - accuracy: 0.0135 - val_loss: 4.6396 - val_accuracy: 0.0181\n",
      "Epoch 11/20\n",
      "750/750 [==============================] - 18s 24ms/step - loss: 4.8435 - accuracy: 0.0131 - val_loss: 4.6301 - val_accuracy: 0.0192\n",
      "Epoch 12/20\n",
      "750/750 [==============================] - 18s 24ms/step - loss: 4.8252 - accuracy: 0.0156 - val_loss: 4.6213 - val_accuracy: 0.0204\n",
      "Epoch 13/20\n",
      "750/750 [==============================] - 18s 24ms/step - loss: 4.8322 - accuracy: 0.0151 - val_loss: 4.6144 - val_accuracy: 0.0212\n",
      "Epoch 14/20\n",
      "750/750 [==============================] - 18s 24ms/step - loss: 4.8154 - accuracy: 0.0162 - val_loss: 4.6053 - val_accuracy: 0.0221\n",
      "Epoch 15/20\n",
      "750/750 [==============================] - 18s 24ms/step - loss: 4.8009 - accuracy: 0.0173 - val_loss: 4.5983 - val_accuracy: 0.0239\n",
      "Epoch 16/20\n",
      "750/750 [==============================] - 18s 24ms/step - loss: 4.8034 - accuracy: 0.0165 - val_loss: 4.5919 - val_accuracy: 0.0257\n",
      "Epoch 17/20\n",
      "750/750 [==============================] - 18s 24ms/step - loss: 4.7878 - accuracy: 0.0180 - val_loss: 4.5836 - val_accuracy: 0.0263\n",
      "Epoch 18/20\n",
      "750/750 [==============================] - 18s 24ms/step - loss: 4.7828 - accuracy: 0.0170 - val_loss: 4.5777 - val_accuracy: 0.0265\n",
      "Epoch 19/20\n",
      "750/750 [==============================] - 18s 24ms/step - loss: 4.7700 - accuracy: 0.0173 - val_loss: 4.5715 - val_accuracy: 0.0277\n",
      "Epoch 20/20\n",
      "750/750 [==============================] - 18s 24ms/step - loss: 4.7678 - accuracy: 0.0180 - val_loss: 4.5659 - val_accuracy: 0.0293\n"
     ]
    }
   ],
   "source": [
    "#for model3\n",
    "t_model4.compile(loss=losses.CategoricalCrossentropy(from_logits=True),optimizer=optimizers.SGD(lr=1e-5,momentum=0.9),metrics=['accuracy'])\n",
    "history4= t_model4.fit(x_train, y_train,  batch_size=64, shuffle=True,validation_data=(x_test, y_test), epochs=20, verbose=1)"
   ]
  },
  {
   "cell_type": "code",
   "execution_count": 24,
   "metadata": {},
   "outputs": [
    {
     "name": "stdout",
     "output_type": "stream",
     "text": [
      "Epoch 1/20\n",
      "750/750 [==============================] - 24s 26ms/step - loss: 4.9409 - accuracy: 0.0099 - val_loss: 4.7331 - val_accuracy: 0.0099\n",
      "Epoch 2/20\n",
      "750/750 [==============================] - 18s 24ms/step - loss: 4.9429 - accuracy: 0.0117 - val_loss: 4.7178 - val_accuracy: 0.0107\n",
      "Epoch 3/20\n",
      "750/750 [==============================] - 18s 24ms/step - loss: 4.9198 - accuracy: 0.0103 - val_loss: 4.7043 - val_accuracy: 0.0113\n",
      "Epoch 4/20\n",
      "750/750 [==============================] - 18s 24ms/step - loss: 4.9089 - accuracy: 0.0122 - val_loss: 4.6928 - val_accuracy: 0.0118\n",
      "Epoch 5/20\n",
      "750/750 [==============================] - 18s 24ms/step - loss: 4.8934 - accuracy: 0.0114 - val_loss: 4.6802 - val_accuracy: 0.0130\n",
      "Epoch 6/20\n",
      "750/750 [==============================] - 18s 24ms/step - loss: 4.8854 - accuracy: 0.0127 - val_loss: 4.6661 - val_accuracy: 0.0143\n",
      "Epoch 7/20\n",
      "750/750 [==============================] - 18s 24ms/step - loss: 4.8628 - accuracy: 0.0123 - val_loss: 4.6563 - val_accuracy: 0.0147\n",
      "Epoch 8/20\n",
      "750/750 [==============================] - 18s 24ms/step - loss: 4.8651 - accuracy: 0.0128 - val_loss: 4.6480 - val_accuracy: 0.0163\n",
      "Epoch 9/20\n",
      "750/750 [==============================] - 18s 24ms/step - loss: 4.8489 - accuracy: 0.0137 - val_loss: 4.6356 - val_accuracy: 0.0168\n",
      "Epoch 10/20\n",
      "750/750 [==============================] - 18s 24ms/step - loss: 4.8383 - accuracy: 0.0132 - val_loss: 4.6270 - val_accuracy: 0.0187\n",
      "Epoch 11/20\n",
      "750/750 [==============================] - 18s 24ms/step - loss: 4.8225 - accuracy: 0.0151 - val_loss: 4.6188 - val_accuracy: 0.0197\n",
      "Epoch 12/20\n",
      "750/750 [==============================] - 18s 24ms/step - loss: 4.8246 - accuracy: 0.0147 - val_loss: 4.6124 - val_accuracy: 0.0204\n",
      "Epoch 13/20\n",
      "750/750 [==============================] - 18s 24ms/step - loss: 4.8085 - accuracy: 0.0141 - val_loss: 4.6044 - val_accuracy: 0.0214\n",
      "Epoch 14/20\n",
      "750/750 [==============================] - 18s 24ms/step - loss: 4.7965 - accuracy: 0.0160 - val_loss: 4.5970 - val_accuracy: 0.0231\n",
      "Epoch 15/20\n",
      "750/750 [==============================] - 18s 24ms/step - loss: 4.7923 - accuracy: 0.0153 - val_loss: 4.5897 - val_accuracy: 0.0242\n",
      "Epoch 16/20\n",
      "750/750 [==============================] - 18s 24ms/step - loss: 4.7901 - accuracy: 0.0162 - val_loss: 4.5830 - val_accuracy: 0.0255\n",
      "Epoch 17/20\n",
      "750/750 [==============================] - 18s 24ms/step - loss: 4.7663 - accuracy: 0.0178 - val_loss: 4.5748 - val_accuracy: 0.0275\n",
      "Epoch 18/20\n",
      "750/750 [==============================] - 18s 24ms/step - loss: 4.7790 - accuracy: 0.0176 - val_loss: 4.5677 - val_accuracy: 0.0277\n",
      "Epoch 19/20\n",
      "750/750 [==============================] - 18s 24ms/step - loss: 4.7591 - accuracy: 0.0165 - val_loss: 4.5627 - val_accuracy: 0.0291\n",
      "Epoch 20/20\n",
      "750/750 [==============================] - 18s 24ms/step - loss: 4.7618 - accuracy: 0.0161 - val_loss: 4.5562 - val_accuracy: 0.0297\n"
     ]
    }
   ],
   "source": [
    "#for model3\n",
    "t_model5.compile(loss=losses.CategoricalCrossentropy(from_logits=True),optimizer=optimizers.SGD(lr=1e-5,momentum=0.9),metrics=['accuracy'])\n",
    "history5 = t_model5.fit(x_train, y_train,  batch_size=64, shuffle=True,validation_data=(x_test, y_test), epochs=20, verbose=1)\n"
   ]
  },
  {
   "cell_type": "code",
   "execution_count": 25,
   "metadata": {},
   "outputs": [
    {
     "name": "stdout",
     "output_type": "stream",
     "text": [
      "Epoch 1/20\n",
      "750/750 [==============================] - 23s 26ms/step - loss: 4.9609 - accuracy: 0.0116 - val_loss: 4.7357 - val_accuracy: 0.0113\n",
      "Epoch 2/20\n",
      "750/750 [==============================] - 18s 24ms/step - loss: 4.9422 - accuracy: 0.0111 - val_loss: 4.7230 - val_accuracy: 0.0114\n",
      "Epoch 3/20\n",
      "750/750 [==============================] - 18s 24ms/step - loss: 4.9318 - accuracy: 0.0116 - val_loss: 4.7109 - val_accuracy: 0.0124\n",
      "Epoch 4/20\n",
      "750/750 [==============================] - 18s 24ms/step - loss: 4.9144 - accuracy: 0.0125 - val_loss: 4.6943 - val_accuracy: 0.0135\n",
      "Epoch 5/20\n",
      "750/750 [==============================] - 18s 24ms/step - loss: 4.9066 - accuracy: 0.0130 - val_loss: 4.6818 - val_accuracy: 0.0151\n",
      "Epoch 6/20\n",
      "750/750 [==============================] - 18s 24ms/step - loss: 4.8807 - accuracy: 0.0135 - val_loss: 4.6689 - val_accuracy: 0.0164\n",
      "Epoch 7/20\n",
      "750/750 [==============================] - 18s 24ms/step - loss: 4.8823 - accuracy: 0.0131 - val_loss: 4.6596 - val_accuracy: 0.0168\n",
      "Epoch 8/20\n",
      "750/750 [==============================] - 18s 24ms/step - loss: 4.8599 - accuracy: 0.0142 - val_loss: 4.6485 - val_accuracy: 0.0181\n",
      "Epoch 9/20\n",
      "750/750 [==============================] - 18s 24ms/step - loss: 4.8575 - accuracy: 0.0152 - val_loss: 4.6385 - val_accuracy: 0.0186\n",
      "Epoch 10/20\n",
      "750/750 [==============================] - 18s 24ms/step - loss: 4.8506 - accuracy: 0.0140 - val_loss: 4.6304 - val_accuracy: 0.0200\n",
      "Epoch 11/20\n",
      "750/750 [==============================] - 18s 24ms/step - loss: 4.8476 - accuracy: 0.0148 - val_loss: 4.6201 - val_accuracy: 0.0210\n",
      "Epoch 12/20\n",
      "750/750 [==============================] - 18s 24ms/step - loss: 4.8207 - accuracy: 0.0171 - val_loss: 4.6123 - val_accuracy: 0.0216\n",
      "Epoch 13/20\n",
      "750/750 [==============================] - 18s 24ms/step - loss: 4.8214 - accuracy: 0.0148 - val_loss: 4.6061 - val_accuracy: 0.0237\n",
      "Epoch 14/20\n",
      "750/750 [==============================] - 18s 24ms/step - loss: 4.8118 - accuracy: 0.0172 - val_loss: 4.5978 - val_accuracy: 0.0249\n",
      "Epoch 15/20\n",
      "750/750 [==============================] - 18s 24ms/step - loss: 4.7995 - accuracy: 0.0184 - val_loss: 4.5896 - val_accuracy: 0.0253\n",
      "Epoch 16/20\n",
      "750/750 [==============================] - 18s 24ms/step - loss: 4.7966 - accuracy: 0.0176 - val_loss: 4.5835 - val_accuracy: 0.0264\n",
      "Epoch 17/20\n",
      "750/750 [==============================] - 18s 24ms/step - loss: 4.7888 - accuracy: 0.0178 - val_loss: 4.5760 - val_accuracy: 0.0272\n",
      "Epoch 18/20\n",
      "750/750 [==============================] - 18s 24ms/step - loss: 4.7739 - accuracy: 0.0205 - val_loss: 4.5687 - val_accuracy: 0.0285\n",
      "Epoch 19/20\n",
      "750/750 [==============================] - 18s 24ms/step - loss: 4.7662 - accuracy: 0.0200 - val_loss: 4.5647 - val_accuracy: 0.0299\n",
      "Epoch 20/20\n",
      "750/750 [==============================] - 18s 24ms/step - loss: 4.7692 - accuracy: 0.0192 - val_loss: 4.5589 - val_accuracy: 0.0302\n"
     ]
    }
   ],
   "source": [
    "#for model3\n",
    "t_model6.compile(loss=losses.CategoricalCrossentropy(from_logits=True),optimizer=optimizers.SGD(lr=1e-5,momentum=0.9),metrics=['accuracy'])\n",
    "history6 = t_model6.fit(x_train, y_train,  batch_size=64,shuffle=True,validation_data=(x_test, y_test), epochs=20, verbose=1)\n"
   ]
  },
  {
   "cell_type": "code",
   "execution_count": 26,
   "metadata": {
    "scrolled": true
   },
   "outputs": [
    {
     "name": "stdout",
     "output_type": "stream",
     "text": [
      "Epoch 1/20\n",
      "750/750 [==============================] - 24s 26ms/step - loss: 4.9708 - accuracy: 0.0099 - val_loss: 4.7488 - val_accuracy: 0.0098\n",
      "Epoch 2/20\n",
      "750/750 [==============================] - 18s 24ms/step - loss: 4.9552 - accuracy: 0.0103 - val_loss: 4.7367 - val_accuracy: 0.0111\n",
      "Epoch 3/20\n",
      "750/750 [==============================] - 18s 24ms/step - loss: 4.9446 - accuracy: 0.0108 - val_loss: 4.7212 - val_accuracy: 0.0117\n",
      "Epoch 4/20\n",
      "750/750 [==============================] - 18s 24ms/step - loss: 4.9250 - accuracy: 0.0119 - val_loss: 4.7070 - val_accuracy: 0.0119\n",
      "Epoch 5/20\n",
      "750/750 [==============================] - 18s 24ms/step - loss: 4.9133 - accuracy: 0.0122 - val_loss: 4.6929 - val_accuracy: 0.0128\n",
      "Epoch 6/20\n",
      "750/750 [==============================] - 18s 24ms/step - loss: 4.8951 - accuracy: 0.0120 - val_loss: 4.6812 - val_accuracy: 0.0136\n",
      "Epoch 7/20\n",
      "750/750 [==============================] - 18s 24ms/step - loss: 4.8878 - accuracy: 0.0129 - val_loss: 4.6685 - val_accuracy: 0.0143\n",
      "Epoch 8/20\n",
      "750/750 [==============================] - 18s 24ms/step - loss: 4.8708 - accuracy: 0.0134 - val_loss: 4.6614 - val_accuracy: 0.0154\n",
      "Epoch 9/20\n",
      "750/750 [==============================] - 18s 24ms/step - loss: 4.8538 - accuracy: 0.0143 - val_loss: 4.6502 - val_accuracy: 0.0157\n",
      "Epoch 10/20\n",
      "750/750 [==============================] - 18s 24ms/step - loss: 4.8600 - accuracy: 0.0145 - val_loss: 4.6397 - val_accuracy: 0.0160\n",
      "Epoch 11/20\n",
      "750/750 [==============================] - 18s 24ms/step - loss: 4.8440 - accuracy: 0.0157 - val_loss: 4.6305 - val_accuracy: 0.0175\n",
      "Epoch 12/20\n",
      "750/750 [==============================] - 18s 24ms/step - loss: 4.8393 - accuracy: 0.0140 - val_loss: 4.6239 - val_accuracy: 0.0181\n",
      "Epoch 13/20\n",
      "750/750 [==============================] - 18s 24ms/step - loss: 4.8356 - accuracy: 0.0148 - val_loss: 4.6152 - val_accuracy: 0.0196\n",
      "Epoch 14/20\n",
      "750/750 [==============================] - 18s 24ms/step - loss: 4.8219 - accuracy: 0.0157 - val_loss: 4.6067 - val_accuracy: 0.0203\n",
      "Epoch 15/20\n",
      "750/750 [==============================] - 18s 24ms/step - loss: 4.8058 - accuracy: 0.0162 - val_loss: 4.6005 - val_accuracy: 0.0222\n",
      "Epoch 16/20\n",
      "750/750 [==============================] - 18s 24ms/step - loss: 4.8063 - accuracy: 0.0162 - val_loss: 4.5922 - val_accuracy: 0.0230\n",
      "Epoch 17/20\n",
      "750/750 [==============================] - 18s 24ms/step - loss: 4.8014 - accuracy: 0.0171 - val_loss: 4.5875 - val_accuracy: 0.0238\n",
      "Epoch 18/20\n",
      "750/750 [==============================] - 18s 24ms/step - loss: 4.7862 - accuracy: 0.0167 - val_loss: 4.5805 - val_accuracy: 0.0244\n",
      "Epoch 19/20\n",
      "750/750 [==============================] - 18s 24ms/step - loss: 4.7857 - accuracy: 0.0171 - val_loss: 4.5741 - val_accuracy: 0.0256\n",
      "Epoch 20/20\n",
      "750/750 [==============================] - 18s 24ms/step - loss: 4.7741 - accuracy: 0.0189 - val_loss: 4.5704 - val_accuracy: 0.0270\n"
     ]
    }
   ],
   "source": [
    "#for model3\n",
    "t_model7.compile(loss=losses.CategoricalCrossentropy(from_logits=True),optimizer=optimizers.SGD(lr=1e-5,momentum=0.9),metrics=['accuracy'])\n",
    "history7 = t_model7.fit(x_train, y_train,  batch_size=64, shuffle=True,validation_data=(x_test, y_test), epochs=20, verbose=1)\n"
   ]
  },
  {
   "cell_type": "code",
   "execution_count": 27,
   "metadata": {},
   "outputs": [
    {
     "name": "stderr",
     "output_type": "stream",
     "text": [
      "The PostScript backend does not support transparency; partially transparent artists will be rendered opaque.\n",
      "The PostScript backend does not support transparency; partially transparent artists will be rendered opaque.\n"
     ]
    },
    {
     "data": {
      "image/png": "[encoded data removed]",
      "text/plain": [
       "<Figure size 432x288 with 1 Axes>"
      ]
     },
     "metadata": {
      "needs_background": "light"
     },
     "output_type": "display_data"
    }
   ],
   "source": [
    "fig1 = plt.figure()\n",
    "plt.plot(history.history['val_accuracy'])\n",
    "#plt.plot(history.history['val_loss'])\n",
    "plt.plot(history2.history['val_accuracy'])\n",
    "#plt.plot(history2.history['val_loss'])\n",
    "plt.plot(history3.history['val_accuracy'])\n",
    "#plt.plot(history3.history['val_loss'])\n",
    "plt.plot(history4.history['val_accuracy'])\n",
    "#plt.plot(history4.history['val_loss'])\n",
    "plt.plot(history5.history['val_accuracy'])\n",
    "#plt.plot(history5.history['val_loss'])\n",
    "plt.plot(history6.history['val_accuracy'])\n",
    "#plt.plot(history6.history['val_loss'])\n",
    "plt.plot(history7.history['val_accuracy'])\n",
    "#plt.plot(history6.history['val_loss'])\n",
    "#plt.title('Model Training Loss Comparison')\n",
    "plt.ylabel('Accuracy')\n",
    "plt.xlabel('Epoch')\n",
    "#plt.legend(['BTw_0-1', 'GRT>10', 'GRT>100'], loc=\"center right\", bbox_to_anchor=(1.6, 0.5))\n",
    "#plt.legend(['PCS','NCS','PNCS','1st_Layer','2nd_Layer','3rd_Layer','Feature_Extraction'], loc='upper left')\n",
    "plt.legend(['PCS','NCS','PNCS','1st_Layer','2nd_Layer','3rd_Layer','Feature_Extraction'], loc=\"center right\", bbox_to_anchor=(1.6, 0.5))\n",
    "\n",
    "fig1.savefig('all_similarity_cifar100_inceptionv3.eps', dpi=1200, format=\"eps\", bbox_inches=\"tight\")\n",
    "plt.show()"
   ]
  },
  {
   "cell_type": "code",
   "execution_count": 28,
   "metadata": {},
   "outputs": [
    {
     "name": "stderr",
     "output_type": "stream",
     "text": [
      "The PostScript backend does not support transparency; partially transparent artists will be rendered opaque.\n",
      "The PostScript backend does not support transparency; partially transparent artists will be rendered opaque.\n"
     ]
    },
    {
     "data": {
      "image/png": "[encoded data removed]",
      "text/plain": [
       "<Figure size 432x288 with 1 Axes>"
      ]
     },
     "metadata": {
      "needs_background": "light"
     },
     "output_type": "display_data"
    }
   ],
   "source": [
    "fig2 = plt.figure()\n",
    "plt.plot(history.history['accuracy'])\n",
    "plt.plot(history.history['val_accuracy'])\n",
    "#plt.plot(history.history['val_loss'])\n",
    "plt.plot(history2.history['accuracy'])\n",
    "plt.plot(history2.history['val_accuracy'])\n",
    "#plt.plot(history2.history['val_loss'])\n",
    "plt.plot(history3.history['accuracy'])\n",
    "plt.plot(history3.history['val_accuracy'])\n",
    "plt.ylabel('Accuracy')\n",
    "plt.xlabel('Epoch')\n",
    "plt.legend(['PCS_Train','PCS_Val','NCS_Train','NCS_Val','PNCS_Train','PNCS_Val'], loc='lower right')\n",
    "\n",
    "fig2.savefig('3plots_cifar100_inceptionv3.eps', dpi=1200, format=\"eps\", bbox_inches=\"tight\")\n",
    "plt.show()"
   ]
  },
  {
   "cell_type": "code",
   "execution_count": 29,
   "metadata": {},
   "outputs": [
    {
     "name": "stderr",
     "output_type": "stream",
     "text": [
      "The PostScript backend does not support transparency; partially transparent artists will be rendered opaque.\n",
      "The PostScript backend does not support transparency; partially transparent artists will be rendered opaque.\n"
     ]
    },
    {
     "data": {
      "image/png": "[encoded data removed]",
      "text/plain": [
       "<Figure size 432x288 with 1 Axes>"
      ]
     },
     "metadata": {
      "needs_background": "light"
     },
     "output_type": "display_data"
    }
   ],
   "source": [
    "fig3 = plt.figure()\n",
    "plt.plot(history.history['loss'])\n",
    "plt.plot(history.history['val_loss'])\n",
    "#plt.plot(history.history['val_loss'])\n",
    "plt.plot(history2.history['loss'])\n",
    "plt.plot(history2.history['val_loss'])\n",
    "#plt.plot(history2.history['val_loss'])\n",
    "plt.plot(history3.history['loss'])\n",
    "plt.plot(history3.history['val_loss'])\n",
    "plt.ylabel('Loss')\n",
    "plt.xlabel('Epoch')\n",
    "plt.legend(['PCS_Train','PCS_Val','NCS_Train','NCS_Val','PNCS_Train','PNCS_Val'], loc='upper right')\n",
    "\n",
    "fig3.savefig('3plots_Loss_cifar100_inceptionv3.eps', dpi=1200, format=\"eps\", bbox_inches=\"tight\")\n",
    "plt.show()"
   ]
  },
  {
   "cell_type": "code",
   "execution_count": null,
   "metadata": {},
   "outputs": [],
   "source": []
  }
 ],
 "metadata": {
  "kernelspec": {
   "display_name": "Python 3",
   "language": "python",
   "name": "python3"
  },
  "language_info": {
   "codemirror_mode": {
    "name": "ipython",
    "version": 3
   },
   "file_extension": ".py",
   "mimetype": "text/x-python",
   "name": "python",
   "nbconvert_exporter": "python",
   "pygments_lexer": "ipython3",
   "version": "3.6.9"
  }
 },
 "nbformat": 4,
 "nbformat_minor": 2
}
