{
 "cells": [
  {
   "cell_type": "code",
   "execution_count": 1,
   "metadata": {
    "gradient": {}
   },
   "outputs": [
    {
     "name": "stdout",
     "output_type": "stream",
     "text": [
      "Requirement already satisfied: pandas in /usr/local/lib/python3.6/dist-packages (1.1.5)\n",
      "Requirement already satisfied: pytz>=2017.2 in /usr/local/lib/python3.6/dist-packages (from pandas) (2021.1)\n",
      "Requirement already satisfied: python-dateutil>=2.7.3 in /usr/local/lib/python3.6/dist-packages (from pandas) (2.8.1)\n",
      "Requirement already satisfied: numpy>=1.15.4 in /usr/local/lib/python3.6/dist-packages (from pandas) (1.19.5)\n",
      "Requirement already satisfied: six>=1.5 in /usr/local/lib/python3.6/dist-packages (from python-dateutil>=2.7.3->pandas) (1.15.0)\n",
      "\u001b[33mWARNING: You are using pip version 20.2.4; however, version 21.3.1 is available.\n",
      "You should consider upgrading via the '/usr/bin/python3 -m pip install --upgrade pip' command.\u001b[0m\n",
      "Note: you may need to restart the kernel to use updated packages.\n"
     ]
    }
   ],
   "source": [
    "pip install pandas"
   ]
  },
  {
   "cell_type": "code",
   "execution_count": 2,
   "metadata": {
    "gradient": {}
   },
   "outputs": [
    {
     "name": "stdout",
     "output_type": "stream",
     "text": [
      "Requirement already satisfied: SciPy in /usr/local/lib/python3.6/dist-packages (1.5.4)\n",
      "Requirement already satisfied: numpy>=1.14.5 in /usr/local/lib/python3.6/dist-packages (from SciPy) (1.19.5)\n",
      "\u001b[33mWARNING: You are using pip version 20.2.4; however, version 21.3.1 is available.\n",
      "You should consider upgrading via the '/usr/bin/python3 -m pip install --upgrade pip' command.\u001b[0m\n",
      "Note: you may need to restart the kernel to use updated packages.\n"
     ]
    }
   ],
   "source": [
    "pip install SciPy"
   ]
  },
  {
   "cell_type": "code",
   "execution_count": 3,
   "metadata": {
    "gradient": {}
   },
   "outputs": [],
   "source": [
    "import tensorflow\n",
    "import statistics as stats\n",
    "from collections import defaultdict\n",
    "import pandas as pd\n",
    "import numpy as np\n",
    "from tensorflow import keras\n",
    "from tensorflow.keras.applications.resnet50 import ResNet50 as resnet50\n",
    "from tensorflow.keras.applications.inception_v3 import InceptionV3 as inception\n",
    "from tensorflow.keras.applications.vgg16 import VGG16 as vgg16\n",
    "from tensorflow.keras.applications.densenet import DenseNet169 as densenet\n",
    "from tensorflow.keras.preprocessing.image import ImageDataGenerator\n",
    "from tensorflow.keras import layers, losses, optimizers\n",
    "from tensorflow.keras.layers import Dense,Dropout,GlobalAveragePooling2D,Flatten\n",
    "from tensorflow.python.keras.models import Sequential\n",
    "from tensorflow.keras.preprocessing.image import load_img, img_to_array\n",
    "import matplotlib\n",
    "import matplotlib.pyplot as plt\n",
    "from tensorflow.keras.models import Model                                                         "
   ]
  },
  {
   "cell_type": "code",
   "execution_count": 4,
   "metadata": {},
   "outputs": [],
   "source": [
    "(x_train, y_train), (x_test, y_test)=tensorflow.keras.datasets.fashion_mnist.load_data()"
   ]
  },
  {
   "cell_type": "code",
   "execution_count": 5,
   "metadata": {},
   "outputs": [],
   "source": [
    "x_train = tensorflow.pad(x_train, [[0, 0], [2,2], [2,2]])/255\n",
    "x_test = tensorflow.pad(x_test, [[0, 0], [2,2], [2,2]])/255\n",
    "x_train = tensorflow.expand_dims(x_train, axis=3, name=None)\n",
    "x_test = tensorflow.expand_dims(x_test, axis=3, name=None)\n",
    "x_train = tensorflow.repeat(x_train, 3, axis=3)\n",
    "x_test = tensorflow.repeat(x_test, 3, axis=3)\n",
    "x_val = x_train[-2000:,:,:]\n",
    "y_val = y_train[-2000:]\n",
    "x_train = x_train[:-2000,:,:]\n",
    "y_train = y_train[:-2000]\n",
    "\n",
    "y_train = tensorflow.one_hot(y_train.astype(np.int32), depth=100)\n",
    "y_test = tensorflow.one_hot(y_test.astype(np.int32), depth=100)"
   ]
  },
  {
   "cell_type": "code",
   "execution_count": 6,
   "metadata": {},
   "outputs": [],
   "source": [
    "model_name = densenet\n",
    "input_t =(32,32, 3)\n",
    "model = model_name(include_top=False,\n",
    "                   weights=\"imagenet\",\n",
    "                   input_shape=input_t)\n",
    "\n",
    "model2 = model_name(include_top=False,\n",
    "                   weights=\"imagenet\",\n",
    "                   input_shape=input_t)\n",
    "\n",
    "model3 = model_name(include_top=False,\n",
    "                   weights=\"imagenet\",\n",
    "                   input_shape=input_t)\n",
    "model_tune1 = model_name(include_top=False,\n",
    "                   weights=\"imagenet\",\n",
    "                   input_shape=input_t)\n",
    "model_tune2 = model_name(include_top=False,\n",
    "                   weights=\"imagenet\",\n",
    "                   input_shape=input_t)\n",
    "model_tune3 = model_name(include_top=False,\n",
    "                   weights=\"imagenet\",\n",
    "                   input_shape=input_t)\n",
    "model_tune4 = model_name(include_top=False,\n",
    "                   weights=\"imagenet\",\n",
    "                   input_shape=input_t)"
   ]
  },
  {
   "cell_type": "code",
   "execution_count": 7,
   "metadata": {},
   "outputs": [],
   "source": [
    "# get the layer index\n",
    "def getLayerIndex(model_i, layer_name):\n",
    "    for pos, layer_g in enumerate(model_i.layers):\n",
    "        if layer_g.name == layer_name:\n",
    "            return pos\n"
   ]
  },
  {
   "cell_type": "code",
   "execution_count": 8,
   "metadata": {},
   "outputs": [],
   "source": [
    "# get the convolved layers into an array for looping\n",
    "convolved_layers = []\n",
    "\n",
    "for layer in model.layers:\n",
    "\n",
    "    t = np.array(layer.get_weights()).ndim\n",
    "    array = np.array(layer.get_weights())\n",
    "    if (model_name != resnet50) or (model_name != vgg16):\n",
    "        if (len(array) > 0) and (t > 2):\n",
    "            index = getLayerIndex(model, layer.name)\n",
    "            # append the convolved layer\n",
    "            convolved_layers.append(index)\n",
    "            # print(str(len(array)) + \"for:\" + layer.name + \"at index:\" + str(index))\n",
    "    if (model_name == resnet50) or (model_name == vgg16):\n",
    "        if len(array) > 0 and (t != 2):\n",
    "            index = getLayerIndex(model, layer.name)\n",
    "            # append the convolved layer\n",
    "            convolved_layers.append(index)\n",
    "            # print(str(len(array)) + \"for:\" + layer.name + \"at index:\" + str(index))\n",
    "\n",
    "# get the total number of weights in the array\n",
    "total_layer_weights = 0\n",
    "sum_positives = 0\n",
    "sum_negatives = 0\n",
    "\n",
    "# create a dictionary with layer index and positive values identified\n",
    "layer_positives_dict = defaultdict(list)\n",
    "\n",
    "# create a dictionary for storing the layers and their +ve values probabilities\n",
    "layer_probs_dict = defaultdict(list)"
   ]
  },
  {
   "cell_type": "code",
   "execution_count": 9,
   "metadata": {
    "gradient": {}
   },
   "outputs": [],
   "source": [
    "# list the convolved layers\n",
    "for c_layer in range(len(convolved_layers)):\n",
    "    # create array for array matrices,feature values and convolved values for each layer\n",
    "    layer_array_matrices = []\n",
    "    layer_feature_sums = []\n",
    "    layer_convolved_values_sum = []\n",
    "\n",
    "    # get the arrays matrices(batches) pixel\n",
    "    for i in range(len(model.layers[convolved_layers[c_layer]].get_weights()[0])):\n",
    "        # get the values for each feature\n",
    "        ######print(\"channels(image):\"+str(len(model.layers[convolved_layers[c_layer]].get_weights()[0][i])))\n",
    "        for x in range(len(model.layers[convolved_layers[c_layer]].get_weights()[0][i])):\n",
    "            # return all the values in the convolutional feature\n",
    "            total_array = np.array(model.layers[convolved_layers[c_layer]].get_weights()[0][i][x])\n",
    "            # return all the negative values in the convolutional feature\n",
    "            x2 = np.array(model.layers[convolved_layers[c_layer]].get_weights()[0][i][x]) < 0\n",
    "            for c in range(len(x2)):\n",
    "                ###print(\"all the trues in depth: \" + str(c + 1) + \" are for feature: \" + str(x + 1))\n",
    "                sum_negatives += sum(x2[c])\n",
    "                # print(sum(x2[c]))\n",
    "            # return all the values\n",
    "            for y in range(len(total_array)):\n",
    "                total_layer_weights += len(total_array[y])\n",
    "\n",
    "            x1 = np.array(model.layers[convolved_layers[c_layer]].get_weights()[0][i][x]) > 0\n",
    "            # get the values for each channel\n",
    "            for a in range(len(x1)):\n",
    "                value_pix = sum(x1[a])\n",
    "                # get the positive values\n",
    "                sum_positives += value_pix\n",
    "\n",
    "                ######print(value_pix)\n",
    "    list_sums = []\n",
    "    list_sums.append((str(convolved_layers[c_layer]), sum_positives))\n",
    "    layer_positives_dict.update(list_sums)\n",
    "\n",
    "    # print the probabilities for each layer\n",
    "    layer_pos_prob = sum_positives / total_layer_weights\n",
    "\n",
    "    # create +ves values array\n",
    "    positives_array = []\n",
    "    for key, val in layer_positives_dict.items():\n",
    "        # print(key, \"corresponds to:\",val,\" positive values\")\n",
    "        positives_array.append(val)\n",
    "       \n",
    "    list_layer_probs = []\n",
    "    list_layer_probs.append((str(convolved_layers[c_layer]), layer_pos_prob))\n",
    "    layer_probs_dict.update(list_layer_probs)"
   ]
  },
  {
   "cell_type": "code",
   "execution_count": 10,
   "metadata": {},
   "outputs": [],
   "source": [
    "median_layer = stats.median(convolved_layers)\n",
    "\n",
    "# create dictionary for storing selected median layers\n",
    "second_layer_probs_dict = defaultdict(list)\n",
    "# store the new list of layers to be matched with the mean probability\n",
    "second_half_layers = []\n",
    "\n",
    "# store all probabilities for the selected upper half layers\n",
    "second_half_probs = []\n",
    "# loop through the layers and print those layers above the median\n",
    "for lyr, val in layer_probs_dict.items():\n",
    "    # print(lyr, \"Layer prob:\", val)\n",
    "    if int(lyr) > median_layer:\n",
    "        # store the probabilities of the upper half selected convolved layers\n",
    "        #print(lyr, \"Layer prob:\", val)\n",
    "        # update the sum of selected layers probabilities\n",
    "        second_half_probs.append(val)\n",
    "        second_half_layers.append((lyr, val))\n",
    "        second_layer_probs_dict.update(second_half_layers)\n",
    "\n",
    "# get the mean of the layers\n",
    "selected_layers_mean = stats.mean(second_half_probs)\n",
    "final_selected_layers = []\n",
    "# now get the final layers list whose value exceed the mean\n",
    "for s_lyr, v in second_layer_probs_dict.items():\n",
    "    # get the probabilities that are lower than the mean probability\n",
    "    if v < selected_layers_mean:\n",
    "        # store the probabilities of the upper half selected convolved layers\n",
    "        final_selected_layers.append(s_lyr)"
   ]
  },
  {
   "cell_type": "code",
   "execution_count": 11,
   "metadata": {
    "gradient": {}
   },
   "outputs": [
    {
     "name": "stdout",
     "output_type": "stream",
     "text": [
      "conv1/conv True\n",
      "conv3_block1_2_conv True\n",
      "conv3_block6_2_conv True\n",
      "conv4_block2_2_conv True\n",
      "conv4_block7_2_conv True\n",
      "conv4_block8_2_conv True\n",
      "conv4_block12_2_conv True\n",
      "conv4_block28_1_conv True\n",
      "conv5_block6_1_conv True\n",
      "relu True\n",
      "relu True\n",
      "relu True\n",
      "relu True\n",
      "relu True\n",
      "relu True\n",
      "relu True\n",
      "relu True\n",
      "relu True\n",
      "relu True\n",
      "relu True\n",
      "relu True\n",
      "relu True\n"
     ]
    }
   ],
   "source": [
    "\n",
    "# for positive cosines similarities\n",
    "pcs_h_layers =[332,223,153,406,93,195,58,188,2] #high cosine,,\n",
    "pcs_l_layers =[514,528,521,493,535,570,577] #lower cosine\n",
    "for sb_layer in model.layers:\n",
    "    # sb_layer.trainable = False\n",
    "    index = getLayerIndex(model, sb_layer.name)\n",
    "    #for b in final_selected_layers:\n",
    "    for b in pcs_h_layers:\n",
    "        if b == index:\n",
    "            sb_layer.trainable = True\n",
    "            #print(str(sb_layer.name) + \" and index is\" + str(b))\n",
    "            print(sb_layer.name,sb_layer.trainable)\n",
    "\n",
    "#for negative cosine similarities\n",
    "# for model 2\n",
    "# for positive cosines similarities\n",
    "ncs_h_layers =[570,210,335,363,528,521,2]\n",
    "ncs_l_layers =[265,55,458,139,8,51] #lower cosine\n",
    "for sbs_layer in model2.layers:\n",
    "    # sb_layer.trainable = False\n",
    "    index = getLayerIndex(model2, sbs_layer.name)\n",
    "    #for b in final_selected_layers:\n",
    "    for b in ncs_h_layers:\n",
    "        if b == index:\n",
    "            sb_layer.trainable = True\n",
    "            #print(str(sb_layer.name) + \" and index is\" + str(b))\n",
    "            print(sb_layer.name,sb_layer.trainable)\n",
    "\n",
    "#for positive negative cosine similarities\n",
    "# for model 3\n",
    "pncs_h_layers =[118,584,535,528,83,55] #high cosine,,\n",
    "pncs_l_layers =[2,363,265,272,349] #lower cosine\n",
    "for sbs_layer in model3.layers:\n",
    "    # sb_layer.trainable = False\n",
    "    index = getLayerIndex(model3, sbs_layer.name)\n",
    "    #for b in final_selected_layers:\n",
    "    for b in pncs_h_layers:\n",
    "        if b == index:\n",
    "            sb_layer.trainable = True\n",
    "            #print(str(sb_layer.name) + \" and index is\" + str(b))\n",
    "            print(sb_layer.name,sb_layer.trainable)\n",
    "\n",
    "\n",
    "#finetune by removeing the last layer\n",
    "for lst_layer in model_tune1.layers[:-2]:\n",
    "    lst_layer.trainable = False\n",
    "    \n",
    "####end of the last layer\n",
    "#finetune by removeing the 2nd last layer\n",
    "for scnd_st_layer in model_tune2.layers[:-3]:\n",
    "    scnd_st_layer.trainable = False\n",
    "    \n",
    "####end of the last layer\n",
    "#finetune by removeing the 3rd last layer\n",
    "for thrd_layer in model_tune3.layers[:-4]:\n",
    "    thrd_layer.trainable = False\n",
    "    \n",
    "\n",
    "    \n",
    "####end of the last layer\n",
    "#for feature extraction\n",
    "for ftr_layer in model_tune4.layers:\n",
    "    ftr_layer.trainable = False\n",
    "\n",
    "# try the transfer learning model\n",
    "to_res = (224, 224)\n"
   ]
  },
  {
   "cell_type": "code",
   "execution_count": 12,
   "metadata": {},
   "outputs": [],
   "source": [
    "\n",
    "t_model = Sequential()\n",
    "t_model.add(model)\n",
    "t_model.add(Flatten())\n",
    "t_model.add(layers.BatchNormalization())\n",
    "t_model.add(layers.Dense(64, activation='relu'))\n",
    "t_model.add(layers.Dropout(0.5))\n",
    "t_model.add(layers.BatchNormalization())\n",
    "t_model.add(layers.Dense(100, activation='softmax'))\n",
    "\n",
    "\n",
    "#for model 2\n",
    "t_model2 = Sequential()\n",
    "t_model2.add(model2)\n",
    "t_model2.add(Flatten())\n",
    "t_model2.add(layers.BatchNormalization())\n",
    "t_model2.add(layers.Dense(64, activation='relu'))\n",
    "t_model2.add(layers.Dropout(0.5))\n",
    "t_model2.add(layers.BatchNormalization())\n",
    "t_model2.add(layers.Dense(100, activation='softmax'))\n",
    "\n",
    "\n",
    "#for model 2\n",
    "t_model3 = Sequential()\n",
    "t_model3.add(model3)\n",
    "t_model3.add(Flatten())\n",
    "t_model3.add(layers.BatchNormalization())\n",
    "t_model3.add(layers.Dense(64, activation='relu'))\n",
    "t_model3.add(layers.Dropout(0.5))\n",
    "t_model3.add(layers.BatchNormalization())\n",
    "t_model3.add(layers.Dense(100, activation='softmax'))\n",
    "\n",
    "\n",
    "#for model 2\n",
    "t_model4 = Sequential()\n",
    "t_model4.add(model_tune1)\n",
    "t_model4.add(Flatten())\n",
    "t_model4.add(layers.BatchNormalization())\n",
    "t_model4.add(layers.Dense(64, activation='relu'))\n",
    "t_model4.add(layers.Dropout(0.5))\n",
    "t_model4.add(layers.BatchNormalization())\n",
    "t_model4.add(layers.Dense(100, activation='softmax'))\n",
    "\n",
    "#for model 2\n",
    "t_model5 = Sequential()\n",
    "t_model5.add(model_tune2)\n",
    "t_model5.add(Flatten())\n",
    "t_model5.add(layers.BatchNormalization())\n",
    "t_model5.add(layers.Dense(64, activation='relu'))\n",
    "t_model5.add(layers.Dropout(0.5))\n",
    "t_model5.add(layers.BatchNormalization())\n",
    "t_model5.add(layers.Dense(100, activation='softmax'))\n",
    "\n",
    "#for model 2\n",
    "t_model6 = Sequential()\n",
    "t_model6.add(model_tune3)\n",
    "t_model6.add(Flatten())\n",
    "t_model6.add(layers.BatchNormalization())\n",
    "t_model6.add(layers.Dense(64, activation='relu'))\n",
    "t_model6.add(layers.Dropout(0.5))\n",
    "t_model6.add(layers.BatchNormalization())\n",
    "t_model6.add(layers.Dense(100, activation='softmax'))\n",
    "\n",
    "\n",
    "#for model 2\n",
    "t_model7 = Sequential()\n",
    "t_model7.add(model_tune3)\n",
    "t_model7.add(Flatten())\n",
    "t_model7.add(layers.BatchNormalization())\n",
    "t_model7.add(layers.Dense(64, activation='relu'))\n",
    "t_model7.add(layers.Dropout(0.5))\n",
    "t_model7.add(layers.BatchNormalization())\n",
    "t_model7.add(layers.Dense(100, activation='softmax'))"
   ]
  },
  {
   "cell_type": "code",
   "execution_count": 13,
   "metadata": {},
   "outputs": [
    {
     "name": "stdout",
     "output_type": "stream",
     "text": [
      "Epoch 1/20\n",
      "907/907 [==============================] - 119s 110ms/step - loss: 4.6137 - accuracy: 0.0422 - val_loss: 3.4768 - val_accuracy: 0.4711\n",
      "Epoch 2/20\n",
      "907/907 [==============================] - 95s 105ms/step - loss: 3.4491 - accuracy: 0.3390 - val_loss: 2.7065 - val_accuracy: 0.6860\n",
      "Epoch 3/20\n",
      "907/907 [==============================] - 97s 107ms/step - loss: 2.8664 - accuracy: 0.5521 - val_loss: 2.3399 - val_accuracy: 0.7506\n",
      "Epoch 4/20\n",
      "907/907 [==============================] - 96s 105ms/step - loss: 2.5638 - accuracy: 0.6500 - val_loss: 2.1052 - val_accuracy: 0.7893\n",
      "Epoch 5/20\n",
      "907/907 [==============================] - 96s 105ms/step - loss: 2.3598 - accuracy: 0.7022 - val_loss: 1.9353 - val_accuracy: 0.8107\n",
      "Epoch 6/20\n",
      "907/907 [==============================] - 95s 105ms/step - loss: 2.1925 - accuracy: 0.7373 - val_loss: 1.7885 - val_accuracy: 0.8252\n",
      "Epoch 7/20\n",
      "907/907 [==============================] - 96s 105ms/step - loss: 2.0642 - accuracy: 0.7611 - val_loss: 1.6597 - val_accuracy: 0.8360\n",
      "Epoch 8/20\n",
      "907/907 [==============================] - 94s 104ms/step - loss: 1.9363 - accuracy: 0.7837 - val_loss: 1.5502 - val_accuracy: 0.8445\n",
      "Epoch 9/20\n",
      "907/907 [==============================] - 96s 106ms/step - loss: 1.8384 - accuracy: 0.7983 - val_loss: 1.4494 - val_accuracy: 0.8528\n",
      "Epoch 10/20\n",
      "907/907 [==============================] - 95s 105ms/step - loss: 1.7373 - accuracy: 0.8149 - val_loss: 1.3622 - val_accuracy: 0.8579\n",
      "Epoch 11/20\n",
      "907/907 [==============================] - 96s 106ms/step - loss: 1.6578 - accuracy: 0.8199 - val_loss: 1.2813 - val_accuracy: 0.8599\n",
      "Epoch 12/20\n",
      "907/907 [==============================] - 96s 106ms/step - loss: 1.5964 - accuracy: 0.8289 - val_loss: 1.2232 - val_accuracy: 0.8631\n",
      "Epoch 13/20\n",
      "907/907 [==============================] - 96s 106ms/step - loss: 1.5116 - accuracy: 0.8415 - val_loss: 1.1484 - val_accuracy: 0.8679\n",
      "Epoch 14/20\n",
      "907/907 [==============================] - 96s 106ms/step - loss: 1.4417 - accuracy: 0.8438 - val_loss: 1.0927 - val_accuracy: 0.8724\n",
      "Epoch 15/20\n",
      "907/907 [==============================] - 96s 106ms/step - loss: 1.4006 - accuracy: 0.8463 - val_loss: 1.0368 - val_accuracy: 0.8737\n",
      "Epoch 16/20\n",
      "907/907 [==============================] - 95s 105ms/step - loss: 1.3405 - accuracy: 0.8515 - val_loss: 0.9938 - val_accuracy: 0.8756\n",
      "Epoch 17/20\n",
      "907/907 [==============================] - 95s 105ms/step - loss: 1.2863 - accuracy: 0.8555 - val_loss: 0.9395 - val_accuracy: 0.8792\n",
      "Epoch 18/20\n",
      "907/907 [==============================] - 95s 105ms/step - loss: 1.2355 - accuracy: 0.8618 - val_loss: 0.9006 - val_accuracy: 0.8811\n",
      "Epoch 19/20\n",
      "907/907 [==============================] - 96s 105ms/step - loss: 1.1874 - accuracy: 0.8662 - val_loss: 0.8644 - val_accuracy: 0.8822\n",
      "Epoch 20/20\n",
      "907/907 [==============================] - 97s 107ms/step - loss: 1.1505 - accuracy: 0.8667 - val_loss: 0.8306 - val_accuracy: 0.8835\n"
     ]
    }
   ],
   "source": [
    "#positive cosine similarity\n",
    "t_model.compile(loss=losses.CategoricalCrossentropy(from_logits=True),optimizer=optimizers.SGD(lr=1e-5,momentum=0.9),metrics=['accuracy'])\n",
    "history = t_model.fit(x_train, y_train, batch_size=64, shuffle=True,validation_data=(x_test, y_test), epochs=20, verbose=1)\n"
   ]
  },
  {
   "cell_type": "code",
   "execution_count": 14,
   "metadata": {},
   "outputs": [
    {
     "name": "stdout",
     "output_type": "stream",
     "text": [
      "Epoch 1/20\n",
      "907/907 [==============================] - 115s 109ms/step - loss: 4.6353 - accuracy: 0.0368 - val_loss: 3.4822 - val_accuracy: 0.4680\n",
      "Epoch 2/20\n",
      "907/907 [==============================] - 97s 107ms/step - loss: 3.4655 - accuracy: 0.3207 - val_loss: 2.7119 - val_accuracy: 0.7063\n",
      "Epoch 3/20\n",
      "907/907 [==============================] - 96s 106ms/step - loss: 2.8846 - accuracy: 0.5487 - val_loss: 2.3752 - val_accuracy: 0.7684\n",
      "Epoch 4/20\n",
      "907/907 [==============================] - 96s 106ms/step - loss: 2.5821 - accuracy: 0.6483 - val_loss: 2.1476 - val_accuracy: 0.8007\n",
      "Epoch 5/20\n",
      "907/907 [==============================] - 95s 105ms/step - loss: 2.3686 - accuracy: 0.7060 - val_loss: 1.9789 - val_accuracy: 0.8177\n",
      "Epoch 6/20\n",
      "907/907 [==============================] - 95s 105ms/step - loss: 2.2106 - accuracy: 0.7390 - val_loss: 1.8039 - val_accuracy: 0.8321\n",
      "Epoch 7/20\n",
      "907/907 [==============================] - 96s 106ms/step - loss: 2.0769 - accuracy: 0.7660 - val_loss: 1.6833 - val_accuracy: 0.8408\n",
      "Epoch 8/20\n",
      "907/907 [==============================] - 98s 108ms/step - loss: 1.9554 - accuracy: 0.7846 - val_loss: 1.5547 - val_accuracy: 0.8459\n",
      "Epoch 9/20\n",
      "907/907 [==============================] - 96s 106ms/step - loss: 1.8446 - accuracy: 0.8002 - val_loss: 1.4630 - val_accuracy: 0.8532\n",
      "Epoch 10/20\n",
      "907/907 [==============================] - 96s 106ms/step - loss: 1.7579 - accuracy: 0.8108 - val_loss: 1.3638 - val_accuracy: 0.8568\n",
      "Epoch 11/20\n",
      "907/907 [==============================] - 96s 105ms/step - loss: 1.6681 - accuracy: 0.8214 - val_loss: 1.2872 - val_accuracy: 0.8605\n",
      "Epoch 12/20\n",
      "907/907 [==============================] - 96s 106ms/step - loss: 1.5820 - accuracy: 0.8301 - val_loss: 1.2111 - val_accuracy: 0.8639\n",
      "Epoch 13/20\n",
      "907/907 [==============================] - 96s 106ms/step - loss: 1.5097 - accuracy: 0.8388 - val_loss: 1.1488 - val_accuracy: 0.8678\n",
      "Epoch 14/20\n",
      "907/907 [==============================] - 97s 107ms/step - loss: 1.4454 - accuracy: 0.8424 - val_loss: 1.0922 - val_accuracy: 0.8679\n",
      "Epoch 15/20\n",
      "907/907 [==============================] - 97s 107ms/step - loss: 1.3780 - accuracy: 0.8498 - val_loss: 1.0255 - val_accuracy: 0.8712\n",
      "Epoch 16/20\n",
      "907/907 [==============================] - 97s 107ms/step - loss: 1.3354 - accuracy: 0.8518 - val_loss: 0.9731 - val_accuracy: 0.8744\n",
      "Epoch 17/20\n",
      "907/907 [==============================] - 96s 106ms/step - loss: 1.2745 - accuracy: 0.8575 - val_loss: 0.9381 - val_accuracy: 0.8745\n",
      "Epoch 18/20\n",
      "907/907 [==============================] - 96s 106ms/step - loss: 1.2398 - accuracy: 0.8583 - val_loss: 0.8936 - val_accuracy: 0.8822\n",
      "Epoch 19/20\n",
      "907/907 [==============================] - 96s 106ms/step - loss: 1.1737 - accuracy: 0.8674 - val_loss: 0.8503 - val_accuracy: 0.8831\n",
      "Epoch 20/20\n",
      "907/907 [==============================] - 98s 109ms/step - loss: 1.1459 - accuracy: 0.8675 - val_loss: 0.8152 - val_accuracy: 0.8841\n"
     ]
    }
   ],
   "source": [
    "#negative cosine similarity look\n",
    "#for model2\n",
    "t_model2.compile(loss=losses.CategoricalCrossentropy(from_logits=True),optimizer=optimizers.SGD(lr=1e-5,momentum=0.9),metrics=['accuracy'])\n",
    "history2 = t_model2.fit(x_train, y_train,  batch_size=64, shuffle=True,validation_data=(x_test, y_test), epochs=20, verbose=1)\n"
   ]
  },
  {
   "cell_type": "code",
   "execution_count": 15,
   "metadata": {},
   "outputs": [
    {
     "name": "stdout",
     "output_type": "stream",
     "text": [
      "Epoch 1/20\n",
      "907/907 [==============================] - 116s 110ms/step - loss: 4.6008 - accuracy: 0.0425 - val_loss: 3.3562 - val_accuracy: 0.4762\n",
      "Epoch 2/20\n",
      "907/907 [==============================] - 97s 107ms/step - loss: 3.4054 - accuracy: 0.3337 - val_loss: 2.6825 - val_accuracy: 0.7075\n",
      "Epoch 3/20\n",
      "907/907 [==============================] - 96s 106ms/step - loss: 2.8475 - accuracy: 0.5482 - val_loss: 2.3157 - val_accuracy: 0.7675\n",
      "Epoch 4/20\n",
      "907/907 [==============================] - 98s 108ms/step - loss: 2.5445 - accuracy: 0.6501 - val_loss: 2.0776 - val_accuracy: 0.7947\n",
      "Epoch 5/20\n",
      "907/907 [==============================] - 97s 107ms/step - loss: 2.3354 - accuracy: 0.7081 - val_loss: 1.8924 - val_accuracy: 0.8104\n",
      "Epoch 6/20\n",
      "907/907 [==============================] - 97s 107ms/step - loss: 2.1589 - accuracy: 0.7513 - val_loss: 1.7438 - val_accuracy: 0.8223\n",
      "Epoch 7/20\n",
      "907/907 [==============================] - 98s 108ms/step - loss: 2.0263 - accuracy: 0.7719 - val_loss: 1.6208 - val_accuracy: 0.8338\n",
      "Epoch 8/20\n",
      "907/907 [==============================] - 98s 108ms/step - loss: 1.9143 - accuracy: 0.7897 - val_loss: 1.5121 - val_accuracy: 0.8400\n",
      "Epoch 9/20\n",
      "907/907 [==============================] - 96s 106ms/step - loss: 1.8022 - accuracy: 0.8064 - val_loss: 1.4168 - val_accuracy: 0.8474\n",
      "Epoch 10/20\n",
      "907/907 [==============================] - 96s 106ms/step - loss: 1.7266 - accuracy: 0.8159 - val_loss: 1.3220 - val_accuracy: 0.8516\n",
      "Epoch 11/20\n",
      "907/907 [==============================] - 96s 106ms/step - loss: 1.6333 - accuracy: 0.8244 - val_loss: 1.2522 - val_accuracy: 0.8572\n",
      "Epoch 12/20\n",
      "907/907 [==============================] - 96s 106ms/step - loss: 1.5572 - accuracy: 0.8330 - val_loss: 1.1818 - val_accuracy: 0.8618\n",
      "Epoch 13/20\n",
      "907/907 [==============================] - 96s 106ms/step - loss: 1.4825 - accuracy: 0.8407 - val_loss: 1.1110 - val_accuracy: 0.8661\n",
      "Epoch 14/20\n",
      "907/907 [==============================] - 96s 105ms/step - loss: 1.4192 - accuracy: 0.8480 - val_loss: 1.0504 - val_accuracy: 0.8708\n",
      "Epoch 15/20\n",
      "907/907 [==============================] - 96s 106ms/step - loss: 1.3678 - accuracy: 0.8493 - val_loss: 1.0075 - val_accuracy: 0.8737\n",
      "Epoch 16/20\n",
      "907/907 [==============================] - 97s 106ms/step - loss: 1.3075 - accuracy: 0.8530 - val_loss: 0.9522 - val_accuracy: 0.8766\n",
      "Epoch 17/20\n",
      "907/907 [==============================] - 96s 106ms/step - loss: 1.2654 - accuracy: 0.8582 - val_loss: 0.9122 - val_accuracy: 0.8794\n",
      "Epoch 18/20\n",
      "907/907 [==============================] - 97s 106ms/step - loss: 1.2193 - accuracy: 0.8602 - val_loss: 0.8697 - val_accuracy: 0.8806\n",
      "Epoch 19/20\n",
      "907/907 [==============================] - 95s 105ms/step - loss: 1.1681 - accuracy: 0.8649 - val_loss: 0.8299 - val_accuracy: 0.8828\n",
      "Epoch 20/20\n",
      "907/907 [==============================] - 98s 108ms/step - loss: 1.1151 - accuracy: 0.8722 - val_loss: 0.7924 - val_accuracy: 0.8859\n"
     ]
    }
   ],
   "source": [
    "#for model3\n",
    "t_model3.compile(loss=losses.CategoricalCrossentropy(from_logits=True),optimizer=optimizers.SGD(lr=1e-5,momentum=0.9),metrics=['accuracy'])\n",
    "history3 = t_model3.fit(x_train, y_train,  batch_size=64, shuffle=True,validation_data=(x_test, y_test), epochs=20, verbose=1)\n"
   ]
  },
  {
   "cell_type": "code",
   "execution_count": 16,
   "metadata": {},
   "outputs": [
    {
     "name": "stdout",
     "output_type": "stream",
     "text": [
      "Epoch 1/20\n",
      "907/907 [==============================] - 46s 40ms/step - loss: 4.8296 - accuracy: 0.0221 - val_loss: 4.1259 - val_accuracy: 0.1957\n",
      "Epoch 2/20\n",
      "907/907 [==============================] - 33s 37ms/step - loss: 4.2378 - accuracy: 0.1074 - val_loss: 3.7008 - val_accuracy: 0.3549\n",
      "Epoch 3/20\n",
      "907/907 [==============================] - 33s 36ms/step - loss: 3.8697 - accuracy: 0.2000 - val_loss: 3.4046 - val_accuracy: 0.4470\n",
      "Epoch 4/20\n",
      "907/907 [==============================] - 32s 36ms/step - loss: 3.6082 - accuracy: 0.2780 - val_loss: 3.1731 - val_accuracy: 0.5119\n",
      "Epoch 5/20\n",
      "907/907 [==============================] - 32s 36ms/step - loss: 3.3900 - accuracy: 0.3439 - val_loss: 2.9994 - val_accuracy: 0.5554\n",
      "Epoch 6/20\n",
      "907/907 [==============================] - 32s 36ms/step - loss: 3.2262 - accuracy: 0.3923 - val_loss: 2.8444 - val_accuracy: 0.5896\n",
      "Epoch 7/20\n",
      "907/907 [==============================] - 33s 36ms/step - loss: 3.0800 - accuracy: 0.4336 - val_loss: 2.7150 - val_accuracy: 0.6162\n",
      "Epoch 8/20\n",
      "907/907 [==============================] - 33s 36ms/step - loss: 2.9563 - accuracy: 0.4709 - val_loss: 2.5973 - val_accuracy: 0.6359\n",
      "Epoch 9/20\n",
      "907/907 [==============================] - 33s 36ms/step - loss: 2.8452 - accuracy: 0.4970 - val_loss: 2.4896 - val_accuracy: 0.6513\n",
      "Epoch 10/20\n",
      "907/907 [==============================] - 33s 36ms/step - loss: 2.7361 - accuracy: 0.5301 - val_loss: 2.3896 - val_accuracy: 0.6646\n",
      "Epoch 11/20\n",
      "907/907 [==============================] - 33s 36ms/step - loss: 2.6508 - accuracy: 0.5436 - val_loss: 2.3005 - val_accuracy: 0.6720\n",
      "Epoch 12/20\n",
      "907/907 [==============================] - 33s 36ms/step - loss: 2.5642 - accuracy: 0.5658 - val_loss: 2.2160 - val_accuracy: 0.6818\n",
      "Epoch 13/20\n",
      "907/907 [==============================] - 33s 36ms/step - loss: 2.4872 - accuracy: 0.5792 - val_loss: 2.1370 - val_accuracy: 0.6879\n",
      "Epoch 14/20\n",
      "907/907 [==============================] - 32s 36ms/step - loss: 2.4043 - accuracy: 0.5947 - val_loss: 2.0588 - val_accuracy: 0.6953\n",
      "Epoch 15/20\n",
      "907/907 [==============================] - 33s 36ms/step - loss: 2.3382 - accuracy: 0.6070 - val_loss: 1.9836 - val_accuracy: 0.7017\n",
      "Epoch 16/20\n",
      "907/907 [==============================] - 33s 36ms/step - loss: 2.2483 - accuracy: 0.6277 - val_loss: 1.9189 - val_accuracy: 0.7099\n",
      "Epoch 17/20\n",
      "907/907 [==============================] - 32s 36ms/step - loss: 2.2007 - accuracy: 0.6296 - val_loss: 1.8588 - val_accuracy: 0.7151\n",
      "Epoch 18/20\n",
      "907/907 [==============================] - 33s 36ms/step - loss: 2.1382 - accuracy: 0.6426 - val_loss: 1.7988 - val_accuracy: 0.7188\n",
      "Epoch 19/20\n",
      "907/907 [==============================] - 33s 36ms/step - loss: 2.0725 - accuracy: 0.6492 - val_loss: 1.7456 - val_accuracy: 0.7222\n",
      "Epoch 20/20\n",
      "907/907 [==============================] - 33s 36ms/step - loss: 2.0260 - accuracy: 0.6549 - val_loss: 1.6832 - val_accuracy: 0.7268\n"
     ]
    }
   ],
   "source": [
    "#for model3\n",
    "t_model4.compile(loss=losses.CategoricalCrossentropy(from_logits=True),optimizer=optimizers.SGD(lr=1e-5,momentum=0.9),metrics=['accuracy'])\n",
    "history4= t_model4.fit(x_train, y_train,  batch_size=64, shuffle=True,validation_data=(x_test, y_test), epochs=20, verbose=1)\n",
    "\n"
   ]
  },
  {
   "cell_type": "code",
   "execution_count": 17,
   "metadata": {},
   "outputs": [
    {
     "name": "stdout",
     "output_type": "stream",
     "text": [
      "Epoch 1/20\n",
      "907/907 [==============================] - 43s 38ms/step - loss: 4.8701 - accuracy: 0.0117 - val_loss: 4.2408 - val_accuracy: 0.1115\n",
      "Epoch 2/20\n",
      "907/907 [==============================] - 32s 35ms/step - loss: 4.3809 - accuracy: 0.0552 - val_loss: 3.8318 - val_accuracy: 0.2782\n",
      "Epoch 3/20\n",
      "907/907 [==============================] - 32s 35ms/step - loss: 4.0133 - accuracy: 0.1319 - val_loss: 3.5413 - val_accuracy: 0.4078\n",
      "Epoch 4/20\n",
      "907/907 [==============================] - 32s 35ms/step - loss: 3.7522 - accuracy: 0.2114 - val_loss: 3.3317 - val_accuracy: 0.4822\n",
      "Epoch 5/20\n",
      "907/907 [==============================] - 31s 35ms/step - loss: 3.5529 - accuracy: 0.2819 - val_loss: 3.1536 - val_accuracy: 0.5240\n",
      "Epoch 6/20\n",
      "907/907 [==============================] - 31s 35ms/step - loss: 3.3845 - accuracy: 0.3409 - val_loss: 2.9996 - val_accuracy: 0.5567\n",
      "Epoch 7/20\n",
      "907/907 [==============================] - 32s 35ms/step - loss: 3.2251 - accuracy: 0.3949 - val_loss: 2.8654 - val_accuracy: 0.5812\n",
      "Epoch 8/20\n",
      "907/907 [==============================] - 32s 35ms/step - loss: 3.1025 - accuracy: 0.4321 - val_loss: 2.7318 - val_accuracy: 0.6032\n",
      "Epoch 9/20\n",
      "907/907 [==============================] - 32s 35ms/step - loss: 2.9719 - accuracy: 0.4730 - val_loss: 2.6267 - val_accuracy: 0.6223\n",
      "Epoch 10/20\n",
      "907/907 [==============================] - 32s 36ms/step - loss: 2.8647 - accuracy: 0.5001 - val_loss: 2.5106 - val_accuracy: 0.6385\n",
      "Epoch 11/20\n",
      "907/907 [==============================] - 32s 35ms/step - loss: 2.7744 - accuracy: 0.5199 - val_loss: 2.4193 - val_accuracy: 0.6505\n",
      "Epoch 12/20\n",
      "907/907 [==============================] - 32s 35ms/step - loss: 2.6663 - accuracy: 0.5521 - val_loss: 2.3280 - val_accuracy: 0.6615\n",
      "Epoch 13/20\n",
      "907/907 [==============================] - 32s 35ms/step - loss: 2.5873 - accuracy: 0.5646 - val_loss: 2.2397 - val_accuracy: 0.6725\n",
      "Epoch 14/20\n",
      "907/907 [==============================] - 32s 35ms/step - loss: 2.5068 - accuracy: 0.5806 - val_loss: 2.1610 - val_accuracy: 0.6794\n",
      "Epoch 15/20\n",
      "907/907 [==============================] - 31s 35ms/step - loss: 2.4302 - accuracy: 0.5934 - val_loss: 2.0849 - val_accuracy: 0.6883\n",
      "Epoch 16/20\n",
      "907/907 [==============================] - 32s 36ms/step - loss: 2.3536 - accuracy: 0.6082 - val_loss: 2.0115 - val_accuracy: 0.6976\n",
      "Epoch 17/20\n",
      "907/907 [==============================] - 33s 36ms/step - loss: 2.2806 - accuracy: 0.6225 - val_loss: 1.9479 - val_accuracy: 0.7006\n",
      "Epoch 18/20\n",
      "907/907 [==============================] - 31s 35ms/step - loss: 2.2253 - accuracy: 0.6318 - val_loss: 1.8787 - val_accuracy: 0.7085\n",
      "Epoch 19/20\n",
      "907/907 [==============================] - 32s 35ms/step - loss: 2.1563 - accuracy: 0.6429 - val_loss: 1.8175 - val_accuracy: 0.7155\n",
      "Epoch 20/20\n",
      "907/907 [==============================] - 32s 35ms/step - loss: 2.0896 - accuracy: 0.6535 - val_loss: 1.7657 - val_accuracy: 0.7208\n"
     ]
    }
   ],
   "source": [
    "#for model3\n",
    "t_model5.compile(loss=losses.CategoricalCrossentropy(from_logits=True),optimizer=optimizers.SGD(lr=1e-5,momentum=0.9),metrics=['accuracy'])\n",
    "history5 = t_model5.fit(x_train, y_train,  batch_size=64, shuffle=True,validation_data=(x_test, y_test), epochs=20, verbose=1)\n"
   ]
  },
  {
   "cell_type": "code",
   "execution_count": 18,
   "metadata": {},
   "outputs": [
    {
     "name": "stdout",
     "output_type": "stream",
     "text": [
      "Epoch 1/20\n",
      "907/907 [==============================] - 46s 40ms/step - loss: 4.8917 - accuracy: 0.0172 - val_loss: 4.0942 - val_accuracy: 0.1885\n",
      "Epoch 2/20\n",
      "907/907 [==============================] - 33s 36ms/step - loss: 4.1894 - accuracy: 0.1014 - val_loss: 3.5906 - val_accuracy: 0.3723\n",
      "Epoch 3/20\n",
      "907/907 [==============================] - 33s 37ms/step - loss: 3.7622 - accuracy: 0.2139 - val_loss: 3.2735 - val_accuracy: 0.4837\n",
      "Epoch 4/20\n",
      "907/907 [==============================] - 33s 36ms/step - loss: 3.4716 - accuracy: 0.3023 - val_loss: 3.0423 - val_accuracy: 0.5518\n",
      "Epoch 5/20\n",
      "907/907 [==============================] - 33s 37ms/step - loss: 3.2609 - accuracy: 0.3713 - val_loss: 2.8559 - val_accuracy: 0.6036\n",
      "Epoch 6/20\n",
      "907/907 [==============================] - 34s 37ms/step - loss: 3.0914 - accuracy: 0.4282 - val_loss: 2.7030 - val_accuracy: 0.6385\n",
      "Epoch 7/20\n",
      "907/907 [==============================] - 33s 36ms/step - loss: 2.8173 - accuracy: 0.5149 - val_loss: 2.4403 - val_accuracy: 0.6787\n",
      "Epoch 9/20\n",
      "907/907 [==============================] - 34s 37ms/step - loss: 2.7021 - accuracy: 0.5425 - val_loss: 2.3361 - val_accuracy: 0.6947\n",
      "Epoch 10/20\n",
      "907/907 [==============================] - 34s 37ms/step - loss: 2.5928 - accuracy: 0.5740 - val_loss: 2.2362 - val_accuracy: 0.7042\n",
      "Epoch 11/20\n",
      "907/907 [==============================] - 33s 36ms/step - loss: 2.4892 - accuracy: 0.6013 - val_loss: 2.1388 - val_accuracy: 0.7133\n",
      "Epoch 12/20\n",
      "907/907 [==============================] - 33s 36ms/step - loss: 2.4002 - accuracy: 0.6178 - val_loss: 2.0525 - val_accuracy: 0.7203\n",
      "Epoch 13/20\n",
      "907/907 [==============================] - 33s 37ms/step - loss: 2.3090 - accuracy: 0.6329 - val_loss: 1.9664 - val_accuracy: 0.7246\n",
      "Epoch 14/20\n",
      "907/907 [==============================] - 34s 37ms/step - loss: 2.2346 - accuracy: 0.6483 - val_loss: 1.8919 - val_accuracy: 0.7307\n",
      "Epoch 15/20\n",
      "907/907 [==============================] - 34s 38ms/step - loss: 2.1598 - accuracy: 0.6593 - val_loss: 1.8196 - val_accuracy: 0.7357\n",
      "Epoch 16/20\n",
      "907/907 [==============================] - 33s 37ms/step - loss: 2.0922 - accuracy: 0.6670 - val_loss: 1.7568 - val_accuracy: 0.7410\n",
      "Epoch 17/20\n",
      "907/907 [==============================] - 34s 37ms/step - loss: 2.0299 - accuracy: 0.6782 - val_loss: 1.6910 - val_accuracy: 0.7453\n",
      "Epoch 18/20\n",
      "907/907 [==============================] - 34s 38ms/step - loss: 1.9587 - accuracy: 0.6857 - val_loss: 1.6321 - val_accuracy: 0.7501\n",
      "Epoch 19/20\n",
      "907/907 [==============================] - 34s 37ms/step - loss: 1.9044 - accuracy: 0.6925 - val_loss: 1.5778 - val_accuracy: 0.7546\n",
      "Epoch 20/20\n",
      "907/907 [==============================] - 33s 37ms/step - loss: 1.8588 - accuracy: 0.6962 - val_loss: 1.5294 - val_accuracy: 0.7578\n"
     ]
    }
   ],
   "source": [
    "#for model3\n",
    "t_model6.compile(loss=losses.CategoricalCrossentropy(from_logits=True),optimizer=optimizers.SGD(lr=1e-5,momentum=0.9),metrics=['accuracy'])\n",
    "history6 = t_model6.fit(x_train, y_train,  batch_size=64, shuffle=True,validation_data=(x_test, y_test), epochs=20, verbose=1)\n"
   ]
  },
  {
   "cell_type": "code",
   "execution_count": 19,
   "metadata": {
    "scrolled": true
   },
   "outputs": [
    {
     "name": "stdout",
     "output_type": "stream",
     "text": [
      "Epoch 1/20\n",
      "907/907 [==============================] - 49s 43ms/step - loss: 4.7887 - accuracy: 0.0190 - val_loss: 4.1091 - val_accuracy: 0.1614\n",
      "Epoch 2/20\n",
      "907/907 [==============================] - 36s 40ms/step - loss: 4.2323 - accuracy: 0.0843 - val_loss: 3.6903 - val_accuracy: 0.3470\n",
      "Epoch 3/20\n",
      "907/907 [==============================] - 35s 39ms/step - loss: 3.8693 - accuracy: 0.1736 - val_loss: 3.4023 - val_accuracy: 0.4667\n",
      "Epoch 4/20\n",
      "907/907 [==============================] - 35s 39ms/step - loss: 3.6036 - accuracy: 0.2588 - val_loss: 3.1794 - val_accuracy: 0.5391\n",
      "Epoch 5/20\n",
      "907/907 [==============================] - 36s 40ms/step - loss: 3.3990 - accuracy: 0.3280 - val_loss: 2.9873 - val_accuracy: 0.5878\n",
      "Epoch 6/20\n",
      "907/907 [==============================] - 36s 40ms/step - loss: 3.2194 - accuracy: 0.3890 - val_loss: 2.8330 - val_accuracy: 0.6223\n",
      "Epoch 7/20\n",
      "907/907 [==============================] - 36s 40ms/step - loss: 3.0663 - accuracy: 0.4391 - val_loss: 2.6903 - val_accuracy: 0.6516\n",
      "Epoch 8/20\n",
      "907/907 [==============================] - 37s 41ms/step - loss: 2.9360 - accuracy: 0.4826 - val_loss: 2.5593 - val_accuracy: 0.6717\n",
      "Epoch 9/20\n",
      "907/907 [==============================] - 40s 44ms/step - loss: 2.8205 - accuracy: 0.5178 - val_loss: 2.4359 - val_accuracy: 0.6885\n",
      "Epoch 10/20\n",
      "907/907 [==============================] - 36s 39ms/step - loss: 2.7019 - accuracy: 0.5496 - val_loss: 2.3274 - val_accuracy: 0.7004\n",
      "Epoch 11/20\n",
      "907/907 [==============================] - 33s 37ms/step - loss: 2.5942 - accuracy: 0.5736 - val_loss: 2.2331 - val_accuracy: 0.7116\n",
      "Epoch 12/20\n",
      "907/907 [==============================] - 33s 37ms/step - loss: 2.4908 - accuracy: 0.5995 - val_loss: 2.1380 - val_accuracy: 0.7197\n",
      "Epoch 13/20\n",
      "907/907 [==============================] - 33s 37ms/step - loss: 2.4100 - accuracy: 0.6180 - val_loss: 2.0436 - val_accuracy: 0.7268\n",
      "Epoch 14/20\n",
      "907/907 [==============================] - 34s 37ms/step - loss: 2.3195 - accuracy: 0.6338 - val_loss: 1.9665 - val_accuracy: 0.7313\n",
      "Epoch 15/20\n",
      "907/907 [==============================] - 34s 37ms/step - loss: 2.2551 - accuracy: 0.6441 - val_loss: 1.8887 - val_accuracy: 0.7350\n",
      "Epoch 16/20\n",
      "907/907 [==============================] - 34s 37ms/step - loss: 2.1726 - accuracy: 0.6635 - val_loss: 1.8203 - val_accuracy: 0.7413\n",
      "Epoch 17/20\n",
      "907/907 [==============================] - 34s 38ms/step - loss: 2.1067 - accuracy: 0.6679 - val_loss: 1.7537 - val_accuracy: 0.7449\n",
      "Epoch 18/20\n",
      "907/907 [==============================] - 34s 38ms/step - loss: 2.0512 - accuracy: 0.6753 - val_loss: 1.6938 - val_accuracy: 0.7479\n",
      "Epoch 19/20\n",
      "907/907 [==============================] - 33s 37ms/step - loss: 1.9881 - accuracy: 0.6829 - val_loss: 1.6331 - val_accuracy: 0.7524\n",
      "Epoch 20/20\n",
      "907/907 [==============================] - 33s 37ms/step - loss: 1.9167 - accuracy: 0.6915 - val_loss: 1.5778 - val_accuracy: 0.7556\n"
     ]
    }
   ],
   "source": [
    "#for model3\n",
    "t_model7.compile(loss=losses.CategoricalCrossentropy(from_logits=True),optimizer=optimizers.SGD(lr=1e-5,momentum=0.9),metrics=['accuracy'])\n",
    "history7 = t_model7.fit(x_train, y_train,  batch_size=64, shuffle=True,validation_data=(x_test, y_test), epochs=20, verbose=1)\n"
   ]
  },
  {
   "cell_type": "code",
   "execution_count": 21,
   "metadata": {},
   "outputs": [
    {
     "name": "stderr",
     "output_type": "stream",
     "text": [
      "The PostScript backend does not support transparency; partially transparent artists will be rendered opaque.\n",
      "The PostScript backend does not support transparency; partially transparent artists will be rendered opaque.\n"
     ]
    },
    {
     "data": {
      "image/png": "[encoded data removed]",
      "text/plain": [
       "<Figure size 432x288 with 1 Axes>"
      ]
     },
     "metadata": {
      "needs_background": "light"
     },
     "output_type": "display_data"
    }
   ],
   "source": [
    "fig1 = plt.figure()\n",
    "plt.plot(history.history['val_accuracy'])\n",
    "#plt.plot(history.history['val_loss'])\n",
    "plt.plot(history2.history['val_accuracy'])\n",
    "#plt.plot(history2.history['val_loss'])\n",
    "plt.plot(history3.history['val_accuracy'])\n",
    "#plt.plot(history3.history['val_loss'])\n",
    "plt.plot(history4.history['val_accuracy'])\n",
    "#plt.plot(history4.history['val_loss'])\n",
    "plt.plot(history5.history['val_accuracy'])\n",
    "#plt.plot(history5.history['val_loss'])\n",
    "plt.plot(history6.history['val_accuracy'])\n",
    "#plt.plot(history6.history['val_loss'])\n",
    "plt.plot(history7.history['val_accuracy'])\n",
    "#plt.plot(history6.history['val_loss'])\n",
    "#plt.title('Model Training Loss Comparison')\n",
    "plt.ylabel('Accuracy')\n",
    "plt.xlabel('Epoch')\n",
    "plt.legend(['PCS','NCS','PNCS','1st_Layer','2nd_Layer','3rd_Layer','Feature_Extraction'], loc='lower right')\n",
    "\n",
    "fig1.savefig('all_similarity_fashion_mnist_densenet.eps', dpi=1200, format=\"eps\", bbox_inches=\"tight\")\n",
    "plt.show()"
   ]
  },
  {
   "cell_type": "code",
   "execution_count": 23,
   "metadata": {},
   "outputs": [
    {
     "name": "stderr",
     "output_type": "stream",
     "text": [
      "The PostScript backend does not support transparency; partially transparent artists will be rendered opaque.\n",
      "The PostScript backend does not support transparency; partially transparent artists will be rendered opaque.\n"
     ]
    },
    {
     "data": {
      "image/png": "[encoded data removed]",
      "text/plain": [
       "<Figure size 432x288 with 1 Axes>"
      ]
     },
     "metadata": {
      "needs_background": "light"
     },
     "output_type": "display_data"
    }
   ],
   "source": [
    "fig2 = plt.figure()\n",
    "plt.plot(history.history['accuracy'])\n",
    "plt.plot(history.history['val_accuracy'])\n",
    "#plt.plot(history.history['val_loss'])\n",
    "plt.plot(history2.history['accuracy'])\n",
    "plt.plot(history2.history['val_accuracy'])\n",
    "#plt.plot(history2.history['val_loss'])\n",
    "plt.plot(history3.history['accuracy'])\n",
    "plt.plot(history3.history['val_accuracy'])\n",
    "plt.ylabel('Accuracy')\n",
    "plt.xlabel('Epoch')\n",
    "plt.legend(['PCS_Train','PCS_Val','NCS_Train','NCS_Val','PNCS_Train','PNCS_Val'], loc='lower right')\n",
    "\n",
    "fig2.savefig('3plots_fashion_mnist_densenet.eps', dpi=1200, format=\"eps\", bbox_inches=\"tight\")\n",
    "plt.show()"
   ]
  },
  {
   "cell_type": "code",
   "execution_count": 25,
   "metadata": {},
   "outputs": [
    {
     "name": "stderr",
     "output_type": "stream",
     "text": [
      "The PostScript backend does not support transparency; partially transparent artists will be rendered opaque.\n",
      "The PostScript backend does not support transparency; partially transparent artists will be rendered opaque.\n"
     ]
    },
    {
     "data": {
      "image/png": "[encoded data removed]",
      "text/plain": [
       "<Figure size 432x288 with 1 Axes>"
      ]
     },
     "metadata": {
      "needs_background": "light"
     },
     "output_type": "display_data"
    }
   ],
   "source": [
    "fig3 = plt.figure()\n",
    "plt.plot(history.history['loss'])\n",
    "plt.plot(history.history['val_loss'])\n",
    "#plt.plot(history.history['val_loss'])\n",
    "plt.plot(history2.history['loss'])\n",
    "plt.plot(history2.history['val_loss'])\n",
    "#plt.plot(history2.history['val_loss'])\n",
    "plt.plot(history3.history['loss'])\n",
    "plt.plot(history3.history['val_loss'])\n",
    "plt.ylabel('Loss')\n",
    "plt.xlabel('Epoch')\n",
    "plt.legend(['PCS_Train','PCS_Val','NCS_Train','NCS_Val','PNCS_Train','PNCS_Val'], loc='upper right')\n",
    "\n",
    "fig3.savefig('3plots_Loss_fashion_mnist_densenet.eps', dpi=1200, format=\"eps\", bbox_inches=\"tight\")\n",
    "plt.show()"
   ]
  },
  {
   "cell_type": "code",
   "execution_count": null,
   "metadata": {},
   "outputs": [],
   "source": []
  }
 ],
 "metadata": {
  "kernelspec": {
   "display_name": "Python 3",
   "language": "python",
   "name": "python3"
  },
  "language_info": {
   "codemirror_mode": {
    "name": "ipython",
    "version": 3
   },
   "file_extension": ".py",
   "mimetype": "text/x-python",
   "name": "python",
   "nbconvert_exporter": "python",
   "pygments_lexer": "ipython3",
   "version": "3.6.9"
  }
 },
 "nbformat": 4,
 "nbformat_minor": 2
}
