{
 "cells": [
  {
   "cell_type": "code",
   "execution_count": 1,
   "metadata": {
    "gradient": {}
   },
   "outputs": [
    {
     "name": "stdout",
     "output_type": "stream",
     "text": [
      "Requirement already satisfied: pandas in /usr/local/lib/python3.6/dist-packages (1.1.5)\n",
      "Requirement already satisfied: python-dateutil>=2.7.3 in /usr/local/lib/python3.6/dist-packages (from pandas) (2.8.1)\n",
      "Requirement already satisfied: numpy>=1.15.4 in /usr/local/lib/python3.6/dist-packages (from pandas) (1.19.5)\n",
      "Requirement already satisfied: pytz>=2017.2 in /usr/local/lib/python3.6/dist-packages (from pandas) (2021.1)\n",
      "Requirement already satisfied: six>=1.5 in /usr/local/lib/python3.6/dist-packages (from python-dateutil>=2.7.3->pandas) (1.15.0)\n",
      "\u001b[33mWARNING: You are using pip version 20.2.4; however, version 21.3.1 is available.\n",
      "You should consider upgrading via the '/usr/bin/python3 -m pip install --upgrade pip' command.\u001b[0m\n",
      "Note: you may need to restart the kernel to use updated packages.\n"
     ]
    }
   ],
   "source": [
    "pip install pandas"
   ]
  },
  {
   "cell_type": "code",
   "execution_count": 2,
   "metadata": {
    "gradient": {}
   },
   "outputs": [
    {
     "name": "stdout",
     "output_type": "stream",
     "text": [
      "Requirement already satisfied: SciPy in /usr/local/lib/python3.6/dist-packages (1.5.4)\n",
      "Requirement already satisfied: numpy>=1.14.5 in /usr/local/lib/python3.6/dist-packages (from SciPy) (1.19.5)\n",
      "\u001b[33mWARNING: You are using pip version 20.2.4; however, version 21.3.1 is available.\n",
      "You should consider upgrading via the '/usr/bin/python3 -m pip install --upgrade pip' command.\u001b[0m\n",
      "Note: you may need to restart the kernel to use updated packages.\n"
     ]
    }
   ],
   "source": [
    "pip install SciPy"
   ]
  },
  {
   "cell_type": "code",
   "execution_count": 3,
   "metadata": {
    "gradient": {}
   },
   "outputs": [],
   "source": [
    "import tensorflow\n",
    "import statistics as stats\n",
    "from collections import defaultdict\n",
    "import pandas as pd\n",
    "import numpy as np\n",
    "from tensorflow import keras\n",
    "from tensorflow.keras.applications.resnet50 import ResNet50 as resnet50\n",
    "from tensorflow.keras.applications.inception_v3 import InceptionV3 as inception\n",
    "from tensorflow.keras.applications.vgg16 import VGG16 as vgg16\n",
    "from tensorflow.keras.applications.densenet import DenseNet169 as densenet\n",
    "from tensorflow.keras.preprocessing.image import ImageDataGenerator\n",
    "from tensorflow.keras import layers, losses, optimizers\n",
    "from tensorflow.keras.layers import Dense,Dropout,GlobalAveragePooling2D,Flatten\n",
    "from tensorflow.python.keras.models import Sequential\n",
    "from tensorflow.keras.preprocessing.image import load_img, img_to_array\n",
    "import matplotlib\n",
    "import matplotlib.pyplot as plt\n",
    "from tensorflow.keras.models import Model                                                         "
   ]
  },
  {
   "cell_type": "code",
   "execution_count": 4,
   "metadata": {},
   "outputs": [],
   "source": [
    "(x_train, y_train), (x_test, y_test)=tensorflow.keras.datasets.cifar100.load_data()"
   ]
  },
  {
   "cell_type": "code",
   "execution_count": 5,
   "metadata": {},
   "outputs": [],
   "source": [
    "#y_train = y_train.flatten()\n",
    "#y_test = y_test.flatten()"
   ]
  },
  {
   "cell_type": "code",
   "execution_count": 6,
   "metadata": {},
   "outputs": [],
   "source": [
    "#y_train = tensorflow.one_hot(y_train.astype(np.int32), depth=100)\n",
    "#y_test = tensorflow.one_hot(y_test.astype(np.int32), depth=100)\n",
    "\n",
    "#inputs = tensorflow.keras.layers.Input(shape=(32, 32, 3))\n",
    "y_train = y_train.flatten()\n",
    "y_test = y_test.flatten()\n",
    "\n",
    "x_val = x_train[-2000:,:,:]\n",
    "y_val = y_train[-2000:]\n",
    "x_train = x_train[:-2000,:,:]\n",
    "y_train = y_train[:-2000]\n",
    "\n",
    "y_train = tensorflow.one_hot(y_train.astype(np.int32), depth=100)\n",
    "y_test = tensorflow.one_hot(y_test.astype(np.int32), depth=100)"
   ]
  },
  {
   "cell_type": "code",
   "execution_count": 7,
   "metadata": {},
   "outputs": [],
   "source": [
    "model_name = densenet\n",
    "input_t =(32,32, 3)\n",
    "model = model_name(include_top=False,\n",
    "                   weights=\"imagenet\",\n",
    "                   input_shape=input_t)\n",
    "\n",
    "model2 = model_name(include_top=False,\n",
    "                   weights=\"imagenet\",\n",
    "                   input_shape=input_t)\n",
    "\n",
    "model3 = model_name(include_top=False,\n",
    "                   weights=\"imagenet\",\n",
    "                   input_shape=input_t)\n",
    "model_tune1 = model_name(include_top=False,\n",
    "                   weights=\"imagenet\",\n",
    "                   input_shape=input_t)\n",
    "model_tune2 = model_name(include_top=False,\n",
    "                   weights=\"imagenet\",\n",
    "                   input_shape=input_t)\n",
    "model_tune3 = model_name(include_top=False,\n",
    "                   weights=\"imagenet\",\n",
    "                   input_shape=input_t)\n",
    "model_tune4 = model_name(include_top=False,\n",
    "                   weights=\"imagenet\",\n",
    "                   input_shape=input_t)"
   ]
  },
  {
   "cell_type": "code",
   "execution_count": 8,
   "metadata": {},
   "outputs": [],
   "source": [
    "# get the layer index\n",
    "def getLayerIndex(model_i, layer_name):\n",
    "    for pos, layer_g in enumerate(model_i.layers):\n",
    "        if layer_g.name == layer_name:\n",
    "            return pos\n"
   ]
  },
  {
   "cell_type": "code",
   "execution_count": 9,
   "metadata": {},
   "outputs": [],
   "source": [
    "# get the convolved layers into an array for looping\n",
    "convolved_layers = []\n",
    "\n",
    "for layer in model.layers:\n",
    "\n",
    "    t = np.array(layer.get_weights()).ndim\n",
    "    array = np.array(layer.get_weights())\n",
    "    if (model_name != resnet50) or (model_name != vgg16):\n",
    "        if (len(array) > 0) and (t > 2):\n",
    "            index = getLayerIndex(model, layer.name)\n",
    "            # append the convolved layer\n",
    "            convolved_layers.append(index)\n",
    "            # print(str(len(array)) + \"for:\" + layer.name + \"at index:\" + str(index))\n",
    "    if (model_name == resnet50) or (model_name == vgg16):\n",
    "        if len(array) > 0 and (t != 2):\n",
    "            index = getLayerIndex(model, layer.name)\n",
    "            # append the convolved layer\n",
    "            convolved_layers.append(index)\n",
    "            # print(str(len(array)) + \"for:\" + layer.name + \"at index:\" + str(index))\n",
    "\n",
    "# get the total number of weights in the array\n",
    "total_layer_weights = 0\n",
    "sum_positives = 0\n",
    "sum_negatives = 0\n",
    "\n",
    "# create a dictionary with layer index and positive values identified\n",
    "layer_positives_dict = defaultdict(list)\n",
    "\n",
    "# create a dictionary for storing the layers and their +ve values probabilities\n",
    "layer_probs_dict = defaultdict(list)"
   ]
  },
  {
   "cell_type": "code",
   "execution_count": 10,
   "metadata": {
    "gradient": {}
   },
   "outputs": [],
   "source": [
    "# list the convolved layers\n",
    "for c_layer in range(len(convolved_layers)):\n",
    "    # create array for array matrices,feature values and convolved values for each layer\n",
    "    layer_array_matrices = []\n",
    "    layer_feature_sums = []\n",
    "    layer_convolved_values_sum = []\n",
    "\n",
    "    # get the arrays matrices(batches) pixel\n",
    "    for i in range(len(model.layers[convolved_layers[c_layer]].get_weights()[0])):\n",
    "        # get the values for each feature\n",
    "        ######print(\"channels(image):\"+str(len(model.layers[convolved_layers[c_layer]].get_weights()[0][i])))\n",
    "        for x in range(len(model.layers[convolved_layers[c_layer]].get_weights()[0][i])):\n",
    "            # return all the values in the convolutional feature\n",
    "            total_array = np.array(model.layers[convolved_layers[c_layer]].get_weights()[0][i][x])\n",
    "            # return all the negative values in the convolutional feature\n",
    "            x2 = np.array(model.layers[convolved_layers[c_layer]].get_weights()[0][i][x]) < 0\n",
    "            for c in range(len(x2)):\n",
    "                ###print(\"all the trues in depth: \" + str(c + 1) + \" are for feature: \" + str(x + 1))\n",
    "                sum_negatives += sum(x2[c])\n",
    "                # print(sum(x2[c]))\n",
    "            # return all the values\n",
    "            for y in range(len(total_array)):\n",
    "                total_layer_weights += len(total_array[y])\n",
    "\n",
    "            x1 = np.array(model.layers[convolved_layers[c_layer]].get_weights()[0][i][x]) > 0\n",
    "            # get the values for each channel\n",
    "            for a in range(len(x1)):\n",
    "                value_pix = sum(x1[a])\n",
    "                # get the positive values\n",
    "                sum_positives += value_pix\n",
    "\n",
    "                ######print(value_pix)\n",
    "    list_sums = []\n",
    "    list_sums.append((str(convolved_layers[c_layer]), sum_positives))\n",
    "    layer_positives_dict.update(list_sums)\n",
    "\n",
    "    # print the probabilities for each layer\n",
    "    layer_pos_prob = sum_positives / total_layer_weights\n",
    "\n",
    "    # create +ves values array\n",
    "    positives_array = []\n",
    "    for key, val in layer_positives_dict.items():\n",
    "        # print(key, \"corresponds to:\",val,\" positive values\")\n",
    "        positives_array.append(val)\n",
    "       \n",
    "    list_layer_probs = []\n",
    "    list_layer_probs.append((str(convolved_layers[c_layer]), layer_pos_prob))\n",
    "    layer_probs_dict.update(list_layer_probs)"
   ]
  },
  {
   "cell_type": "code",
   "execution_count": 11,
   "metadata": {},
   "outputs": [],
   "source": [
    "median_layer = stats.median(convolved_layers)\n",
    "\n",
    "# create dictionary for storing selected median layers\n",
    "second_layer_probs_dict = defaultdict(list)\n",
    "# store the new list of layers to be matched with the mean probability\n",
    "second_half_layers = []\n",
    "\n",
    "# store all probabilities for the selected upper half layers\n",
    "second_half_probs = []\n",
    "# loop through the layers and print those layers above the median\n",
    "for lyr, val in layer_probs_dict.items():\n",
    "    # print(lyr, \"Layer prob:\", val)\n",
    "    if int(lyr) > median_layer:\n",
    "        # store the probabilities of the upper half selected convolved layers\n",
    "        #print(lyr, \"Layer prob:\", val)\n",
    "        # update the sum of selected layers probabilities\n",
    "        second_half_probs.append(val)\n",
    "        second_half_layers.append((lyr, val))\n",
    "        second_layer_probs_dict.update(second_half_layers)\n",
    "\n",
    "# get the mean of the layers\n",
    "selected_layers_mean = stats.mean(second_half_probs)\n",
    "final_selected_layers = []\n",
    "# now get the final layers list whose value exceed the mean\n",
    "for s_lyr, v in second_layer_probs_dict.items():\n",
    "    # get the probabilities that are lower than the mean probability\n",
    "    if v < selected_layers_mean:\n",
    "        # store the probabilities of the upper half selected convolved layers\n",
    "        final_selected_layers.append(s_lyr)"
   ]
  },
  {
   "cell_type": "code",
   "execution_count": 12,
   "metadata": {
    "gradient": {}
   },
   "outputs": [
    {
     "name": "stdout",
     "output_type": "stream",
     "text": [
      "conv1/conv True\n",
      "conv3_block1_2_conv True\n",
      "conv3_block6_2_conv True\n",
      "conv4_block2_2_conv True\n",
      "conv4_block7_2_conv True\n",
      "conv4_block8_2_conv True\n",
      "conv4_block12_2_conv True\n",
      "conv4_block28_1_conv True\n",
      "conv5_block6_1_conv True\n",
      "relu True\n",
      "relu True\n",
      "relu True\n",
      "relu True\n",
      "relu True\n",
      "relu True\n",
      "relu True\n",
      "relu True\n",
      "relu True\n",
      "relu True\n",
      "relu True\n",
      "relu True\n",
      "relu True\n"
     ]
    }
   ],
   "source": [
    "\n",
    "# for positive cosines similarities\n",
    "pcs_h_layers =[332,223,153,406,93,195,58,188,2] #high cosine,,\n",
    "pcs_l_layers =[514,528,521,493,535,570,577] #lower cosine\n",
    "for sb_layer in model.layers:\n",
    "    # sb_layer.trainable = False\n",
    "    index = getLayerIndex(model, sb_layer.name)\n",
    "    #for b in final_selected_layers:\n",
    "    for b in pcs_h_layers:\n",
    "        if b == index:\n",
    "            sb_layer.trainable = True\n",
    "            #print(str(sb_layer.name) + \" and index is\" + str(b))\n",
    "            print(sb_layer.name,sb_layer.trainable)\n",
    "\n",
    "#for negative cosine similarities\n",
    "# for model 2\n",
    "# for positive cosines similarities\n",
    "ncs_h_layers =[570,210,335,363,528,521,2]\n",
    "ncs_l_layers =[265,55,458,139,8,51] #lower cosine\n",
    "for sbs_layer in model2.layers:\n",
    "    # sb_layer.trainable = False\n",
    "    index = getLayerIndex(model2, sbs_layer.name)\n",
    "    #for b in final_selected_layers:\n",
    "    for b in ncs_h_layers:\n",
    "        if b == index:\n",
    "            sb_layer.trainable = True\n",
    "            #print(str(sb_layer.name) + \" and index is\" + str(b))\n",
    "            print(sb_layer.name,sb_layer.trainable)\n",
    "\n",
    "#for positive negative cosine similarities\n",
    "# for model 3\n",
    "pncs_h_layers =[118,584,535,528,83,55] #high cosine,,\n",
    "pncs_l_layers =[2,363,265,272,349] #lower cosine\n",
    "for sbs_layer in model3.layers:\n",
    "    # sb_layer.trainable = False\n",
    "    index = getLayerIndex(model3, sbs_layer.name)\n",
    "    #for b in final_selected_layers:\n",
    "    for b in pncs_h_layers:\n",
    "        if b == index:\n",
    "            sb_layer.trainable = True\n",
    "            #print(str(sb_layer.name) + \" and index is\" + str(b))\n",
    "            print(sb_layer.name,sb_layer.trainable)\n",
    "\n",
    "\n",
    "#finetune by removeing the last layer\n",
    "for lst_layer in model_tune1.layers[:-2]:\n",
    "    lst_layer.trainable = False\n",
    "    \n",
    "####end of the last layer\n",
    "#finetune by removeing the 2nd last layer\n",
    "for scnd_st_layer in model_tune2.layers[:-3]:\n",
    "    scnd_st_layer.trainable = False\n",
    "    \n",
    "####end of the last layer\n",
    "#finetune by removeing the 3rd last layer\n",
    "for thrd_layer in model_tune3.layers[:-4]:\n",
    "    thrd_layer.trainable = False\n",
    "    \n",
    "\n",
    "    \n",
    "####end of the last layer\n",
    "#for feature extraction\n",
    "for ftr_layer in model_tune4.layers:\n",
    "    ftr_layer.trainable = False\n",
    "\n",
    "# try the transfer learning model\n",
    "to_res = (224, 224)\n"
   ]
  },
  {
   "cell_type": "code",
   "execution_count": 13,
   "metadata": {},
   "outputs": [],
   "source": [
    "\n",
    "t_model = Sequential()\n",
    "t_model.add(model)\n",
    "t_model.add(Flatten())\n",
    "t_model.add(layers.BatchNormalization())\n",
    "t_model.add(layers.Dense(64, activation='relu'))\n",
    "t_model.add(layers.Dropout(0.5))\n",
    "t_model.add(layers.BatchNormalization())\n",
    "t_model.add(layers.Dense(100, activation='softmax'))\n",
    "\n",
    "\n",
    "#for model 2\n",
    "t_model2 = Sequential()\n",
    "t_model2.add(model2)\n",
    "t_model2.add(Flatten())\n",
    "t_model2.add(layers.BatchNormalization())\n",
    "t_model2.add(layers.Dense(64, activation='relu'))\n",
    "t_model2.add(layers.Dropout(0.5))\n",
    "t_model2.add(layers.BatchNormalization())\n",
    "t_model2.add(layers.Dense(100, activation='softmax'))\n",
    "\n",
    "\n",
    "#for model 2\n",
    "t_model3 = Sequential()\n",
    "t_model3.add(model3)\n",
    "t_model3.add(Flatten())\n",
    "t_model3.add(layers.BatchNormalization())\n",
    "t_model3.add(layers.Dense(64, activation='relu'))\n",
    "t_model3.add(layers.Dropout(0.5))\n",
    "t_model3.add(layers.BatchNormalization())\n",
    "t_model3.add(layers.Dense(100, activation='softmax'))\n",
    "\n",
    "\n",
    "#for model 2\n",
    "t_model4 = Sequential()\n",
    "t_model4.add(model_tune1)\n",
    "t_model4.add(Flatten())\n",
    "t_model4.add(layers.BatchNormalization())\n",
    "t_model4.add(layers.Dense(64, activation='relu'))\n",
    "t_model4.add(layers.Dropout(0.5))\n",
    "t_model4.add(layers.BatchNormalization())\n",
    "t_model4.add(layers.Dense(100, activation='softmax'))\n",
    "\n",
    "#for model 2\n",
    "t_model5 = Sequential()\n",
    "t_model5.add(model_tune2)\n",
    "t_model5.add(Flatten())\n",
    "t_model5.add(layers.BatchNormalization())\n",
    "t_model5.add(layers.Dense(64, activation='relu'))\n",
    "t_model5.add(layers.Dropout(0.5))\n",
    "t_model5.add(layers.BatchNormalization())\n",
    "t_model5.add(layers.Dense(100, activation='softmax'))\n",
    "\n",
    "#for model 2\n",
    "t_model6 = Sequential()\n",
    "t_model6.add(model_tune3)\n",
    "t_model6.add(Flatten())\n",
    "t_model6.add(layers.BatchNormalization())\n",
    "t_model6.add(layers.Dense(64, activation='relu'))\n",
    "t_model6.add(layers.Dropout(0.5))\n",
    "t_model6.add(layers.BatchNormalization())\n",
    "t_model6.add(layers.Dense(100, activation='softmax'))\n",
    "\n",
    "\n",
    "#for model 2\n",
    "t_model7 = Sequential()\n",
    "t_model7.add(model_tune3)\n",
    "t_model7.add(Flatten())\n",
    "t_model7.add(layers.BatchNormalization())\n",
    "t_model7.add(layers.Dense(64, activation='relu'))\n",
    "t_model7.add(layers.Dropout(0.5))\n",
    "t_model7.add(layers.BatchNormalization())\n",
    "t_model7.add(layers.Dense(100, activation='softmax'))"
   ]
  },
  {
   "cell_type": "code",
   "execution_count": 15,
   "metadata": {},
   "outputs": [
    {
     "name": "stdout",
     "output_type": "stream",
     "text": [
      "Epoch 1/20\n",
      "300/300 [==============================] - 59s 166ms/step - loss: 4.9075 - accuracy: 0.0106 - val_loss: 4.7732 - val_accuracy: 0.0154\n",
      "Epoch 2/20\n",
      "300/300 [==============================] - 48s 160ms/step - loss: 4.8728 - accuracy: 0.0131 - val_loss: 4.7071 - val_accuracy: 0.0168\n",
      "Epoch 3/20\n",
      "300/300 [==============================] - 48s 160ms/step - loss: 4.8469 - accuracy: 0.0152 - val_loss: 4.7106 - val_accuracy: 0.0207\n",
      "Epoch 4/20\n",
      "300/300 [==============================] - 48s 160ms/step - loss: 4.8103 - accuracy: 0.0153 - val_loss: 4.6454 - val_accuracy: 0.0259\n",
      "Epoch 5/20\n",
      "300/300 [==============================] - 48s 160ms/step - loss: 4.7783 - accuracy: 0.0193 - val_loss: 4.5940 - val_accuracy: 0.0279\n",
      "Epoch 6/20\n",
      "300/300 [==============================] - 48s 160ms/step - loss: 4.7636 - accuracy: 0.0206 - val_loss: 4.5925 - val_accuracy: 0.0340\n",
      "Epoch 7/20\n",
      "300/300 [==============================] - 48s 160ms/step - loss: 4.6997 - accuracy: 0.0236 - val_loss: 4.5283 - val_accuracy: 0.0405\n",
      "Epoch 9/20\n",
      "300/300 [==============================] - 48s 160ms/step - loss: 4.6852 - accuracy: 0.0254 - val_loss: 4.4735 - val_accuracy: 0.0467\n",
      "Epoch 10/20\n",
      "300/300 [==============================] - 48s 159ms/step - loss: 4.6515 - accuracy: 0.0324 - val_loss: 4.4632 - val_accuracy: 0.0534\n",
      "Epoch 11/20\n",
      "300/300 [==============================] - 48s 160ms/step - loss: 4.6206 - accuracy: 0.0318 - val_loss: 4.4224 - val_accuracy: 0.0575\n",
      "Epoch 12/20\n",
      "300/300 [==============================] - 48s 159ms/step - loss: 4.5905 - accuracy: 0.0326 - val_loss: 4.3991 - val_accuracy: 0.0638\n",
      "Epoch 13/20\n",
      "300/300 [==============================] - 48s 160ms/step - loss: 4.5834 - accuracy: 0.0348 - val_loss: 4.3760 - val_accuracy: 0.0679\n",
      "Epoch 14/20\n",
      "300/300 [==============================] - 48s 160ms/step - loss: 4.5532 - accuracy: 0.0407 - val_loss: 4.3689 - val_accuracy: 0.0737\n",
      "Epoch 15/20\n",
      "300/300 [==============================] - 48s 160ms/step - loss: 4.5268 - accuracy: 0.0412 - val_loss: 4.3210 - val_accuracy: 0.0782\n",
      "Epoch 16/20\n",
      "300/300 [==============================] - 48s 161ms/step - loss: 4.4964 - accuracy: 0.0434 - val_loss: 4.3175 - val_accuracy: 0.0841\n",
      "Epoch 17/20\n",
      "300/300 [==============================] - 48s 160ms/step - loss: 4.4816 - accuracy: 0.0459 - val_loss: 4.2919 - val_accuracy: 0.0901\n",
      "Epoch 18/20\n",
      "300/300 [==============================] - 48s 159ms/step - loss: 4.4597 - accuracy: 0.0487 - val_loss: 4.2709 - val_accuracy: 0.0944\n",
      "Epoch 19/20\n",
      "300/300 [==============================] - 48s 159ms/step - loss: 4.4283 - accuracy: 0.0561 - val_loss: 4.2428 - val_accuracy: 0.1008\n",
      "Epoch 20/20\n",
      "300/300 [==============================] - 48s 160ms/step - loss: 4.4091 - accuracy: 0.0581 - val_loss: 4.2323 - val_accuracy: 0.1059\n"
     ]
    }
   ],
   "source": [
    "#positive cosine similarity\n",
    "t_model.compile(loss=losses.CategoricalCrossentropy(from_logits=True),optimizer=optimizers.SGD(lr=1e-5,momentum=0.9),metrics=['accuracy'])\n",
    "history = t_model.fit(x_train, y_train, batch_size=64, steps_per_epoch=300,shuffle=True,validation_data=(x_test, y_test), epochs=20, verbose=1)\n"
   ]
  },
  {
   "cell_type": "code",
   "execution_count": 16,
   "metadata": {},
   "outputs": [
    {
     "name": "stdout",
     "output_type": "stream",
     "text": [
      "Epoch 1/20\n",
      "300/300 [==============================] - 60s 167ms/step - loss: 4.9482 - accuracy: 0.0114 - val_loss: 4.6841 - val_accuracy: 0.0113\n",
      "Epoch 2/20\n",
      "300/300 [==============================] - 48s 161ms/step - loss: 4.9300 - accuracy: 0.0116 - val_loss: 4.7731 - val_accuracy: 0.0111\n",
      "Epoch 3/20\n",
      "300/300 [==============================] - 48s 161ms/step - loss: 4.9142 - accuracy: 0.0099 - val_loss: 4.7937 - val_accuracy: 0.0128\n",
      "Epoch 4/20\n",
      "300/300 [==============================] - 49s 162ms/step - loss: 4.8736 - accuracy: 0.0131 - val_loss: 4.7421 - val_accuracy: 0.0136\n",
      "Epoch 5/20\n",
      "300/300 [==============================] - 48s 161ms/step - loss: 4.8570 - accuracy: 0.0151 - val_loss: 4.6921 - val_accuracy: 0.0185\n",
      "Epoch 6/20\n",
      "300/300 [==============================] - 48s 160ms/step - loss: 4.8061 - accuracy: 0.0176 - val_loss: 4.6585 - val_accuracy: 0.0221\n",
      "Epoch 7/20\n",
      "300/300 [==============================] - 49s 162ms/step - loss: 4.7766 - accuracy: 0.0203 - val_loss: 4.6014 - val_accuracy: 0.0260\n",
      "Epoch 8/20\n",
      "300/300 [==============================] - 48s 161ms/step - loss: 4.7453 - accuracy: 0.0216 - val_loss: 4.5819 - val_accuracy: 0.0294\n",
      "Epoch 9/20\n",
      "300/300 [==============================] - 48s 160ms/step - loss: 4.7006 - accuracy: 0.0227 - val_loss: 4.5470 - val_accuracy: 0.0354\n",
      "Epoch 10/20\n",
      "300/300 [==============================] - 48s 161ms/step - loss: 4.6777 - accuracy: 0.0263 - val_loss: 4.5173 - val_accuracy: 0.0390\n",
      "Epoch 11/20\n",
      "300/300 [==============================] - 48s 161ms/step - loss: 4.6608 - accuracy: 0.0295 - val_loss: 4.4844 - val_accuracy: 0.0468\n",
      "Epoch 12/20\n",
      "300/300 [==============================] - 48s 161ms/step - loss: 4.6157 - accuracy: 0.0293 - val_loss: 4.4582 - val_accuracy: 0.0520\n",
      "Epoch 13/20\n",
      "300/300 [==============================] - 48s 161ms/step - loss: 4.6096 - accuracy: 0.0331 - val_loss: 4.4406 - val_accuracy: 0.0583\n",
      "Epoch 14/20\n",
      "300/300 [==============================] - 48s 161ms/step - loss: 4.5614 - accuracy: 0.0387 - val_loss: 4.3911 - val_accuracy: 0.0634\n",
      "Epoch 15/20\n",
      "300/300 [==============================] - 48s 161ms/step - loss: 4.5547 - accuracy: 0.0365 - val_loss: 4.3758 - val_accuracy: 0.0707\n",
      "Epoch 16/20\n",
      "300/300 [==============================] - 48s 160ms/step - loss: 4.5296 - accuracy: 0.0415 - val_loss: 4.3447 - val_accuracy: 0.0758\n",
      "Epoch 17/20\n",
      "300/300 [==============================] - 48s 161ms/step - loss: 4.5244 - accuracy: 0.0469 - val_loss: 4.3244 - val_accuracy: 0.0815\n",
      "Epoch 18/20\n",
      "300/300 [==============================] - 48s 160ms/step - loss: 4.5024 - accuracy: 0.0427 - val_loss: 4.3073 - val_accuracy: 0.0897\n",
      "Epoch 19/20\n",
      "300/300 [==============================] - 48s 160ms/step - loss: 4.4726 - accuracy: 0.0521 - val_loss: 4.2812 - val_accuracy: 0.0965\n",
      "Epoch 20/20\n",
      "300/300 [==============================] - 48s 160ms/step - loss: 4.4548 - accuracy: 0.0534 - val_loss: 4.2568 - val_accuracy: 0.0998\n"
     ]
    }
   ],
   "source": [
    "#negative cosine similarity look\n",
    "#for model2\n",
    "t_model2.compile(loss=losses.CategoricalCrossentropy(from_logits=True),optimizer=optimizers.SGD(lr=1e-5,momentum=0.9),metrics=['accuracy'])\n",
    "history2 = t_model2.fit(x_train, y_train,  batch_size=64,steps_per_epoch=300, shuffle=True,validation_data=(x_test, y_test), epochs=20, verbose=1)\n"
   ]
  },
  {
   "cell_type": "code",
   "execution_count": 17,
   "metadata": {},
   "outputs": [
    {
     "name": "stdout",
     "output_type": "stream",
     "text": [
      "Epoch 1/20\n",
      "300/300 [==============================] - 60s 168ms/step - loss: 4.9735 - accuracy: 0.0111 - val_loss: 4.6910 - val_accuracy: 0.0118\n",
      "Epoch 2/20\n",
      "300/300 [==============================] - 48s 160ms/step - loss: 4.9429 - accuracy: 0.0117 - val_loss: 4.7727 - val_accuracy: 0.0131\n",
      "Epoch 3/20\n",
      "300/300 [==============================] - 48s 161ms/step - loss: 4.9008 - accuracy: 0.0131 - val_loss: 4.8640 - val_accuracy: 0.0161\n",
      "Epoch 4/20\n",
      "300/300 [==============================] - 48s 161ms/step - loss: 4.8635 - accuracy: 0.0134 - val_loss: 4.6910 - val_accuracy: 0.0188\n",
      "Epoch 5/20\n",
      "300/300 [==============================] - 48s 161ms/step - loss: 4.8110 - accuracy: 0.0164 - val_loss: 4.7077 - val_accuracy: 0.0233\n",
      "Epoch 6/20\n",
      "300/300 [==============================] - 48s 160ms/step - loss: 4.8073 - accuracy: 0.0182 - val_loss: 4.6738 - val_accuracy: 0.0251\n",
      "Epoch 7/20\n",
      "300/300 [==============================] - 48s 161ms/step - loss: 4.7700 - accuracy: 0.0191 - val_loss: 4.6324 - val_accuracy: 0.0290\n",
      "Epoch 8/20\n",
      "300/300 [==============================] - 48s 160ms/step - loss: 4.7240 - accuracy: 0.0208 - val_loss: 4.5636 - val_accuracy: 0.0349\n",
      "Epoch 9/20\n",
      "300/300 [==============================] - 48s 161ms/step - loss: 4.7037 - accuracy: 0.0217 - val_loss: 4.5430 - val_accuracy: 0.0423\n",
      "Epoch 10/20\n",
      "300/300 [==============================] - 48s 161ms/step - loss: 4.6807 - accuracy: 0.0253 - val_loss: 4.5156 - val_accuracy: 0.0470\n",
      "Epoch 11/20\n",
      "300/300 [==============================] - 48s 160ms/step - loss: 4.6526 - accuracy: 0.0277 - val_loss: 4.4689 - val_accuracy: 0.0538\n",
      "Epoch 12/20\n",
      "300/300 [==============================] - 48s 160ms/step - loss: 4.6171 - accuracy: 0.0319 - val_loss: 4.4441 - val_accuracy: 0.0599\n",
      "Epoch 13/20\n",
      "300/300 [==============================] - 48s 161ms/step - loss: 4.6069 - accuracy: 0.0306 - val_loss: 4.4156 - val_accuracy: 0.0679\n",
      "Epoch 14/20\n",
      "300/300 [==============================] - 48s 161ms/step - loss: 4.5701 - accuracy: 0.0353 - val_loss: 4.3765 - val_accuracy: 0.0748\n",
      "Epoch 15/20\n",
      "300/300 [==============================] - 48s 161ms/step - loss: 4.5394 - accuracy: 0.0426 - val_loss: 4.3423 - val_accuracy: 0.0792\n",
      "Epoch 16/20\n",
      "300/300 [==============================] - 48s 160ms/step - loss: 4.5162 - accuracy: 0.0416 - val_loss: 4.3223 - val_accuracy: 0.0851\n",
      "Epoch 17/20\n",
      "300/300 [==============================] - 48s 160ms/step - loss: 4.4871 - accuracy: 0.0475 - val_loss: 4.3014 - val_accuracy: 0.0900\n",
      "Epoch 18/20\n",
      "300/300 [==============================] - 48s 160ms/step - loss: 4.4828 - accuracy: 0.0491 - val_loss: 4.2771 - val_accuracy: 0.0951\n",
      "Epoch 19/20\n",
      "300/300 [==============================] - 48s 161ms/step - loss: 4.4394 - accuracy: 0.0523 - val_loss: 4.2465 - val_accuracy: 0.1007\n",
      "Epoch 20/20\n",
      "300/300 [==============================] - 48s 160ms/step - loss: 4.4145 - accuracy: 0.0568 - val_loss: 4.2281 - val_accuracy: 0.1073\n"
     ]
    }
   ],
   "source": [
    "#for model3\n",
    "t_model3.compile(loss=losses.CategoricalCrossentropy(from_logits=True),optimizer=optimizers.SGD(lr=1e-5,momentum=0.9),metrics=['accuracy'])\n",
    "history3 = t_model3.fit(x_train, y_train,  batch_size=64, steps_per_epoch=300,shuffle=True,validation_data=(x_test, y_test), epochs=20, verbose=1)\n"
   ]
  },
  {
   "cell_type": "code",
   "execution_count": 18,
   "metadata": {},
   "outputs": [
    {
     "name": "stdout",
     "output_type": "stream",
     "text": [
      "Epoch 1/20\n",
      "300/300 [==============================] - 26s 69ms/step - loss: 4.9800 - accuracy: 0.0096 - val_loss: 4.7360 - val_accuracy: 0.0118\n",
      "Epoch 2/20\n",
      "300/300 [==============================] - 19s 63ms/step - loss: 4.9518 - accuracy: 0.0117 - val_loss: 4.7256 - val_accuracy: 0.0131\n",
      "Epoch 3/20\n",
      "300/300 [==============================] - 19s 62ms/step - loss: 4.9442 - accuracy: 0.0110 - val_loss: 4.7091 - val_accuracy: 0.0141\n",
      "Epoch 4/20\n",
      "300/300 [==============================] - 19s 63ms/step - loss: 4.9255 - accuracy: 0.0127 - val_loss: 4.6962 - val_accuracy: 0.0155\n",
      "Epoch 5/20\n",
      "300/300 [==============================] - 19s 63ms/step - loss: 4.9016 - accuracy: 0.0130 - val_loss: 4.6822 - val_accuracy: 0.0152\n",
      "Epoch 6/20\n",
      "300/300 [==============================] - 19s 62ms/step - loss: 4.9015 - accuracy: 0.0130 - val_loss: 4.6707 - val_accuracy: 0.0155\n",
      "Epoch 7/20\n",
      "300/300 [==============================] - 19s 63ms/step - loss: 4.8894 - accuracy: 0.0125 - val_loss: 4.6575 - val_accuracy: 0.0165\n",
      "Epoch 8/20\n",
      "300/300 [==============================] - 19s 63ms/step - loss: 4.8634 - accuracy: 0.0140 - val_loss: 4.6440 - val_accuracy: 0.0178\n",
      "Epoch 9/20\n",
      "300/300 [==============================] - 19s 63ms/step - loss: 4.8696 - accuracy: 0.0120 - val_loss: 4.6344 - val_accuracy: 0.0182\n",
      "Epoch 10/20\n",
      "300/300 [==============================] - 19s 63ms/step - loss: 4.8513 - accuracy: 0.0156 - val_loss: 4.6231 - val_accuracy: 0.0190\n",
      "Epoch 11/20\n",
      "300/300 [==============================] - 19s 62ms/step - loss: 4.8260 - accuracy: 0.0153 - val_loss: 4.6112 - val_accuracy: 0.0210\n",
      "Epoch 12/20\n",
      "300/300 [==============================] - 19s 62ms/step - loss: 4.8253 - accuracy: 0.0146 - val_loss: 4.6022 - val_accuracy: 0.0212\n",
      "Epoch 13/20\n",
      "300/300 [==============================] - 19s 63ms/step - loss: 4.8165 - accuracy: 0.0147 - val_loss: 4.5923 - val_accuracy: 0.0224\n",
      "Epoch 14/20\n",
      "300/300 [==============================] - 19s 62ms/step - loss: 4.8085 - accuracy: 0.0157 - val_loss: 4.5831 - val_accuracy: 0.0238\n",
      "Epoch 15/20\n",
      "300/300 [==============================] - 19s 62ms/step - loss: 4.7923 - accuracy: 0.0158 - val_loss: 4.5720 - val_accuracy: 0.0247\n",
      "Epoch 16/20\n",
      "300/300 [==============================] - 19s 64ms/step - loss: 4.8068 - accuracy: 0.0185 - val_loss: 4.5630 - val_accuracy: 0.0261\n",
      "Epoch 17/20\n",
      "300/300 [==============================] - 19s 63ms/step - loss: 4.7937 - accuracy: 0.0144 - val_loss: 4.5540 - val_accuracy: 0.0277\n",
      "Epoch 18/20\n",
      "300/300 [==============================] - 19s 62ms/step - loss: 4.7620 - accuracy: 0.0201 - val_loss: 4.5453 - val_accuracy: 0.0293\n",
      "Epoch 19/20\n",
      "300/300 [==============================] - 19s 62ms/step - loss: 4.7688 - accuracy: 0.0170 - val_loss: 4.5368 - val_accuracy: 0.0311\n",
      "Epoch 20/20\n",
      "300/300 [==============================] - 19s 62ms/step - loss: 4.7566 - accuracy: 0.0174 - val_loss: 4.5291 - val_accuracy: 0.0314\n"
     ]
    }
   ],
   "source": [
    "#for model3\n",
    "t_model4.compile(loss=losses.CategoricalCrossentropy(from_logits=True),optimizer=optimizers.SGD(lr=1e-5,momentum=0.9),metrics=['accuracy'])\n",
    "history4= t_model4.fit(x_train, y_train,  batch_size=64,steps_per_epoch=300, shuffle=True,validation_data=(x_test, y_test), epochs=20, verbose=1)\n",
    "\n"
   ]
  },
  {
   "cell_type": "code",
   "execution_count": 19,
   "metadata": {},
   "outputs": [
    {
     "name": "stdout",
     "output_type": "stream",
     "text": [
      "Epoch 1/20\n",
      "300/300 [==============================] - 26s 69ms/step - loss: 4.9714 - accuracy: 0.0122 - val_loss: 4.7539 - val_accuracy: 0.0089\n",
      "Epoch 2/20\n",
      "300/300 [==============================] - 19s 62ms/step - loss: 4.9738 - accuracy: 0.0115 - val_loss: 4.7387 - val_accuracy: 0.0093\n",
      "Epoch 3/20\n",
      "300/300 [==============================] - 19s 62ms/step - loss: 4.9569 - accuracy: 0.0123 - val_loss: 4.7216 - val_accuracy: 0.0104\n",
      "Epoch 4/20\n",
      "300/300 [==============================] - 19s 63ms/step - loss: 4.9410 - accuracy: 0.0107 - val_loss: 4.7073 - val_accuracy: 0.0116\n",
      "Epoch 5/20\n",
      "300/300 [==============================] - 19s 62ms/step - loss: 4.9061 - accuracy: 0.0118 - val_loss: 4.6956 - val_accuracy: 0.0124\n",
      "Epoch 6/20\n",
      "300/300 [==============================] - 19s 64ms/step - loss: 4.8982 - accuracy: 0.0144 - val_loss: 4.6841 - val_accuracy: 0.0140\n",
      "Epoch 7/20\n",
      "300/300 [==============================] - 19s 63ms/step - loss: 4.9023 - accuracy: 0.0120 - val_loss: 4.6713 - val_accuracy: 0.0145\n",
      "Epoch 8/20\n",
      "300/300 [==============================] - 19s 63ms/step - loss: 4.8850 - accuracy: 0.0132 - val_loss: 4.6600 - val_accuracy: 0.0162\n",
      "Epoch 9/20\n",
      "300/300 [==============================] - 19s 62ms/step - loss: 4.8851 - accuracy: 0.0140 - val_loss: 4.6480 - val_accuracy: 0.0172\n",
      "Epoch 10/20\n",
      "300/300 [==============================] - 19s 63ms/step - loss: 4.8614 - accuracy: 0.0144 - val_loss: 4.6375 - val_accuracy: 0.0187\n",
      "Epoch 11/20\n",
      "300/300 [==============================] - 19s 63ms/step - loss: 4.8524 - accuracy: 0.0144 - val_loss: 4.6282 - val_accuracy: 0.0195\n",
      "Epoch 12/20\n",
      "300/300 [==============================] - 19s 62ms/step - loss: 4.8626 - accuracy: 0.0132 - val_loss: 4.6187 - val_accuracy: 0.0201\n",
      "Epoch 13/20\n",
      "300/300 [==============================] - 19s 63ms/step - loss: 4.8271 - accuracy: 0.0130 - val_loss: 4.6057 - val_accuracy: 0.0215\n",
      "Epoch 14/20\n",
      "300/300 [==============================] - 19s 63ms/step - loss: 4.8185 - accuracy: 0.0141 - val_loss: 4.5982 - val_accuracy: 0.0224\n",
      "Epoch 15/20\n",
      "300/300 [==============================] - 19s 62ms/step - loss: 4.8197 - accuracy: 0.0152 - val_loss: 4.5879 - val_accuracy: 0.0232\n",
      "Epoch 16/20\n",
      "300/300 [==============================] - 19s 63ms/step - loss: 4.8135 - accuracy: 0.0168 - val_loss: 4.5800 - val_accuracy: 0.0247\n",
      "Epoch 17/20\n",
      "300/300 [==============================] - 19s 63ms/step - loss: 4.7978 - accuracy: 0.0138 - val_loss: 4.5702 - val_accuracy: 0.0258\n",
      "Epoch 18/20\n",
      "300/300 [==============================] - 19s 63ms/step - loss: 4.7978 - accuracy: 0.0167 - val_loss: 4.5628 - val_accuracy: 0.0262\n",
      "Epoch 19/20\n",
      "300/300 [==============================] - 19s 62ms/step - loss: 4.7757 - accuracy: 0.0175 - val_loss: 4.5547 - val_accuracy: 0.0274\n",
      "Epoch 20/20\n",
      "300/300 [==============================] - 19s 63ms/step - loss: 4.7670 - accuracy: 0.0180 - val_loss: 4.5468 - val_accuracy: 0.0289\n"
     ]
    }
   ],
   "source": [
    "#for model3\n",
    "t_model5.compile(loss=losses.CategoricalCrossentropy(from_logits=True),optimizer=optimizers.SGD(lr=1e-5,momentum=0.9),metrics=['accuracy'])\n",
    "history5 = t_model5.fit(x_train, y_train,  batch_size=64,steps_per_epoch=300, shuffle=True,validation_data=(x_test, y_test), epochs=20, verbose=1)\n"
   ]
  },
  {
   "cell_type": "code",
   "execution_count": 20,
   "metadata": {},
   "outputs": [
    {
     "name": "stdout",
     "output_type": "stream",
     "text": [
      "Epoch 1/20\n",
      "300/300 [==============================] - 26s 69ms/step - loss: 4.9876 - accuracy: 0.0097 - val_loss: 4.7437 - val_accuracy: 0.0102\n",
      "Epoch 2/20\n",
      "300/300 [==============================] - 19s 62ms/step - loss: 4.9476 - accuracy: 0.0106 - val_loss: 4.7229 - val_accuracy: 0.0115\n",
      "Epoch 3/20\n",
      "300/300 [==============================] - 19s 63ms/step - loss: 4.9375 - accuracy: 0.0113 - val_loss: 4.7008 - val_accuracy: 0.0128\n",
      "Epoch 4/20\n",
      "300/300 [==============================] - 19s 63ms/step - loss: 4.9366 - accuracy: 0.0110 - val_loss: 4.6831 - val_accuracy: 0.0143\n",
      "Epoch 5/20\n",
      "300/300 [==============================] - 19s 63ms/step - loss: 4.8858 - accuracy: 0.0123 - val_loss: 4.6643 - val_accuracy: 0.0148\n",
      "Epoch 6/20\n",
      "300/300 [==============================] - 19s 63ms/step - loss: 4.8757 - accuracy: 0.0113 - val_loss: 4.6471 - val_accuracy: 0.0156\n",
      "Epoch 7/20\n",
      "300/300 [==============================] - 19s 62ms/step - loss: 4.8670 - accuracy: 0.0146 - val_loss: 4.6311 - val_accuracy: 0.0165\n",
      "Epoch 8/20\n",
      "300/300 [==============================] - 19s 63ms/step - loss: 4.8492 - accuracy: 0.0118 - val_loss: 4.6176 - val_accuracy: 0.0180\n",
      "Epoch 9/20\n",
      "300/300 [==============================] - 19s 62ms/step - loss: 4.8332 - accuracy: 0.0139 - val_loss: 4.6033 - val_accuracy: 0.0187\n",
      "Epoch 10/20\n",
      "300/300 [==============================] - 19s 63ms/step - loss: 4.8251 - accuracy: 0.0146 - val_loss: 4.5912 - val_accuracy: 0.0207\n",
      "Epoch 11/20\n",
      "300/300 [==============================] - 19s 63ms/step - loss: 4.8181 - accuracy: 0.0161 - val_loss: 4.5780 - val_accuracy: 0.0228\n",
      "Epoch 12/20\n",
      "300/300 [==============================] - 19s 62ms/step - loss: 4.7824 - accuracy: 0.0171 - val_loss: 4.5671 - val_accuracy: 0.0236\n",
      "Epoch 13/20\n",
      "300/300 [==============================] - 19s 63ms/step - loss: 4.7906 - accuracy: 0.0175 - val_loss: 4.5560 - val_accuracy: 0.0240\n",
      "Epoch 14/20\n",
      "300/300 [==============================] - 19s 63ms/step - loss: 4.7688 - accuracy: 0.0177 - val_loss: 4.5442 - val_accuracy: 0.0267\n",
      "Epoch 15/20\n",
      "300/300 [==============================] - 19s 62ms/step - loss: 4.7449 - accuracy: 0.0183 - val_loss: 4.5330 - val_accuracy: 0.0296\n",
      "Epoch 16/20\n",
      "300/300 [==============================] - 19s 63ms/step - loss: 4.7333 - accuracy: 0.0194 - val_loss: 4.5246 - val_accuracy: 0.0305\n",
      "Epoch 17/20\n",
      "300/300 [==============================] - 19s 63ms/step - loss: 4.7503 - accuracy: 0.0200 - val_loss: 4.5142 - val_accuracy: 0.0316\n",
      "Epoch 18/20\n",
      "300/300 [==============================] - 19s 62ms/step - loss: 4.7312 - accuracy: 0.0194 - val_loss: 4.5054 - val_accuracy: 0.0321\n",
      "Epoch 19/20\n",
      "300/300 [==============================] - 19s 63ms/step - loss: 4.7289 - accuracy: 0.0186 - val_loss: 4.4946 - val_accuracy: 0.0332\n",
      "Epoch 20/20\n",
      "300/300 [==============================] - 19s 62ms/step - loss: 4.7132 - accuracy: 0.0201 - val_loss: 4.4855 - val_accuracy: 0.0359\n"
     ]
    }
   ],
   "source": [
    "#for model3\n",
    "t_model6.compile(loss=losses.CategoricalCrossentropy(from_logits=True),optimizer=optimizers.SGD(lr=1e-5,momentum=0.9),metrics=['accuracy'])\n",
    "history6 = t_model6.fit(x_train, y_train,  batch_size=64,steps_per_epoch=300, shuffle=True,validation_data=(x_test, y_test), epochs=20, verbose=1)\n"
   ]
  },
  {
   "cell_type": "code",
   "execution_count": 21,
   "metadata": {
    "scrolled": true
   },
   "outputs": [
    {
     "name": "stdout",
     "output_type": "stream",
     "text": [
      "Epoch 1/20\n",
      "300/300 [==============================] - 26s 69ms/step - loss: 5.0237 - accuracy: 0.0094 - val_loss: 4.7631 - val_accuracy: 0.0086\n",
      "Epoch 2/20\n",
      "300/300 [==============================] - 19s 64ms/step - loss: 5.0051 - accuracy: 0.0100 - val_loss: 4.7574 - val_accuracy: 0.0095\n",
      "Epoch 3/20\n",
      "300/300 [==============================] - 19s 63ms/step - loss: 4.9823 - accuracy: 0.0115 - val_loss: 4.7399 - val_accuracy: 0.0111\n",
      "Epoch 4/20\n",
      "300/300 [==============================] - 19s 63ms/step - loss: 4.9603 - accuracy: 0.0093 - val_loss: 4.7209 - val_accuracy: 0.0118\n",
      "Epoch 5/20\n",
      "300/300 [==============================] - 19s 63ms/step - loss: 4.9429 - accuracy: 0.0106 - val_loss: 4.7086 - val_accuracy: 0.0135\n",
      "Epoch 6/20\n",
      "300/300 [==============================] - 19s 63ms/step - loss: 4.9399 - accuracy: 0.0132 - val_loss: 4.6924 - val_accuracy: 0.0146\n",
      "Epoch 7/20\n",
      "300/300 [==============================] - 19s 63ms/step - loss: 4.9038 - accuracy: 0.0139 - val_loss: 4.6760 - val_accuracy: 0.0147\n",
      "Epoch 8/20\n",
      "300/300 [==============================] - 19s 63ms/step - loss: 4.9033 - accuracy: 0.0119 - val_loss: 4.6636 - val_accuracy: 0.0155\n",
      "Epoch 9/20\n",
      "300/300 [==============================] - 19s 62ms/step - loss: 4.8887 - accuracy: 0.0148 - val_loss: 4.6498 - val_accuracy: 0.0169\n",
      "Epoch 10/20\n",
      "300/300 [==============================] - 19s 63ms/step - loss: 4.8678 - accuracy: 0.0134 - val_loss: 4.6384 - val_accuracy: 0.0182\n",
      "Epoch 11/20\n",
      "300/300 [==============================] - 19s 63ms/step - loss: 4.8497 - accuracy: 0.0149 - val_loss: 4.6277 - val_accuracy: 0.0192\n",
      "Epoch 12/20\n",
      "300/300 [==============================] - 19s 63ms/step - loss: 4.8619 - accuracy: 0.0145 - val_loss: 4.6150 - val_accuracy: 0.0200\n",
      "Epoch 13/20\n",
      "300/300 [==============================] - 19s 63ms/step - loss: 4.8615 - accuracy: 0.0153 - val_loss: 4.6035 - val_accuracy: 0.0211\n",
      "Epoch 14/20\n",
      "300/300 [==============================] - 19s 63ms/step - loss: 4.8184 - accuracy: 0.0183 - val_loss: 4.5942 - val_accuracy: 0.0224\n",
      "Epoch 15/20\n",
      "300/300 [==============================] - 19s 63ms/step - loss: 4.8281 - accuracy: 0.0157 - val_loss: 4.5831 - val_accuracy: 0.0229\n",
      "Epoch 16/20\n",
      "300/300 [==============================] - 19s 63ms/step - loss: 4.8153 - accuracy: 0.0155 - val_loss: 4.5727 - val_accuracy: 0.0246\n",
      "Epoch 17/20\n",
      "300/300 [==============================] - 19s 63ms/step - loss: 4.8016 - accuracy: 0.0169 - val_loss: 4.5645 - val_accuracy: 0.0258\n",
      "Epoch 18/20\n",
      "300/300 [==============================] - 19s 63ms/step - loss: 4.7896 - accuracy: 0.0172 - val_loss: 4.5540 - val_accuracy: 0.0268\n",
      "Epoch 19/20\n",
      "300/300 [==============================] - 19s 62ms/step - loss: 4.7804 - accuracy: 0.0167 - val_loss: 4.5454 - val_accuracy: 0.0286\n",
      "Epoch 20/20\n",
      "300/300 [==============================] - 19s 63ms/step - loss: 4.7713 - accuracy: 0.0193 - val_loss: 4.5380 - val_accuracy: 0.0302\n"
     ]
    }
   ],
   "source": [
    "#for model3\n",
    "t_model7.compile(loss=losses.CategoricalCrossentropy(from_logits=True),optimizer=optimizers.SGD(lr=1e-5,momentum=0.9),metrics=['accuracy'])\n",
    "history7 = t_model7.fit(x_train, y_train,  batch_size=64,steps_per_epoch=300, shuffle=True,validation_data=(x_test, y_test), epochs=20, verbose=1)\n"
   ]
  },
  {
   "cell_type": "code",
   "execution_count": 24,
   "metadata": {},
   "outputs": [
    {
     "name": "stderr",
     "output_type": "stream",
     "text": [
      "The PostScript backend does not support transparency; partially transparent artists will be rendered opaque.\n",
      "The PostScript backend does not support transparency; partially transparent artists will be rendered opaque.\n"
     ]
    },
    {
     "data": {
      "image/png": "[encoded data removed]",
      "text/plain": [
       "<Figure size 432x288 with 1 Axes>"
      ]
     },
     "metadata": {
      "needs_background": "light"
     },
     "output_type": "display_data"
    }
   ],
   "source": [
    "fig1 = plt.figure()\n",
    "plt.plot(history.history['val_accuracy'])\n",
    "#plt.plot(history.history['val_loss'])\n",
    "plt.plot(history2.history['val_accuracy'])\n",
    "#plt.plot(history2.history['val_loss'])\n",
    "plt.plot(history3.history['val_accuracy'])\n",
    "#plt.plot(history3.history['val_loss'])\n",
    "plt.plot(history4.history['val_accuracy'])\n",
    "#plt.plot(history4.history['val_loss'])\n",
    "plt.plot(history5.history['val_accuracy'])\n",
    "#plt.plot(history5.history['val_loss'])\n",
    "plt.plot(history6.history['val_accuracy'])\n",
    "#plt.plot(history6.history['val_loss'])\n",
    "plt.plot(history7.history['val_accuracy'])\n",
    "#plt.plot(history6.history['val_loss'])\n",
    "#plt.title('Model Training Loss Comparison')\n",
    "plt.ylabel('Accuracy')\n",
    "plt.xlabel('Epoch')\n",
    "plt.legend(['PCS','NCS','PNCS','1st_Layer','2nd_Layer','3rd_Layer','Feature_Extraction'], loc='upper left')\n",
    "\n",
    "fig1.savefig('all_similarity_cifar100_densenet.eps', dpi=1200, format=\"eps\", bbox_inches=\"tight\")\n",
    "plt.show()"
   ]
  },
  {
   "cell_type": "code",
   "execution_count": 27,
   "metadata": {},
   "outputs": [
    {
     "name": "stderr",
     "output_type": "stream",
     "text": [
      "The PostScript backend does not support transparency; partially transparent artists will be rendered opaque.\n",
      "The PostScript backend does not support transparency; partially transparent artists will be rendered opaque.\n"
     ]
    },
    {
     "data": {
      "image/png": "[encoded data removed]",
      "text/plain": [
       "<Figure size 432x288 with 1 Axes>"
      ]
     },
     "metadata": {
      "needs_background": "light"
     },
     "output_type": "display_data"
    }
   ],
   "source": [
    "fig2 = plt.figure()\n",
    "plt.plot(history.history['accuracy'])\n",
    "plt.plot(history.history['val_accuracy'])\n",
    "#plt.plot(history.history['val_loss'])\n",
    "plt.plot(history2.history['accuracy'])\n",
    "plt.plot(history2.history['val_accuracy'])\n",
    "#plt.plot(history2.history['val_loss'])\n",
    "plt.plot(history3.history['accuracy'])\n",
    "plt.plot(history3.history['val_accuracy'])\n",
    "plt.ylabel('Accuracy')\n",
    "plt.xlabel('Epoch')\n",
    "plt.legend(['PCS_Train','PCS_Val','NCS_Train','NCS_Val','PNCS_Train','PNCS_Val'], loc='upper left')\n",
    "\n",
    "fig2.savefig('3plots_cifar100_densenet.eps', dpi=1200, format=\"eps\", bbox_inches=\"tight\")\n",
    "plt.show()"
   ]
  },
  {
   "cell_type": "code",
   "execution_count": 29,
   "metadata": {},
   "outputs": [
    {
     "name": "stderr",
     "output_type": "stream",
     "text": [
      "The PostScript backend does not support transparency; partially transparent artists will be rendered opaque.\n",
      "The PostScript backend does not support transparency; partially transparent artists will be rendered opaque.\n"
     ]
    },
    {
     "data": {
      "image/png": "[encoded data removed]",
      "text/plain": [
       "<Figure size 432x288 with 1 Axes>"
      ]
     },
     "metadata": {
      "needs_background": "light"
     },
     "output_type": "display_data"
    }
   ],
   "source": [
    "fig3 = plt.figure()\n",
    "plt.plot(history.history['loss'])\n",
    "plt.plot(history.history['val_loss'])\n",
    "#plt.plot(history.history['val_loss'])\n",
    "plt.plot(history2.history['loss'])\n",
    "plt.plot(history2.history['val_loss'])\n",
    "#plt.plot(history2.history['val_loss'])\n",
    "plt.plot(history3.history['loss'])\n",
    "plt.plot(history3.history['val_loss'])\n",
    "plt.ylabel('Loss')\n",
    "plt.xlabel('Epoch')\n",
    "plt.legend(['PCS_Train','PCS_Val','NCS_Train','NCS_Val','PNCS_Train','PNCS_Val'], loc='upper right')\n",
    "\n",
    "fig3.savefig('3plots_Loss_cifar100_densenet.eps', dpi=1200, format=\"eps\", bbox_inches=\"tight\")\n",
    "plt.show()"
   ]
  },
  {
   "cell_type": "code",
   "execution_count": null,
   "metadata": {},
   "outputs": [],
   "source": []
  }
 ],
 "metadata": {
  "kernelspec": {
   "display_name": "Python 3",
   "language": "python",
   "name": "python3"
  },
  "language_info": {
   "codemirror_mode": {
    "name": "ipython",
    "version": 3
   },
   "file_extension": ".py",
   "mimetype": "text/x-python",
   "name": "python",
   "nbconvert_exporter": "python",
   "pygments_lexer": "ipython3",
   "version": "3.6.9"
  }
 },
 "nbformat": 4,
 "nbformat_minor": 2
}
